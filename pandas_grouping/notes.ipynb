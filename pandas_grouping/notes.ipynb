{
 "cells": [
  {
   "cell_type": "code",
   "execution_count": 24,
   "metadata": {
    "collapsed": true
   },
   "outputs": [],
   "source": [
    "import pandas as pd\n",
    "import numpy as np"
   ]
  },
  {
   "cell_type": "code",
   "execution_count": 25,
   "metadata": {
    "collapsed": false
   },
   "outputs": [
    {
     "data": {
      "text/html": [
       "<div>\n",
       "<table border=\"1\" class=\"dataframe\">\n",
       "  <thead>\n",
       "    <tr style=\"text-align: right;\">\n",
       "      <th></th>\n",
       "      <th>STABBR</th>\n",
       "      <th>INSTNM</th>\n",
       "      <th>SATVRMID</th>\n",
       "      <th>SATMTMID</th>\n",
       "      <th>UGDS</th>\n",
       "      <th>UGDS_WHITE</th>\n",
       "    </tr>\n",
       "  </thead>\n",
       "  <tbody>\n",
       "    <tr>\n",
       "      <th>0</th>\n",
       "      <td>FL</td>\n",
       "      <td>Webber International University</td>\n",
       "      <td>470.0</td>\n",
       "      <td>480.0</td>\n",
       "      <td>687.0</td>\n",
       "      <td>0.3916</td>\n",
       "    </tr>\n",
       "    <tr>\n",
       "      <th>1</th>\n",
       "      <td>FL</td>\n",
       "      <td>Florida Southern College</td>\n",
       "      <td>570.0</td>\n",
       "      <td>560.0</td>\n",
       "      <td>2352.0</td>\n",
       "      <td>0.7232</td>\n",
       "    </tr>\n",
       "    <tr>\n",
       "      <th>2</th>\n",
       "      <td>TX</td>\n",
       "      <td>The University of Texas at San Antonio</td>\n",
       "      <td>505.0</td>\n",
       "      <td>535.0</td>\n",
       "      <td>23815.0</td>\n",
       "      <td>0.2607</td>\n",
       "    </tr>\n",
       "    <tr>\n",
       "      <th>3</th>\n",
       "      <td>FL</td>\n",
       "      <td>Florida Gulf Coast University</td>\n",
       "      <td>530.0</td>\n",
       "      <td>520.0</td>\n",
       "      <td>13253.0</td>\n",
       "      <td>0.6615</td>\n",
       "    </tr>\n",
       "    <tr>\n",
       "      <th>4</th>\n",
       "      <td>CA</td>\n",
       "      <td>University of Redlands</td>\n",
       "      <td>550.0</td>\n",
       "      <td>550.0</td>\n",
       "      <td>3710.0</td>\n",
       "      <td>0.4690</td>\n",
       "    </tr>\n",
       "    <tr>\n",
       "      <th>5</th>\n",
       "      <td>TX</td>\n",
       "      <td>Wayland Baptist University</td>\n",
       "      <td>460.0</td>\n",
       "      <td>480.0</td>\n",
       "      <td>3716.0</td>\n",
       "      <td>0.4319</td>\n",
       "    </tr>\n",
       "    <tr>\n",
       "      <th>6</th>\n",
       "      <td>CA</td>\n",
       "      <td>Sonoma State University</td>\n",
       "      <td>495.0</td>\n",
       "      <td>495.0</td>\n",
       "      <td>8441.0</td>\n",
       "      <td>0.5105</td>\n",
       "    </tr>\n",
       "    <tr>\n",
       "      <th>7</th>\n",
       "      <td>CA</td>\n",
       "      <td>Loyola Marymount University</td>\n",
       "      <td>590.0</td>\n",
       "      <td>610.0</td>\n",
       "      <td>6064.0</td>\n",
       "      <td>0.4672</td>\n",
       "    </tr>\n",
       "    <tr>\n",
       "      <th>8</th>\n",
       "      <td>TX</td>\n",
       "      <td>University of Houston</td>\n",
       "      <td>555.0</td>\n",
       "      <td>590.0</td>\n",
       "      <td>31643.0</td>\n",
       "      <td>0.2718</td>\n",
       "    </tr>\n",
       "    <tr>\n",
       "      <th>9</th>\n",
       "      <td>FL</td>\n",
       "      <td>University of South Florida-Main Campus</td>\n",
       "      <td>575.0</td>\n",
       "      <td>585.0</td>\n",
       "      <td>30279.0</td>\n",
       "      <td>0.5279</td>\n",
       "    </tr>\n",
       "    <tr>\n",
       "      <th>10</th>\n",
       "      <td>TX</td>\n",
       "      <td>Lamar University</td>\n",
       "      <td>475.0</td>\n",
       "      <td>485.0</td>\n",
       "      <td>9043.0</td>\n",
       "      <td>0.4902</td>\n",
       "    </tr>\n",
       "    <tr>\n",
       "      <th>11</th>\n",
       "      <td>FL</td>\n",
       "      <td>St Thomas University</td>\n",
       "      <td>465.0</td>\n",
       "      <td>460.0</td>\n",
       "      <td>931.0</td>\n",
       "      <td>0.0924</td>\n",
       "    </tr>\n",
       "    <tr>\n",
       "      <th>12</th>\n",
       "      <td>CA</td>\n",
       "      <td>San Francisco State University</td>\n",
       "      <td>490.0</td>\n",
       "      <td>500.0</td>\n",
       "      <td>25170.0</td>\n",
       "      <td>0.2195</td>\n",
       "    </tr>\n",
       "    <tr>\n",
       "      <th>13</th>\n",
       "      <td>TX</td>\n",
       "      <td>Texas Wesleyan University</td>\n",
       "      <td>475.0</td>\n",
       "      <td>505.0</td>\n",
       "      <td>1676.0</td>\n",
       "      <td>0.3085</td>\n",
       "    </tr>\n",
       "    <tr>\n",
       "      <th>14</th>\n",
       "      <td>CA</td>\n",
       "      <td>California State University-San Bernardino</td>\n",
       "      <td>440.0</td>\n",
       "      <td>450.0</td>\n",
       "      <td>16439.0</td>\n",
       "      <td>0.1588</td>\n",
       "    </tr>\n",
       "  </tbody>\n",
       "</table>\n",
       "</div>"
      ],
      "text/plain": [
       "   STABBR                                      INSTNM  SATVRMID  SATMTMID  \\\n",
       "0      FL             Webber International University     470.0     480.0   \n",
       "1      FL                    Florida Southern College     570.0     560.0   \n",
       "2      TX      The University of Texas at San Antonio     505.0     535.0   \n",
       "3      FL               Florida Gulf Coast University     530.0     520.0   \n",
       "4      CA                      University of Redlands     550.0     550.0   \n",
       "5      TX                  Wayland Baptist University     460.0     480.0   \n",
       "6      CA                     Sonoma State University     495.0     495.0   \n",
       "7      CA                 Loyola Marymount University     590.0     610.0   \n",
       "8      TX                       University of Houston     555.0     590.0   \n",
       "9      FL     University of South Florida-Main Campus     575.0     585.0   \n",
       "10     TX                            Lamar University     475.0     485.0   \n",
       "11     FL                        St Thomas University     465.0     460.0   \n",
       "12     CA              San Francisco State University     490.0     500.0   \n",
       "13     TX                   Texas Wesleyan University     475.0     505.0   \n",
       "14     CA  California State University-San Bernardino     440.0     450.0   \n",
       "\n",
       "       UGDS  UGDS_WHITE  \n",
       "0     687.0      0.3916  \n",
       "1    2352.0      0.7232  \n",
       "2   23815.0      0.2607  \n",
       "3   13253.0      0.6615  \n",
       "4    3710.0      0.4690  \n",
       "5    3716.0      0.4319  \n",
       "6    8441.0      0.5105  \n",
       "7    6064.0      0.4672  \n",
       "8   31643.0      0.2718  \n",
       "9   30279.0      0.5279  \n",
       "10   9043.0      0.4902  \n",
       "11    931.0      0.0924  \n",
       "12  25170.0      0.2195  \n",
       "13   1676.0      0.3085  \n",
       "14  16439.0      0.1588  "
      ]
     },
     "execution_count": 25,
     "metadata": {},
     "output_type": "execute_result"
    }
   ],
   "source": [
    "df = pd.read_csv('data/college_sample.csv')\n",
    "df"
   ]
  },
  {
   "cell_type": "code",
   "execution_count": 92,
   "metadata": {
    "collapsed": false
   },
   "outputs": [
    {
     "data": {
      "text/plain": [
       "<pandas.core.groupby.DataFrameGroupBy object at 0x000001C6760CDE48>"
      ]
     },
     "execution_count": 92,
     "metadata": {},
     "output_type": "execute_result"
    }
   ],
   "source": [
    "g = df.groupby('STABBR')\n",
    "g"
   ]
  },
  {
   "cell_type": "code",
   "execution_count": 27,
   "metadata": {
    "collapsed": false
   },
   "outputs": [
    {
     "data": {
      "text/plain": [
       "pandas.core.groupby.DataFrameGroupBy"
      ]
     },
     "execution_count": 27,
     "metadata": {},
     "output_type": "execute_result"
    }
   ],
   "source": [
    "type(g)"
   ]
  },
  {
   "cell_type": "code",
   "execution_count": 93,
   "metadata": {
    "collapsed": false
   },
   "outputs": [
    {
     "name": "stdout",
     "output_type": "stream",
     "text": [
      "CA\n",
      "    SATMTMID  SATVRMID STABBR     UGDS  UGDS_WHITE\n",
      "4      550.0     550.0     CA   3710.0      0.4690\n",
      "6      495.0     495.0     CA   8441.0      0.5105\n",
      "7      610.0     590.0     CA   6064.0      0.4672\n",
      "12     500.0     490.0     CA  25170.0      0.2195\n",
      "14     450.0     440.0     CA  16439.0      0.1588\n",
      "\n",
      "FL\n",
      "    SATMTMID  SATVRMID STABBR     UGDS  UGDS_WHITE\n",
      "0      480.0     470.0     FL    687.0      0.3916\n",
      "1      560.0     570.0     FL   2352.0      0.7232\n",
      "3      520.0     530.0     FL  13253.0      0.6615\n",
      "9      585.0     575.0     FL  30279.0      0.5279\n",
      "11     460.0     465.0     FL    931.0      0.0924\n",
      "\n",
      "TX\n",
      "    SATMTMID  SATVRMID STABBR     UGDS  UGDS_WHITE\n",
      "2      535.0     505.0     TX  23815.0      0.2607\n",
      "5      480.0     460.0     TX   3716.0      0.4319\n",
      "8      590.0     555.0     TX  31643.0      0.2718\n",
      "10     485.0     475.0     TX   9043.0      0.4902\n",
      "13     505.0     475.0     TX   1676.0      0.3085\n",
      "\n"
     ]
    }
   ],
   "source": [
    "for name, group in g:\n",
    "    print(name, group[group.columns.difference(['INSTNM'])], sep='\\n', end='\\n\\n')"
   ]
  },
  {
   "cell_type": "code",
   "execution_count": 94,
   "metadata": {
    "collapsed": false
   },
   "outputs": [
    {
     "name": "stdout",
     "output_type": "stream",
     "text": [
      "CA\n",
      "4                         University of Redlands\n",
      "6                        Sonoma State University\n",
      "7                    Loyola Marymount University\n",
      "12                San Francisco State University\n",
      "14    California State University-San Bernardino\n",
      "Name: INSTNM, dtype: object\n",
      "\n",
      "FL\n",
      "0             Webber International University\n",
      "1                    Florida Southern College\n",
      "3               Florida Gulf Coast University\n",
      "9     University of South Florida-Main Campus\n",
      "11                       St Thomas University\n",
      "Name: INSTNM, dtype: object\n",
      "\n",
      "TX\n",
      "2     The University of Texas at San Antonio\n",
      "5                 Wayland Baptist University\n",
      "8                      University of Houston\n",
      "10                          Lamar University\n",
      "13                 Texas Wesleyan University\n",
      "Name: INSTNM, dtype: object\n",
      "\n"
     ]
    }
   ],
   "source": [
    "for name, group in g:\n",
    "    print(name, group['INSTNM'], sep='\\n', end='\\n\\n')"
   ]
  },
  {
   "cell_type": "code",
   "execution_count": 29,
   "metadata": {
    "collapsed": false
   },
   "outputs": [
    {
     "data": {
      "text/plain": [
       "3"
      ]
     },
     "execution_count": 29,
     "metadata": {},
     "output_type": "execute_result"
    }
   ],
   "source": [
    "g.ngroups"
   ]
  },
  {
   "cell_type": "code",
   "execution_count": 30,
   "metadata": {
    "collapsed": false
   },
   "outputs": [
    {
     "data": {
      "text/plain": [
       "{'CA': Int64Index([4, 6, 7, 12, 14], dtype='int64'),\n",
       " 'FL': Int64Index([0, 1, 3, 9, 11], dtype='int64'),\n",
       " 'TX': Int64Index([2, 5, 8, 10, 13], dtype='int64')}"
      ]
     },
     "execution_count": 30,
     "metadata": {},
     "output_type": "execute_result"
    }
   ],
   "source": [
    "g.groups"
   ]
  },
  {
   "cell_type": "code",
   "execution_count": 33,
   "metadata": {
    "collapsed": false
   },
   "outputs": [
    {
     "data": {
      "text/plain": [
       "STABBR\n",
       "CA    11964.8\n",
       "FL     9500.4\n",
       "TX    13978.6\n",
       "Name: UGDS, dtype: float64"
      ]
     },
     "execution_count": 33,
     "metadata": {},
     "output_type": "execute_result"
    }
   ],
   "source": [
    "g['UGDS'].agg(np.mean)"
   ]
  },
  {
   "cell_type": "code",
   "execution_count": 96,
   "metadata": {
    "collapsed": false
   },
   "outputs": [
    {
     "data": {
      "text/plain": [
       "STABBR\n",
       "CA    11964.8\n",
       "FL     9500.4\n",
       "TX    13978.6\n",
       "Name: UGDS, dtype: float64"
      ]
     },
     "execution_count": 96,
     "metadata": {},
     "output_type": "execute_result"
    }
   ],
   "source": [
    "g['UGDS'].agg('mean')"
   ]
  },
  {
   "cell_type": "code",
   "execution_count": 40,
   "metadata": {
    "collapsed": false
   },
   "outputs": [
    {
     "data": {
      "text/plain": [
       "STABBR\n",
       "CA    3710.0\n",
       "FL     687.0\n",
       "TX    1676.0\n",
       "Name: UGDS, dtype: float64"
      ]
     },
     "execution_count": 40,
     "metadata": {},
     "output_type": "execute_result"
    }
   ],
   "source": [
    "g['UGDS'].aggregate('min') # identical to agg"
   ]
  },
  {
   "cell_type": "code",
   "execution_count": 43,
   "metadata": {
    "collapsed": false
   },
   "outputs": [
    {
     "data": {
      "text/plain": [
       "STABBR       \n",
       "CA      count        5.000000\n",
       "        mean     11964.800000\n",
       "        std       8800.200322\n",
       "        min       3710.000000\n",
       "        25%       6064.000000\n",
       "        50%       8441.000000\n",
       "        75%      16439.000000\n",
       "        max      25170.000000\n",
       "FL      count        5.000000\n",
       "        mean      9500.400000\n",
       "        std      12728.339279\n",
       "        min        687.000000\n",
       "        25%        931.000000\n",
       "        50%       2352.000000\n",
       "        75%      13253.000000\n",
       "        max      30279.000000\n",
       "TX      count        5.000000\n",
       "        mean     13978.600000\n",
       "        std      13132.220540\n",
       "        min       1676.000000\n",
       "        25%       3716.000000\n",
       "        50%       9043.000000\n",
       "        75%      23815.000000\n",
       "        max      31643.000000\n",
       "Name: UGDS, dtype: float64"
      ]
     },
     "execution_count": 43,
     "metadata": {},
     "output_type": "execute_result"
    }
   ],
   "source": [
    "g['UGDS'].agg('describe')"
   ]
  },
  {
   "cell_type": "code",
   "execution_count": 48,
   "metadata": {
    "collapsed": false
   },
   "outputs": [
    {
     "data": {
      "text/html": [
       "<div>\n",
       "<table border=\"1\" class=\"dataframe\">\n",
       "  <thead>\n",
       "    <tr style=\"text-align: right;\">\n",
       "      <th></th>\n",
       "      <th>min</th>\n",
       "      <th>max</th>\n",
       "      <th>size</th>\n",
       "      <th>count</th>\n",
       "      <th>std</th>\n",
       "      <th>nunique</th>\n",
       "    </tr>\n",
       "    <tr>\n",
       "      <th>STABBR</th>\n",
       "      <th></th>\n",
       "      <th></th>\n",
       "      <th></th>\n",
       "      <th></th>\n",
       "      <th></th>\n",
       "      <th></th>\n",
       "    </tr>\n",
       "  </thead>\n",
       "  <tbody>\n",
       "    <tr>\n",
       "      <th>CA</th>\n",
       "      <td>3710.0</td>\n",
       "      <td>25170.0</td>\n",
       "      <td>5</td>\n",
       "      <td>5</td>\n",
       "      <td>8800.200322</td>\n",
       "      <td>5</td>\n",
       "    </tr>\n",
       "    <tr>\n",
       "      <th>FL</th>\n",
       "      <td>687.0</td>\n",
       "      <td>30279.0</td>\n",
       "      <td>5</td>\n",
       "      <td>5</td>\n",
       "      <td>12728.339279</td>\n",
       "      <td>5</td>\n",
       "    </tr>\n",
       "    <tr>\n",
       "      <th>TX</th>\n",
       "      <td>1676.0</td>\n",
       "      <td>31643.0</td>\n",
       "      <td>5</td>\n",
       "      <td>5</td>\n",
       "      <td>13132.220540</td>\n",
       "      <td>5</td>\n",
       "    </tr>\n",
       "  </tbody>\n",
       "</table>\n",
       "</div>"
      ],
      "text/plain": [
       "           min      max  size  count           std  nunique\n",
       "STABBR                                                     \n",
       "CA      3710.0  25170.0     5      5   8800.200322        5\n",
       "FL       687.0  30279.0     5      5  12728.339279        5\n",
       "TX      1676.0  31643.0     5      5  13132.220540        5"
      ]
     },
     "execution_count": 48,
     "metadata": {},
     "output_type": "execute_result"
    }
   ],
   "source": [
    "g['UGDS'].agg(['min', 'max', 'size', 'count', 'std', 'nunique'])"
   ]
  },
  {
   "cell_type": "code",
   "execution_count": 50,
   "metadata": {
    "collapsed": false
   },
   "outputs": [
    {
     "data": {
      "text/html": [
       "<div>\n",
       "<table border=\"1\" class=\"dataframe\">\n",
       "  <thead>\n",
       "    <tr>\n",
       "      <th></th>\n",
       "      <th colspan=\"3\" halign=\"left\">SATVRMID</th>\n",
       "      <th colspan=\"3\" halign=\"left\">SATMTMID</th>\n",
       "      <th colspan=\"3\" halign=\"left\">UGDS</th>\n",
       "      <th colspan=\"3\" halign=\"left\">UGDS_WHITE</th>\n",
       "    </tr>\n",
       "    <tr>\n",
       "      <th></th>\n",
       "      <th>mean</th>\n",
       "      <th>min</th>\n",
       "      <th>max</th>\n",
       "      <th>mean</th>\n",
       "      <th>min</th>\n",
       "      <th>max</th>\n",
       "      <th>mean</th>\n",
       "      <th>min</th>\n",
       "      <th>max</th>\n",
       "      <th>mean</th>\n",
       "      <th>min</th>\n",
       "      <th>max</th>\n",
       "    </tr>\n",
       "    <tr>\n",
       "      <th>STABBR</th>\n",
       "      <th></th>\n",
       "      <th></th>\n",
       "      <th></th>\n",
       "      <th></th>\n",
       "      <th></th>\n",
       "      <th></th>\n",
       "      <th></th>\n",
       "      <th></th>\n",
       "      <th></th>\n",
       "      <th></th>\n",
       "      <th></th>\n",
       "      <th></th>\n",
       "    </tr>\n",
       "  </thead>\n",
       "  <tbody>\n",
       "    <tr>\n",
       "      <th>CA</th>\n",
       "      <td>513.0</td>\n",
       "      <td>440.0</td>\n",
       "      <td>590.0</td>\n",
       "      <td>521.0</td>\n",
       "      <td>450.0</td>\n",
       "      <td>610.0</td>\n",
       "      <td>11964.8</td>\n",
       "      <td>3710.0</td>\n",
       "      <td>25170.0</td>\n",
       "      <td>0.36500</td>\n",
       "      <td>0.1588</td>\n",
       "      <td>0.5105</td>\n",
       "    </tr>\n",
       "    <tr>\n",
       "      <th>FL</th>\n",
       "      <td>522.0</td>\n",
       "      <td>465.0</td>\n",
       "      <td>575.0</td>\n",
       "      <td>521.0</td>\n",
       "      <td>460.0</td>\n",
       "      <td>585.0</td>\n",
       "      <td>9500.4</td>\n",
       "      <td>687.0</td>\n",
       "      <td>30279.0</td>\n",
       "      <td>0.47932</td>\n",
       "      <td>0.0924</td>\n",
       "      <td>0.7232</td>\n",
       "    </tr>\n",
       "    <tr>\n",
       "      <th>TX</th>\n",
       "      <td>494.0</td>\n",
       "      <td>460.0</td>\n",
       "      <td>555.0</td>\n",
       "      <td>519.0</td>\n",
       "      <td>480.0</td>\n",
       "      <td>590.0</td>\n",
       "      <td>13978.6</td>\n",
       "      <td>1676.0</td>\n",
       "      <td>31643.0</td>\n",
       "      <td>0.35262</td>\n",
       "      <td>0.2607</td>\n",
       "      <td>0.4902</td>\n",
       "    </tr>\n",
       "  </tbody>\n",
       "</table>\n",
       "</div>"
      ],
      "text/plain": [
       "       SATVRMID               SATMTMID                   UGDS          \\\n",
       "           mean    min    max     mean    min    max     mean     min   \n",
       "STABBR                                                                  \n",
       "CA        513.0  440.0  590.0    521.0  450.0  610.0  11964.8  3710.0   \n",
       "FL        522.0  465.0  575.0    521.0  460.0  585.0   9500.4   687.0   \n",
       "TX        494.0  460.0  555.0    519.0  480.0  590.0  13978.6  1676.0   \n",
       "\n",
       "                UGDS_WHITE                  \n",
       "            max       mean     min     max  \n",
       "STABBR                                      \n",
       "CA      25170.0    0.36500  0.1588  0.5105  \n",
       "FL      30279.0    0.47932  0.0924  0.7232  \n",
       "TX      31643.0    0.35262  0.2607  0.4902  "
      ]
     },
     "execution_count": 50,
     "metadata": {},
     "output_type": "execute_result"
    }
   ],
   "source": [
    "res = g.agg(['mean', 'min', 'max'])\n",
    "res"
   ]
  },
  {
   "cell_type": "code",
   "execution_count": 53,
   "metadata": {
    "collapsed": false
   },
   "outputs": [
    {
     "data": {
      "text/plain": [
       "UGDS  mean    11964.8\n",
       "      min      3710.0\n",
       "      max     25170.0\n",
       "Name: CA, dtype: float64"
      ]
     },
     "execution_count": 53,
     "metadata": {},
     "output_type": "execute_result"
    }
   ],
   "source": [
    "res.loc['CA', ['UGDS']]"
   ]
  },
  {
   "cell_type": "code",
   "execution_count": 55,
   "metadata": {
    "collapsed": false
   },
   "outputs": [
    {
     "data": {
      "text/plain": [
       "11964.799999999999"
      ]
     },
     "execution_count": 55,
     "metadata": {},
     "output_type": "execute_result"
    }
   ],
   "source": [
    "res.loc['CA', ('UGDS', 'mean')]"
   ]
  },
  {
   "cell_type": "code",
   "execution_count": 58,
   "metadata": {
    "collapsed": false
   },
   "outputs": [
    {
     "data": {
      "text/html": [
       "<div>\n",
       "<table border=\"1\" class=\"dataframe\">\n",
       "  <thead>\n",
       "    <tr>\n",
       "      <th>STABBR</th>\n",
       "      <th colspan=\"8\" halign=\"left\">CA</th>\n",
       "      <th colspan=\"5\" halign=\"left\">FL</th>\n",
       "      <th colspan=\"8\" halign=\"left\">TX</th>\n",
       "    </tr>\n",
       "    <tr>\n",
       "      <th></th>\n",
       "      <th>count</th>\n",
       "      <th>mean</th>\n",
       "      <th>std</th>\n",
       "      <th>min</th>\n",
       "      <th>25%</th>\n",
       "      <th>50%</th>\n",
       "      <th>75%</th>\n",
       "      <th>max</th>\n",
       "      <th>count</th>\n",
       "      <th>mean</th>\n",
       "      <th>...</th>\n",
       "      <th>75%</th>\n",
       "      <th>max</th>\n",
       "      <th>count</th>\n",
       "      <th>mean</th>\n",
       "      <th>std</th>\n",
       "      <th>min</th>\n",
       "      <th>25%</th>\n",
       "      <th>50%</th>\n",
       "      <th>75%</th>\n",
       "      <th>max</th>\n",
       "    </tr>\n",
       "  </thead>\n",
       "  <tbody>\n",
       "    <tr>\n",
       "      <th>SATMTMID</th>\n",
       "      <td>5.0</td>\n",
       "      <td>521.000</td>\n",
       "      <td>61.073726</td>\n",
       "      <td>450.0000</td>\n",
       "      <td>495.0000</td>\n",
       "      <td>500.0000</td>\n",
       "      <td>550.000</td>\n",
       "      <td>610.0000</td>\n",
       "      <td>5.0</td>\n",
       "      <td>521.00000</td>\n",
       "      <td>...</td>\n",
       "      <td>560.0000</td>\n",
       "      <td>585.0000</td>\n",
       "      <td>5.0</td>\n",
       "      <td>519.00000</td>\n",
       "      <td>45.194026</td>\n",
       "      <td>480.0000</td>\n",
       "      <td>485.0000</td>\n",
       "      <td>505.0000</td>\n",
       "      <td>535.0000</td>\n",
       "      <td>590.0000</td>\n",
       "    </tr>\n",
       "    <tr>\n",
       "      <th>SATVRMID</th>\n",
       "      <td>5.0</td>\n",
       "      <td>513.000</td>\n",
       "      <td>58.051701</td>\n",
       "      <td>440.0000</td>\n",
       "      <td>490.0000</td>\n",
       "      <td>495.0000</td>\n",
       "      <td>550.000</td>\n",
       "      <td>590.0000</td>\n",
       "      <td>5.0</td>\n",
       "      <td>522.00000</td>\n",
       "      <td>...</td>\n",
       "      <td>570.0000</td>\n",
       "      <td>575.0000</td>\n",
       "      <td>5.0</td>\n",
       "      <td>494.00000</td>\n",
       "      <td>37.815341</td>\n",
       "      <td>460.0000</td>\n",
       "      <td>475.0000</td>\n",
       "      <td>475.0000</td>\n",
       "      <td>505.0000</td>\n",
       "      <td>555.0000</td>\n",
       "    </tr>\n",
       "    <tr>\n",
       "      <th>UGDS</th>\n",
       "      <td>5.0</td>\n",
       "      <td>11964.800</td>\n",
       "      <td>8800.200322</td>\n",
       "      <td>3710.0000</td>\n",
       "      <td>6064.0000</td>\n",
       "      <td>8441.0000</td>\n",
       "      <td>16439.000</td>\n",
       "      <td>25170.0000</td>\n",
       "      <td>5.0</td>\n",
       "      <td>9500.40000</td>\n",
       "      <td>...</td>\n",
       "      <td>13253.0000</td>\n",
       "      <td>30279.0000</td>\n",
       "      <td>5.0</td>\n",
       "      <td>13978.60000</td>\n",
       "      <td>13132.220540</td>\n",
       "      <td>1676.0000</td>\n",
       "      <td>3716.0000</td>\n",
       "      <td>9043.0000</td>\n",
       "      <td>23815.0000</td>\n",
       "      <td>31643.0000</td>\n",
       "    </tr>\n",
       "    <tr>\n",
       "      <th>UGDS_WHITE</th>\n",
       "      <td>5.0</td>\n",
       "      <td>0.365</td>\n",
       "      <td>0.162880</td>\n",
       "      <td>0.1588</td>\n",
       "      <td>0.2195</td>\n",
       "      <td>0.4672</td>\n",
       "      <td>0.469</td>\n",
       "      <td>0.5105</td>\n",
       "      <td>5.0</td>\n",
       "      <td>0.47932</td>\n",
       "      <td>...</td>\n",
       "      <td>0.6615</td>\n",
       "      <td>0.7232</td>\n",
       "      <td>5.0</td>\n",
       "      <td>0.35262</td>\n",
       "      <td>0.102642</td>\n",
       "      <td>0.2607</td>\n",
       "      <td>0.2718</td>\n",
       "      <td>0.3085</td>\n",
       "      <td>0.4319</td>\n",
       "      <td>0.4902</td>\n",
       "    </tr>\n",
       "  </tbody>\n",
       "</table>\n",
       "<p>4 rows × 24 columns</p>\n",
       "</div>"
      ],
      "text/plain": [
       "STABBR        CA                                                           \\\n",
       "           count       mean          std        min        25%        50%   \n",
       "SATMTMID     5.0    521.000    61.073726   450.0000   495.0000   500.0000   \n",
       "SATVRMID     5.0    513.000    58.051701   440.0000   490.0000   495.0000   \n",
       "UGDS         5.0  11964.800  8800.200322  3710.0000  6064.0000  8441.0000   \n",
       "UGDS_WHITE   5.0      0.365     0.162880     0.1588     0.2195     0.4672   \n",
       "\n",
       "STABBR                               FL                 ...                  \\\n",
       "                  75%         max count        mean     ...             75%   \n",
       "SATMTMID      550.000    610.0000   5.0   521.00000     ...        560.0000   \n",
       "SATVRMID      550.000    590.0000   5.0   522.00000     ...        570.0000   \n",
       "UGDS        16439.000  25170.0000   5.0  9500.40000     ...      13253.0000   \n",
       "UGDS_WHITE      0.469      0.5105   5.0     0.47932     ...          0.6615   \n",
       "\n",
       "STABBR                    TX                                                   \\\n",
       "                   max count         mean           std        min        25%   \n",
       "SATMTMID      585.0000   5.0    519.00000     45.194026   480.0000   485.0000   \n",
       "SATVRMID      575.0000   5.0    494.00000     37.815341   460.0000   475.0000   \n",
       "UGDS        30279.0000   5.0  13978.60000  13132.220540  1676.0000  3716.0000   \n",
       "UGDS_WHITE      0.7232   5.0      0.35262      0.102642     0.2607     0.2718   \n",
       "\n",
       "STABBR                                         \n",
       "                  50%         75%         max  \n",
       "SATMTMID     505.0000    535.0000    590.0000  \n",
       "SATVRMID     475.0000    505.0000    555.0000  \n",
       "UGDS        9043.0000  23815.0000  31643.0000  \n",
       "UGDS_WHITE     0.3085      0.4319      0.4902  \n",
       "\n",
       "[4 rows x 24 columns]"
      ]
     },
     "execution_count": 58,
     "metadata": {},
     "output_type": "execute_result"
    }
   ],
   "source": [
    "g.describe().T"
   ]
  },
  {
   "cell_type": "code",
   "execution_count": 60,
   "metadata": {
    "collapsed": false
   },
   "outputs": [
    {
     "data": {
      "text/html": [
       "<div>\n",
       "<table border=\"1\" class=\"dataframe\">\n",
       "  <thead>\n",
       "    <tr style=\"text-align: right;\">\n",
       "      <th></th>\n",
       "      <th>SATVRMID</th>\n",
       "      <th>SATMTMID</th>\n",
       "      <th>UGDS</th>\n",
       "      <th>UGDS_WHITE</th>\n",
       "    </tr>\n",
       "    <tr>\n",
       "      <th>STABBR</th>\n",
       "      <th></th>\n",
       "      <th></th>\n",
       "      <th></th>\n",
       "      <th></th>\n",
       "    </tr>\n",
       "  </thead>\n",
       "  <tbody>\n",
       "    <tr>\n",
       "      <th>CA</th>\n",
       "      <td>513.0</td>\n",
       "      <td>521.0</td>\n",
       "      <td>11964.8</td>\n",
       "      <td>0.36500</td>\n",
       "    </tr>\n",
       "    <tr>\n",
       "      <th>FL</th>\n",
       "      <td>522.0</td>\n",
       "      <td>521.0</td>\n",
       "      <td>9500.4</td>\n",
       "      <td>0.47932</td>\n",
       "    </tr>\n",
       "    <tr>\n",
       "      <th>TX</th>\n",
       "      <td>494.0</td>\n",
       "      <td>519.0</td>\n",
       "      <td>13978.6</td>\n",
       "      <td>0.35262</td>\n",
       "    </tr>\n",
       "  </tbody>\n",
       "</table>\n",
       "</div>"
      ],
      "text/plain": [
       "        SATVRMID  SATMTMID     UGDS  UGDS_WHITE\n",
       "STABBR                                         \n",
       "CA         513.0     521.0  11964.8     0.36500\n",
       "FL         522.0     521.0   9500.4     0.47932\n",
       "TX         494.0     519.0  13978.6     0.35262"
      ]
     },
     "execution_count": 60,
     "metadata": {},
     "output_type": "execute_result"
    }
   ],
   "source": [
    "g.mean()"
   ]
  },
  {
   "cell_type": "code",
   "execution_count": 62,
   "metadata": {
    "collapsed": false
   },
   "outputs": [
    {
     "data": {
      "text/html": [
       "<div>\n",
       "<table border=\"1\" class=\"dataframe\">\n",
       "  <thead>\n",
       "    <tr style=\"text-align: right;\">\n",
       "      <th></th>\n",
       "      <th>SATVRMID</th>\n",
       "      <th>SATMTMID</th>\n",
       "      <th>UGDS</th>\n",
       "      <th>UGDS_WHITE</th>\n",
       "    </tr>\n",
       "    <tr>\n",
       "      <th>STABBR</th>\n",
       "      <th></th>\n",
       "      <th></th>\n",
       "      <th></th>\n",
       "      <th></th>\n",
       "    </tr>\n",
       "  </thead>\n",
       "  <tbody>\n",
       "    <tr>\n",
       "      <th>CA</th>\n",
       "      <td>513.0</td>\n",
       "      <td>521.0</td>\n",
       "      <td>11964.8</td>\n",
       "      <td>0.36500</td>\n",
       "    </tr>\n",
       "    <tr>\n",
       "      <th>FL</th>\n",
       "      <td>522.0</td>\n",
       "      <td>521.0</td>\n",
       "      <td>9500.4</td>\n",
       "      <td>0.47932</td>\n",
       "    </tr>\n",
       "    <tr>\n",
       "      <th>TX</th>\n",
       "      <td>494.0</td>\n",
       "      <td>519.0</td>\n",
       "      <td>13978.6</td>\n",
       "      <td>0.35262</td>\n",
       "    </tr>\n",
       "  </tbody>\n",
       "</table>\n",
       "</div>"
      ],
      "text/plain": [
       "        SATVRMID  SATMTMID     UGDS  UGDS_WHITE\n",
       "STABBR                                         \n",
       "CA         513.0     521.0  11964.8     0.36500\n",
       "FL         522.0     521.0   9500.4     0.47932\n",
       "TX         494.0     519.0  13978.6     0.35262"
      ]
     },
     "execution_count": 62,
     "metadata": {},
     "output_type": "execute_result"
    }
   ],
   "source": [
    "df.groupby('STABBR').mean()"
   ]
  },
  {
   "cell_type": "code",
   "execution_count": 68,
   "metadata": {
    "collapsed": false
   },
   "outputs": [
    {
     "data": {
      "text/html": [
       "<div>\n",
       "<table border=\"1\" class=\"dataframe\">\n",
       "  <thead>\n",
       "    <tr>\n",
       "      <th></th>\n",
       "      <th>SATVRMID</th>\n",
       "      <th>UGDS</th>\n",
       "    </tr>\n",
       "    <tr>\n",
       "      <th></th>\n",
       "      <th>max</th>\n",
       "      <th>mean</th>\n",
       "    </tr>\n",
       "    <tr>\n",
       "      <th>STABBR</th>\n",
       "      <th></th>\n",
       "      <th></th>\n",
       "    </tr>\n",
       "  </thead>\n",
       "  <tbody>\n",
       "    <tr>\n",
       "      <th>CA</th>\n",
       "      <td>590.0</td>\n",
       "      <td>11964.8</td>\n",
       "    </tr>\n",
       "    <tr>\n",
       "      <th>FL</th>\n",
       "      <td>575.0</td>\n",
       "      <td>9500.4</td>\n",
       "    </tr>\n",
       "    <tr>\n",
       "      <th>TX</th>\n",
       "      <td>555.0</td>\n",
       "      <td>13978.6</td>\n",
       "    </tr>\n",
       "  </tbody>\n",
       "</table>\n",
       "</div>"
      ],
      "text/plain": [
       "       SATVRMID     UGDS\n",
       "            max     mean\n",
       "STABBR                  \n",
       "CA        590.0  11964.8\n",
       "FL        575.0   9500.4\n",
       "TX        555.0  13978.6"
      ]
     },
     "execution_count": 68,
     "metadata": {},
     "output_type": "execute_result"
    }
   ],
   "source": [
    "g.agg({'UGDS': ['mean'], 'SATVRMID': ['max']})"
   ]
  },
  {
   "cell_type": "code",
   "execution_count": 67,
   "metadata": {
    "collapsed": false
   },
   "outputs": [
    {
     "data": {
      "text/html": [
       "<div>\n",
       "<table border=\"1\" class=\"dataframe\">\n",
       "  <thead>\n",
       "    <tr>\n",
       "      <th></th>\n",
       "      <th colspan=\"2\" halign=\"left\">SATVRMID</th>\n",
       "      <th>UGDS</th>\n",
       "    </tr>\n",
       "    <tr>\n",
       "      <th></th>\n",
       "      <th>min</th>\n",
       "      <th>max</th>\n",
       "      <th>mean</th>\n",
       "    </tr>\n",
       "    <tr>\n",
       "      <th>STABBR</th>\n",
       "      <th></th>\n",
       "      <th></th>\n",
       "      <th></th>\n",
       "    </tr>\n",
       "  </thead>\n",
       "  <tbody>\n",
       "    <tr>\n",
       "      <th>CA</th>\n",
       "      <td>440.0</td>\n",
       "      <td>590.0</td>\n",
       "      <td>11964.8</td>\n",
       "    </tr>\n",
       "    <tr>\n",
       "      <th>FL</th>\n",
       "      <td>465.0</td>\n",
       "      <td>575.0</td>\n",
       "      <td>9500.4</td>\n",
       "    </tr>\n",
       "    <tr>\n",
       "      <th>TX</th>\n",
       "      <td>460.0</td>\n",
       "      <td>555.0</td>\n",
       "      <td>13978.6</td>\n",
       "    </tr>\n",
       "  </tbody>\n",
       "</table>\n",
       "</div>"
      ],
      "text/plain": [
       "       SATVRMID            UGDS\n",
       "            min    max     mean\n",
       "STABBR                         \n",
       "CA        440.0  590.0  11964.8\n",
       "FL        465.0  575.0   9500.4\n",
       "TX        460.0  555.0  13978.6"
      ]
     },
     "execution_count": 67,
     "metadata": {},
     "output_type": "execute_result"
    }
   ],
   "source": [
    "g.agg({'UGDS': 'mean', 'SATVRMID': ['min', 'max']})"
   ]
  },
  {
   "cell_type": "code",
   "execution_count": 72,
   "metadata": {
    "collapsed": false
   },
   "outputs": [
    {
     "data": {
      "text/html": [
       "<div>\n",
       "<table border=\"1\" class=\"dataframe\">\n",
       "  <thead>\n",
       "    <tr>\n",
       "      <th></th>\n",
       "      <th colspan=\"3\" halign=\"left\">UGDS</th>\n",
       "    </tr>\n",
       "    <tr>\n",
       "      <th></th>\n",
       "      <th>UGDS_MAX</th>\n",
       "      <th>UGDS_MEAN</th>\n",
       "      <th>UGDS_MIN</th>\n",
       "    </tr>\n",
       "    <tr>\n",
       "      <th>STABBR</th>\n",
       "      <th></th>\n",
       "      <th></th>\n",
       "      <th></th>\n",
       "    </tr>\n",
       "  </thead>\n",
       "  <tbody>\n",
       "    <tr>\n",
       "      <th>CA</th>\n",
       "      <td>25170.0</td>\n",
       "      <td>11964.8</td>\n",
       "      <td>3710.0</td>\n",
       "    </tr>\n",
       "    <tr>\n",
       "      <th>FL</th>\n",
       "      <td>30279.0</td>\n",
       "      <td>9500.4</td>\n",
       "      <td>687.0</td>\n",
       "    </tr>\n",
       "    <tr>\n",
       "      <th>TX</th>\n",
       "      <td>31643.0</td>\n",
       "      <td>13978.6</td>\n",
       "      <td>1676.0</td>\n",
       "    </tr>\n",
       "  </tbody>\n",
       "</table>\n",
       "</div>"
      ],
      "text/plain": [
       "           UGDS                   \n",
       "       UGDS_MAX UGDS_MEAN UGDS_MIN\n",
       "STABBR                            \n",
       "CA      25170.0   11964.8   3710.0\n",
       "FL      30279.0    9500.4    687.0\n",
       "TX      31643.0   13978.6   1676.0"
      ]
     },
     "execution_count": 72,
     "metadata": {},
     "output_type": "execute_result"
    }
   ],
   "source": [
    "g.agg({'UGDS': {'UGDS_MEAN': 'mean', 'UGDS_MIN': 'min', 'UGDS_MAX': 'max'}})"
   ]
  },
  {
   "cell_type": "code",
   "execution_count": 88,
   "metadata": {
    "collapsed": false
   },
   "outputs": [
    {
     "data": {
      "text/html": [
       "<div>\n",
       "<table border=\"1\" class=\"dataframe\">\n",
       "  <thead>\n",
       "    <tr style=\"text-align: right;\">\n",
       "      <th></th>\n",
       "      <th>SATVRMID</th>\n",
       "      <th>SATMTMID</th>\n",
       "      <th>UGDS</th>\n",
       "      <th>UGDS_WHITE</th>\n",
       "    </tr>\n",
       "    <tr>\n",
       "      <th>STABBR</th>\n",
       "      <th></th>\n",
       "      <th></th>\n",
       "      <th></th>\n",
       "      <th></th>\n",
       "    </tr>\n",
       "  </thead>\n",
       "  <tbody>\n",
       "    <tr>\n",
       "      <th>CA</th>\n",
       "      <td>150.0</td>\n",
       "      <td>160.0</td>\n",
       "      <td>21460.0</td>\n",
       "      <td>0.3517</td>\n",
       "    </tr>\n",
       "    <tr>\n",
       "      <th>FL</th>\n",
       "      <td>110.0</td>\n",
       "      <td>125.0</td>\n",
       "      <td>29592.0</td>\n",
       "      <td>0.6308</td>\n",
       "    </tr>\n",
       "    <tr>\n",
       "      <th>TX</th>\n",
       "      <td>95.0</td>\n",
       "      <td>110.0</td>\n",
       "      <td>29967.0</td>\n",
       "      <td>0.2295</td>\n",
       "    </tr>\n",
       "  </tbody>\n",
       "</table>\n",
       "</div>"
      ],
      "text/plain": [
       "        SATVRMID  SATMTMID     UGDS  UGDS_WHITE\n",
       "STABBR                                         \n",
       "CA         150.0     160.0  21460.0      0.3517\n",
       "FL         110.0     125.0  29592.0      0.6308\n",
       "TX          95.0     110.0  29967.0      0.2295"
      ]
     },
     "execution_count": 88,
     "metadata": {},
     "output_type": "execute_result"
    }
   ],
   "source": [
    "def min_max(s):\n",
    "    '''return max - min of a series'''\n",
    "    return s.max() - s.min()\n",
    "g.agg(min_max)"
   ]
  },
  {
   "cell_type": "code",
   "execution_count": 89,
   "metadata": {
    "collapsed": false
   },
   "outputs": [
    {
     "data": {
      "text/html": [
       "<div>\n",
       "<table border=\"1\" class=\"dataframe\">\n",
       "  <thead>\n",
       "    <tr style=\"text-align: right;\">\n",
       "      <th></th>\n",
       "      <th>SATMTMID</th>\n",
       "      <th>SATVRMID</th>\n",
       "      <th>UGDS</th>\n",
       "      <th>UGDS_WHITE</th>\n",
       "    </tr>\n",
       "    <tr>\n",
       "      <th>STABBR</th>\n",
       "      <th></th>\n",
       "      <th></th>\n",
       "      <th></th>\n",
       "      <th></th>\n",
       "    </tr>\n",
       "  </thead>\n",
       "  <tbody>\n",
       "    <tr>\n",
       "      <th>CA</th>\n",
       "      <td>(450.0, 610.0)</td>\n",
       "      <td>(440.0, 590.0)</td>\n",
       "      <td>(3710.0, 25170.0)</td>\n",
       "      <td>(0.1588, 0.5105)</td>\n",
       "    </tr>\n",
       "    <tr>\n",
       "      <th>FL</th>\n",
       "      <td>(460.0, 585.0)</td>\n",
       "      <td>(465.0, 575.0)</td>\n",
       "      <td>(687.0, 30279.0)</td>\n",
       "      <td>(0.0924, 0.7232)</td>\n",
       "    </tr>\n",
       "    <tr>\n",
       "      <th>TX</th>\n",
       "      <td>(480.0, 590.0)</td>\n",
       "      <td>(460.0, 555.0)</td>\n",
       "      <td>(1676.0, 31643.0)</td>\n",
       "      <td>(0.2607, 0.4902)</td>\n",
       "    </tr>\n",
       "  </tbody>\n",
       "</table>\n",
       "</div>"
      ],
      "text/plain": [
       "              SATMTMID        SATVRMID               UGDS        UGDS_WHITE\n",
       "STABBR                                                                     \n",
       "CA      (450.0, 610.0)  (440.0, 590.0)  (3710.0, 25170.0)  (0.1588, 0.5105)\n",
       "FL      (460.0, 585.0)  (465.0, 575.0)   (687.0, 30279.0)  (0.0924, 0.7232)\n",
       "TX      (480.0, 590.0)  (460.0, 555.0)  (1676.0, 31643.0)  (0.2607, 0.4902)"
      ]
     },
     "execution_count": 89,
     "metadata": {},
     "output_type": "execute_result"
    }
   ],
   "source": [
    "def min_max(s):\n",
    "    '''return max - min of a series'''\n",
    "    return (s.min(), s.max())\n",
    "g[df.columns.difference(['STABBR', 'INSTNM'])].agg(min_max)"
   ]
  },
  {
   "cell_type": "code",
   "execution_count": 91,
   "metadata": {
    "collapsed": false
   },
   "outputs": [
    {
     "data": {
      "text/html": [
       "<div>\n",
       "<table border=\"1\" class=\"dataframe\">\n",
       "  <thead>\n",
       "    <tr style=\"text-align: right;\">\n",
       "      <th></th>\n",
       "      <th>SATVRMID</th>\n",
       "      <th>SATMTMID</th>\n",
       "      <th>UGDS</th>\n",
       "      <th>UGDS_WHITE</th>\n",
       "    </tr>\n",
       "    <tr>\n",
       "      <th>STABBR</th>\n",
       "      <th></th>\n",
       "      <th></th>\n",
       "      <th></th>\n",
       "      <th></th>\n",
       "    </tr>\n",
       "  </thead>\n",
       "  <tbody>\n",
       "    <tr>\n",
       "      <th>CA</th>\n",
       "      <td>150.0</td>\n",
       "      <td>160.0</td>\n",
       "      <td>21460.0</td>\n",
       "      <td>0.3517</td>\n",
       "    </tr>\n",
       "    <tr>\n",
       "      <th>FL</th>\n",
       "      <td>110.0</td>\n",
       "      <td>125.0</td>\n",
       "      <td>29592.0</td>\n",
       "      <td>0.6308</td>\n",
       "    </tr>\n",
       "    <tr>\n",
       "      <th>TX</th>\n",
       "      <td>95.0</td>\n",
       "      <td>110.0</td>\n",
       "      <td>29967.0</td>\n",
       "      <td>0.2295</td>\n",
       "    </tr>\n",
       "  </tbody>\n",
       "</table>\n",
       "</div>"
      ],
      "text/plain": [
       "        SATVRMID  SATMTMID     UGDS  UGDS_WHITE\n",
       "STABBR                                         \n",
       "CA         150.0     160.0  21460.0      0.3517\n",
       "FL         110.0     125.0  29592.0      0.6308\n",
       "TX          95.0     110.0  29967.0      0.2295"
      ]
     },
     "execution_count": 91,
     "metadata": {},
     "output_type": "execute_result"
    }
   ],
   "source": [
    "g.agg(lambda s: s.max() - s.min())"
   ]
  },
  {
   "cell_type": "code",
   "execution_count": null,
   "metadata": {
    "collapsed": true
   },
   "outputs": [],
   "source": []
  }
 ],
 "metadata": {
  "anaconda-cloud": {},
  "kernelspec": {
   "display_name": "Python [conda env:py35]",
   "language": "python",
   "name": "conda-env-py35-py"
  },
  "language_info": {
   "codemirror_mode": {
    "name": "ipython",
    "version": 3
   },
   "file_extension": ".py",
   "mimetype": "text/x-python",
   "name": "python",
   "nbconvert_exporter": "python",
   "pygments_lexer": "ipython3",
   "version": "3.5.2"
  }
 },
 "nbformat": 4,
 "nbformat_minor": 1
}
