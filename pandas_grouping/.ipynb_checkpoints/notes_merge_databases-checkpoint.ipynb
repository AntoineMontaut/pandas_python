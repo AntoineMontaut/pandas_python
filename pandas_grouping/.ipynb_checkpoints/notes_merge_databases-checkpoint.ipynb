{
 "cells": [
  {
   "cell_type": "code",
   "execution_count": 33,
   "metadata": {
    "collapsed": true
   },
   "outputs": [],
   "source": [
    "import numpy as np\n",
    "import pandas as pd"
   ]
  },
  {
   "cell_type": "code",
   "execution_count": 41,
   "metadata": {
    "collapsed": false
   },
   "outputs": [],
   "source": [
    "albums = pd.read_csv('data/chinook/albums.csv')\n",
    "artists = pd.read_csv('data/chinook/artists.csv')\n",
    "tracks = pd.read_csv('data/chinook/tracks.csv')"
   ]
  },
  {
   "cell_type": "code",
   "execution_count": 42,
   "metadata": {
    "collapsed": false
   },
   "outputs": [
    {
     "data": {
      "text/plain": [
       "Index(['ArtistId', 'Name'], dtype='object')"
      ]
     },
     "execution_count": 42,
     "metadata": {},
     "output_type": "execute_result"
    }
   ],
   "source": [
    "artists.columns"
   ]
  },
  {
   "cell_type": "code",
   "execution_count": 43,
   "metadata": {
    "collapsed": false
   },
   "outputs": [],
   "source": [
    "art_alb = artists.merge(albums, how='left', left_on='ArtistId', right_on='ArtistId', suffixes=('_Artist', '_Album'))\n",
    "# art_alb[art_alb.AlbumId.isnull()]"
   ]
  },
  {
   "cell_type": "code",
   "execution_count": 54,
   "metadata": {
    "collapsed": false
   },
   "outputs": [
    {
     "data": {
      "text/html": [
       "<div>\n",
       "<table border=\"1\" class=\"dataframe\">\n",
       "  <thead>\n",
       "    <tr style=\"text-align: right;\">\n",
       "      <th></th>\n",
       "      <th>Name</th>\n",
       "      <th>AlbumId</th>\n",
       "    </tr>\n",
       "  </thead>\n",
       "  <tbody>\n",
       "    <tr>\n",
       "      <th>0</th>\n",
       "      <td>Iron Maiden</td>\n",
       "      <td>21</td>\n",
       "    </tr>\n",
       "    <tr>\n",
       "      <th>1</th>\n",
       "      <td>Led Zeppelin</td>\n",
       "      <td>14</td>\n",
       "    </tr>\n",
       "    <tr>\n",
       "      <th>2</th>\n",
       "      <td>Deep Purple</td>\n",
       "      <td>11</td>\n",
       "    </tr>\n",
       "    <tr>\n",
       "      <th>3</th>\n",
       "      <td>U2</td>\n",
       "      <td>10</td>\n",
       "    </tr>\n",
       "    <tr>\n",
       "      <th>4</th>\n",
       "      <td>Metallica</td>\n",
       "      <td>10</td>\n",
       "    </tr>\n",
       "    <tr>\n",
       "      <th>5</th>\n",
       "      <td>Ozzy Osbourne</td>\n",
       "      <td>6</td>\n",
       "    </tr>\n",
       "    <tr>\n",
       "      <th>6</th>\n",
       "      <td>Pearl Jam</td>\n",
       "      <td>5</td>\n",
       "    </tr>\n",
       "    <tr>\n",
       "      <th>7</th>\n",
       "      <td>Van Halen</td>\n",
       "      <td>4</td>\n",
       "    </tr>\n",
       "    <tr>\n",
       "      <th>8</th>\n",
       "      <td>Various Artists</td>\n",
       "      <td>4</td>\n",
       "    </tr>\n",
       "    <tr>\n",
       "      <th>9</th>\n",
       "      <td>Foo Fighters</td>\n",
       "      <td>4</td>\n",
       "    </tr>\n",
       "  </tbody>\n",
       "</table>\n",
       "</div>"
      ],
      "text/plain": [
       "              Name  AlbumId\n",
       "0      Iron Maiden       21\n",
       "1     Led Zeppelin       14\n",
       "2      Deep Purple       11\n",
       "3               U2       10\n",
       "4        Metallica       10\n",
       "5    Ozzy Osbourne        6\n",
       "6        Pearl Jam        5\n",
       "7        Van Halen        4\n",
       "8  Various Artists        4\n",
       "9     Foo Fighters        4"
      ]
     },
     "execution_count": 54,
     "metadata": {},
     "output_type": "execute_result"
    }
   ],
   "source": [
    "art_alb.groupby('Name')['AlbumId'].count().sort_values(ascending=False).reset_index().head(10)"
   ]
  },
  {
   "cell_type": "code",
   "execution_count": 66,
   "metadata": {
    "collapsed": false
   },
   "outputs": [
    {
     "data": {
      "text/plain": [
       "Name_Artist\n",
       "Iron Maiden        213\n",
       "U2                 135\n",
       "Led Zeppelin       114\n",
       "Metallica          112\n",
       "Deep Purple         92\n",
       "Lost                92\n",
       "Pearl Jam           67\n",
       "Lenny Kravitz       57\n",
       "Various Artists     56\n",
       "The Office          53\n",
       "Name: TrackId, dtype: int64"
      ]
     },
     "execution_count": 66,
     "metadata": {},
     "output_type": "execute_result"
    }
   ],
   "source": [
    "art_alb_tra = art_alb.merge(tracks, suffixes=('_Artist', '_Track'), on='AlbumId', how='left')\n",
    "art_alb_tra.groupby('Name_Artist')['TrackId'].count().sort_values(ascending=False).head(10)"
   ]
  },
  {
   "cell_type": "code",
   "execution_count": 67,
   "metadata": {
    "collapsed": false
   },
   "outputs": [
    {
     "data": {
      "text/plain": [
       "Index(['ArtistId', 'Name_Artist', 'AlbumId', 'Title', 'TrackId', 'Name_Track',\n",
       "       'MediaTypeId', 'GenreId', 'Composer', 'Milliseconds', 'Bytes',\n",
       "       'UnitPrice'],\n",
       "      dtype='object')"
      ]
     },
     "execution_count": 67,
     "metadata": {},
     "output_type": "execute_result"
    }
   ],
   "source": [
    "art_alb_tra.columns"
   ]
  },
  {
   "cell_type": "code",
   "execution_count": 79,
   "metadata": {
    "collapsed": false
   },
   "outputs": [
    {
     "data": {
      "text/plain": [
       "Name_Artist\n",
       "Iron Maiden        148\n",
       "U2                 120\n",
       "Metallica          104\n",
       "Led Zeppelin        91\n",
       "Lost                89\n",
       "Deep Purple         86\n",
       "Pearl Jam           61\n",
       "Various Artists     56\n",
       "Lenny Kravitz       54\n",
       "The Office          52\n",
       "Name: Name_Track, dtype: int64"
      ]
     },
     "execution_count": 79,
     "metadata": {},
     "output_type": "execute_result"
    }
   ],
   "source": [
    "g = art_alb_tra[['Name_Artist', 'Name_Track']].drop_duplicates(subset='Name_Track').groupby('Name_Artist')['Name_Track']\n",
    "g.count().sort_values(ascending=False).head(10)"
   ]
  },
  {
   "cell_type": "code",
   "execution_count": 91,
   "metadata": {
    "collapsed": false
   },
   "outputs": [
    {
     "name": "stdout",
     "output_type": "stream",
     "text": [
      "3.14000000000\n"
     ]
    }
   ],
   "source": [
    "def build_base(x):\n",
    "    return '{' + ':.{}f'.format(x) + '}'\n",
    "print(build_base(11).format(3.14))"
   ]
  },
  {
   "cell_type": "code",
   "execution_count": null,
   "metadata": {
    "collapsed": true
   },
   "outputs": [],
   "source": []
  }
 ],
 "metadata": {
  "kernelspec": {
   "display_name": "Python [conda env:py35]",
   "language": "python",
   "name": "conda-env-py35-py"
  },
  "language_info": {
   "codemirror_mode": {
    "name": "ipython",
    "version": 3
   },
   "file_extension": ".py",
   "mimetype": "text/x-python",
   "name": "python",
   "nbconvert_exporter": "python",
   "pygments_lexer": "ipython3",
   "version": "3.5.2"
  }
 },
 "nbformat": 4,
 "nbformat_minor": 1
}
