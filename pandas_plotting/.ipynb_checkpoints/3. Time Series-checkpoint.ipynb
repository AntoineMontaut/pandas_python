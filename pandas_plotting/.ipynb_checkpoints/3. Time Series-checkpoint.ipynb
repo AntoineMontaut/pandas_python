{
 "cells": [
  {
   "cell_type": "markdown",
   "metadata": {},
   "source": [
    "# Time Series\n",
    "pandas roots lay in analyzing financial time series data. The author, Wes McKinney was not satisfied with the available tools at the time and decided to build pandas to support his own needs at the hedge fund he was working at. Broadly speaking, time series data is simply points of data gathered over time. Most typically the time is evenly spaced between each data point. pandas has excellent funcitonality with regards to manipulting dates, aggregating over different time periods, sampling different periods of time and much more."
   ]
  },
  {
   "cell_type": "markdown",
   "metadata": {},
   "source": [
    "# Date vs Time vs Datetime\n",
    "In the programming languages for which Python is one, there is a distinction that needs to be made between date, time and datetime. They all three mean different things and though many functions can use these types of times interchangeably its important to know the difference.\n",
    "* **date** - Just the Month, Day and Year. So 2016-01-01 would represent January 1, 2016 and be considered a 'date'\n",
    "* **time** - Just the Hours, minutes, seconds and parts of a second (milli/micro/nano). 5 hours, 45 minutes and 6.74234 seconds for example\n",
    "* **datetime** - A combination of the above two. Has both date (Year, Month, Day) and time (Hour, Minute, Second) components"
   ]
  },
  {
   "cell_type": "markdown",
   "metadata": {},
   "source": [
    "# Python's date and time functionality\n",
    "Before jumping into pandas datetime functionality we will look at an important standard library, the [datetime library](https://docs.python.org/3.5/library/datetime.html) which contains many powerful (but not powerful enough) functions to support date, time and datetime manipulation"
   ]
  },
  {
   "cell_type": "code",
   "execution_count": 1,
   "metadata": {
    "collapsed": true
   },
   "outputs": [],
   "source": [
    "# this is a standard library so it comes shipped with your python installation. no need to conda install\n",
    "# bring into our namespace\n",
    "import datetime"
   ]
  },
  {
   "cell_type": "markdown",
   "metadata": {},
   "source": [
    "## Create a date, a time and a datetime"
   ]
  },
  {
   "cell_type": "code",
   "execution_count": 2,
   "metadata": {
    "collapsed": false
   },
   "outputs": [
    {
     "name": "stdout",
     "output_type": "stream",
     "text": [
      "date is  2016-04-11\n",
      "time is 10:54:32.034512\n",
      "datetime is 2016-04-11 10:54:32.034512\n"
     ]
    }
   ],
   "source": [
    "# date takes three parameters for the year, month and day\n",
    "d = datetime.date(2016, 4, 11)\n",
    "print(\"date is \", d)\n",
    "\n",
    "# time takes four parameters: hour, minute, second, microsecond\n",
    "t = datetime.time(10, 54, 32, 34512)\n",
    "print(\"time is\", t)\n",
    "\n",
    "# datetime takes parameters for all of the above\n",
    "dt = datetime.datetime(2016, 4, 11, 10, 54, 32, 34512)\n",
    "print(\"datetime is\", dt)"
   ]
  },
  {
   "cell_type": "code",
   "execution_count": 3,
   "metadata": {
    "collapsed": false
   },
   "outputs": [
    {
     "data": {
      "text/plain": [
       "(datetime.date(2016, 4, 11),\n",
       " datetime.time(10, 54, 32, 34512),\n",
       " datetime.datetime(2016, 4, 11, 10, 54, 32, 34512))"
      ]
     },
     "execution_count": 3,
     "metadata": {},
     "output_type": "execute_result"
    }
   ],
   "source": [
    "# The print function makes the above ouput look pretty. \n",
    "# Below we just display the objects in the raw form\n",
    "d, t, dt"
   ]
  },
  {
   "cell_type": "code",
   "execution_count": 4,
   "metadata": {
    "collapsed": false
   },
   "outputs": [
    {
     "data": {
      "text/plain": [
       "(datetime.date, datetime.time, datetime.datetime)"
      ]
     },
     "execution_count": 4,
     "metadata": {},
     "output_type": "execute_result"
    }
   ],
   "source": [
    "# What type are these objects?\n",
    "type(d), type(t), type(dt)"
   ]
  },
  {
   "cell_type": "code",
   "execution_count": 5,
   "metadata": {
    "collapsed": false
   },
   "outputs": [
    {
     "name": "stdout",
     "output_type": "stream",
     "text": [
      "Today's date is 2016-07-15\n",
      "Today's time is 22:45:51.378305\n",
      "Today's datetime is 2016-07-15 22:45:51.378358\n"
     ]
    }
   ],
   "source": [
    "# get today's date and datetime\n",
    "print(\"Today's date is\", datetime.date.today())\n",
    "print(\"Today's time is\", datetime.datetime.today().time())\n",
    "print(\"Today's datetime is\", datetime.datetime.today())"
   ]
  },
  {
   "cell_type": "code",
   "execution_count": 6,
   "metadata": {
    "collapsed": false
   },
   "outputs": [
    {
     "data": {
      "text/plain": [
       "(11, 4, 2016)"
      ]
     },
     "execution_count": 6,
     "metadata": {},
     "output_type": "execute_result"
    }
   ],
   "source": [
    "# Get certain properties of date, time, and datetime\n",
    "d.day, d.month, d.year"
   ]
  },
  {
   "cell_type": "code",
   "execution_count": 7,
   "metadata": {
    "collapsed": false
   },
   "outputs": [
    {
     "data": {
      "text/plain": [
       "0"
      ]
     },
     "execution_count": 7,
     "metadata": {},
     "output_type": "execute_result"
    }
   ],
   "source": [
    "# What day of the weekday is it? April 11, 2016 was a monday. \n",
    "# Monday = 0 Sunday = 6\n",
    "d.weekday()"
   ]
  },
  {
   "cell_type": "code",
   "execution_count": 8,
   "metadata": {
    "collapsed": false
   },
   "outputs": [
    {
     "data": {
      "text/plain": [
       "(2016, 10, 34512)"
      ]
     },
     "execution_count": 8,
     "metadata": {},
     "output_type": "execute_result"
    }
   ],
   "source": [
    "# properties of datetime\n",
    "dt.year, dt.hour, dt.microsecond"
   ]
  },
  {
   "cell_type": "markdown",
   "metadata": {},
   "source": [
    "## Converting strings to datetime and datetime to string\n",
    "There are two functions, **strftime** and **strptime** which are excellent tools for converting strings to datetime and viceversa\n",
    "* **strftime** - stands for string format time and is really a method acting on a date, datetime or time object and converts that object into a string. It's one argument is the format you want the string to be\n",
    "* **strptime** - stands for string parse time and takes two arguments. The time as a string and the format also a string that tells the function what format the time is in.\n",
    "\n",
    "[The documentation is going to be very helpful](https://docs.python.org/3.5/library/datetime.html#strftime-and-strptime-behavior) here as the formats used in strftime and strptime use something called **directives** to determine the string that matches up with the date and time. "
   ]
  },
  {
   "cell_type": "code",
   "execution_count": 9,
   "metadata": {
    "collapsed": false
   },
   "outputs": [
    {
     "data": {
      "text/plain": [
       "'2016-04-11'"
      ]
     },
     "execution_count": 9,
     "metadata": {},
     "output_type": "execute_result"
    }
   ],
   "source": [
    "# Lets start with strftime and convert date, datetime and time into strings\n",
    "\n",
    "# A directive is preceded immediately by a %. You may insert other characters between each directive\n",
    "d.strftime(\"%Y-%m-%d\")"
   ]
  },
  {
   "cell_type": "code",
   "execution_count": 10,
   "metadata": {
    "collapsed": false
   },
   "outputs": [
    {
     "data": {
      "text/plain": [
       "'Remembering back to Monday, April 11, 2016.... What a fantastic day that was.'"
      ]
     },
     "execution_count": 10,
     "metadata": {},
     "output_type": "execute_result"
    }
   ],
   "source": [
    "# Another more involved directive\n",
    "d.strftime(\"Remembering back to %A, %B %d, %Y.... What a fantastic day that was.\")"
   ]
  },
  {
   "cell_type": "code",
   "execution_count": 11,
   "metadata": {
    "collapsed": true
   },
   "outputs": [],
   "source": [
    "# Now lets do strptime\n",
    "# This takes a string and a format of directives and converts it to a python datetime object"
   ]
  },
  {
   "cell_type": "code",
   "execution_count": 12,
   "metadata": {
    "collapsed": false
   },
   "outputs": [
    {
     "data": {
      "text/plain": [
       "datetime.datetime(2016, 1, 5, 0, 0)"
      ]
     },
     "execution_count": 12,
     "metadata": {},
     "output_type": "execute_result"
    }
   ],
   "source": [
    "datetime.datetime.strptime(\"2016-01-05\", \"%Y-%m-%d\")"
   ]
  },
  {
   "cell_type": "code",
   "execution_count": 13,
   "metadata": {
    "collapsed": false
   },
   "outputs": [
    {
     "data": {
      "text/plain": [
       "datetime.datetime(2016, 1, 10, 5, 42)"
      ]
     },
     "execution_count": 13,
     "metadata": {},
     "output_type": "execute_result"
    }
   ],
   "source": [
    "# an example where month, day, year, minute and hour are smashed together\n",
    "datestring = \"011020160542\"\n",
    "datetime.datetime.strptime(datestring, \"%m%d%Y%H%M\")"
   ]
  },
  {
   "cell_type": "markdown",
   "metadata": {},
   "source": [
    "# Date and Datetime addition\n",
    "It's possible to add an amount of time to a date or datetime object using the timedelta function. timedelta simply produces some amount of time measured in days, seconds and microsends. You can then use this object to add to date or datetime objets"
   ]
  },
  {
   "cell_type": "code",
   "execution_count": 14,
   "metadata": {
    "collapsed": false
   },
   "outputs": [],
   "source": [
    "# timedelta can take many arguments\n",
    "# days, seconds, microseconds, milliseconds, minutes, hours, weeks=\n",
    "td = datetime.timedelta(seconds = 5000) "
   ]
  },
  {
   "cell_type": "code",
   "execution_count": 15,
   "metadata": {
    "collapsed": false
   },
   "outputs": [
    {
     "data": {
      "text/plain": [
       "datetime.datetime(2016, 4, 11, 12, 17, 52, 34512)"
      ]
     },
     "execution_count": 15,
     "metadata": {},
     "output_type": "execute_result"
    }
   ],
   "source": [
    "# add to datetime\n",
    "dt + td"
   ]
  },
  {
   "cell_type": "code",
   "execution_count": 16,
   "metadata": {
    "collapsed": false
   },
   "outputs": [
    {
     "data": {
      "text/plain": [
       "datetime.datetime(2016, 4, 11, 10, 54, 32, 34512)"
      ]
     },
     "execution_count": 16,
     "metadata": {},
     "output_type": "execute_result"
    }
   ],
   "source": [
    "# original\n",
    "dt"
   ]
  },
  {
   "cell_type": "code",
   "execution_count": 17,
   "metadata": {
    "collapsed": false
   },
   "outputs": [
    {
     "data": {
      "text/plain": [
       "datetime.date(2016, 4, 11)"
      ]
     },
     "execution_count": 17,
     "metadata": {},
     "output_type": "execute_result"
    }
   ],
   "source": [
    "# add to date\n",
    "d + td"
   ]
  },
  {
   "cell_type": "code",
   "execution_count": 18,
   "metadata": {
    "collapsed": false
   },
   "outputs": [
    {
     "data": {
      "text/plain": [
       "datetime.date(2016, 4, 11)"
      ]
     },
     "execution_count": 18,
     "metadata": {},
     "output_type": "execute_result"
    }
   ],
   "source": [
    "# original date. Nothing changed since 5000 seconds wasn't long enough to make an extra day\n",
    "d"
   ]
  },
  {
   "cell_type": "code",
   "execution_count": 19,
   "metadata": {
    "collapsed": false
   },
   "outputs": [
    {
     "data": {
      "text/plain": [
       "datetime.date(2016, 4, 16)"
      ]
     },
     "execution_count": 19,
     "metadata": {},
     "output_type": "execute_result"
    }
   ],
   "source": [
    "# now there is a change\n",
    "d + datetime.timedelta(days = 5)"
   ]
  },
  {
   "cell_type": "code",
   "execution_count": 20,
   "metadata": {
    "collapsed": false
   },
   "outputs": [],
   "source": [
    "# add weeks\n",
    "a = dt + datetime.timedelta(weeks = 72, days = 4, hours = 44)"
   ]
  },
  {
   "cell_type": "code",
   "execution_count": 21,
   "metadata": {
    "collapsed": false
   },
   "outputs": [
    {
     "name": "stdout",
     "output_type": "stream",
     "text": [
      "datetime.datetime(2017, 9, 3, 6, 54, 32, 34512)\n",
      "2017-09-03 06:54:32.034512\n"
     ]
    },
    {
     "data": {
      "text/plain": [
       "datetime.datetime(2017, 9, 3, 6, 54, 32, 34512)"
      ]
     },
     "execution_count": 21,
     "metadata": {},
     "output_type": "execute_result"
    }
   ],
   "source": [
    "# the difference between the underlying string representation and the print function\n",
    "print(a.__repr__())\n",
    "print(a)\n",
    "a"
   ]
  },
  {
   "cell_type": "markdown",
   "metadata": {},
   "source": [
    "# Here comes pandas\n",
    "One of the limitations of the datetime object is that it is 'only' gives precision to microseconds (a millionth of a second). Instead of the datetime object pandas uses numpy's datetime64 and timedelta64 objects which give precision down to the nanosecond (a billionth of a second). This new objects are called **Timestamp** and **Timedelta**."
   ]
  },
  {
   "cell_type": "code",
   "execution_count": 22,
   "metadata": {
    "collapsed": true
   },
   "outputs": [],
   "source": [
    "# import pandas in to begin\n",
    "import pandas as pd\n",
    "import numpy as np"
   ]
  },
  {
   "cell_type": "markdown",
   "metadata": {},
   "source": [
    "## Two main ways to create Timestamps\n",
    "* pd.Timestamp - Turns strings, ints/floats since epoch and datetime objects into Timestamps\n",
    "* pd.to_datetime - Same arguments as above but much greater power with arguments for turning strings into Timestamps"
   ]
  },
  {
   "cell_type": "code",
   "execution_count": 23,
   "metadata": {
    "collapsed": false
   },
   "outputs": [
    {
     "data": {
      "text/plain": [
       "Timestamp('2016-01-05 05:34:43.123456789')"
      ]
     },
     "execution_count": 23,
     "metadata": {},
     "output_type": "execute_result"
    }
   ],
   "source": [
    "# create a timestamp with nanoseconds\n",
    "# the 'T' in the middle separates the date from the time\n",
    "ts = pd.Timestamp('2016-01-05T05:34:43.123456789')\n",
    "ts"
   ]
  },
  {
   "cell_type": "code",
   "execution_count": 24,
   "metadata": {
    "collapsed": false
   },
   "outputs": [
    {
     "data": {
      "text/plain": [
       "Timestamp('2016-01-05 00:00:00')"
      ]
     },
     "execution_count": 24,
     "metadata": {},
     "output_type": "execute_result"
    }
   ],
   "source": [
    "# Switch month and year. to_datetime has addtional functionality. Check arguments for more\n",
    "pd.to_datetime('05-01-2016', dayfirst=True)"
   ]
  },
  {
   "cell_type": "code",
   "execution_count": 25,
   "metadata": {
    "collapsed": false
   },
   "outputs": [
    {
     "data": {
      "text/plain": [
       "Timestamp('2016-01-05 00:00:00')"
      ]
     },
     "execution_count": 25,
     "metadata": {},
     "output_type": "execute_result"
    }
   ],
   "source": [
    "# use same directives as datetime objects for more complex arrangements of dates\n",
    "pd.to_datetime(\"01-2016-05\", format=\"%m-%Y-%d\")"
   ]
  },
  {
   "cell_type": "code",
   "execution_count": 26,
   "metadata": {
    "collapsed": false
   },
   "outputs": [
    {
     "data": {
      "text/plain": [
       "(5, 5, 43, 789, 1, 31)"
      ]
     },
     "execution_count": 26,
     "metadata": {},
     "output_type": "execute_result"
    }
   ],
   "source": [
    "# grab some attributes. More functionality than Python's datetime\n",
    "ts.hour, ts.day, ts.second, ts.nanosecond, ts.dayofweek, ts.days_in_month"
   ]
  },
  {
   "cell_type": "code",
   "execution_count": 27,
   "metadata": {
    "collapsed": false
   },
   "outputs": [
    {
     "data": {
      "text/plain": [
       "datetime.datetime(2016, 1, 5, 5, 34, 43, 123456)"
      ]
     },
     "execution_count": 27,
     "metadata": {},
     "output_type": "execute_result"
    }
   ],
   "source": [
    "# convert to datetime. Nanoseconds get chopped off\n",
    "ts.to_datetime()"
   ]
  },
  {
   "cell_type": "code",
   "execution_count": 28,
   "metadata": {
    "collapsed": false
   },
   "outputs": [
    {
     "data": {
      "text/plain": [
       "numpy.datetime64('2016-01-05T05:34:43.123456789')"
      ]
     },
     "execution_count": 28,
     "metadata": {},
     "output_type": "execute_result"
    }
   ],
   "source": [
    "# its already datetime64 but to explicity make it a numpy object\n",
    "ts.to_datetime64()"
   ]
  },
  {
   "cell_type": "code",
   "execution_count": 29,
   "metadata": {
    "collapsed": false
   },
   "outputs": [
    {
     "data": {
      "text/plain": [
       "pandas.tslib.Timestamp"
      ]
     },
     "execution_count": 29,
     "metadata": {},
     "output_type": "execute_result"
    }
   ],
   "source": [
    "# check timestamp type\n",
    "type(ts)"
   ]
  },
  {
   "cell_type": "markdown",
   "metadata": {},
   "source": [
    "## Timestamp addition/subtraction with Timedelta64\n",
    "The Timedelta64 object works similary to timedelta from the datetime library."
   ]
  },
  {
   "cell_type": "code",
   "execution_count": 30,
   "metadata": {
    "collapsed": false
   },
   "outputs": [
    {
     "data": {
      "text/plain": [
       "Timedelta('45 days 00:00:00.000000')"
      ]
     },
     "execution_count": 30,
     "metadata": {},
     "output_type": "execute_result"
    }
   ],
   "source": [
    "td64 = pd.Timedelta(weeks = 5, days = 10, nanoseconds = 190)\n",
    "td64"
   ]
  },
  {
   "cell_type": "code",
   "execution_count": 31,
   "metadata": {
    "collapsed": false
   },
   "outputs": [
    {
     "data": {
      "text/plain": [
       "Timestamp('2016-02-19 05:34:43.123456979')"
      ]
     },
     "execution_count": 31,
     "metadata": {},
     "output_type": "execute_result"
    }
   ],
   "source": [
    "# add the time delta\n",
    "ts + td64"
   ]
  },
  {
   "cell_type": "code",
   "execution_count": 32,
   "metadata": {
    "collapsed": false
   },
   "outputs": [
    {
     "data": {
      "text/plain": [
       "Timestamp('2003-09-10 05:34:43.123437789')"
      ]
     },
     "execution_count": 32,
     "metadata": {},
     "output_type": "execute_result"
    }
   ],
   "source": [
    "# subtract a multiple of the time delta\n",
    "ts - 100 * td64"
   ]
  },
  {
   "cell_type": "markdown",
   "metadata": {},
   "source": [
    "## Creating date ranges with pd.date_range\n",
    "Creating single dates is usually not what you will be doing in pandas. The **date_range** function gives you the ability to create very precise and varied ranges of Timestamps. \n",
    "\n",
    "A couple common ways of making a range of dates are outlined below\n",
    "* Supply the start and end dates along with a frequency\n",
    "* Supply exactly one of start or end date and then give the number of periods and frequency\n",
    "\n",
    "Start and end dates can be strings or datetime/Timestamp objects"
   ]
  },
  {
   "cell_type": "code",
   "execution_count": 33,
   "metadata": {
    "collapsed": false
   },
   "outputs": [
    {
     "data": {
      "text/plain": [
       "DatetimeIndex(['2016-01-01', '2016-01-02', '2016-01-03', '2016-01-04',\n",
       "               '2016-01-05', '2016-01-06', '2016-01-07', '2016-01-08',\n",
       "               '2016-01-09', '2016-01-10',\n",
       "               ...\n",
       "               '2016-05-22', '2016-05-23', '2016-05-24', '2016-05-25',\n",
       "               '2016-05-26', '2016-05-27', '2016-05-28', '2016-05-29',\n",
       "               '2016-05-30', '2016-05-31'],\n",
       "              dtype='datetime64[ns]', length=152, freq='D')"
      ]
     },
     "execution_count": 33,
     "metadata": {},
     "output_type": "execute_result"
    }
   ],
   "source": [
    "# give start and end dates and generate each day\n",
    "# notice that the type of each object is datetime64 and there arer 152 days and the frequency is days\n",
    "# Also notice the type of the whole range is of DatetimeIndex and not a list. pandas does some extra work to\n",
    "# make the DatetimeIndex faster and more powerful than a list\n",
    "pd.date_range(start=\"2016-01-01\", end=\"2016-05-31\", freq='D')"
   ]
  },
  {
   "cell_type": "code",
   "execution_count": 34,
   "metadata": {
    "collapsed": false
   },
   "outputs": [
    {
     "data": {
      "text/plain": [
       "DatetimeIndex(['2016-01-01', '2016-01-04', '2016-01-05', '2016-01-06',\n",
       "               '2016-01-07', '2016-01-08', '2016-01-11', '2016-01-12',\n",
       "               '2016-01-13', '2016-01-14',\n",
       "               ...\n",
       "               '2016-05-18', '2016-05-19', '2016-05-20', '2016-05-23',\n",
       "               '2016-05-24', '2016-05-25', '2016-05-26', '2016-05-27',\n",
       "               '2016-05-30', '2016-05-31'],\n",
       "              dtype='datetime64[ns]', length=108, freq='B')"
      ]
     },
     "execution_count": 34,
     "metadata": {},
     "output_type": "execute_result"
    }
   ],
   "source": [
    "# Do the same range except only do business days\n",
    "pd.date_range(start=\"2016-01-01\", end=\"2016-05-31\", freq='B')"
   ]
  },
  {
   "cell_type": "markdown",
   "metadata": {},
   "source": [
    "## Where are these frequencies coming from?\n",
    "Those frequencies are called offsets and determine at what intervals the date range will output. The table below shows all the possibily offsets and their aliases (what you will use)\n",
    "\n",
    "<table border=\"1\" class=\"docutils\">\n",
    "<colgroup>\n",
    "<col width=\"13%\" />\n",
    "<col width=\"87%\" />\n",
    "</colgroup>\n",
    "<thead valign=\"bottom\">\n",
    "<tr class=\"row-odd\"><th class=\"head\">Alias</th>\n",
    "<th class=\"head\">Description</th>\n",
    "</tr>\n",
    "</thead>\n",
    "<tbody valign=\"top\">\n",
    "<tr class=\"row-even\"><td>B</td>\n",
    "<td>business day frequency</td>\n",
    "</tr>\n",
    "<tr class=\"row-odd\"><td>C</td>\n",
    "<td>custom business day frequency (experimental)</td>\n",
    "</tr>\n",
    "<tr class=\"row-even\"><td>D</td>\n",
    "<td>calendar day frequency</td>\n",
    "</tr>\n",
    "<tr class=\"row-odd\"><td>W</td>\n",
    "<td>weekly frequency</td>\n",
    "</tr>\n",
    "<tr class=\"row-even\"><td>M</td>\n",
    "<td>month end frequency</td>\n",
    "</tr>\n",
    "<tr class=\"row-odd\"><td>BM</td>\n",
    "<td>business month end frequency</td>\n",
    "</tr>\n",
    "<tr class=\"row-even\"><td>CBM</td>\n",
    "<td>custom business month end frequency</td>\n",
    "</tr>\n",
    "<tr class=\"row-odd\"><td>MS</td>\n",
    "<td>month start frequency</td>\n",
    "</tr>\n",
    "<tr class=\"row-even\"><td>BMS</td>\n",
    "<td>business month start frequency</td>\n",
    "</tr>\n",
    "<tr class=\"row-odd\"><td>CBMS</td>\n",
    "<td>custom business month start frequency</td>\n",
    "</tr>\n",
    "<tr class=\"row-even\"><td>Q</td>\n",
    "<td>quarter end frequency</td>\n",
    "</tr>\n",
    "<tr class=\"row-odd\"><td>BQ</td>\n",
    "<td>business quarter endfrequency</td>\n",
    "</tr>\n",
    "<tr class=\"row-even\"><td>QS</td>\n",
    "<td>quarter start frequency</td>\n",
    "</tr>\n",
    "<tr class=\"row-odd\"><td>BQS</td>\n",
    "<td>business quarter start frequency</td>\n",
    "</tr>\n",
    "<tr class=\"row-even\"><td>A</td>\n",
    "<td>year end frequency</td>\n",
    "</tr>\n",
    "<tr class=\"row-odd\"><td>BA</td>\n",
    "<td>business year end frequency</td>\n",
    "</tr>\n",
    "<tr class=\"row-even\"><td>AS</td>\n",
    "<td>year start frequency</td>\n",
    "</tr>\n",
    "<tr class=\"row-odd\"><td>BAS</td>\n",
    "<td>business year start frequency</td>\n",
    "</tr>\n",
    "<tr class=\"row-even\"><td>BH</td>\n",
    "<td>business hour frequency</td>\n",
    "</tr>\n",
    "<tr class=\"row-odd\"><td>H</td>\n",
    "<td>hourly frequency</td>\n",
    "</tr>\n",
    "<tr class=\"row-even\"><td>T, min</td>\n",
    "<td>minutely frequency</td>\n",
    "</tr>\n",
    "<tr class=\"row-odd\"><td>S</td>\n",
    "<td>secondly frequency</td>\n",
    "</tr>\n",
    "<tr class=\"row-even\"><td>L, ms</td>\n",
    "<td>milliseconds</td>\n",
    "</tr>\n",
    "<tr class=\"row-odd\"><td>U, us</td>\n",
    "<td>microseconds</td>\n",
    "</tr>\n",
    "<tr class=\"row-even\"><td>N</td>\n",
    "<td>nanoseconds</td>\n",
    "</tr>\n",
    "</tbody>\n",
    "</table>"
   ]
  },
  {
   "cell_type": "code",
   "execution_count": 35,
   "metadata": {
    "collapsed": false
   },
   "outputs": [
    {
     "data": {
      "text/plain": [
       "DatetimeIndex(['2016-01-29', '2016-02-29', '2016-03-31', '2016-04-29',\n",
       "               '2016-05-31'],\n",
       "              dtype='datetime64[ns]', freq='BM')"
      ]
     },
     "execution_count": 35,
     "metadata": {},
     "output_type": "execute_result"
    }
   ],
   "source": [
    "# Do the same thing except for business end of month\n",
    "# only 5 months here\n",
    "pd.date_range(start=\"2016-01-01\", end=\"2016-05-31\", freq='BM')"
   ]
  },
  {
   "cell_type": "code",
   "execution_count": 36,
   "metadata": {
    "collapsed": false
   },
   "outputs": [
    {
     "data": {
      "text/plain": [
       "DatetimeIndex(['2016-01-10', '2016-01-17', '2016-01-24', '2016-01-31',\n",
       "               '2016-02-07', '2016-02-14', '2016-02-21', '2016-02-28',\n",
       "               '2016-03-06', '2016-03-13'],\n",
       "              dtype='datetime64[ns]', freq='W-SUN')"
      ]
     },
     "execution_count": 36,
     "metadata": {},
     "output_type": "execute_result"
    }
   ],
   "source": [
    "# use the periods argument to specify how many dates you want.\n",
    "# Specify only one of either start or end date\n",
    "pd.date_range(start=\"2016-01-10\", periods=10, freq='W')"
   ]
  },
  {
   "cell_type": "markdown",
   "metadata": {},
   "source": [
    "## An actual time series\n",
    "So far we have been playing around with standard Python and pandas date functionality without any data attached to the dates. We will now begin to explore slicing a Series of time series data."
   ]
  },
  {
   "cell_type": "code",
   "execution_count": 37,
   "metadata": {
    "collapsed": false
   },
   "outputs": [],
   "source": [
    "# get a year and a half of business day data\n",
    "idx = pd.date_range(start='2014-01-01', end='2015-06-30', freq='B')\n",
    "s = pd.Series(np.random.rand(len(idx)), idx)"
   ]
  },
  {
   "cell_type": "code",
   "execution_count": 38,
   "metadata": {
    "collapsed": false
   },
   "outputs": [
    {
     "data": {
      "text/plain": [
       "2014-01-01    0.606815\n",
       "2014-01-02    0.783319\n",
       "2014-01-03    0.436653\n",
       "2014-01-06    0.878771\n",
       "2014-01-07    0.454420\n",
       "2014-01-08    0.635895\n",
       "2014-01-09    0.954045\n",
       "2014-01-10    0.481420\n",
       "2014-01-13    0.194839\n",
       "2014-01-14    0.741491\n",
       "2014-01-15    0.319139\n",
       "2014-01-16    0.516213\n",
       "2014-01-17    0.322976\n",
       "2014-01-20    0.801405\n",
       "2014-01-21    0.126618\n",
       "Freq: B, dtype: float64"
      ]
     },
     "execution_count": 38,
     "metadata": {},
     "output_type": "execute_result"
    }
   ],
   "source": [
    "s.head(15)"
   ]
  },
  {
   "cell_type": "markdown",
   "metadata": {},
   "source": [
    "## taking and slicing data with [ ]\n",
    "We have a series of random data with a DatetimeIndex. It was stressed that using the brackets [] with series is not good practice but when you have a DatetimeIndex we can relax this as the index is not going to be ambiguous."
   ]
  },
  {
   "cell_type": "code",
   "execution_count": 39,
   "metadata": {
    "collapsed": false
   },
   "outputs": [
    {
     "data": {
      "text/plain": [
       "0.32297603495953586"
      ]
     },
     "execution_count": 39,
     "metadata": {},
     "output_type": "execute_result"
    }
   ],
   "source": [
    "# Get a single date with []\n",
    "s['2014-01-17']"
   ]
  },
  {
   "cell_type": "code",
   "execution_count": 40,
   "metadata": {
    "collapsed": false
   },
   "outputs": [
    {
     "data": {
      "text/plain": [
       "2014-01-20    0.801405\n",
       "2014-01-21    0.126618\n",
       "2014-01-22    0.505163\n",
       "2014-01-23    0.567510\n",
       "2014-01-24    0.097833\n",
       "2014-01-27    0.340392\n",
       "2014-01-28    0.617455\n",
       "2014-01-29    0.648626\n",
       "2014-01-30    0.278238\n",
       "2014-01-31    0.203926\n",
       "2014-02-03    0.329069\n",
       "2014-02-04    0.876652\n",
       "2014-02-05    0.722033\n",
       "Freq: B, dtype: float64"
      ]
     },
     "execution_count": 40,
     "metadata": {},
     "output_type": "execute_result"
    }
   ],
   "source": [
    "# Get a range of dates by using slice notation\n",
    "# since january 18th is not in the series it simply doesn't return a value for it\n",
    "s['2014-01-18':'2014-02-5']"
   ]
  },
  {
   "cell_type": "code",
   "execution_count": 41,
   "metadata": {
    "collapsed": false
   },
   "outputs": [
    {
     "data": {
      "text/plain": [
       "2015-02-02    0.805563\n",
       "2015-02-03    0.219573\n",
       "2015-02-04    0.478468\n",
       "2015-02-05    0.593090\n",
       "2015-02-06    0.046353\n",
       "2015-02-09    0.720835\n",
       "2015-02-10    0.466501\n",
       "2015-02-11    0.243824\n",
       "2015-02-12    0.246840\n",
       "2015-02-13    0.950627\n",
       "2015-02-16    0.919311\n",
       "2015-02-17    0.838420\n",
       "2015-02-18    0.458014\n",
       "2015-02-19    0.628031\n",
       "2015-02-20    0.717291\n",
       "2015-02-23    0.896852\n",
       "2015-02-24    0.752053\n",
       "2015-02-25    0.871186\n",
       "2015-02-26    0.370872\n",
       "2015-02-27    0.248035\n",
       "Freq: B, dtype: float64"
      ]
     },
     "execution_count": 41,
     "metadata": {},
     "output_type": "execute_result"
    }
   ],
   "source": [
    "# get an entire month\n",
    "s['2015-02']"
   ]
  },
  {
   "cell_type": "code",
   "execution_count": 42,
   "metadata": {
    "collapsed": false
   },
   "outputs": [
    {
     "data": {
      "text/plain": [
       "2014-12-18    0.650750\n",
       "2014-12-19    0.801193\n",
       "2014-12-22    0.498716\n",
       "2014-12-23    0.362420\n",
       "2014-12-24    0.867398\n",
       "2014-12-25    0.098616\n",
       "2014-12-26    0.223754\n",
       "2014-12-29    0.933447\n",
       "2014-12-30    0.833416\n",
       "2014-12-31    0.823589\n",
       "Freq: B, dtype: float64"
      ]
     },
     "execution_count": 42,
     "metadata": {},
     "output_type": "execute_result"
    }
   ],
   "source": [
    "# get an entire year\n",
    "s['2014'].tail(10)"
   ]
  },
  {
   "cell_type": "code",
   "execution_count": 43,
   "metadata": {
    "collapsed": false
   },
   "outputs": [
    {
     "data": {
      "text/plain": [
       "2014-01-20    0.801405\n",
       "2014-01-21    0.126618\n",
       "2014-01-22    0.505163\n",
       "2014-01-23    0.567510\n",
       "2014-01-24    0.097833\n",
       "2014-01-27    0.340392\n",
       "2014-01-28    0.617455\n",
       "2014-01-29    0.648626\n",
       "2014-01-30    0.278238\n",
       "2014-01-31    0.203926\n",
       "2014-02-03    0.329069\n",
       "2014-02-04    0.876652\n",
       "2014-02-05    0.722033\n",
       "Freq: B, dtype: float64"
      ]
     },
     "execution_count": 43,
     "metadata": {},
     "output_type": "execute_result"
    }
   ],
   "source": [
    "# .loc will do the same thing with extra syntax\n",
    "s.loc['2014-01-18':'2014-02-5']"
   ]
  },
  {
   "cell_type": "markdown",
   "metadata": {},
   "source": [
    "## Shifting a Series up or down\n",
    "The **shift** and **tshift** methods can shift a Series up or down. shift moves the values of the series while tshift changes the values of the index to a different date."
   ]
  },
  {
   "cell_type": "code",
   "execution_count": 44,
   "metadata": {
    "collapsed": false
   },
   "outputs": [
    {
     "data": {
      "text/plain": [
       "2014-01-01    0.606815\n",
       "2014-01-02    0.783319\n",
       "2014-01-03    0.436653\n",
       "2014-01-06    0.878771\n",
       "2014-01-07    0.454420\n",
       "2014-01-08    0.635895\n",
       "2014-01-09    0.954045\n",
       "2014-01-10    0.481420\n",
       "2014-01-13    0.194839\n",
       "2014-01-14    0.741491\n",
       "Freq: B, dtype: float64"
      ]
     },
     "execution_count": 44,
     "metadata": {},
     "output_type": "execute_result"
    }
   ],
   "source": [
    "# original series\n",
    "s.head(10)"
   ]
  },
  {
   "cell_type": "code",
   "execution_count": 45,
   "metadata": {
    "collapsed": false
   },
   "outputs": [
    {
     "data": {
      "text/plain": [
       "2014-01-01         NaN\n",
       "2014-01-02         NaN\n",
       "2014-01-03         NaN\n",
       "2014-01-06         NaN\n",
       "2014-01-07         NaN\n",
       "2014-01-08    0.606815\n",
       "2014-01-09    0.783319\n",
       "2014-01-10    0.436653\n",
       "2014-01-13    0.878771\n",
       "2014-01-14    0.454420\n",
       "Freq: B, dtype: float64"
      ]
     },
     "execution_count": 45,
     "metadata": {},
     "output_type": "execute_result"
    }
   ],
   "source": [
    "# use shift to shift the values up 5 days\n",
    "# the index stays the same and missing values appear where there is no previous data\n",
    "s.shift(5).head(10)"
   ]
  },
  {
   "cell_type": "code",
   "execution_count": 46,
   "metadata": {
    "collapsed": false
   },
   "outputs": [
    {
     "data": {
      "text/plain": [
       "2015-06-17    0.220081\n",
       "2015-06-18    0.879273\n",
       "2015-06-19    0.462166\n",
       "2015-06-22    0.974529\n",
       "2015-06-23    0.225401\n",
       "2015-06-24    0.800648\n",
       "2015-06-25    0.753080\n",
       "2015-06-26         NaN\n",
       "2015-06-29         NaN\n",
       "2015-06-30         NaN\n",
       "Freq: B, dtype: float64"
      ]
     },
     "execution_count": 46,
     "metadata": {},
     "output_type": "execute_result"
    }
   ],
   "source": [
    "# down shift 3 days\n",
    "# by looking at the tail we see that the last three values are missing\n",
    "s.shift(-3).tail(10)"
   ]
  },
  {
   "cell_type": "code",
   "execution_count": 47,
   "metadata": {
    "collapsed": false
   },
   "outputs": [
    {
     "data": {
      "text/plain": [
       "2014-01-06    0.606815\n",
       "2014-01-07    0.783319\n",
       "2014-01-08    0.436653\n",
       "2014-01-09    0.878771\n",
       "2014-01-10    0.454420\n",
       "Freq: B, dtype: float64"
      ]
     },
     "execution_count": 47,
     "metadata": {},
     "output_type": "execute_result"
    }
   ],
   "source": [
    "# This will shift 3 BUSINESS days or whatever the original frequency was. \n",
    "# notice how only the index was changed\n",
    "s.tshift(3).head()"
   ]
  },
  {
   "cell_type": "code",
   "execution_count": 48,
   "metadata": {
    "collapsed": false
   },
   "outputs": [
    {
     "data": {
      "text/plain": [
       "2014-01-04    0.606815\n",
       "2014-01-05    0.783319\n",
       "2014-01-06    0.436653\n",
       "2014-01-09    0.878771\n",
       "2014-01-10    0.454420\n",
       "Freq: B, dtype: float64"
      ]
     },
     "execution_count": 48,
     "metadata": {},
     "output_type": "execute_result"
    }
   ],
   "source": [
    "# Shift three normal days\n",
    "# notice how the index is different than the series ouput above\n",
    "s.tshift(3, freq='D').head()"
   ]
  },
  {
   "cell_type": "markdown",
   "metadata": {},
   "source": [
    "## Sampling a particular frequency of your time series data\n",
    "Occasionally during a time series analysis you would want to grab a small, regular repeating fraction of your data. Every friday, or every other tuesday or every end of business quarter. The **asfreq** method allows for this flexibility and coupled with **anchored offsets** provides some nifty time slices can be grabbed."
   ]
  },
  {
   "cell_type": "code",
   "execution_count": 49,
   "metadata": {
    "collapsed": false
   },
   "outputs": [
    {
     "data": {
      "text/plain": [
       "2014-01-31    0.203926\n",
       "2014-02-28    0.883085\n",
       "2014-03-31    0.568274\n",
       "2014-04-30    0.928182\n",
       "2014-05-30    0.427990\n",
       "2014-06-30    0.071792\n",
       "2014-07-31    0.601384\n",
       "2014-08-29    0.641172\n",
       "2014-09-30    0.934926\n",
       "2014-10-31    0.413625\n",
       "2014-11-28    0.758719\n",
       "2014-12-31    0.823589\n",
       "2015-01-30    0.945309\n",
       "2015-02-27    0.248035\n",
       "2015-03-31    0.906593\n",
       "2015-04-30    0.403133\n",
       "2015-05-29    0.258091\n",
       "2015-06-30    0.753080\n",
       "Freq: BM, dtype: float64"
      ]
     },
     "execution_count": 49,
     "metadata": {},
     "output_type": "execute_result"
    }
   ],
   "source": [
    "# keep using the same time series from above and grab the end of each business month\n",
    "# note how pandas automatically picks the last business day and not last day of each month for you\n",
    "s.asfreq(freq='BM')"
   ]
  },
  {
   "cell_type": "markdown",
   "metadata": {},
   "source": [
    "### Using Anchored offsets\n",
    "[An anchored offset](http://pandas.pydata.org/pandas-docs/stable/timeseries.html#anchored-offsets) allows for a particular frequency to be anchored to a specific day/month. It is most commonly used with frequencies in weeks to determine the start or end of that week"
   ]
  },
  {
   "cell_type": "code",
   "execution_count": 50,
   "metadata": {
    "collapsed": false
   },
   "outputs": [
    {
     "data": {
      "text/plain": [
       "2014-01-05   NaN\n",
       "2014-01-12   NaN\n",
       "2014-01-19   NaN\n",
       "2014-01-26   NaN\n",
       "2014-02-02   NaN\n",
       "2014-02-09   NaN\n",
       "2014-02-16   NaN\n",
       "2014-02-23   NaN\n",
       "2014-03-02   NaN\n",
       "2014-03-09   NaN\n",
       "Freq: W-SUN, dtype: float64"
      ]
     },
     "execution_count": 50,
     "metadata": {},
     "output_type": "execute_result"
    }
   ],
   "source": [
    "# get one data per week\n",
    "# But which one does pandas default to?\n",
    "# Look closely at the bottom. Freq: W-SUN means it gets the value of the series for each sunday in the week\n",
    "# Since this data has only business days, there will be no values for Sunday\n",
    "s.asfreq(\"W\").head(10)"
   ]
  },
  {
   "cell_type": "code",
   "execution_count": 51,
   "metadata": {
    "collapsed": false
   },
   "outputs": [
    {
     "data": {
      "text/plain": [
       "2014-01-03    0.436653\n",
       "2014-01-10    0.481420\n",
       "2014-01-17    0.322976\n",
       "2014-01-24    0.097833\n",
       "2014-01-31    0.203926\n",
       "2014-02-07    0.161736\n",
       "2014-02-14    0.984482\n",
       "2014-02-21    0.802371\n",
       "2014-02-28    0.883085\n",
       "2014-03-07    0.664965\n",
       "Freq: W-FRI, dtype: float64"
      ]
     },
     "execution_count": 51,
     "metadata": {},
     "output_type": "execute_result"
    }
   ],
   "source": [
    "# lets fix this by getting the value of friday for each week\n",
    "s.asfreq('W-FRI').head(10)"
   ]
  },
  {
   "cell_type": "code",
   "execution_count": 52,
   "metadata": {
    "collapsed": false
   },
   "outputs": [
    {
     "data": {
      "text/plain": [
       "2014-01-01    0.606815\n",
       "2014-01-22    0.505163\n",
       "2014-02-12    0.885194\n",
       "2014-03-05    0.201498\n",
       "2014-03-26    0.985997\n",
       "2014-04-16    0.271687\n",
       "2014-05-07    0.403452\n",
       "2014-05-28    0.158311\n",
       "2014-06-18    0.493376\n",
       "2014-07-09    0.022977\n",
       "2014-07-30    0.473174\n",
       "2014-08-20    0.330768\n",
       "2014-09-10    0.719090\n",
       "2014-10-01    0.344420\n",
       "2014-10-22    0.686229\n",
       "2014-11-12    0.895585\n",
       "2014-12-03    0.683518\n",
       "2014-12-24    0.867398\n",
       "2015-01-14    0.770924\n",
       "2015-02-04    0.478468\n",
       "2015-02-25    0.871186\n",
       "2015-03-18    0.821092\n",
       "2015-04-08    0.863324\n",
       "2015-04-29    0.669029\n",
       "2015-05-20    0.882845\n",
       "2015-06-10    0.910438\n",
       "Freq: 3W-WED, dtype: float64"
      ]
     },
     "execution_count": 52,
     "metadata": {},
     "output_type": "execute_result"
    }
   ],
   "source": [
    "# How about every third Wednesday?\n",
    "# pretty amazing\n",
    "s.asfreq('3W-WED')"
   ]
  },
  {
   "cell_type": "code",
   "execution_count": 53,
   "metadata": {
    "collapsed": false
   },
   "outputs": [
    {
     "data": {
      "text/plain": [
       "2014-01-01 00:00:00    0.606815\n",
       "2014-01-01 05:00:00         NaN\n",
       "2014-01-01 10:00:00         NaN\n",
       "2014-01-01 15:00:00         NaN\n",
       "2014-01-01 20:00:00         NaN\n",
       "2014-01-02 01:00:00         NaN\n",
       "2014-01-02 06:00:00         NaN\n",
       "2014-01-02 11:00:00         NaN\n",
       "2014-01-02 16:00:00         NaN\n",
       "2014-01-02 21:00:00         NaN\n",
       "2014-01-03 02:00:00         NaN\n",
       "2014-01-03 07:00:00         NaN\n",
       "2014-01-03 12:00:00         NaN\n",
       "2014-01-03 17:00:00         NaN\n",
       "2014-01-03 22:00:00         NaN\n",
       "Freq: 5H, dtype: float64"
      ]
     },
     "execution_count": 53,
     "metadata": {},
     "output_type": "execute_result"
    }
   ],
   "source": [
    "# How about every 5 hours?\n",
    "# most of these dates don't correspond with data\n",
    "s.asfreq('5H').head(15)"
   ]
  },
  {
   "cell_type": "markdown",
   "metadata": {},
   "source": [
    "# 'Resampling' - aggregating data over certain time frequencies\n",
    "Many times, it will be necessary to aggregate time series data over a certain regular interval of time. Aggregating meaning that a function will be applied to an interval of a time series to produce a single number. Summing the total values over a month, or finding the mean of every 2 week period, or finding the max value over each year, etc... pandas uses the confusing (in my opinion) term 'resampling' to denote this aggregation over a time period."
   ]
  },
  {
   "cell_type": "code",
   "execution_count": 54,
   "metadata": {
    "collapsed": false
   },
   "outputs": [
    {
     "data": {
      "text/plain": [
       "2014-01-05    0.783319\n",
       "2014-01-12    0.954045\n",
       "2014-01-19    0.741491\n",
       "2014-01-26    0.801405\n",
       "2014-02-02    0.648626\n",
       "Freq: W-SUN, dtype: float64"
      ]
     },
     "execution_count": 54,
     "metadata": {},
     "output_type": "execute_result"
    }
   ],
   "source": [
    "# get the max value each week\n",
    "s.resample('W').max().head()"
   ]
  },
  {
   "cell_type": "code",
   "execution_count": 55,
   "metadata": {
    "collapsed": false
   },
   "outputs": [
    {
     "data": {
      "text/plain": [
       "2014-01-31    0.500572\n",
       "2014-02-28    0.646368\n",
       "2014-03-31    0.425248\n",
       "2014-04-30    0.510183\n",
       "2014-05-31    0.553497\n",
       "2014-06-30    0.565817\n",
       "2014-07-31    0.480504\n",
       "2014-08-31    0.418498\n",
       "2014-09-30    0.545271\n",
       "2014-10-31    0.563668\n",
       "2014-11-30    0.583133\n",
       "2014-12-31    0.536276\n",
       "2015-01-31    0.561161\n",
       "2015-02-28    0.573587\n",
       "2015-03-31    0.626493\n",
       "2015-04-30    0.557120\n",
       "2015-05-31    0.563218\n",
       "2015-06-30    0.550979\n",
       "Freq: M, dtype: float64"
      ]
     },
     "execution_count": 55,
     "metadata": {},
     "output_type": "execute_result"
    }
   ],
   "source": [
    "# get the mean each month\n",
    "s.resample('M').mean()"
   ]
  },
  {
   "cell_type": "code",
   "execution_count": 56,
   "metadata": {
    "collapsed": false
   },
   "outputs": [
    {
     "data": {
      "text/plain": [
       "2014-01-31    0.500572\n",
       "2014-02-28    0.646368\n",
       "2014-03-31    0.425248\n",
       "2014-04-30    0.510183\n",
       "2014-05-30    0.553497\n",
       "2014-06-30    0.565817\n",
       "2014-07-31    0.480504\n",
       "2014-08-29    0.418498\n",
       "2014-09-30    0.545271\n",
       "2014-10-31    0.563668\n",
       "2014-11-28    0.583133\n",
       "2014-12-31    0.536276\n",
       "2015-01-30    0.561161\n",
       "2015-02-27    0.573587\n",
       "2015-03-31    0.626493\n",
       "2015-04-30    0.557120\n",
       "2015-05-29    0.563218\n",
       "2015-06-30    0.550979\n",
       "Freq: BM, dtype: float64"
      ]
     },
     "execution_count": 56,
     "metadata": {},
     "output_type": "execute_result"
    }
   ],
   "source": [
    "# Get the mean each business month \n",
    "s.resample('BM').mean()"
   ]
  },
  {
   "cell_type": "code",
   "execution_count": 57,
   "metadata": {
    "collapsed": false
   },
   "outputs": [
    {
     "data": {
      "text/plain": [
       "True"
      ]
     },
     "execution_count": 57,
     "metadata": {},
     "output_type": "execute_result"
    }
   ],
   "source": [
    "# the last two examples give the same exact values\n",
    "(s.resample('BM').mean().values == s.resample('M').mean().values).all()"
   ]
  },
  {
   "cell_type": "code",
   "execution_count": 58,
   "metadata": {
    "collapsed": false
   },
   "outputs": [
    {
     "data": {
      "text/plain": [
       "2014-12-31    0.995924\n",
       "2015-12-31    0.991829\n",
       "Freq: A-DEC, dtype: float64"
      ]
     },
     "execution_count": 58,
     "metadata": {},
     "output_type": "execute_result"
    }
   ],
   "source": [
    "# get max over a year\n",
    "s.resample('A').max()"
   ]
  },
  {
   "cell_type": "code",
   "execution_count": 59,
   "metadata": {
    "collapsed": false
   },
   "outputs": [],
   "source": [
    "# sample every 6 hours\n",
    "\n",
    "# first save a sa resmaple object\n",
    "r = s.resample('6H')"
   ]
  },
  {
   "cell_type": "code",
   "execution_count": 60,
   "metadata": {
    "collapsed": false
   },
   "outputs": [
    {
     "data": {
      "text/plain": [
       "2014-01-01 00:00:00    0.606815\n",
       "2014-01-01 06:00:00         NaN\n",
       "2014-01-01 12:00:00         NaN\n",
       "2014-01-01 18:00:00         NaN\n",
       "2014-01-02 00:00:00    0.783319\n",
       "2014-01-02 06:00:00         NaN\n",
       "2014-01-02 12:00:00         NaN\n",
       "2014-01-02 18:00:00         NaN\n",
       "2014-01-03 00:00:00    0.436653\n",
       "2014-01-03 06:00:00         NaN\n",
       "2014-01-03 12:00:00         NaN\n",
       "2014-01-03 18:00:00         NaN\n",
       "2014-01-04 00:00:00         NaN\n",
       "2014-01-04 06:00:00         NaN\n",
       "2014-01-04 12:00:00         NaN\n",
       "Freq: 6H, dtype: float64"
      ]
     },
     "execution_count": 60,
     "metadata": {},
     "output_type": "execute_result"
    }
   ],
   "source": [
    "# view the raw resample before aggregation\n",
    "# lots of missing values as only time 00:00:00 will have any values\n",
    "r.asfreq().head(15)"
   ]
  },
  {
   "cell_type": "code",
   "execution_count": 61,
   "metadata": {
    "collapsed": false
   },
   "outputs": [
    {
     "data": {
      "text/plain": [
       "2014-01-01 00:00:00    0.606815\n",
       "2014-01-01 06:00:00    0.650941\n",
       "2014-01-01 12:00:00    0.695067\n",
       "2014-01-01 18:00:00    0.739193\n",
       "2014-01-02 00:00:00    0.783319\n",
       "2014-01-02 06:00:00    0.696652\n",
       "2014-01-02 12:00:00    0.609986\n",
       "2014-01-02 18:00:00    0.523320\n",
       "2014-01-03 00:00:00    0.436653\n",
       "2014-01-03 06:00:00    0.473496\n",
       "2014-01-03 12:00:00    0.510339\n",
       "2014-01-03 18:00:00    0.547183\n",
       "2014-01-04 00:00:00    0.584026\n",
       "2014-01-04 06:00:00    0.620869\n",
       "2014-01-04 12:00:00    0.657712\n",
       "Freq: 6H, dtype: float64"
      ]
     },
     "execution_count": 61,
     "metadata": {},
     "output_type": "execute_result"
    }
   ],
   "source": [
    "# linearly interpolate values from one known value to the next\n",
    "r.interpolate().head(15)"
   ]
  },
  {
   "cell_type": "code",
   "execution_count": 62,
   "metadata": {
    "collapsed": false
   },
   "outputs": [
    {
     "data": {
      "text/html": [
       "<div>\n",
       "<table border=\"1\" class=\"dataframe\">\n",
       "  <thead>\n",
       "    <tr style=\"text-align: right;\">\n",
       "      <th></th>\n",
       "      <th>mean</th>\n",
       "      <th>max</th>\n",
       "      <th>std</th>\n",
       "      <th>&lt;lambda&gt;</th>\n",
       "    </tr>\n",
       "  </thead>\n",
       "  <tbody>\n",
       "    <tr>\n",
       "      <th>2014-01-05</th>\n",
       "      <td>0.608929</td>\n",
       "      <td>0.783319</td>\n",
       "      <td>0.173342</td>\n",
       "      <td>0.346665</td>\n",
       "    </tr>\n",
       "    <tr>\n",
       "      <th>2014-01-26</th>\n",
       "      <td>0.506516</td>\n",
       "      <td>0.954045</td>\n",
       "      <td>0.264873</td>\n",
       "      <td>0.856212</td>\n",
       "    </tr>\n",
       "    <tr>\n",
       "      <th>2014-02-16</th>\n",
       "      <td>0.548340</td>\n",
       "      <td>0.995924</td>\n",
       "      <td>0.293588</td>\n",
       "      <td>0.834188</td>\n",
       "    </tr>\n",
       "    <tr>\n",
       "      <th>2014-03-09</th>\n",
       "      <td>0.616704</td>\n",
       "      <td>0.974186</td>\n",
       "      <td>0.335862</td>\n",
       "      <td>0.972563</td>\n",
       "    </tr>\n",
       "    <tr>\n",
       "      <th>2014-03-30</th>\n",
       "      <td>0.393486</td>\n",
       "      <td>0.985997</td>\n",
       "      <td>0.334338</td>\n",
       "      <td>0.946778</td>\n",
       "    </tr>\n",
       "    <tr>\n",
       "      <th>2014-04-20</th>\n",
       "      <td>0.515075</td>\n",
       "      <td>0.945539</td>\n",
       "      <td>0.255956</td>\n",
       "      <td>0.883355</td>\n",
       "    </tr>\n",
       "    <tr>\n",
       "      <th>2014-05-11</th>\n",
       "      <td>0.556135</td>\n",
       "      <td>0.964035</td>\n",
       "      <td>0.257426</td>\n",
       "      <td>0.735465</td>\n",
       "    </tr>\n",
       "    <tr>\n",
       "      <th>2014-06-01</th>\n",
       "      <td>0.526739</td>\n",
       "      <td>0.949513</td>\n",
       "      <td>0.303877</td>\n",
       "      <td>0.919600</td>\n",
       "    </tr>\n",
       "    <tr>\n",
       "      <th>2014-06-22</th>\n",
       "      <td>0.586714</td>\n",
       "      <td>0.985090</td>\n",
       "      <td>0.276276</td>\n",
       "      <td>0.948235</td>\n",
       "    </tr>\n",
       "    <tr>\n",
       "      <th>2014-07-13</th>\n",
       "      <td>0.460553</td>\n",
       "      <td>0.988126</td>\n",
       "      <td>0.252061</td>\n",
       "      <td>0.965149</td>\n",
       "    </tr>\n",
       "    <tr>\n",
       "      <th>2014-08-03</th>\n",
       "      <td>0.497484</td>\n",
       "      <td>0.958628</td>\n",
       "      <td>0.299332</td>\n",
       "      <td>0.895859</td>\n",
       "    </tr>\n",
       "    <tr>\n",
       "      <th>2014-08-24</th>\n",
       "      <td>0.405194</td>\n",
       "      <td>0.819765</td>\n",
       "      <td>0.273684</td>\n",
       "      <td>0.795469</td>\n",
       "    </tr>\n",
       "    <tr>\n",
       "      <th>2014-09-14</th>\n",
       "      <td>0.580447</td>\n",
       "      <td>0.984164</td>\n",
       "      <td>0.283209</td>\n",
       "      <td>0.870213</td>\n",
       "    </tr>\n",
       "    <tr>\n",
       "      <th>2014-10-05</th>\n",
       "      <td>0.478674</td>\n",
       "      <td>0.984392</td>\n",
       "      <td>0.346457</td>\n",
       "      <td>0.913136</td>\n",
       "    </tr>\n",
       "    <tr>\n",
       "      <th>2014-10-26</th>\n",
       "      <td>0.551848</td>\n",
       "      <td>0.993805</td>\n",
       "      <td>0.314283</td>\n",
       "      <td>0.990875</td>\n",
       "    </tr>\n",
       "  </tbody>\n",
       "</table>\n",
       "</div>"
      ],
      "text/plain": [
       "                mean       max       std  <lambda>\n",
       "2014-01-05  0.608929  0.783319  0.173342  0.346665\n",
       "2014-01-26  0.506516  0.954045  0.264873  0.856212\n",
       "2014-02-16  0.548340  0.995924  0.293588  0.834188\n",
       "2014-03-09  0.616704  0.974186  0.335862  0.972563\n",
       "2014-03-30  0.393486  0.985997  0.334338  0.946778\n",
       "2014-04-20  0.515075  0.945539  0.255956  0.883355\n",
       "2014-05-11  0.556135  0.964035  0.257426  0.735465\n",
       "2014-06-01  0.526739  0.949513  0.303877  0.919600\n",
       "2014-06-22  0.586714  0.985090  0.276276  0.948235\n",
       "2014-07-13  0.460553  0.988126  0.252061  0.965149\n",
       "2014-08-03  0.497484  0.958628  0.299332  0.895859\n",
       "2014-08-24  0.405194  0.819765  0.273684  0.795469\n",
       "2014-09-14  0.580447  0.984164  0.283209  0.870213\n",
       "2014-10-05  0.478674  0.984392  0.346457  0.913136\n",
       "2014-10-26  0.551848  0.993805  0.314283  0.990875"
      ]
     },
     "execution_count": 62,
     "metadata": {},
     "output_type": "execute_result"
    }
   ],
   "source": [
    "# Aggregate by every 3rd week and use the 'agg' method to find many different aggregates\n",
    "s.resample('3W').agg(['mean', 'max', 'std', lambda x: x.max() - x.min()]).head(15)"
   ]
  },
  {
   "cell_type": "markdown",
   "metadata": {},
   "source": [
    "# Rolling Window Calculations\n",
    "Often in time series analysis a continuous rolling window of time will be desired. This is similar to resampling except that each time period has its own window and so the same number of time periods will be returned when a calculation is performed on that window of data.\n",
    "\n",
    "### Get real stock market data\n",
    "A pandas extension package, **pandas_datareader** can be installed using **conda install pandas_datareader**. This package allows grabbing financial data from the web."
   ]
  },
  {
   "cell_type": "code",
   "execution_count": 63,
   "metadata": {
    "collapsed": true
   },
   "outputs": [],
   "source": [
    "from pandas_datareader.data import DataReader"
   ]
  },
  {
   "cell_type": "code",
   "execution_count": 67,
   "metadata": {
    "collapsed": false
   },
   "outputs": [
    {
     "data": {
      "text/html": [
       "<div>\n",
       "<table border=\"1\" class=\"dataframe\">\n",
       "  <thead>\n",
       "    <tr style=\"text-align: right;\">\n",
       "      <th></th>\n",
       "      <th>Open</th>\n",
       "      <th>High</th>\n",
       "      <th>Low</th>\n",
       "      <th>Close</th>\n",
       "      <th>Volume</th>\n",
       "    </tr>\n",
       "    <tr>\n",
       "      <th>Date</th>\n",
       "      <th></th>\n",
       "      <th></th>\n",
       "      <th></th>\n",
       "      <th></th>\n",
       "      <th></th>\n",
       "    </tr>\n",
       "  </thead>\n",
       "  <tbody>\n",
       "    <tr>\n",
       "      <th>2012-01-03</th>\n",
       "      <td>58.49</td>\n",
       "      <td>58.93</td>\n",
       "      <td>58.43</td>\n",
       "      <td>58.75</td>\n",
       "      <td>75564699</td>\n",
       "    </tr>\n",
       "    <tr>\n",
       "      <th>2012-01-04</th>\n",
       "      <td>58.57</td>\n",
       "      <td>59.24</td>\n",
       "      <td>58.47</td>\n",
       "      <td>59.06</td>\n",
       "      <td>65061108</td>\n",
       "    </tr>\n",
       "    <tr>\n",
       "      <th>2012-01-05</th>\n",
       "      <td>59.28</td>\n",
       "      <td>59.79</td>\n",
       "      <td>58.95</td>\n",
       "      <td>59.72</td>\n",
       "      <td>67816805</td>\n",
       "    </tr>\n",
       "    <tr>\n",
       "      <th>2012-01-06</th>\n",
       "      <td>59.97</td>\n",
       "      <td>60.39</td>\n",
       "      <td>59.89</td>\n",
       "      <td>60.34</td>\n",
       "      <td>79596412</td>\n",
       "    </tr>\n",
       "    <tr>\n",
       "      <th>2012-01-09</th>\n",
       "      <td>60.79</td>\n",
       "      <td>61.11</td>\n",
       "      <td>60.19</td>\n",
       "      <td>60.25</td>\n",
       "      <td>98505792</td>\n",
       "    </tr>\n",
       "    <tr>\n",
       "      <th>2012-01-10</th>\n",
       "      <td>60.84</td>\n",
       "      <td>60.86</td>\n",
       "      <td>60.21</td>\n",
       "      <td>60.46</td>\n",
       "      <td>64581762</td>\n",
       "    </tr>\n",
       "    <tr>\n",
       "      <th>2012-01-11</th>\n",
       "      <td>60.38</td>\n",
       "      <td>60.41</td>\n",
       "      <td>59.90</td>\n",
       "      <td>60.36</td>\n",
       "      <td>53798059</td>\n",
       "    </tr>\n",
       "    <tr>\n",
       "      <th>2012-01-12</th>\n",
       "      <td>60.33</td>\n",
       "      <td>60.41</td>\n",
       "      <td>59.82</td>\n",
       "      <td>60.20</td>\n",
       "      <td>53180911</td>\n",
       "    </tr>\n",
       "    <tr>\n",
       "      <th>2012-01-13</th>\n",
       "      <td>59.96</td>\n",
       "      <td>60.06</td>\n",
       "      <td>59.81</td>\n",
       "      <td>59.97</td>\n",
       "      <td>56539749</td>\n",
       "    </tr>\n",
       "    <tr>\n",
       "      <th>2012-01-17</th>\n",
       "      <td>60.60</td>\n",
       "      <td>60.86</td>\n",
       "      <td>60.42</td>\n",
       "      <td>60.67</td>\n",
       "      <td>60724055</td>\n",
       "    </tr>\n",
       "  </tbody>\n",
       "</table>\n",
       "</div>"
      ],
      "text/plain": [
       "             Open   High    Low  Close    Volume\n",
       "Date                                            \n",
       "2012-01-03  58.49  58.93  58.43  58.75  75564699\n",
       "2012-01-04  58.57  59.24  58.47  59.06  65061108\n",
       "2012-01-05  59.28  59.79  58.95  59.72  67816805\n",
       "2012-01-06  59.97  60.39  59.89  60.34  79596412\n",
       "2012-01-09  60.79  61.11  60.19  60.25  98505792\n",
       "2012-01-10  60.84  60.86  60.21  60.46  64581762\n",
       "2012-01-11  60.38  60.41  59.90  60.36  53798059\n",
       "2012-01-12  60.33  60.41  59.82  60.20  53180911\n",
       "2012-01-13  59.96  60.06  59.81  59.97  56539749\n",
       "2012-01-17  60.60  60.86  60.42  60.67  60724055"
      ]
     },
     "execution_count": 67,
     "metadata": {},
     "output_type": "execute_result"
    }
   ],
   "source": [
    "# general form for DataReader\n",
    "# get apple stock from 2012 til present\n",
    "aapl = DataReader('AAPL', data_source='google', start='2012-01-01')\n",
    "aapl.head(10)"
   ]
  },
  {
   "cell_type": "code",
   "execution_count": 70,
   "metadata": {
    "collapsed": false
   },
   "outputs": [
    {
     "data": {
      "text/html": [
       "<div>\n",
       "<table border=\"1\" class=\"dataframe\">\n",
       "  <thead>\n",
       "    <tr style=\"text-align: right;\">\n",
       "      <th></th>\n",
       "      <th>AAPL</th>\n",
       "      <th>GOOG</th>\n",
       "      <th>HOS</th>\n",
       "      <th>SLB</th>\n",
       "    </tr>\n",
       "    <tr>\n",
       "      <th>Date</th>\n",
       "      <th></th>\n",
       "      <th></th>\n",
       "      <th></th>\n",
       "      <th></th>\n",
       "    </tr>\n",
       "  </thead>\n",
       "  <tbody>\n",
       "    <tr>\n",
       "      <th>2012-01-03</th>\n",
       "      <td>58.75</td>\n",
       "      <td>332.37</td>\n",
       "      <td>31.46</td>\n",
       "      <td>70.09</td>\n",
       "    </tr>\n",
       "    <tr>\n",
       "      <th>2012-01-04</th>\n",
       "      <td>59.06</td>\n",
       "      <td>333.81</td>\n",
       "      <td>31.76</td>\n",
       "      <td>69.56</td>\n",
       "    </tr>\n",
       "    <tr>\n",
       "      <th>2012-01-05</th>\n",
       "      <td>59.72</td>\n",
       "      <td>329.18</td>\n",
       "      <td>32.21</td>\n",
       "      <td>68.07</td>\n",
       "    </tr>\n",
       "    <tr>\n",
       "      <th>2012-01-06</th>\n",
       "      <td>60.34</td>\n",
       "      <td>324.68</td>\n",
       "      <td>33.80</td>\n",
       "      <td>67.78</td>\n",
       "    </tr>\n",
       "    <tr>\n",
       "      <th>2012-01-09</th>\n",
       "      <td>60.25</td>\n",
       "      <td>310.92</td>\n",
       "      <td>32.78</td>\n",
       "      <td>68.82</td>\n",
       "    </tr>\n",
       "    <tr>\n",
       "      <th>2012-01-10</th>\n",
       "      <td>60.46</td>\n",
       "      <td>311.26</td>\n",
       "      <td>33.59</td>\n",
       "      <td>70.75</td>\n",
       "    </tr>\n",
       "    <tr>\n",
       "      <th>2012-01-11</th>\n",
       "      <td>60.36</td>\n",
       "      <td>312.67</td>\n",
       "      <td>33.29</td>\n",
       "      <td>70.16</td>\n",
       "    </tr>\n",
       "    <tr>\n",
       "      <th>2012-01-12</th>\n",
       "      <td>60.20</td>\n",
       "      <td>314.51</td>\n",
       "      <td>32.98</td>\n",
       "      <td>69.70</td>\n",
       "    </tr>\n",
       "    <tr>\n",
       "      <th>2012-01-13</th>\n",
       "      <td>59.97</td>\n",
       "      <td>312.18</td>\n",
       "      <td>33.53</td>\n",
       "      <td>67.99</td>\n",
       "    </tr>\n",
       "    <tr>\n",
       "      <th>2012-01-17</th>\n",
       "      <td>60.67</td>\n",
       "      <td>313.98</td>\n",
       "      <td>34.21</td>\n",
       "      <td>67.64</td>\n",
       "    </tr>\n",
       "  </tbody>\n",
       "</table>\n",
       "</div>"
      ],
      "text/plain": [
       "             AAPL    GOOG    HOS    SLB\n",
       "Date                                   \n",
       "2012-01-03  58.75  332.37  31.46  70.09\n",
       "2012-01-04  59.06  333.81  31.76  69.56\n",
       "2012-01-05  59.72  329.18  32.21  68.07\n",
       "2012-01-06  60.34  324.68  33.80  67.78\n",
       "2012-01-09  60.25  310.92  32.78  68.82\n",
       "2012-01-10  60.46  311.26  33.59  70.75\n",
       "2012-01-11  60.36  312.67  33.29  70.16\n",
       "2012-01-12  60.20  314.51  32.98  69.70\n",
       "2012-01-13  59.97  312.18  33.53  67.99\n",
       "2012-01-17  60.67  313.98  34.21  67.64"
      ]
     },
     "execution_count": 70,
     "metadata": {},
     "output_type": "execute_result"
    }
   ],
   "source": [
    "# two tech stocks and two oil stocks\n",
    "stocks = ['AAPL', 'GOOG', 'HOS', 'SLB']\n",
    "\n",
    "\n",
    "# Grab 4.5 years of stock closing price data from google finance\n",
    "stock_data = {stock: DataReader(stock, data_source='google', start='2012-01-01')['Close'] for stock in stocks}\n",
    "df = pd.DataFrame(stock_data, columns=stocks)\n",
    "df.head(10)"
   ]
  },
  {
   "cell_type": "code",
   "execution_count": 74,
   "metadata": {
    "collapsed": true
   },
   "outputs": [],
   "source": [
    "# Lets plot this\n",
    "import matplotlib.pyplot as plt\n",
    "%matplotlib inline"
   ]
  },
  {
   "cell_type": "code",
   "execution_count": 80,
   "metadata": {
    "collapsed": true
   },
   "outputs": [],
   "source": [
    "plt.style.use(\"ggplot\")"
   ]
  },
  {
   "cell_type": "code",
   "execution_count": 85,
   "metadata": {
    "collapsed": false
   },
   "outputs": [
    {
     "data": {
      "image/png": "[encoded data removed]",
      "text/plain": [
       "<matplotlib.figure.Figure at 0x115e38e10>"
      ]
     },
     "metadata": {},
     "output_type": "display_data"
    }
   ],
   "source": [
    "ax = df.plot(subplots=True, figsize=(16,8));"
   ]
  },
  {
   "cell_type": "markdown",
   "metadata": {},
   "source": [
    "### Create a rolling object\n",
    "**rolling** is both a Series and DataFrame method thats main input is the number of time periods to look back at each date before performing the calculation."
   ]
  },
  {
   "cell_type": "code",
   "execution_count": 98,
   "metadata": {
    "collapsed": false
   },
   "outputs": [],
   "source": [
    "# Initialize rolling object by looking back at the last 10 obsrevations\n",
    "r = df.rolling(10)"
   ]
  },
  {
   "cell_type": "code",
   "execution_count": 105,
   "metadata": {
    "collapsed": false
   },
   "outputs": [
    {
     "data": {
      "text/html": [
       "<div>\n",
       "<table border=\"1\" class=\"dataframe\">\n",
       "  <thead>\n",
       "    <tr style=\"text-align: right;\">\n",
       "      <th></th>\n",
       "      <th>AAPL</th>\n",
       "      <th>GOOG</th>\n",
       "      <th>HOS</th>\n",
       "      <th>SLB</th>\n",
       "    </tr>\n",
       "    <tr>\n",
       "      <th>Date</th>\n",
       "      <th></th>\n",
       "      <th></th>\n",
       "      <th></th>\n",
       "      <th></th>\n",
       "    </tr>\n",
       "  </thead>\n",
       "  <tbody>\n",
       "    <tr>\n",
       "      <th>2012-01-03</th>\n",
       "      <td>NaN</td>\n",
       "      <td>NaN</td>\n",
       "      <td>NaN</td>\n",
       "      <td>NaN</td>\n",
       "    </tr>\n",
       "    <tr>\n",
       "      <th>2012-01-04</th>\n",
       "      <td>NaN</td>\n",
       "      <td>NaN</td>\n",
       "      <td>NaN</td>\n",
       "      <td>NaN</td>\n",
       "    </tr>\n",
       "    <tr>\n",
       "      <th>2012-01-05</th>\n",
       "      <td>NaN</td>\n",
       "      <td>NaN</td>\n",
       "      <td>NaN</td>\n",
       "      <td>NaN</td>\n",
       "    </tr>\n",
       "    <tr>\n",
       "      <th>2012-01-06</th>\n",
       "      <td>NaN</td>\n",
       "      <td>NaN</td>\n",
       "      <td>NaN</td>\n",
       "      <td>NaN</td>\n",
       "    </tr>\n",
       "    <tr>\n",
       "      <th>2012-01-09</th>\n",
       "      <td>NaN</td>\n",
       "      <td>NaN</td>\n",
       "      <td>NaN</td>\n",
       "      <td>NaN</td>\n",
       "    </tr>\n",
       "    <tr>\n",
       "      <th>2012-01-10</th>\n",
       "      <td>NaN</td>\n",
       "      <td>NaN</td>\n",
       "      <td>NaN</td>\n",
       "      <td>NaN</td>\n",
       "    </tr>\n",
       "    <tr>\n",
       "      <th>2012-01-11</th>\n",
       "      <td>NaN</td>\n",
       "      <td>NaN</td>\n",
       "      <td>NaN</td>\n",
       "      <td>NaN</td>\n",
       "    </tr>\n",
       "    <tr>\n",
       "      <th>2012-01-12</th>\n",
       "      <td>NaN</td>\n",
       "      <td>NaN</td>\n",
       "      <td>NaN</td>\n",
       "      <td>NaN</td>\n",
       "    </tr>\n",
       "    <tr>\n",
       "      <th>2012-01-13</th>\n",
       "      <td>NaN</td>\n",
       "      <td>NaN</td>\n",
       "      <td>NaN</td>\n",
       "      <td>NaN</td>\n",
       "    </tr>\n",
       "    <tr>\n",
       "      <th>2012-01-17</th>\n",
       "      <td>59.978</td>\n",
       "      <td>319.556</td>\n",
       "      <td>32.961</td>\n",
       "      <td>69.056</td>\n",
       "    </tr>\n",
       "    <tr>\n",
       "      <th>2012-01-18</th>\n",
       "      <td>60.233</td>\n",
       "      <td>317.933</td>\n",
       "      <td>33.330</td>\n",
       "      <td>69.110</td>\n",
       "    </tr>\n",
       "    <tr>\n",
       "      <th>2012-01-19</th>\n",
       "      <td>60.438</td>\n",
       "      <td>316.499</td>\n",
       "      <td>33.702</td>\n",
       "      <td>69.440</td>\n",
       "    </tr>\n",
       "    <tr>\n",
       "      <th>2012-01-20</th>\n",
       "      <td>60.470</td>\n",
       "      <td>312.851</td>\n",
       "      <td>34.053</td>\n",
       "      <td>70.013</td>\n",
       "    </tr>\n",
       "    <tr>\n",
       "      <th>2012-01-23</th>\n",
       "      <td>60.542</td>\n",
       "      <td>309.630</td>\n",
       "      <td>34.249</td>\n",
       "      <td>70.651</td>\n",
       "    </tr>\n",
       "    <tr>\n",
       "      <th>2012-01-24</th>\n",
       "      <td>60.523</td>\n",
       "      <td>307.555</td>\n",
       "      <td>34.541</td>\n",
       "      <td>71.228</td>\n",
       "    </tr>\n",
       "  </tbody>\n",
       "</table>\n",
       "</div>"
      ],
      "text/plain": [
       "              AAPL     GOOG     HOS     SLB\n",
       "Date                                       \n",
       "2012-01-03     NaN      NaN     NaN     NaN\n",
       "2012-01-04     NaN      NaN     NaN     NaN\n",
       "2012-01-05     NaN      NaN     NaN     NaN\n",
       "2012-01-06     NaN      NaN     NaN     NaN\n",
       "2012-01-09     NaN      NaN     NaN     NaN\n",
       "2012-01-10     NaN      NaN     NaN     NaN\n",
       "2012-01-11     NaN      NaN     NaN     NaN\n",
       "2012-01-12     NaN      NaN     NaN     NaN\n",
       "2012-01-13     NaN      NaN     NaN     NaN\n",
       "2012-01-17  59.978  319.556  32.961  69.056\n",
       "2012-01-18  60.233  317.933  33.330  69.110\n",
       "2012-01-19  60.438  316.499  33.702  69.440\n",
       "2012-01-20  60.470  312.851  34.053  70.013\n",
       "2012-01-23  60.542  309.630  34.249  70.651\n",
       "2012-01-24  60.523  307.555  34.541  71.228"
      ]
     },
     "execution_count": 105,
     "metadata": {},
     "output_type": "execute_result"
    }
   ],
   "source": [
    "# Find the rolling mean of the last 10 observations\n",
    "# The first 9 observations are missing since there wasn't 10 historical points yet\n",
    "r.mean().head(15)"
   ]
  },
  {
   "cell_type": "code",
   "execution_count": 106,
   "metadata": {
    "collapsed": false
   },
   "outputs": [
    {
     "data": {
      "text/plain": [
       "AAPL     59.978\n",
       "GOOG    319.556\n",
       "HOS      32.961\n",
       "SLB      69.056\n",
       "dtype: float64"
      ]
     },
     "execution_count": 106,
     "metadata": {},
     "output_type": "execute_result"
    }
   ],
   "source": [
    "# Manually check for correctness\n",
    "# Its correct! The values match\n",
    "df[:10].mean()"
   ]
  },
  {
   "cell_type": "code",
   "execution_count": 97,
   "metadata": {
    "collapsed": false
   },
   "outputs": [
    {
     "data": {
      "image/png": "[encoded data removed]",
      "text/plain": [
       "<matplotlib.figure.Figure at 0x11a007128>"
      ]
     },
     "metadata": {},
     "output_type": "display_data"
    }
   ],
   "source": [
    "# plot the rolling mean, max, min with a window of 50\n",
    "axs = df.plot(subplots=True, figsize=(16,20));\n",
    "for i, axes in enumerate(axs):\n",
    "    axes.plot(df.iloc[:, i].rolling(50).mean(), color='black', linestyle=\"--\")\n",
    "    axes.plot(df.iloc[:, i].rolling(50).max(), color='blue', linestyle=\"-\")\n",
    "    axes.plot(df.iloc[:, i].rolling(50).min(), color='blue', linestyle=\"-\")"
   ]
  },
  {
   "cell_type": "markdown",
   "metadata": {},
   "source": [
    "# Two other rolling window methods\n",
    "There exist an exponentially weighted moving window, **ewm** and an exapnding moving window, **expanding**. Both of these are Series and DataFrame methods that can be used for a similar analysis as the one above."
   ]
  },
  {
   "cell_type": "markdown",
   "metadata": {},
   "source": [
    "# Quick Summary\n",
    "* Know the difference between a date, time, and datetime\n",
    "* Be able to create dates, times, and datetimes in the datetime standard library\n",
    "* Extract important attributes (hour, minute, year, second) from datetime objects\n",
    "* Use strftime to convert a datetime to a string using directives\n",
    "* Use strptime to convert a string to a datetime also using directives\n",
    "* Use timedelta to add/subtract to a datetime object\n",
    "* Know the difference between datetime and datetime64\n",
    "* Nanosecond vs Microsecond\n",
    "* Create a Timestamp in pandas with pd.Timestamp and pd.to_datetime\n",
    "* Create a date range using periods or frequency\n",
    "* Slice a DatetimeIndex with []\n",
    "* Shift a Series with a DatetimeIndex\n",
    "* Be aware of the date offset aliases like 'W' for week and 'BM' for end of business month\n",
    "* Use time series method .asfreq to sample data at regular intervals\n",
    "* Use resampling to aggregate your data over regular intervals\n",
    "* Use anchored offsets (mainly the days of the week) to specificy a more specific interval\n",
    "* Use pandas_datareader to load financial data\n",
    "* Create rolling objects with the rolling Series and DataFrame method"
   ]
  },
  {
   "cell_type": "markdown",
   "metadata": {},
   "source": [
    "## Problem 1\n",
    "<span  style=\"color:green; font-size:16px\">Create a datetime object with values for both the date and time part and extract the date and time into separate variables. Can you add the date and time objects together to get the same datetime object?</span>"
   ]
  },
  {
   "cell_type": "code",
   "execution_count": 113,
   "metadata": {
    "collapsed": false
   },
   "outputs": [],
   "source": [
    "# your code here"
   ]
  },
  {
   "cell_type": "markdown",
   "metadata": {},
   "source": [
    "## Problem 2\n",
    "<span  style=\"color:green; font-size:16px\">Create a datetime object from today's date and add to it 6 hours 42 minutes and 123456 microseconds</span>"
   ]
  },
  {
   "cell_type": "code",
   "execution_count": 114,
   "metadata": {
    "collapsed": true
   },
   "outputs": [],
   "source": [
    "# your code here"
   ]
  },
  {
   "cell_type": "markdown",
   "metadata": {},
   "source": [
    "## Problem 3\n",
    "<span  style=\"color:green; font-size:16px\">Write a list comprehension that contains 100 elements with each element being the current datetime (of the execution of that list comprehension iteration)</span>"
   ]
  },
  {
   "cell_type": "code",
   "execution_count": null,
   "metadata": {
    "collapsed": true
   },
   "outputs": [],
   "source": [
    "# your code here"
   ]
  },
  {
   "cell_type": "markdown",
   "metadata": {},
   "source": [
    "## Problem 4\n",
    "<span  style=\"color:green; font-size:16px\">Put the list from problem 3 into a Series and then find the average difference between iterations. You may have to google how to find the difference between values in a Series.</span>"
   ]
  },
  {
   "cell_type": "code",
   "execution_count": null,
   "metadata": {
    "collapsed": true
   },
   "outputs": [],
   "source": [
    "# your code here"
   ]
  },
  {
   "cell_type": "markdown",
   "metadata": {},
   "source": [
    "## Problem 5\n",
    "<span  style=\"color:green; font-size:16px\">Use the datetime library to convert \"2016bbb12---15\" into a date</span>"
   ]
  },
  {
   "cell_type": "code",
   "execution_count": 120,
   "metadata": {
    "collapsed": true
   },
   "outputs": [],
   "source": [
    "# your code here\n",
    "convert_me = \"2016bbb12---15\""
   ]
  },
  {
   "cell_type": "markdown",
   "metadata": {},
   "source": [
    "## Problem 6\n",
    "<span  style=\"color:green; font-size:16px\">Convert the date below to \"On Friday July the 8th, 2016 it was very hot. </span>"
   ]
  },
  {
   "cell_type": "code",
   "execution_count": 131,
   "metadata": {
    "collapsed": true
   },
   "outputs": [],
   "source": [
    "# your code here\n",
    "d = datetime.datetime(2016, 7, 8)"
   ]
  },
  {
   "cell_type": "markdown",
   "metadata": {},
   "source": [
    "## Problem 7\n",
    "<span  style=\"color:green; font-size:16px\"> Create a pandas Timestamp out of a datetime object</span>"
   ]
  },
  {
   "cell_type": "code",
   "execution_count": 122,
   "metadata": {
    "collapsed": true
   },
   "outputs": [],
   "source": [
    "# your code here"
   ]
  },
  {
   "cell_type": "markdown",
   "metadata": {},
   "source": [
    "## Problem 8\n",
    "<span  style=\"color:green; font-size:16px\"> Using the datetime library, find out how many days you have been alive. Save this to the variable `days_alive`</span>"
   ]
  },
  {
   "cell_type": "code",
   "execution_count": 130,
   "metadata": {
    "collapsed": true
   },
   "outputs": [],
   "source": [
    "# your code here"
   ]
  },
  {
   "cell_type": "markdown",
   "metadata": {},
   "source": [
    "## Problem 9\n",
    "<span  style=\"color:green; font-size:16px\">It's possible to divide two timedelta objects together. With that information,  use pd.Timedelta to find out how many nanoseconds you have been alive for.</span>"
   ]
  },
  {
   "cell_type": "code",
   "execution_count": 133,
   "metadata": {
    "collapsed": true
   },
   "outputs": [],
   "source": [
    "# your code here"
   ]
  },
  {
   "cell_type": "markdown",
   "metadata": {},
   "source": [
    "## Problem 10\n",
    "<span  style=\"color:green; font-size:16px\">What day of the week was October 12, 1492?</span>"
   ]
  },
  {
   "cell_type": "code",
   "execution_count": 134,
   "metadata": {
    "collapsed": true
   },
   "outputs": [],
   "source": [
    "# your code here"
   ]
  },
  {
   "cell_type": "markdown",
   "metadata": {},
   "source": [
    "## Problem 11\n",
    "<span  style=\"color:green; font-size:16px\">Create a range of dates using pandas that span at least a couple years without using the `start` argument and using a different frequency than `days`. What is the type of object that was created?</span>"
   ]
  },
  {
   "cell_type": "code",
   "execution_count": 136,
   "metadata": {
    "collapsed": true
   },
   "outputs": [],
   "source": [
    "# your code here"
   ]
  },
  {
   "cell_type": "markdown",
   "metadata": {},
   "source": [
    "## Problem 12\n",
    "<span  style=\"color:green; font-size:16px\">Investigate the DatetimeIndex object you created in problem 11. Use the dot notation along with pressing tab to view many of the methods. Explore several methods including the ones that begin with `is_...`</span>"
   ]
  },
  {
   "cell_type": "code",
   "execution_count": null,
   "metadata": {
    "collapsed": true
   },
   "outputs": [],
   "source": [
    "# your code here"
   ]
  },
  {
   "cell_type": "markdown",
   "metadata": {},
   "source": [
    "## Problem 13\n",
    "<span  style=\"color:green; font-size:16px\">Create a series with the above DatetimeIndex as the index. Fill the index with the cumulative sum of an array of random normal numpy variables. Save this series to variable `s`. It will be used for the next several problems.</span>"
   ]
  },
  {
   "cell_type": "code",
   "execution_count": 137,
   "metadata": {
    "collapsed": true
   },
   "outputs": [],
   "source": [
    "# your code here"
   ]
  },
  {
   "cell_type": "markdown",
   "metadata": {},
   "source": [
    "## Problem 14\n",
    "<span  style=\"color:green; font-size:16px\">Slice the series from problem 13 from one date to another by 4</span>"
   ]
  },
  {
   "cell_type": "code",
   "execution_count": 139,
   "metadata": {
    "collapsed": true
   },
   "outputs": [],
   "source": [
    "# your code here"
   ]
  },
  {
   "cell_type": "markdown",
   "metadata": {},
   "source": [
    "## Problem 15\n",
    "<span  style=\"color:green; font-size:16px\">Use the `asfreq` method on the series above to sample using a less frequent date offset. If your offset is currently weeks, take a sample of months or two weeks.</span>"
   ]
  },
  {
   "cell_type": "code",
   "execution_count": 140,
   "metadata": {
    "collapsed": true
   },
   "outputs": [],
   "source": [
    "# your code here"
   ]
  },
  {
   "cell_type": "markdown",
   "metadata": {},
   "source": [
    "## Problem 16\n",
    "<span  style=\"color:green; font-size:16px\">Do the opposite of 16. Use the method `asfreq` to sample a more frequent date offset. Remove the missing values with by utilizing the `pad` argument.</span>"
   ]
  },
  {
   "cell_type": "code",
   "execution_count": 141,
   "metadata": {
    "collapsed": true
   },
   "outputs": [],
   "source": [
    "# your code here"
   ]
  },
  {
   "cell_type": "markdown",
   "metadata": {},
   "source": [
    "## Problem 17\n",
    "<span  style=\"color:green; font-size:16px\">Aggregate your data by using the resample method. Use 5 of your date offsets as the size of your group. Find the median for each group.</span>"
   ]
  },
  {
   "cell_type": "code",
   "execution_count": 142,
   "metadata": {
    "collapsed": true
   },
   "outputs": [],
   "source": [
    "# your code here"
   ]
  },
  {
   "cell_type": "markdown",
   "metadata": {},
   "source": [
    "## Problem 18\n",
    "<span  style=\"color:green; font-size:16px\">Plot the aggregated data along with the original data on the same plot.</span>"
   ]
  },
  {
   "cell_type": "code",
   "execution_count": 144,
   "metadata": {
    "collapsed": true
   },
   "outputs": [],
   "source": [
    "# your code here"
   ]
  },
  {
   "cell_type": "markdown",
   "metadata": {},
   "source": [
    "# Mini-Project: Predicting the Stock Market using Simple Rules\n",
    "In this project we will explore making predictions on the stock market using simple rules. How simple is the rule? What if we had to choose to buy or short some stock every monday and close out our position by selling or buying on Friday based on what happened the week before. If the stock went up the week before we buy on Monday. If it went down the week before we sell.\n",
    "\n",
    "Let's choose a stock and test this theory. After we test this theory, you will come up with your own theory based on a different rule and try and find something that works and then of course implement it in real life."
   ]
  },
  {
   "cell_type": "code",
   "execution_count": 154,
   "metadata": {
    "collapsed": false
   },
   "outputs": [],
   "source": [
    "# first lets get some historical data from McDonalds stock\n",
    "mcd = DataReader('MCD', 'google', start='2012-1-1')['Close']"
   ]
  },
  {
   "cell_type": "code",
   "execution_count": 162,
   "metadata": {
    "collapsed": false
   },
   "outputs": [
    {
     "data": {
      "text/plain": [
       "Date\n",
       "2012-01-03     98.84\n",
       "2012-01-04     99.39\n",
       "2012-01-05     99.83\n",
       "2012-01-06    100.60\n",
       "2012-01-09     99.64\n",
       "2012-01-10     99.70\n",
       "2012-01-11     99.93\n",
       "2012-01-12    100.57\n",
       "2012-01-13    100.35\n",
       "2012-01-17    100.55\n",
       "Name: Close, dtype: float64"
      ]
     },
     "execution_count": 162,
     "metadata": {},
     "output_type": "execute_result"
    }
   ],
   "source": [
    "mcd.head(10)"
   ]
  },
  {
   "cell_type": "code",
   "execution_count": 213,
   "metadata": {
    "collapsed": false
   },
   "outputs": [
    {
     "data": {
      "text/plain": [
       "Date\n",
       "2012-01-06    1.76\n",
       "2012-01-13    0.71\n",
       "2012-01-20    1.19\n",
       "2012-01-27   -2.26\n",
       "2012-02-03    1.32\n",
       "2012-02-10   -0.02\n",
       "2012-02-17    0.34\n",
       "2012-02-24   -0.17\n",
       "2012-03-02   -0.86\n",
       "2012-03-09   -3.10\n",
       "Freq: W-FRI, Name: Close, dtype: float64"
      ]
     },
     "execution_count": 213,
     "metadata": {},
     "output_type": "execute_result"
    }
   ],
   "source": [
    "# take a look at raw gain/loss\n",
    "mcd.resample('W-FRI').agg(lambda x: x[-1] - x[0]).head(10)"
   ]
  },
  {
   "cell_type": "code",
   "execution_count": 214,
   "metadata": {
    "collapsed": false
   },
   "outputs": [
    {
     "data": {
      "text/plain": [
       "Date\n",
       "2012-01-06    1.0\n",
       "2012-01-13    1.0\n",
       "2012-01-20    1.0\n",
       "2012-01-27   -1.0\n",
       "2012-02-03    1.0\n",
       "2012-02-10   -1.0\n",
       "2012-02-17    1.0\n",
       "2012-02-24   -1.0\n",
       "2012-03-02   -1.0\n",
       "2012-03-09   -1.0\n",
       "2012-03-16    1.0\n",
       "2012-03-23   -1.0\n",
       "2012-03-30    1.0\n",
       "2012-04-06    1.0\n",
       "2012-04-13   -1.0\n",
       "Freq: W-FRI, Name: Close, dtype: float64"
      ]
     },
     "execution_count": 214,
     "metadata": {},
     "output_type": "execute_result"
    }
   ],
   "source": [
    "# build a model for the next week\n",
    "model = mcd.resample('W-FRI').agg(lambda x: 1 if x[-1] - x[0] > 0 else -1)\n",
    "model.head(15)"
   ]
  },
  {
   "cell_type": "code",
   "execution_count": 215,
   "metadata": {
    "collapsed": false
   },
   "outputs": [
    {
     "data": {
      "text/plain": [
       "Date\n",
       "2012-01-13    1.0\n",
       "2012-01-20    1.0\n",
       "2012-01-27    1.0\n",
       "2012-02-03   -1.0\n",
       "2012-02-10    1.0\n",
       "2012-02-17   -1.0\n",
       "2012-02-24    1.0\n",
       "2012-03-02   -1.0\n",
       "2012-03-09   -1.0\n",
       "2012-03-16   -1.0\n",
       "2012-03-23    1.0\n",
       "2012-03-30   -1.0\n",
       "2012-04-06    1.0\n",
       "2012-04-13    1.0\n",
       "2012-04-20   -1.0\n",
       "Freq: W-FRI, Name: Close, dtype: float64"
      ]
     },
     "execution_count": 215,
     "metadata": {},
     "output_type": "execute_result"
    }
   ],
   "source": [
    "model1 = model.tshift(1)[:-1]\n",
    "model1.head(15)"
   ]
  },
  {
   "cell_type": "code",
   "execution_count": 216,
   "metadata": {
    "collapsed": false
   },
   "outputs": [
    {
     "data": {
      "text/plain": [
       "Date\n",
       "2012-01-13    0.007075\n",
       "2012-01-20    0.011696\n",
       "2012-01-27   -0.022900\n",
       "2012-02-03    0.013199\n",
       "2012-02-10   -0.000201\n",
       "2012-02-17    0.003400\n",
       "2012-02-24   -0.001695\n",
       "2012-03-02   -0.008643\n",
       "2012-03-09   -0.032012\n",
       "2012-03-16    0.010240\n",
       "2012-03-23   -0.022815\n",
       "2012-03-30    0.011519\n",
       "2012-04-06    0.002636\n",
       "2012-04-13   -0.019697\n",
       "2012-04-20   -0.006671\n",
       "Freq: W-FRI, Name: Close, dtype: float64"
      ]
     },
     "execution_count": 216,
     "metadata": {},
     "output_type": "execute_result"
    }
   ],
   "source": [
    "actual = mcd.resample('W-FRI').agg(lambda x: (x[-1] - x[0]) / x[-1])\n",
    "actual = actual[1:]\n",
    "actual.head(15)"
   ]
  },
  {
   "cell_type": "code",
   "execution_count": 217,
   "metadata": {
    "collapsed": false
   },
   "outputs": [],
   "source": [
    "df = pd.DataFrame({'actual':actual, 'model':model1})"
   ]
  },
  {
   "cell_type": "code",
   "execution_count": 218,
   "metadata": {
    "collapsed": false
   },
   "outputs": [
    {
     "data": {
      "text/html": [
       "<div>\n",
       "<table border=\"1\" class=\"dataframe\">\n",
       "  <thead>\n",
       "    <tr style=\"text-align: right;\">\n",
       "      <th></th>\n",
       "      <th>actual</th>\n",
       "      <th>model</th>\n",
       "    </tr>\n",
       "    <tr>\n",
       "      <th>Date</th>\n",
       "      <th></th>\n",
       "      <th></th>\n",
       "    </tr>\n",
       "  </thead>\n",
       "  <tbody>\n",
       "    <tr>\n",
       "      <th>2012-01-13</th>\n",
       "      <td>0.007075</td>\n",
       "      <td>1.0</td>\n",
       "    </tr>\n",
       "    <tr>\n",
       "      <th>2012-01-20</th>\n",
       "      <td>0.011696</td>\n",
       "      <td>1.0</td>\n",
       "    </tr>\n",
       "    <tr>\n",
       "      <th>2012-01-27</th>\n",
       "      <td>-0.022900</td>\n",
       "      <td>1.0</td>\n",
       "    </tr>\n",
       "    <tr>\n",
       "      <th>2012-02-03</th>\n",
       "      <td>0.013199</td>\n",
       "      <td>-1.0</td>\n",
       "    </tr>\n",
       "    <tr>\n",
       "      <th>2012-02-10</th>\n",
       "      <td>-0.000201</td>\n",
       "      <td>1.0</td>\n",
       "    </tr>\n",
       "  </tbody>\n",
       "</table>\n",
       "</div>"
      ],
      "text/plain": [
       "              actual  model\n",
       "Date                       \n",
       "2012-01-13  0.007075    1.0\n",
       "2012-01-20  0.011696    1.0\n",
       "2012-01-27 -0.022900    1.0\n",
       "2012-02-03  0.013199   -1.0\n",
       "2012-02-10 -0.000201    1.0"
      ]
     },
     "execution_count": 218,
     "metadata": {},
     "output_type": "execute_result"
    }
   ],
   "source": [
    "df.head()"
   ]
  },
  {
   "cell_type": "code",
   "execution_count": 219,
   "metadata": {
    "collapsed": false
   },
   "outputs": [],
   "source": [
    "# calculate differently for short sales\n",
    "true_gain_pct = df.apply(lambda x: 1 + x['actual'] if x['model'] == 1 else 1 / (1 + x['actual']), axis=1)"
   ]
  },
  {
   "cell_type": "code",
   "execution_count": 221,
   "metadata": {
    "collapsed": false
   },
   "outputs": [
    {
     "data": {
      "text/plain": [
       "Date\n",
       "2016-06-17    0.795235\n",
       "2016-06-24    0.822647\n",
       "2016-07-01    0.795556\n",
       "2016-07-08    0.799163\n",
       "2016-07-15    0.809572\n",
       "Freq: W-FRI, dtype: float64"
      ]
     },
     "execution_count": 221,
     "metadata": {},
     "output_type": "execute_result"
    }
   ],
   "source": [
    "# 20% loss!\n",
    "true_gain_pct.cumprod().tail()"
   ]
  },
  {
   "cell_type": "code",
   "execution_count": 222,
   "metadata": {
    "collapsed": true
   },
   "outputs": [],
   "source": [
    "# make a function to do it all at once\n",
    "def one_week_predict(stock):\n",
    "    stock_close = DataReader(stock, 'google', start='2012-1-1')['Close']\n",
    "    model = stock_close.resample('W-FRI').agg(lambda x: 1 if x[-1] - x[0] > 0 else -1)\n",
    "    model = model.tshift(1)[:-1]\n",
    "    actual = stock_close.resample('W-FRI').agg(lambda x: (x[-1] - x[0]) / x[-1])\n",
    "    actual = actual[1:]\n",
    "    df = pd.DataFrame({'actual':actual, 'model':model})\n",
    "    true_gain_pct = df.apply(lambda x: 1 + x['actual'] if x['model'] == 1 else 1 / (1 + x['actual']), axis=1)\n",
    "    return true_gain_pct"
   ]
  },
  {
   "cell_type": "code",
   "execution_count": 223,
   "metadata": {
    "collapsed": true
   },
   "outputs": [],
   "source": [
    "tgp = one_week_predict('csco')"
   ]
  },
  {
   "cell_type": "code",
   "execution_count": 226,
   "metadata": {
    "collapsed": false
   },
   "outputs": [
    {
     "data": {
      "text/plain": [
       "Date\n",
       "2016-06-17    1.192294\n",
       "2016-06-24    1.147180\n",
       "2016-07-01    1.090749\n",
       "2016-07-08    1.125417\n",
       "2016-07-15    1.140136\n",
       "Freq: W-FRI, dtype: float64"
      ]
     },
     "execution_count": 226,
     "metadata": {},
     "output_type": "execute_result"
    }
   ],
   "source": [
    "tgp.cumprod().tail()"
   ]
  },
  {
   "cell_type": "markdown",
   "metadata": {},
   "source": [
    "# Your turn\n",
    "Create your own model with either resample or rolling to make a prediction of what will happen the next week"
   ]
  },
  {
   "cell_type": "code",
   "execution_count": null,
   "metadata": {
    "collapsed": true
   },
   "outputs": [],
   "source": []
  }
 ],
 "metadata": {
  "anaconda-cloud": {},
  "kernelspec": {
   "display_name": "Python [conda env:py35]",
   "language": "python",
   "name": "conda-env-py35-py"
  },
  "language_info": {
   "codemirror_mode": {
    "name": "ipython",
    "version": 3
   },
   "file_extension": ".py",
   "mimetype": "text/x-python",
   "name": "python",
   "nbconvert_exporter": "python",
   "pygments_lexer": "ipython3",
   "version": "3.5.2"
  }
 },
 "nbformat": 4,
 "nbformat_minor": 0
}
