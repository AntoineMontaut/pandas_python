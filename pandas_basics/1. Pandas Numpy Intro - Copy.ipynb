{
 "cells": [
  {
   "cell_type": "markdown",
   "metadata": {},
   "source": [
    "# Pandas and Numpy Intro"
   ]
  },
  {
   "cell_type": "code",
   "execution_count": 87,
   "metadata": {
    "collapsed": false
   },
   "outputs": [],
   "source": [
    "import numpy as np\n",
    "import pandas as pd\n",
    "\n",
    "def print_ops(string):\n",
    "    '''Splits the string on spaces to get operations\n",
    "       Tries to run each operation and print the operation and its result\n",
    "       If error: print operation and the type of error encoutered\n",
    "       String example: 's s[1::3] s[10] s[-1]' '''\n",
    "    for op in string.split():\n",
    "        try:\n",
    "            print(op + ':', eval(op), sep='\\n', end='\\n\\n')\n",
    "        except Exception as e:\n",
    "            print(op + ': ' + str(type(e)), end='\\n\\n')"
   ]
  },
  {
   "cell_type": "markdown",
   "metadata": {},
   "source": [
    "### List vs. array execution speed example"
   ]
  },
  {
   "cell_type": "code",
   "execution_count": 2,
   "metadata": {
    "collapsed": false
   },
   "outputs": [],
   "source": [
    "n = int(1e+6)\n",
    "lst = list(range(n))\n",
    "array = np.arange(n)"
   ]
  },
  {
   "cell_type": "markdown",
   "metadata": {},
   "source": [
    "\"Magic commands\":\n",
    "    - % to time a single line\n",
    "    - %% to time an entire cell"
   ]
  },
  {
   "cell_type": "code",
   "execution_count": 3,
   "metadata": {
    "collapsed": false
   },
   "outputs": [
    {
     "name": "stdout",
     "output_type": "stream",
     "text": [
      "10 loops, best of 3: 28.7 ms per loop\n"
     ]
    }
   ],
   "source": [
    "t_list = %timeit -o sum_list = sum(lst)"
   ]
  },
  {
   "cell_type": "code",
   "execution_count": 4,
   "metadata": {
    "collapsed": false
   },
   "outputs": [
    {
     "name": "stdout",
     "output_type": "stream",
     "text": [
      "1000 loops, best of 3: 432 µs per loop\n"
     ]
    }
   ],
   "source": [
    "t_array = %timeit -o sum_array = np.sum(array)"
   ]
  },
  {
   "cell_type": "code",
   "execution_count": 5,
   "metadata": {
    "collapsed": false
   },
   "outputs": [
    {
     "name": "stdout",
     "output_type": "stream",
     "text": [
      "Sum on the array is ~66 times faster than on the list\n"
     ]
    }
   ],
   "source": [
    "print('Sum on the array is ~{} times faster than on the list'.format(int(t_list.best / t_array.best)))"
   ]
  },
  {
   "cell_type": "code",
   "execution_count": 6,
   "metadata": {
    "collapsed": false
   },
   "outputs": [
    {
     "data": {
      "application/json": {
       "cell": {
        "!": "OSMagics",
        "HTML": "Other",
        "SVG": "Other",
        "bash": "Other",
        "capture": "ExecutionMagics",
        "cmd": "Other",
        "debug": "ExecutionMagics",
        "file": "Other",
        "html": "DisplayMagics",
        "javascript": "DisplayMagics",
        "js": "DisplayMagics",
        "latex": "DisplayMagics",
        "perl": "Other",
        "prun": "ExecutionMagics",
        "pypy": "Other",
        "python": "Other",
        "python2": "Other",
        "python3": "Other",
        "ruby": "Other",
        "script": "ScriptMagics",
        "sh": "Other",
        "svg": "DisplayMagics",
        "sx": "OSMagics",
        "system": "OSMagics",
        "time": "ExecutionMagics",
        "timeit": "ExecutionMagics",
        "writefile": "OSMagics"
       },
       "line": {
        "alias": "OSMagics",
        "alias_magic": "BasicMagics",
        "autocall": "AutoMagics",
        "automagic": "AutoMagics",
        "autosave": "KernelMagics",
        "bookmark": "OSMagics",
        "cd": "OSMagics",
        "clear": "KernelMagics",
        "cls": "KernelMagics",
        "colors": "BasicMagics",
        "config": "ConfigMagics",
        "connect_info": "KernelMagics",
        "copy": "Other",
        "ddir": "Other",
        "debug": "ExecutionMagics",
        "dhist": "OSMagics",
        "dirs": "OSMagics",
        "doctest_mode": "BasicMagics",
        "echo": "Other",
        "ed": "Other",
        "edit": "KernelMagics",
        "env": "OSMagics",
        "gui": "BasicMagics",
        "hist": "Other",
        "history": "HistoryMagics",
        "killbgscripts": "ScriptMagics",
        "ldir": "Other",
        "less": "KernelMagics",
        "load": "CodeMagics",
        "load_ext": "ExtensionMagics",
        "loadpy": "CodeMagics",
        "logoff": "LoggingMagics",
        "logon": "LoggingMagics",
        "logstart": "LoggingMagics",
        "logstate": "LoggingMagics",
        "logstop": "LoggingMagics",
        "ls": "Other",
        "lsmagic": "BasicMagics",
        "macro": "ExecutionMagics",
        "magic": "BasicMagics",
        "matplotlib": "PylabMagics",
        "mkdir": "Other",
        "more": "KernelMagics",
        "notebook": "BasicMagics",
        "page": "BasicMagics",
        "pastebin": "CodeMagics",
        "pdb": "ExecutionMagics",
        "pdef": "NamespaceMagics",
        "pdoc": "NamespaceMagics",
        "pfile": "NamespaceMagics",
        "pinfo": "NamespaceMagics",
        "pinfo2": "NamespaceMagics",
        "popd": "OSMagics",
        "pprint": "BasicMagics",
        "precision": "BasicMagics",
        "profile": "BasicMagics",
        "prun": "ExecutionMagics",
        "psearch": "NamespaceMagics",
        "psource": "NamespaceMagics",
        "pushd": "OSMagics",
        "pwd": "OSMagics",
        "pycat": "OSMagics",
        "pylab": "PylabMagics",
        "qtconsole": "KernelMagics",
        "quickref": "BasicMagics",
        "recall": "HistoryMagics",
        "rehashx": "OSMagics",
        "reload_ext": "ExtensionMagics",
        "ren": "Other",
        "rep": "Other",
        "rerun": "HistoryMagics",
        "reset": "NamespaceMagics",
        "reset_selective": "NamespaceMagics",
        "rmdir": "Other",
        "run": "ExecutionMagics",
        "save": "CodeMagics",
        "sc": "OSMagics",
        "set_env": "OSMagics",
        "store": "StoreMagics",
        "sx": "OSMagics",
        "system": "OSMagics",
        "tb": "ExecutionMagics",
        "time": "ExecutionMagics",
        "timeit": "ExecutionMagics",
        "unalias": "OSMagics",
        "unload_ext": "ExtensionMagics",
        "who": "NamespaceMagics",
        "who_ls": "NamespaceMagics",
        "whos": "NamespaceMagics",
        "xdel": "NamespaceMagics",
        "xmode": "BasicMagics"
       }
      },
      "text/plain": [
       "Available line magics:\n",
       "%alias  %alias_magic  %autocall  %automagic  %autosave  %bookmark  %cd  %clear  %cls  %colors  %config  %connect_info  %copy  %ddir  %debug  %dhist  %dirs  %doctest_mode  %echo  %ed  %edit  %env  %gui  %hist  %history  %killbgscripts  %ldir  %less  %load  %load_ext  %loadpy  %logoff  %logon  %logstart  %logstate  %logstop  %ls  %lsmagic  %macro  %magic  %matplotlib  %mkdir  %more  %notebook  %page  %pastebin  %pdb  %pdef  %pdoc  %pfile  %pinfo  %pinfo2  %popd  %pprint  %precision  %profile  %prun  %psearch  %psource  %pushd  %pwd  %pycat  %pylab  %qtconsole  %quickref  %recall  %rehashx  %reload_ext  %ren  %rep  %rerun  %reset  %reset_selective  %rmdir  %run  %save  %sc  %set_env  %store  %sx  %system  %tb  %time  %timeit  %unalias  %unload_ext  %who  %who_ls  %whos  %xdel  %xmode\n",
       "\n",
       "Available cell magics:\n",
       "%%!  %%HTML  %%SVG  %%bash  %%capture  %%cmd  %%debug  %%file  %%html  %%javascript  %%js  %%latex  %%perl  %%prun  %%pypy  %%python  %%python2  %%python3  %%ruby  %%script  %%sh  %%svg  %%sx  %%system  %%time  %%timeit  %%writefile\n",
       "\n",
       "Automagic is ON, % prefix IS NOT needed for line magics."
      ]
     },
     "execution_count": 6,
     "metadata": {},
     "output_type": "execute_result"
    }
   ],
   "source": [
    "%lsmagic"
   ]
  },
  {
   "cell_type": "code",
   "execution_count": 7,
   "metadata": {
    "collapsed": false
   },
   "outputs": [
    {
     "name": "stdout",
     "output_type": "stream",
     "text": [
      "Series s:\n",
      "0     1\n",
      "1     3\n",
      "2     3\n",
      "3    77\n",
      "dtype: int64\n",
      "\n",
      "s.value_counts():\n",
      "3     2\n",
      "77    1\n",
      "1     1\n",
      "dtype: int64\n",
      "\n",
      "type(s_index):  <class 'pandas.indexes.range.RangeIndex'>\n",
      "\n",
      "type(s_values):  <class 'numpy.ndarray'>\n",
      "s_index.values:  [0 1 2 3]\n",
      "s.index.values:  [0 1 2 3]\n",
      "type(s.index.values):  <class 'numpy.ndarray'>\n",
      "s_values:  [ 1  3  3 77]\n"
     ]
    }
   ],
   "source": [
    "s = pd.Series([1, 3, 3, 77])\n",
    "print('Series s:', s, sep='\\n')\n",
    "print('\\ns.value_counts():', s.value_counts(), sep='\\n')\n",
    "# see help:\n",
    "# s.value_counts?\n",
    "# see source code:\n",
    "# s.value_counts??\n",
    "s_index = s.index\n",
    "s_values = s.values\n",
    "print('\\ntype(s_index): ', type(s_index))\n",
    "print('\\ntype(s_values): ', type(s_values))\n",
    "print('s_index.values: ', s_index.values)\n",
    "print('s.index.values: ', s.index.values)\n",
    "print('type(s.index.values): ', type(s.index.values))\n",
    "print('s_values: ', s_values)"
   ]
  },
  {
   "cell_type": "markdown",
   "metadata": {},
   "source": [
    "### Problem 1\n",
    "<span style=\"color:green\">What type of object is returned from the values of the index of a Series?</span>"
   ]
  },
  {
   "cell_type": "code",
   "execution_count": 8,
   "metadata": {
    "collapsed": false
   },
   "outputs": [
    {
     "name": "stdout",
     "output_type": "stream",
     "text": [
      "type(s.index.values):  <class 'numpy.ndarray'>\n"
     ]
    }
   ],
   "source": [
    "print('type(s.index.values): ', type(s.index.values))"
   ]
  },
  {
   "cell_type": "markdown",
   "metadata": {},
   "source": [
    "### Series with a given index"
   ]
  },
  {
   "cell_type": "code",
   "execution_count": 9,
   "metadata": {
    "collapsed": false
   },
   "outputs": [
    {
     "name": "stdout",
     "output_type": "stream",
     "text": [
      "a     1\n",
      "b     3\n",
      "c     3\n",
      "d    77\n",
      "dtype: int64 \n",
      "\n",
      "{a, b}                             1\n",
      "(b, c)                             3\n",
      "(0, 1, 2, 3, 4, 5, 6, 7, 8, 9)     3\n",
      "d                                 77\n",
      "dtype: int64\n",
      "Index([{'a', 'b'}, ('b', 'c'), (0, 1, 2, 3, 4, 5, 6, 7, 8, 9), 'd'], dtype='object')\n"
     ]
    }
   ],
   "source": [
    "s = pd.Series(data = [1, 3, 3, 77], index = ['a', 'b', 'c', 'd'])\n",
    "print(s, '\\n')\n",
    "s2 = pd.Series(data = [1, 3, 3, 77], index = [{'a', 'b'}, ('b', 'c'), range(10), 'd'])\n",
    "print(s2)\n",
    "print(s2.index)"
   ]
  },
  {
   "cell_type": "markdown",
   "metadata": {},
   "source": [
    "### Simple mathematical operations on Series\n",
    "Thanks to vectorization, no need to loop through the values in a Series or Array object."
   ]
  },
  {
   "cell_type": "code",
   "execution_count": 10,
   "metadata": {
    "collapsed": false
   },
   "outputs": [
    {
     "name": "stdout",
     "output_type": "stream",
     "text": [
      "a     1\n",
      "b     3\n",
      "c     3\n",
      "d    77\n",
      "dtype: int64 \n",
      "\n",
      "a     0.2\n",
      "b     0.6\n",
      "c     0.6\n",
      "d    15.4\n",
      "dtype: float64 \n",
      "\n",
      "a      29\n",
      "b      37\n",
      "c      37\n",
      "d    5957\n",
      "dtype: int64\n"
     ]
    }
   ],
   "source": [
    "print(s, '\\n')\n",
    "print(s / 5, '\\n')\n",
    "print(s**2 - 12 + 40)"
   ]
  },
  {
   "cell_type": "markdown",
   "metadata": {},
   "source": [
    "### Aggregations"
   ]
  },
  {
   "cell_type": "code",
   "execution_count": 11,
   "metadata": {
    "collapsed": false
   },
   "outputs": [
    {
     "name": "stdout",
     "output_type": "stream",
     "text": [
      "Mean: 21.0\n",
      "Median: 3.0\n",
      "Mode: 3\n",
      "Standard deviation: 37.345236197762446\n",
      "Min: 1\n",
      "Max: 77\n"
     ]
    }
   ],
   "source": [
    "print('Mean: {}\\nMedian: {}\\nMode: {}\\nStandard deviation: {}\\nMin: {}\\nMax: {}'.format(\n",
    "    s.mean(), s.median(), s.mode().values[0], s.std(), s.min(), s.max()))"
   ]
  },
  {
   "cell_type": "markdown",
   "metadata": {},
   "source": [
    "### Operations on the entire data set"
   ]
  },
  {
   "cell_type": "code",
   "execution_count": 12,
   "metadata": {
    "collapsed": false
   },
   "outputs": [
    {
     "name": "stdout",
     "output_type": "stream",
     "text": [
      "a     1\n",
      "b     4\n",
      "c     7\n",
      "d    84\n",
      "dtype: int64\n",
      "\n",
      "a      1\n",
      "b      3\n",
      "c      9\n",
      "d    693\n",
      "dtype: int64\n"
     ]
    }
   ],
   "source": [
    "print(s.cumsum(), s.cumprod(), sep='\\n\\n')"
   ]
  },
  {
   "cell_type": "markdown",
   "metadata": {},
   "source": [
    "### Head and tail"
   ]
  },
  {
   "cell_type": "code",
   "execution_count": 13,
   "metadata": {
    "collapsed": false
   },
   "outputs": [
    {
     "name": "stdout",
     "output_type": "stream",
     "text": [
      "0    0\n",
      "1    1\n",
      "dtype: int32\n",
      "\n",
      "0    0\n",
      "1    1\n",
      "2    2\n",
      "3    3\n",
      "4    4\n",
      "dtype: int32\n",
      "\n",
      "495    495\n",
      "496    496\n",
      "497    497\n",
      "498    498\n",
      "499    499\n",
      "dtype: int32\n",
      "\n",
      "498    498\n",
      "499    499\n",
      "dtype: int32\n"
     ]
    }
   ],
   "source": [
    "s = pd.Series(np.arange(500))\n",
    "print(s.head(2), s.head(), s.tail(), s.tail(2), sep='\\n\\n')"
   ]
  },
  {
   "cell_type": "markdown",
   "metadata": {},
   "source": [
    "### Access individual elements"
   ]
  },
  {
   "cell_type": "code",
   "execution_count": 22,
   "metadata": {
    "collapsed": false
   },
   "outputs": [
    {
     "name": "stdout",
     "output_type": "stream",
     "text": [
      "s:\n",
      "a      1\n",
      "b      3\n",
      "c      3\n",
      "d     77\n",
      "e    100\n",
      "f     -9\n",
      "dtype: int64\n",
      "\n",
      "s[0]:\n",
      "1\n",
      "\n",
      "s[-1]:\n",
      "-9\n",
      "\n",
      "s[[0,3,5]]:\n",
      "a     1\n",
      "d    77\n",
      "f    -9\n",
      "dtype: int64\n",
      "\n",
      "s[3:]:\n",
      "d     77\n",
      "e    100\n",
      "f     -9\n",
      "dtype: int64\n",
      "\n",
      "s[2:6:2]:\n",
      "c      3\n",
      "e    100\n",
      "dtype: int64\n",
      "\n"
     ]
    }
   ],
   "source": [
    "s = pd.Series(data=[1,3,3,77, 100, -9], index=['a', 'b', 'c', 'd', 'e', 'f'])\n",
    "for op in 's s[0] s[-1] s[[0,3,5]] s[3:] s[2:6:2]'.split(' '):\n",
    "    print(op + ':', eval(op), sep='\\n', end='\\n\\n')\n",
    "\n",
    "# print(s, s[0], s[-1], s[[0, 3, 5]], s[3:], s[2:6:2], sep='\\n\\n')"
   ]
  },
  {
   "cell_type": "markdown",
   "metadata": {},
   "source": [
    "### WARNING: indexes that don't start with 0 can be confusing"
   ]
  },
  {
   "cell_type": "code",
   "execution_count": 44,
   "metadata": {
    "collapsed": false
   },
   "outputs": [
    {
     "name": "stdout",
     "output_type": "stream",
     "text": [
      "s:\n",
      "2      1\n",
      "3      3\n",
      "4      3\n",
      "5     77\n",
      "6    100\n",
      "7     -9\n",
      "dtype: int64\n",
      "\n",
      "s[0]: <class 'KeyError'>\n",
      "\n",
      "s[2]:\n",
      "1\n",
      "\n",
      "s[7]:\n",
      "-9\n",
      "\n",
      "s[-1]: <class 'KeyError'>\n",
      "\n",
      "s[2:8:2]:\n",
      "4      3\n",
      "6    100\n",
      "dtype: int64\n",
      "\n"
     ]
    }
   ],
   "source": [
    "s = pd.Series(data=[1,3,3,77, 100, -9], index=range(2, 8))\n",
    "for op in 's s[0] s[2] s[7] s[-1] s[2:8:2]'.split():\n",
    "    try:\n",
    "        print(op + ':', eval(op), sep='\\n', end='\\n\\n')\n",
    "    except Exception as e:\n",
    "        print(op + ': ' + str(type(e)), end='\\n\\n')"
   ]
  },
  {
   "cell_type": "code",
   "execution_count": 71,
   "metadata": {
    "collapsed": false
   },
   "outputs": [
    {
     "name": "stdout",
     "output_type": "stream",
     "text": [
      "s:\n",
      "0    0\n",
      "1    1\n",
      "2    2\n",
      "3    3\n",
      "4    4\n",
      "5    5\n",
      "6    6\n",
      "7    7\n",
      "8    8\n",
      "9    9\n",
      "dtype: int32\n",
      "\n",
      "s[1::3]:\n",
      "1    1\n",
      "4    4\n",
      "7    7\n",
      "dtype: int32\n",
      "\n",
      "s[10]: <class 'KeyError'>\n",
      "\n",
      "s[-1]: <class 'KeyError'>\n",
      "\n",
      "s:\n",
      "1     0\n",
      "2     1\n",
      "3     2\n",
      "4     3\n",
      "5     4\n",
      "6     5\n",
      "7     6\n",
      "8     7\n",
      "9     8\n",
      "10    9\n",
      "dtype: int32\n",
      "\n",
      "s[1::3]:\n",
      "2    1\n",
      "5    4\n",
      "8    7\n",
      "dtype: int32\n",
      "\n",
      "s[10]:\n",
      "9\n",
      "\n",
      "s[-1]: <class 'KeyError'>\n",
      "\n"
     ]
    }
   ],
   "source": [
    "s1 = pd.Series(data=range(10), index=range(10))\n",
    "s2 = pd.Series(data=range(10), index=range(1, 11))\n",
    "for s in [s1, s2]:\n",
    "    for op in 's s[1::3] s[10] s[-1]'.split():\n",
    "        try:\n",
    "            print(op + ':', eval(op), sep='\\n', end='\\n\\n')\n",
    "        except Exception as e:\n",
    "            print(op + ': ' + str(type(e)), end='\\n\\n')"
   ]
  },
  {
   "cell_type": "markdown",
   "metadata": {},
   "source": [
    "# Integer Location vs Label Location\n",
    "### Integer location"
   ]
  },
  {
   "cell_type": "code",
   "execution_count": 65,
   "metadata": {
    "collapsed": false
   },
   "outputs": [
    {
     "name": "stdout",
     "output_type": "stream",
     "text": [
      "s:\n",
      "a      1\n",
      "b      3\n",
      "c      3\n",
      "d     77\n",
      "e    100\n",
      "f     -9\n",
      "dtype: int64\n",
      "\n",
      "s.iloc[0]:\n",
      "1\n",
      "\n",
      "s.iloc[4]:\n",
      "100\n",
      "\n",
      "s.iloc[[1,3,5]]:\n",
      "b     3\n",
      "d    77\n",
      "f    -9\n",
      "dtype: int64\n",
      "\n",
      "s.iloc[9]: <class 'IndexError'>\n",
      "\n"
     ]
    }
   ],
   "source": [
    "s = pd.Series(data=[1,3,3,77, 100, -9], index=['a', 'b', 'c', 'd', 'e', 'f'])\n",
    "for op in 's s.iloc[0] s.iloc[4] s.iloc[[1,3,5]] s.iloc[9]'.split(' '):\n",
    "    try:\n",
    "        print(op + ':', eval(op), sep='\\n', end='\\n\\n')\n",
    "    except Exception as e:\n",
    "        print(op + ': ' + str(type(e)) + '\\n')"
   ]
  },
  {
   "cell_type": "markdown",
   "metadata": {},
   "source": [
    "### Label location"
   ]
  },
  {
   "cell_type": "code",
   "execution_count": 88,
   "metadata": {
    "collapsed": false
   },
   "outputs": [
    {
     "name": "stdout",
     "output_type": "stream",
     "text": [
      "s:\n",
      "1     0\n",
      "2     1\n",
      "3     2\n",
      "4     3\n",
      "5     4\n",
      "6     5\n",
      "7     6\n",
      "8     7\n",
      "9     8\n",
      "10    9\n",
      "dtype: int32\n",
      "\n",
      "s.loc[0]: <class 'KeyError'>\n",
      "\n",
      "s.loc['a']: <class 'KeyError'>\n",
      "\n",
      "s.loc[[1,3,5]]:\n",
      "1    0\n",
      "3    2\n",
      "5    4\n",
      "dtype: int32\n",
      "\n",
      "s.loc[['d','f']]: <class 'KeyError'>\n",
      "\n",
      "s.loc['b'::2]:\n",
      "Series([], dtype: int32)\n",
      "\n"
     ]
    }
   ],
   "source": [
    "print_ops(\"s s.loc[0] s.loc['a'] s.loc[[1,3,5]] s.loc[['d','f']] s.loc['b'::2]\")\n",
    "\n",
    "# for op in \"s s.loc[0] s.loc['a'] s.loc[[1,3,5]] s.loc[['d','f']] s.loc['b'::2]\".split(' '):\n",
    "#     try:\n",
    "#         print(op + ':', eval(op), sep='\\n', end='\\n\\n')\n",
    "#     except Exception as e:\n",
    "#         print(op + ': ' + str(type(e)) + '\\n')"
   ]
  },
  {
   "cell_type": "markdown",
   "metadata": {},
   "source": [
    "### Adding series with different indexes\n",
    "The indexes align first and then the values are summed"
   ]
  },
  {
   "cell_type": "code",
   "execution_count": 86,
   "metadata": {
    "collapsed": false
   },
   "outputs": [
    {
     "name": "stdout",
     "output_type": "stream",
     "text": [
      "s1 + s2:\n",
      "0      NaN\n",
      "1      1.0\n",
      "2      3.0\n",
      "3      5.0\n",
      "4      7.0\n",
      "5      9.0\n",
      "6     11.0\n",
      "7     13.0\n",
      "8     15.0\n",
      "9     17.0\n",
      "10     NaN\n",
      "dtype: float64\n",
      "\n",
      "s1.iloc[:] + s2.iloc[:]\n",
      "0      NaN\n",
      "1      1.0\n",
      "2      3.0\n",
      "3      5.0\n",
      "4      7.0\n",
      "5      9.0\n",
      "6     11.0\n",
      "7     13.0\n",
      "8     15.0\n",
      "9     17.0\n",
      "10     NaN\n",
      "dtype: float64\n",
      "\n",
      "Visualize s1 + s2 in a DataFrame:\n",
      "     s1   s2   sum\n",
      "0   NaN  0.0   NaN\n",
      "1   0.0  1.0   1.0\n",
      "2   1.0  2.0   3.0\n",
      "3   2.0  3.0   5.0\n",
      "4   3.0  4.0   7.0\n",
      "5   4.0  5.0   9.0\n",
      "6   5.0  6.0  11.0\n",
      "7   6.0  7.0  13.0\n",
      "8   7.0  8.0  15.0\n",
      "9   8.0  9.0  17.0\n",
      "10  9.0  NaN   NaN\n",
      "\n",
      "pd.Series(s1.values + s2.values, index=s1.index)\n",
      "1      0\n",
      "2      2\n",
      "3      4\n",
      "4      6\n",
      "5      8\n",
      "6     10\n",
      "7     12\n",
      "8     14\n",
      "9     16\n",
      "10    18\n",
      "dtype: int32\n",
      "\n",
      "pd.Series(s1.values + s2.values, index=s2.index)\n",
      "0     0\n",
      "1     2\n",
      "2     4\n",
      "3     6\n",
      "4     8\n",
      "5    10\n",
      "6    12\n",
      "7    14\n",
      "8    16\n",
      "9    18\n",
      "dtype: int32\n",
      "\n",
      "pd.Series(s1.values + s2.values)\n",
      "0     0\n",
      "1     2\n",
      "2     4\n",
      "3     6\n",
      "4     8\n",
      "5    10\n",
      "6    12\n",
      "7    14\n",
      "8    16\n",
      "9    18\n",
      "dtype: int32\n",
      "\n"
     ]
    }
   ],
   "source": [
    "s1 = pd.Series(data=range(10), index=range(1, 11))\n",
    "s2 = pd.Series(data=range(10), index=range(10))\n",
    "print('s1 + s2:', s1 + s2, sep='\\n', end='\\n\\n')\n",
    "print('s1.iloc[:] + s2.iloc[:]', s1.loc[:] + s2.loc[:], sep='\\n', end='\\n\\n')\n",
    "df = s1.to_frame(name='s1').join(s2.to_frame(name='s2'), how='outer')\n",
    "df['sum'] = df['s1'] + df['s2']\n",
    "print('Visualize s1 + s2 in a DataFrame:', df, sep='\\n', end='\\n\\n')\n",
    "\n",
    "print('pd.Series(s1.values + s2.values, index=s1.index)', \n",
    "       pd.Series(s1.values + s2.values, index=s1.index), sep='\\n', end='\\n\\n')\n",
    "print('pd.Series(s1.values + s2.values, index=s2.index)', \n",
    "       pd.Series(s1.values + s2.values, index=s2.index), sep='\\n', end='\\n\\n')\n",
    "print('pd.Series(s1.values + s2.values)', \n",
    "       pd.Series(s1.values + s2.values), sep='\\n', end='\\n\\n')"
   ]
  }
 ],
 "metadata": {
  "anaconda-cloud": {},
  "kernelspec": {
   "display_name": "Python [conda env:py35]",
   "language": "python",
   "name": "conda-env-py35-py"
  },
  "language_info": {
   "codemirror_mode": {
    "name": "ipython",
    "version": 3
   },
   "file_extension": ".py",
   "mimetype": "text/x-python",
   "name": "python",
   "nbconvert_exporter": "python",
   "pygments_lexer": "ipython3",
   "version": "3.5.2"
  }
 },
 "nbformat": 4,
 "nbformat_minor": 1
}
