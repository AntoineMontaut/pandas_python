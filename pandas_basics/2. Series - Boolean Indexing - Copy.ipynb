{
 "cells": [
  {
   "cell_type": "markdown",
   "metadata": {},
   "source": [
    "# Boolean Indexing"
   ]
  },
  {
   "cell_type": "code",
   "execution_count": 3,
   "metadata": {
    "collapsed": true
   },
   "outputs": [],
   "source": [
    "import numpy as np\n",
    "import pandas as pd\n",
    "\n",
    "def print_ops(string):\n",
    "    '''Splits the string on spaces to get operations\n",
    "       Tries to run each operation and print the operation and its result\n",
    "       If error: print operation and the type of error encoutered\n",
    "       String example: 's s[1::3] s[10] s[-1]' '''\n",
    "    for op in string.split():\n",
    "        try:\n",
    "            print(op + ':', eval(op), sep='\\n', end='\\n\\n')\n",
    "        except Exception as e:\n",
    "            print(op + ': ' + str(type(e)), end='\\n\\n')"
   ]
  },
  {
   "cell_type": "markdown",
   "metadata": {},
   "source": [
    "It is recommended to use .loc or .iloc to access elements of a series but boolean indexing is an exception and True/False can be placed directly inside []"
   ]
  },
  {
   "cell_type": "code",
   "execution_count": 4,
   "metadata": {
    "collapsed": false
   },
   "outputs": [
    {
     "name": "stdout",
     "output_type": "stream",
     "text": [
      "s:\n",
      "a    0.796663\n",
      "b    0.858258\n",
      "c    0.387284\n",
      "d    0.595878\n",
      "e    0.143111\n",
      "f    0.228314\n",
      "g   -1.120881\n",
      "dtype: float64\n",
      "\n",
      "keep:\n",
      "[True, False, True, False, False, True, False]\n",
      "\n",
      "s[keep]:\n",
      "a    0.796663\n",
      "c    0.387284\n",
      "f    0.228314\n",
      "dtype: float64\n",
      "\n",
      "s>0:\n",
      "a     True\n",
      "b     True\n",
      "c     True\n",
      "d     True\n",
      "e     True\n",
      "f     True\n",
      "g    False\n",
      "dtype: bool\n",
      "\n",
      "s[s>0]:\n",
      "a    0.796663\n",
      "b    0.858258\n",
      "c    0.387284\n",
      "d    0.595878\n",
      "e    0.143111\n",
      "f    0.228314\n",
      "dtype: float64\n",
      "\n",
      "s[criteria_1]:\n",
      "a    0.796663\n",
      "b    0.858258\n",
      "c    0.387284\n",
      "d    0.595878\n",
      "e    0.143111\n",
      "f    0.228314\n",
      "dtype: float64\n",
      "\n",
      "s[s.index>\"c\"]:\n",
      "d    0.595878\n",
      "e    0.143111\n",
      "f    0.228314\n",
      "g   -1.120881\n",
      "dtype: float64\n",
      "\n",
      "s[criteria_2]:\n",
      "d    0.595878\n",
      "e    0.143111\n",
      "f    0.228314\n",
      "g   -1.120881\n",
      "dtype: float64\n",
      "\n"
     ]
    }
   ],
   "source": [
    "s = pd.Series(np.random.randn(7), index=list('abcdefg'))\n",
    "keep = [True, False, True, False, False, True, False]\n",
    "criteria_1 = s > 0\n",
    "criteria_2 = s.index > 'c'\n",
    "\n",
    "ops = 's keep s[keep] s>0 s[s>0] s[criteria_1] s[s.index>\"c\"] s[criteria_2]'\n",
    "print_ops(ops)"
   ]
  },
  {
   "cell_type": "code",
   "execution_count": 5,
   "metadata": {
    "collapsed": false
   },
   "outputs": [
    {
     "name": "stdout",
     "output_type": "stream",
     "text": [
      "s[s.index.isin(['a','c'])]:\n",
      "a    0.796663\n",
      "c    0.387284\n",
      "dtype: float64\n",
      "\n",
      "s.loc[['a','c']]:\n",
      "a    0.796663\n",
      "c    0.387284\n",
      "dtype: float64\n",
      "\n"
     ]
    }
   ],
   "source": [
    "ops = '''s[s.index.isin(['a','c'])] s.loc[['a','c']]'''\n",
    "print_ops(ops)"
   ]
  },
  {
   "cell_type": "markdown",
   "metadata": {},
   "source": [
    "### More complex boolean indexing and reverse criteria"
   ]
  },
  {
   "cell_type": "code",
   "execution_count": 6,
   "metadata": {
    "collapsed": false
   },
   "outputs": [
    {
     "name": "stdout",
     "output_type": "stream",
     "text": [
      "criteria.head(5):\n",
      "0     True\n",
      "1    False\n",
      "2    False\n",
      "3    False\n",
      "4    False\n",
      "dtype: bool\n",
      "\n",
      "s[criteria].head(7):\n",
      "0        0\n",
      "26      26\n",
      "52      52\n",
      "78      78\n",
      "100    100\n",
      "104    104\n",
      "130    130\n",
      "dtype: int32\n",
      "\n",
      "s[~criteria].head(7):\n",
      "1    1\n",
      "2    2\n",
      "3    3\n",
      "4    4\n",
      "5    5\n",
      "6    6\n",
      "7    7\n",
      "dtype: int32\n",
      "\n"
     ]
    }
   ],
   "source": [
    "s = pd.Series(np.arange(500))\n",
    "criteria = (s % 2 == 0) & (s % 13 == 0) | (s % 100 == 0)\n",
    "print_ops('criteria.head(5) s[criteria].head(7) s[~criteria].head(7)')"
   ]
  },
  {
   "cell_type": "markdown",
   "metadata": {},
   "source": [
    "# Case Study: Calculating Normality of Stock Market Returns\n",
    "We will examine the returns of different stocks to determine if their daily returns follow a normal distribution. Before we begin you will have to install the third-party library **`pandas-datareader`**. This library does not come pre-packaged with Anaconda so you will have to install it by opening up a terminal and running the following command:\n",
    "\n",
    "### Pandas Datareader\n",
    "[Pandas Datareader](http://pandas-datareader.readthedocs.io/en/latest/) is a nice package that retrieves financial data from different online data sources. In this example we will import the **`data`** module and use the **`DataReader`** function to retrieve Amazon stock price data from google finance from 2010 to present."
   ]
  },
  {
   "cell_type": "code",
   "execution_count": 7,
   "metadata": {
    "collapsed": false
   },
   "outputs": [
    {
     "name": "stdout",
     "output_type": "stream",
     "text": [
      "<class 'pandas.core.frame.DataFrame'>\n",
      "DatetimeIndex: 1748 entries, 2010-01-04 to 2016-12-12\n",
      "Data columns (total 5 columns):\n",
      "Open      1748 non-null float64\n",
      "High      1748 non-null float64\n",
      "Low       1748 non-null float64\n",
      "Close     1748 non-null float64\n",
      "Volume    1748 non-null int64\n",
      "dtypes: float64(4), int64(1)\n",
      "memory usage: 81.9 KB\n",
      "amzn.info():\n",
      "None\n",
      "\n",
      "amzn.head(10):\n",
      "              Open    High     Low   Close    Volume\n",
      "Date                                                \n",
      "2010-01-04  136.25  136.61  133.14  133.90   7600543\n",
      "2010-01-05  133.43  135.48  131.81  134.69   8856456\n",
      "2010-01-06  134.60  134.73  131.65  132.25   7180977\n",
      "2010-01-07  132.01  132.32  128.80  130.00  11030124\n",
      "2010-01-08  130.56  133.68  129.03  133.52   9833829\n",
      "2010-01-11  132.62  132.80  129.21  130.31   8786668\n",
      "2010-01-12  128.99  129.82  126.55  127.35   9098190\n",
      "2010-01-13  127.90  129.71  125.75  129.11  10727856\n",
      "2010-01-14  129.14  130.38  126.40  127.35   9788435\n",
      "2010-01-15  129.18  129.65  127.06  127.14  15382763\n",
      "\n",
      "close.head(10):\n",
      "Date\n",
      "2010-01-04    133.90\n",
      "2010-01-05    134.69\n",
      "2010-01-06    132.25\n",
      "2010-01-07    130.00\n",
      "2010-01-08    133.52\n",
      "2010-01-11    130.31\n",
      "2010-01-12    127.35\n",
      "2010-01-13    129.11\n",
      "2010-01-14    127.35\n",
      "2010-01-15    127.14\n",
      "Name: Close, dtype: float64\n",
      "\n",
      "type(close):\n",
      "<class 'pandas.core.series.Series'>\n",
      "\n"
     ]
    }
   ],
   "source": [
    "from pandas_datareader import data\n",
    "amzn = data.DataReader('amzn', 'google')\n",
    "close = amzn['Close']\n",
    "\n",
    "ops = 'amzn.info() amzn.head(10) close.head(10) type(close)'\n",
    "print_ops(ops)"
   ]
  },
  {
   "cell_type": "markdown",
   "metadata": {},
   "source": [
    "### % difference (actually fraction, not a %...) between current and previous element and handling missing value"
   ]
  },
  {
   "cell_type": "code",
   "execution_count": 8,
   "metadata": {
    "collapsed": false
   },
   "outputs": [
    {
     "name": "stdout",
     "output_type": "stream",
     "text": [
      "close_change.head():\n",
      "Date\n",
      "2010-01-04         NaN\n",
      "2010-01-05    0.005900\n",
      "2010-01-06   -0.018116\n",
      "2010-01-07   -0.017013\n",
      "2010-01-08    0.027077\n",
      "Name: Close, dtype: float64\n",
      "\n",
      "close_change_dropna.head():\n",
      "Date\n",
      "2010-01-05    0.005900\n",
      "2010-01-06   -0.018116\n",
      "2010-01-07   -0.017013\n",
      "2010-01-08    0.027077\n",
      "2010-01-11   -0.024041\n",
      "Name: Close, dtype: float64\n",
      "\n"
     ]
    }
   ],
   "source": [
    "close_change = close.pct_change()\n",
    "close_change_dropna = close_change.dropna()\n",
    "print_ops('close_change.head() close_change_dropna.head()')"
   ]
  },
  {
   "cell_type": "code",
   "execution_count": 9,
   "metadata": {
    "collapsed": false
   },
   "outputs": [
    {
     "name": "stdout",
     "output_type": "stream",
     "text": [
      "0    0\n",
      "1    1\n",
      "2    2\n",
      "3    3\n",
      "4    4\n",
      "5    5\n",
      "6    6\n",
      "7    7\n",
      "8    8\n",
      "9    9\n",
      "dtype: int32\n",
      "\n",
      "0         NaN\n",
      "1         inf\n",
      "2    1.000000\n",
      "3    0.500000\n",
      "4    0.333333\n",
      "5    0.250000\n",
      "6    0.200000\n",
      "7    0.166667\n",
      "8    0.142857\n",
      "9    0.125000\n",
      "dtype: float64\n",
      "\n",
      "1         inf\n",
      "2    1.000000\n",
      "3    0.500000\n",
      "4    0.333333\n",
      "5    0.250000\n",
      "6    0.200000\n",
      "7    0.166667\n",
      "8    0.142857\n",
      "9    0.125000\n",
      "dtype: float64\n"
     ]
    }
   ],
   "source": [
    "s = pd.Series(range(10), index=range(10))\n",
    "s_pct_change = s.pct_change()\n",
    "s_pct_change_drop = s_pct_change.dropna()\n",
    "print(s, s_pct_change, s_pct_change_drop, sep='\\n\\n')"
   ]
  },
  {
   "cell_type": "markdown",
   "metadata": {},
   "source": [
    "### Checking for Normality\n",
    "There are formal statistical tests for normality that can be used. Instead we will focus on simple data exploration to give us insight."
   ]
  },
  {
   "cell_type": "markdown",
   "metadata": {},
   "source": [
    "### Histogram (and inline plot)"
   ]
  },
  {
   "cell_type": "code",
   "execution_count": 10,
   "metadata": {
    "collapsed": true
   },
   "outputs": [],
   "source": [
    "# magic command on order to have plots embedded into the notebook\n",
    "%matplotlib inline"
   ]
  },
  {
   "cell_type": "code",
   "execution_count": 11,
   "metadata": {
    "collapsed": false
   },
   "outputs": [
    {
     "data": {
      "text/plain": [
       "<matplotlib.axes._subplots.AxesSubplot at 0x232b14c2240>"
      ]
     },
     "execution_count": 11,
     "metadata": {},
     "output_type": "execute_result"
    },
    {
     "data": {
      "image/png": "[encoded data removed]",
      "text/plain": [
       "<matplotlib.figure.Figure at 0x232b0c76470>"
      ]
     },
     "metadata": {},
     "output_type": "display_data"
    }
   ],
   "source": [
    "close_change_dropna.hist(bins=20)"
   ]
  },
  {
   "cell_type": "markdown",
   "metadata": {},
   "source": [
    "The plot above is bell-shaped and could possibly represent a normal distribution. To more formally check for normality we can count the number of observations that are within 1, 2, and 3 standard deviations. The [68-95-99.7 rule](https://en.wikipedia.org/wiki/68%E2%80%9395%E2%80%9399.7_rule) can be used to know if the data is approximately normal.\n",
    "\n",
    "We first need to calculate the mean, standard deviation and get the number of observations."
   ]
  },
  {
   "cell_type": "code",
   "execution_count": 12,
   "metadata": {
    "collapsed": true
   },
   "outputs": [],
   "source": [
    "n_obs = close_change_dropna.size\n",
    "mean = close_change_dropna.mean()\n",
    "std = close_change_dropna.std()"
   ]
  },
  {
   "cell_type": "markdown",
   "metadata": {},
   "source": [
    "### % of observations within 1, 2, and 3 standard deviation\n",
    "Expectation for a normal distribution: 68%, 95%, and 99.7%"
   ]
  },
  {
   "cell_type": "code",
   "execution_count": 13,
   "metadata": {
    "collapsed": false
   },
   "outputs": [
    {
     "name": "stdout",
     "output_type": "stream",
     "text": [
      "% of observations within 1 standard deviation from the mean:\n",
      "\t78.8%\n",
      "% of observations within 2 standard deviation from the mean:\n",
      "\t95.6%\n",
      "% of observations within 3 standard deviation from the mean:\n",
      "\t98.5%\n"
     ]
    }
   ],
   "source": [
    "pct_obs_in_std = {}\n",
    "for n_std in range(1, 4):\n",
    "    criteria = abs(close_change_dropna - mean) < n_std*std\n",
    "    pct_obs_in_std['{}_std'.format(n_std)] = close_change_dropna[criteria].size / close_change_dropna.size *100\n",
    "    \n",
    "    print('% of observations within {} standard deviation from the mean:\\n\\t{}%'.format(\n",
    "           n_std, round(pct_obs_in_std['{}_std'.format(n_std)], 1)))"
   ]
  },
  {
   "cell_type": "markdown",
   "metadata": {},
   "source": [
    "##### Same as above but faster"
   ]
  },
  {
   "cell_type": "code",
   "execution_count": 14,
   "metadata": {
    "collapsed": false
   },
   "outputs": [
    {
     "name": "stdout",
     "output_type": "stream",
     "text": [
      "% of observations within 1 standard deviation from the mean:\n",
      "\t78.8%\n",
      "% of observations within 2 standard deviation from the mean:\n",
      "\t95.6%\n",
      "% of observations within 3 standard deviation from the mean:\n",
      "\t98.5%\n"
     ]
    }
   ],
   "source": [
    "for n_std in range(1, 4):\n",
    "    criteria = abs(close_change_dropna - mean) < n_std*std\n",
    "    pct_obs_in_std['{}_std'.format(n_std)] = criteria.sum() / close_change_dropna.size * 100\n",
    "    \n",
    "    print('% of observations within {} standard deviation from the mean:\\n\\t{}%'.format(\n",
    "           n_std, round(pct_obs_in_std['{}_std'.format(n_std)], 1)))"
   ]
  },
  {
   "cell_type": "markdown",
   "metadata": {},
   "source": [
    "### What you should know\n",
    "* Use .iloc and .loc to access elements in a Series\n",
    "* Use [ ] when using boolean indexing\n",
    "* Can create a 'criteria' variable or just pass the boolean expression into the [ ]\n",
    "* Use &, |, ~ instead of and, or, not in pandas for boolean operations\n",
    "* Wrap each boolean expression in parentheses\n",
    "* Use .head to shorten Series output\n",
    "* Know how to use Series methods \n",
    "* Assignment of one series to another (**`s = s1`**) does not create a new object."
   ]
  },
  {
   "cell_type": "markdown",
   "metadata": {},
   "source": [
    "### Problem 1\n",
    "<span  style=\"color:green; font-size:16px\">Create a function that accepts a stock ticket symbol (amzn for example) and returns the percentage of prices within 1, 2, and 3 standard deviations from the mean. Use your function to return results for different stocks (tsla, fb, slb, gm, etc...)</span>"
   ]
  },
  {
   "cell_type": "code",
   "execution_count": 15,
   "metadata": {
    "collapsed": false
   },
   "outputs": [
    {
     "name": "stdout",
     "output_type": "stream",
     "text": [
      "<class 'pandas.core.frame.DataFrame'>\n",
      "DatetimeIndex: 1748 entries, 2010-01-04 to 2016-12-12\n",
      "Data columns (total 5 columns):\n",
      "Open      1748 non-null float64\n",
      "High      1748 non-null float64\n",
      "Low       1748 non-null float64\n",
      "Close     1748 non-null float64\n",
      "Volume    1748 non-null int64\n",
      "dtypes: float64(4), int64(1)\n",
      "memory usage: 81.9 KB\n",
      "None\n"
     ]
    }
   ],
   "source": [
    "print(data.DataReader('amzn', 'google').info())"
   ]
  },
  {
   "cell_type": "code",
   "execution_count": 40,
   "metadata": {
    "collapsed": false
   },
   "outputs": [
    {
     "name": "stdout",
     "output_type": "stream",
     "text": [
      "       1std   2std   3std\n",
      "amzn  0.788  0.956  0.985\n",
      "tsla  0.787  0.951  0.984\n",
      "fb    0.794  0.958  0.989\n",
      "slb   0.742  0.945  0.987\n",
      "gm    0.763  0.947  0.988\n"
     ]
    }
   ],
   "source": [
    "def pct_within_std(stock_ticket, close=True):\n",
    "    '''uses stock ticket symbol (amzn for example) to return the percentage \n",
    "    of prices within 1, 2, and 3 standard deviations from the mean in a list, \n",
    "    in this respective order\n",
    "    stock_ticket: stock ticket, ex:'''\n",
    "    \n",
    "    stock = data.DataReader(stock_ticket, 'google')\n",
    "    when = 'Close' if close else 'Open'\n",
    "    price_change = stock[when].pct_change().dropna()\n",
    "    pct_in_n_std = []\n",
    "    for n_std in range(1, 4):\n",
    "        criteria = abs(price_change - price_change.mean()) < n_std*price_change.std()\n",
    "        pct_in_n_std.append(criteria.mean())\n",
    "    return pct_in_n_std\n",
    "\n",
    "tickets = ['amzn', 'tsla', 'fb', 'slb', 'gm']\n",
    "df = pd.DataFrame(columns=['1std', '2std', '3std'], index=tickets)\n",
    "\n",
    "for ticket in df.index:\n",
    "    df.loc[ticket] = pct_within_std(ticket)\n",
    "df = df.applymap(lambda x: round(x, 3)) \n",
    "\n",
    "print(df)"
   ]
  },
  {
   "cell_type": "markdown",
   "metadata": {},
   "source": [
    "### Problem 2\n",
    "<span  style=\"color:green; font-size:16px\">Write a one line expression that returns the maximum number of standard deviations from the mean for any one day return.</span>"
   ]
  },
  {
   "cell_type": "code",
   "execution_count": 17,
   "metadata": {
    "collapsed": false
   },
   "outputs": [
    {
     "name": "stdout",
     "output_type": "stream",
     "text": [
      "7.63400366509\n"
     ]
    }
   ],
   "source": [
    "print(pd.Series(abs(close_change_dropna - mean) / std).max())"
   ]
  },
  {
   "cell_type": "markdown",
   "metadata": {},
   "source": [
    "### Problem 3\n",
    "<span  style=\"color:green; font-size:16px\">Create a Series, **`tsla`**, by getting the closing price of Tesla motors (symbol TSLA) using the pandas_datareader library. Series  **`tsla`** will be continually referred to for the rest of the problems. Output the first 10 values.</span>"
   ]
  },
  {
   "cell_type": "code",
   "execution_count": 46,
   "metadata": {
    "collapsed": false
   },
   "outputs": [
    {
     "name": "stdout",
     "output_type": "stream",
     "text": [
      "Date\n",
      "2010-06-29    23.89\n",
      "2010-06-30    23.83\n",
      "2010-07-01    21.96\n",
      "2010-07-02    19.20\n",
      "2010-07-06    16.11\n",
      "2010-07-07    15.80\n",
      "2010-07-08    17.46\n",
      "2010-07-09    17.40\n",
      "2010-07-12    17.05\n",
      "2010-07-13    18.14\n",
      "Name: Close, dtype: float64\n"
     ]
    }
   ],
   "source": [
    "tsla = data.DataReader('tsla', 'google')['Close']\n",
    "print(tsla.head(10))"
   ]
  },
  {
   "cell_type": "markdown",
   "metadata": {},
   "source": [
    "### Problem 4\n",
    "<span  style=\"color:green; font-size:16px\">There are many dozens of Series methods and attributes. Use the following methods correctly with variable **tsla** : **`rank, cummax, sample, describe, quantile, idxmax, empty`**. Make sure to read the documentation for correct usage. Use a new code cell for each command and remember to use the **`head`** method to restrict long output.</span>"
   ]
  },
  {
   "cell_type": "code",
   "execution_count": 19,
   "metadata": {
    "collapsed": false
   },
   "outputs": [
    {
     "name": "stdout",
     "output_type": "stream",
     "text": [
      "tsla[tsla==tsla.min()]:\n",
      "Date\n",
      "2010-07-07    15.8\n",
      "Name: Close, dtype: float64\n",
      "\n",
      "tsla_rank[tsla_rank==tsla_rank.min()]:\n",
      "Date\n",
      "2010-07-07    1.0\n",
      "Name: Close, dtype: float64\n",
      "\n",
      "tsla[tsla==tsla.max()]:\n",
      "Date\n",
      "2014-09-04    286.04\n",
      "Name: Close, dtype: float64\n",
      "\n",
      "tsla_rank[tsla_rank==tsla_rank.max()]:\n",
      "Date\n",
      "2014-09-04    1627.0\n",
      "Name: Close, dtype: float64\n",
      "\n"
     ]
    }
   ],
   "source": [
    "tsla_rank = tsla.rank()\n",
    "# print(tsla_rank.head())\n",
    "# print(tsla[tsla == tsla.min()])\n",
    "# print(tsla_rank[tsla_rank == tsla_rank.min()], end='\\n\\n')\n",
    "# # print(tsla_rank['2010-07-06':'2010-07-08'], end='\\n\\n')\n",
    "# # print(tsla.rank()['2010-07-06':'2010-07-08'])\n",
    "# print(tsla[tsla == tsla.max()])\n",
    "# print(tsla_rank[tsla_rank == tsla_rank.max()])\n",
    "ops = 'tsla[tsla==tsla.min()] tsla_rank[tsla_rank==tsla_rank.min()] \\\n",
    "       tsla[tsla==tsla.max()] tsla_rank[tsla_rank==tsla_rank.max()]'\n",
    "print_ops(ops)"
   ]
  },
  {
   "cell_type": "code",
   "execution_count": 20,
   "metadata": {
    "collapsed": false
   },
   "outputs": [
    {
     "name": "stdout",
     "output_type": "stream",
     "text": [
      "tsla.cummax().head():\n",
      "Date\n",
      "2010-06-29    23.89\n",
      "2010-06-30    23.89\n",
      "2010-07-01    23.89\n",
      "2010-07-02    23.89\n",
      "2010-07-06    23.89\n",
      "Name: Close, dtype: float64\n",
      "\n",
      "tsla.cummax().tail():\n",
      "Date\n",
      "2016-12-06    286.04\n",
      "2016-12-07    286.04\n",
      "2016-12-08    286.04\n",
      "2016-12-09    286.04\n",
      "2016-12-12    286.04\n",
      "Name: Close, dtype: float64\n",
      "\n",
      "tsla.cummax().loc['2010-11-01':'2010-11-05']:\n",
      "Date\n",
      "2010-11-01    23.89\n",
      "2010-11-02    23.89\n",
      "2010-11-03    23.89\n",
      "2010-11-04    24.90\n",
      "2010-11-05    24.90\n",
      "Name: Close, dtype: float64\n",
      "\n",
      "tsla.head():\n",
      "Date\n",
      "2010-06-29    23.89\n",
      "2010-06-30    23.83\n",
      "2010-07-01    21.96\n",
      "2010-07-02    19.20\n",
      "2010-07-06    16.11\n",
      "Name: Close, dtype: float64\n",
      "\n",
      "tsla.loc['2010-11-01':'2010-11-05']:\n",
      "Date\n",
      "2010-11-01    21.41\n",
      "2010-11-02    21.25\n",
      "2010-11-03    21.77\n",
      "2010-11-04    24.90\n",
      "2010-11-05    24.44\n",
      "Name: Close, dtype: float64\n",
      "\n"
     ]
    }
   ],
   "source": [
    "# print(tsla.cummax().head())\n",
    "# print(tsla.cummax().tail())\n",
    "# print(tsla.cummax().loc['2010-11-01':'2010-11-05'])\n",
    "# print(tsla.head())\n",
    "# print(tsla.loc['2010-11-01':'2010-11-05'])\n",
    "ops = \"tsla.cummax().head() tsla.cummax().tail() tsla.cummax().loc['2010-11-01':'2010-11-05']\\\n",
    "       tsla.head() tsla.loc['2010-11-01':'2010-11-05']\"\n",
    "print_ops(ops)"
   ]
  },
  {
   "cell_type": "code",
   "execution_count": 21,
   "metadata": {
    "collapsed": false
   },
   "outputs": [
    {
     "name": "stdout",
     "output_type": "stream",
     "text": [
      "Date\n",
      "2015-04-10    210.90\n",
      "2016-01-27    188.07\n",
      "2015-05-21    245.62\n",
      "2016-06-07    232.34\n",
      "2011-05-04     26.69\n",
      "2013-12-11    139.65\n",
      "2016-09-09    194.47\n",
      "2014-01-22    178.56\n",
      "2012-09-14     30.39\n",
      "2011-11-08     31.84\n",
      "Name: Close, dtype: float64\n"
     ]
    }
   ],
   "source": [
    "print(tsla.sample(10))"
   ]
  },
  {
   "cell_type": "code",
   "execution_count": 22,
   "metadata": {
    "collapsed": false
   },
   "outputs": [
    {
     "name": "stdout",
     "output_type": "stream",
     "text": [
      "count    1627.000000\n",
      "mean      128.024425\n",
      "std        93.413620\n",
      "min        15.800000\n",
      "25%        29.500000\n",
      "50%       144.700000\n",
      "75%       217.725000\n",
      "max       286.040000\n",
      "Name: Close, dtype: float64\n"
     ]
    }
   ],
   "source": [
    "print(tsla.describe())"
   ]
  },
  {
   "cell_type": "code",
   "execution_count": 23,
   "metadata": {
    "collapsed": false
   },
   "outputs": [
    {
     "name": "stdout",
     "output_type": "stream",
     "text": [
      "tsla.quantile(.33):\n",
      "32.915800000000004\n",
      "\n",
      "tsla.quantile(.5):\n",
      "144.7\n",
      "\n",
      "tsla.quantile(.75):\n",
      "217.725\n",
      "\n"
     ]
    }
   ],
   "source": [
    "ops = \"tsla.quantile(.33) tsla.quantile(.5) tsla.quantile(.75)\"\n",
    "print_ops(ops)"
   ]
  },
  {
   "cell_type": "code",
   "execution_count": 24,
   "metadata": {
    "collapsed": false
   },
   "outputs": [
    {
     "name": "stdout",
     "output_type": "stream",
     "text": [
      "2014-09-04 00:00:00 \n",
      "\n",
      "Date\n",
      "2014-09-04    286.04\n",
      "Name: Close, dtype: float64\n"
     ]
    }
   ],
   "source": [
    "#returns index of first occurence of max value\n",
    "print(tsla.idxmax(), '\\n')\n",
    "print(tsla[tsla == tsla.max()])"
   ]
  },
  {
   "cell_type": "code",
   "execution_count": 25,
   "metadata": {
    "collapsed": false
   },
   "outputs": [
    {
     "name": "stdout",
     "output_type": "stream",
     "text": [
      "False\n"
     ]
    }
   ],
   "source": [
    "print(tsla.empty)"
   ]
  },
  {
   "cell_type": "code",
   "execution_count": 56,
   "metadata": {
    "collapsed": false
   },
   "outputs": [
    {
     "name": "stdout",
     "output_type": "stream",
     "text": [
      "True\n",
      "1   NaN\n",
      "2   NaN\n",
      "3   NaN\n",
      "dtype: float64\n",
      "False\n",
      "True\n",
      "3\n"
     ]
    }
   ],
   "source": [
    "s1 = pd.Series()\n",
    "print(s1.empty)\n",
    "s2 = pd.Series(index=[1, 2, 3])\n",
    "print(s2)\n",
    "print(s2.empty)\n",
    "print(s2.isnull().all())\n",
    "print(s2.isnull().sum())"
   ]
  },
  {
   "cell_type": "markdown",
   "metadata": {},
   "source": [
    "### Problem 5\n",
    "<span  style=\"color:green; font-size:16px\"> Sort **`tsla`** by descending values and save it to variable **`tsla1`**. Output the first 10 values to check that the sort happened correctly.</span>"
   ]
  },
  {
   "cell_type": "code",
   "execution_count": 26,
   "metadata": {
    "collapsed": false
   },
   "outputs": [
    {
     "name": "stdout",
     "output_type": "stream",
     "text": [
      "Date\n",
      "2010-07-07    15.80\n",
      "2010-07-06    16.11\n",
      "2010-07-12    17.05\n",
      "2010-07-09    17.40\n",
      "2010-07-08    17.46\n",
      "2010-08-12    17.60\n",
      "2010-08-11    17.90\n",
      "2010-07-13    18.14\n",
      "2010-08-13    18.32\n",
      "2010-08-18    18.77\n",
      "Name: Close, dtype: float64\n"
     ]
    }
   ],
   "source": [
    "tsla1 = tsla.sort_values()\n",
    "print(tsla1.head(10))"
   ]
  },
  {
   "cell_type": "markdown",
   "metadata": {},
   "source": [
    "### Problem 6\n",
    "<span  style=\"color:green; font-size:16px\">Use the **`sort_index`** method to re-sort **`tsla1`** back to its original ordering. Store this Series to **`tsla2`**. Use the **`equals`** method to check that **`tsla2`** does in fact equal **`tsla`**.</span>"
   ]
  },
  {
   "cell_type": "code",
   "execution_count": 27,
   "metadata": {
    "collapsed": false
   },
   "outputs": [
    {
     "name": "stdout",
     "output_type": "stream",
     "text": [
      "True\n"
     ]
    }
   ],
   "source": [
    "tsla2 = tsla1.sort_index()\n",
    "print(tsla2.equals(tsla))"
   ]
  },
  {
   "cell_type": "markdown",
   "metadata": {},
   "source": [
    "### Problem 7\n",
    "<span  style=\"color:green; font-size:16px\">Instead of using the **`equals`** method, test equality between **`tsla`** and **`tsla2`** by using the comparison operator **`==`** and the **`all`** method.</span>"
   ]
  },
  {
   "cell_type": "code",
   "execution_count": 57,
   "metadata": {
    "collapsed": false
   },
   "outputs": [
    {
     "data": {
      "text/plain": [
       "True"
      ]
     },
     "execution_count": 57,
     "metadata": {},
     "output_type": "execute_result"
    }
   ],
   "source": [
    "(tsla==tsla2).all()"
   ]
  },
  {
   "cell_type": "code",
   "execution_count": 28,
   "metadata": {
    "collapsed": false
   },
   "outputs": [
    {
     "name": "stdout",
     "output_type": "stream",
     "text": [
      "True\n"
     ]
    }
   ],
   "source": [
    "equal = tsla == tsla2\n",
    "print(equal.all())"
   ]
  },
  {
   "cell_type": "markdown",
   "metadata": {},
   "source": [
    "### Problem 8\n",
    "<span  style=\"color:green; font-size:16px\">Slicing! Using iloc, slice series **`tsla`**:<ol><li>Retrieve the first 6 elements</li><li>Retrieve every 18th element</li><li>Reverse the series</li><li>Write two ways to get every 4th element starting from the 993rd element to the 593rd</li><li>Chain your slicing multiple times by getting every other element, then every third element, then every 4th element, then every 5th element</li></ol>\n",
    "</span>\n",
    "\n",
    "Use **`head`** method to shorten long output."
   ]
  },
  {
   "cell_type": "code",
   "execution_count": 60,
   "metadata": {
    "collapsed": false
   },
   "outputs": [
    {
     "name": "stdout",
     "output_type": "stream",
     "text": [
      "tsla.iloc[:6]:\n",
      "Date\n",
      "2010-06-29    23.89\n",
      "2010-06-30    23.83\n",
      "2010-07-01    21.96\n",
      "2010-07-02    19.20\n",
      "2010-07-06    16.11\n",
      "2010-07-07    15.80\n",
      "Name: Close, dtype: float64\n",
      "\n",
      "tsla.iloc[::18].head():\n",
      "Date\n",
      "2010-06-29    23.89\n",
      "2010-07-26    20.95\n",
      "2010-08-19    18.79\n",
      "2010-09-15    21.98\n",
      "2010-10-11    20.24\n",
      "Name: Close, dtype: float64\n",
      "\n",
      "tsla.iloc[::-1].head():\n",
      "Date\n",
      "2016-12-12    192.43\n",
      "2016-12-09    192.18\n",
      "2016-12-08    192.29\n",
      "2016-12-07    193.15\n",
      "2016-12-06    185.85\n",
      "Name: Close, dtype: float64\n",
      "\n",
      "tsla.iloc[993:592:-4].head():\n",
      "Date\n",
      "2014-06-10    202.30\n",
      "2014-06-04    203.99\n",
      "2014-05-29    210.24\n",
      "2014-05-22    204.88\n",
      "2014-05-16    191.56\n",
      "Name: Close, dtype: float64\n",
      "\n",
      "tsla.iloc[593:994:4].iloc[::-1].head():\n",
      "Date\n",
      "2014-06-10    202.30\n",
      "2014-06-04    203.99\n",
      "2014-05-29    210.24\n",
      "2014-05-22    204.88\n",
      "2014-05-16    191.56\n",
      "Name: Close, dtype: float64\n",
      "\n",
      "tsla.iloc[::2].iloc[::3].iloc[::4].iloc[::5].head():\n",
      "Date\n",
      "2010-06-29    23.89\n",
      "2010-12-17    31.36\n",
      "2011-06-10    27.86\n",
      "2011-11-30    32.74\n",
      "2012-05-23    31.02\n",
      "Name: Close, dtype: float64\n",
      "\n"
     ]
    }
   ],
   "source": [
    "ops = '''tsla.iloc[:6]\n",
    "         tsla.iloc[::18].head()\n",
    "         tsla.iloc[::-1].head()\n",
    "         tsla.iloc[993:592:-4].head()\n",
    "         tsla.iloc[593:994:4].iloc[::-1].head()\n",
    "         tsla.iloc[::2].iloc[::3].iloc[::4].iloc[::5].head()'''\n",
    "print_ops(ops)"
   ]
  },
  {
   "cell_type": "markdown",
   "metadata": {},
   "source": [
    "### Problem 9\n",
    "<span  style=\"color:green; font-size:16px\"> How many days did Tesla close above 100 and below 150?</span>"
   ]
  },
  {
   "cell_type": "code",
   "execution_count": 61,
   "metadata": {
    "collapsed": false
   },
   "outputs": [
    {
     "name": "stdout",
     "output_type": "stream",
     "text": [
      "Teslas closed above 100 and below 150 90 days\n"
     ]
    }
   ],
   "source": [
    "print('Teslas closed above 100 and below 150 {} days'.format(((tsla > 100) & (tsla < 150)).sum()))"
   ]
  },
  {
   "cell_type": "markdown",
   "metadata": {},
   "source": [
    "### Problem 10\n",
    "<span  style=\"color:green; font-size:16px\"> How many days did Tesla close below 50 or above 200?</span>"
   ]
  },
  {
   "cell_type": "code",
   "execution_count": 63,
   "metadata": {
    "collapsed": false
   },
   "outputs": [
    {
     "name": "stdout",
     "output_type": "stream",
     "text": [
      "1299\n"
     ]
    }
   ],
   "source": [
    "print(((tsla < 50) | (tsla > 200)).sum())"
   ]
  },
  {
   "cell_type": "code",
   "execution_count": 64,
   "metadata": {
    "collapsed": false
   },
   "outputs": [
    {
     "name": "stdout",
     "output_type": "stream",
     "text": [
      "             Open   High    Low  Close   Volume\n",
      "Date                                           \n",
      "2010-01-04  57.65  59.19  57.51  58.55  7326679\n",
      "2010-01-05  58.55  59.44  58.23  59.25  5697197\n",
      "2010-01-06  59.18  59.93  59.05  59.43  4718749\n",
      "2010-01-07  59.30  59.90  58.65  59.67  5432913\n",
      "2010-01-08  59.25  60.37  59.25  60.34  6651511\n"
     ]
    }
   ],
   "source": [
    "cat = data.DataReader('CAT', 'google')\n",
    "print(cat.head())"
   ]
  },
  {
   "cell_type": "markdown",
   "metadata": {},
   "source": [
    "### Problem 11\n",
    "<span  style=\"color:green; font-size:16px\"> Lookup the definition for interquartile range and smartly slice your way from series s until you are left with the IQR </span>"
   ]
  },
  {
   "cell_type": "code",
   "execution_count": 32,
   "metadata": {
    "collapsed": false
   },
   "outputs": [
    {
     "name": "stdout",
     "output_type": "stream",
     "text": [
      "count    1627.000000\n",
      "mean      128.024425\n",
      "std        93.413620\n",
      "min        15.800000\n",
      "25%        29.500000\n",
      "50%       144.700000\n",
      "75%       217.725000\n",
      "max       286.040000\n",
      "Name: Close, dtype: float64\n",
      "count    812.000000\n",
      "mean     123.285493\n",
      "std       75.271739\n",
      "min       29.510000\n",
      "25%       34.495000\n",
      "50%      144.700000\n",
      "75%      198.082500\n",
      "max      217.700000\n",
      "Name: Close, dtype: float64\n"
     ]
    }
   ],
   "source": [
    "IQR = tsla[(tsla > tsla.quantile(.25)) & (tsla < tsla.quantile(.75))]\n",
    "print(tsla.describe())\n",
    "print(IQR.describe())"
   ]
  },
  {
   "cell_type": "markdown",
   "metadata": {},
   "source": [
    "### Problem 12\n",
    "<span  style=\"color:green; font-size:16px\">Use the **`idxmax`** method to find the index labeled position of the highest closing price. Find out how many trading days it has been since tsla recorded it highest closing price.</span>"
   ]
  },
  {
   "cell_type": "code",
   "execution_count": 84,
   "metadata": {
    "collapsed": false
   },
   "outputs": [
    {
     "name": "stdout",
     "output_type": "stream",
     "text": [
      "Highest closing price was on 09-04-2014, 574 business days ago.\n"
     ]
    }
   ],
   "source": [
    "day_highest_closing = tsla.iloc[::-1].idxmax() # we reverse the series in order to get the most recent highest closing price\n",
    "# print(type(day_highest_closing))\n",
    "# number of days since highest closing:\n",
    "days_since_highest = tsla.loc[day_highest_closing:].count()\n",
    "print('Highest closing price was on {}, {} business days ago.'.format(\n",
    "       day_highest_closing.strftime('%m-%d-%Y'), days_since_highest))"
   ]
  },
  {
   "cell_type": "markdown",
   "metadata": {},
   "source": [
    "### Problem 13\n",
    "<span  style=\"color:green; font-size:16px\">Assign Series tsla to tsla3 **`tsla3 = tsla`** and then change the value of the 0th element of tsla3 to 100. What has happened to tsla? We didn't talk about series assignment, but does it work as you would expect?</span>"
   ]
  },
  {
   "cell_type": "code",
   "execution_count": 85,
   "metadata": {
    "collapsed": false
   },
   "outputs": [
    {
     "name": "stdout",
     "output_type": "stream",
     "text": [
      "Date\n",
      "2010-06-29    100.00\n",
      "2010-06-30     23.83\n",
      "2010-07-01     21.96\n",
      "2010-07-02     19.20\n",
      "2010-07-06     16.11\n",
      "Name: Close, dtype: float64\n"
     ]
    }
   ],
   "source": [
    "tsla3 = tsla\n",
    "tsla3.iloc[0] = 100\n",
    "print(tsla.head())"
   ]
  },
  {
   "cell_type": "code",
   "execution_count": 86,
   "metadata": {
    "collapsed": false
   },
   "outputs": [
    {
     "name": "stdout",
     "output_type": "stream",
     "text": [
      "0    a\n",
      "2    c\n",
      "3    d\n",
      "5    f\n",
      "6    g\n",
      "7    h\n",
      "8    i\n",
      "9    j\n",
      "1    t\n",
      "4    x\n",
      "dtype: object\n",
      "0    a\n",
      "3    d\n",
      "6    g\n",
      "8    i\n",
      "1    t\n",
      "dtype: object\n",
      "t\n",
      "d\n"
     ]
    }
   ],
   "source": [
    "test = pd.Series(data=list('atcdxfghij'), index=range(10))\n",
    "test = test.sort_values()\n",
    "print(test)\n",
    "test2 = test.iloc[::2]\n",
    "print(test2)\n",
    "print(test2.loc[1])\n",
    "print(test2.iloc[1])"
   ]
  },
  {
   "cell_type": "markdown",
   "metadata": {},
   "source": [
    "### Problem 14\n",
    "<span  style=\"color:green; font-size:16px\">Assign every 2nd element of **`tsla3`** the mean of **`tsla3`**. What happened to **`tsla`**? Is it the same size? Now assign elements 100 to 900 of **`tsla`** the variance of **`tsla`**. How much has each Series changed?</span>"
   ]
  },
  {
   "cell_type": "code",
   "execution_count": 87,
   "metadata": {
    "collapsed": false
   },
   "outputs": [
    {
     "name": "stdout",
     "output_type": "stream",
     "text": [
      "Date\n",
      "2010-06-29    128.071205\n",
      "2010-06-30     23.830000\n",
      "2010-07-01    128.071205\n",
      "2010-07-02     19.200000\n",
      "2010-07-06    128.071205\n",
      "Name: Close, dtype: float64\n",
      "Date\n",
      "2010-06-29    128.071205\n",
      "2010-06-30     23.830000\n",
      "2010-07-01    128.071205\n",
      "2010-07-02     19.200000\n",
      "2010-07-06    128.071205\n",
      "Name: Close, dtype: float64\n",
      "True\n"
     ]
    }
   ],
   "source": [
    "tsla3.iloc[::2] = tsla.mean()\n",
    "tsla.iloc[100:901] = tsla.var()\n",
    "print(tsla.head())\n",
    "print(tsla3.head())\n",
    "print(tsla.equals(tsla3))"
   ]
  },
  {
   "cell_type": "code",
   "execution_count": 88,
   "metadata": {
    "collapsed": false
   },
   "outputs": [
    {
     "name": "stdout",
     "output_type": "stream",
     "text": [
      "Date\n",
      "2010-11-11      28.040000\n",
      "2010-11-12     128.071205\n",
      "2010-11-15      30.800000\n",
      "2010-11-16     128.071205\n",
      "2010-11-17      29.490000\n",
      "2010-11-18    4357.250561\n",
      "2010-11-19    4357.250561\n",
      "2010-11-22    4357.250561\n",
      "2010-11-23    4357.250561\n",
      "Name: Close, dtype: float64\n",
      "Date\n",
      "2010-11-11      28.040000\n",
      "2010-11-12     128.071205\n",
      "2010-11-15      30.800000\n",
      "2010-11-16     128.071205\n",
      "2010-11-17      29.490000\n",
      "2010-11-18    4357.250561\n",
      "2010-11-19    4357.250561\n",
      "2010-11-22    4357.250561\n",
      "2010-11-23    4357.250561\n",
      "Name: Close, dtype: float64\n"
     ]
    }
   ],
   "source": [
    "print(tsla[95:104])\n",
    "print(tsla3[95:104])"
   ]
  },
  {
   "cell_type": "markdown",
   "metadata": {},
   "source": [
    "### Problem 15\n",
    "<span  style=\"color:green; font-size:16px\">Get the original **`tsla`** dataset back by running code in Problem 3 again. Now redo problem 13 except assign **`tsla3`** a be copy of **`tsla`** using the **`copy`** Series method.</span>"
   ]
  },
  {
   "cell_type": "code",
   "execution_count": 115,
   "metadata": {
    "collapsed": false
   },
   "outputs": [
    {
     "name": "stdout",
     "output_type": "stream",
     "text": [
      "Date\n",
      "2010-06-29    23.89\n",
      "2010-06-30    23.83\n",
      "2010-07-01    21.96\n",
      "2010-07-02    19.20\n",
      "2010-07-06    16.11\n",
      "Name: Close, dtype: float64\n",
      "Date\n",
      "2010-06-29    100.00\n",
      "2010-06-30     23.83\n",
      "2010-07-01     21.96\n",
      "2010-07-02     19.20\n",
      "2010-07-06     16.11\n",
      "Name: Close, dtype: float64\n"
     ]
    }
   ],
   "source": [
    "tsla = data.DataReader('tsla', 'google')['Close']\n",
    "tsla3 = tsla.copy()\n",
    "tsla3.iloc[0] = 100\n",
    "print(tsla.head())\n",
    "print(tsla3.head())"
   ]
  },
  {
   "cell_type": "markdown",
   "metadata": {},
   "source": [
    "### Problem 16\n",
    "<span  style=\"color:green; font-size:16px\">Using the inversion operator, the tilde (**`~`**) ouput a Series of all **`tsla`** values greater than 270.</span>"
   ]
  },
  {
   "cell_type": "code",
   "execution_count": 116,
   "metadata": {
    "collapsed": false
   },
   "outputs": [
    {
     "data": {
      "text/plain": [
       "Date\n",
       "2014-09-02    284.12\n",
       "2014-09-03    281.19\n",
       "2014-09-04    286.04\n",
       "2014-09-05    277.39\n",
       "2014-09-08    282.11\n",
       "2014-09-09    278.48\n",
       "2014-09-10    281.10\n",
       "2014-09-11    280.31\n",
       "2014-09-12    279.20\n",
       "2015-07-02    280.02\n",
       "2015-07-06    279.72\n",
       "2015-07-17    274.66\n",
       "2015-07-20    282.26\n",
       "2015-08-05    270.13\n",
       "Name: Close, dtype: float64"
      ]
     },
     "execution_count": 116,
     "metadata": {},
     "output_type": "execute_result"
    }
   ],
   "source": [
    "tsla[~(tsla <= 270)]"
   ]
  },
  {
   "cell_type": "markdown",
   "metadata": {},
   "source": [
    "### Problem 17\n",
    "<span  style=\"color:green; font-size:16px\">Read the documentation on the **`where`** Series method and use it with **`tsla`** to change all values less than 100 to 0.</span>"
   ]
  },
  {
   "cell_type": "code",
   "execution_count": 117,
   "metadata": {
    "collapsed": false
   },
   "outputs": [
    {
     "name": "stdout",
     "output_type": "stream",
     "text": [
      "Date\n",
      "2010-06-29    0.0\n",
      "2010-06-30    0.0\n",
      "2010-07-01    0.0\n",
      "2010-07-02    0.0\n",
      "2010-07-06    0.0\n",
      "Name: Close, dtype: float64\n",
      "Date\n",
      "2016-12-06    185.85\n",
      "2016-12-07    193.15\n",
      "2016-12-08    192.29\n",
      "2016-12-09    192.18\n",
      "2016-12-12    192.43\n",
      "Name: Close, dtype: float64\n"
     ]
    }
   ],
   "source": [
    "tsla.where(tsla > 100, other=0.0, inplace=True)\n",
    "print(tsla.head())\n",
    "print(tsla.tail())"
   ]
  },
  {
   "cell_type": "markdown",
   "metadata": {},
   "source": [
    "### Problem 18\n",
    "<span  style=\"color:green; font-size:16px\">Read the documentation on the **`mask`** Series method and use it with **`tsla`** to change all values greater than or equal to 100 to 0.</span>"
   ]
  },
  {
   "cell_type": "code",
   "execution_count": 120,
   "metadata": {
    "collapsed": false
   },
   "outputs": [
    {
     "name": "stdout",
     "output_type": "stream",
     "text": [
      "Date\n",
      "2010-06-29    0.0\n",
      "2010-06-30    0.0\n",
      "2010-07-01    0.0\n",
      "2010-07-02    0.0\n",
      "2010-07-06    0.0\n",
      "Name: Close, dtype: float64\n",
      "Date\n",
      "2016-12-06    0.0\n",
      "2016-12-07    0.0\n",
      "2016-12-08    0.0\n",
      "2016-12-09    0.0\n",
      "2016-12-12    0.0\n",
      "Name: Close, dtype: float64\n"
     ]
    }
   ],
   "source": [
    "# tsla[tsla.mask(tsla < 100) == tsla] = 0.0\n",
    "tsla.mask(tsla >= 100, other=0.0, inplace=True)\n",
    "print(tsla.head())\n",
    "print(tsla.tail())"
   ]
  },
  {
   "cell_type": "code",
   "execution_count": 121,
   "metadata": {
    "collapsed": false
   },
   "outputs": [
    {
     "data": {
      "text/plain": [
       "a    0\n",
       "b    1\n",
       "c    2\n",
       "d    3\n",
       "e    4\n",
       "f    5\n",
       "dtype: int32"
      ]
     },
     "execution_count": 121,
     "metadata": {},
     "output_type": "execute_result"
    }
   ],
   "source": [
    "s = pd.Series(index=list('abcdef'), data=range(6))\n",
    "s"
   ]
  },
  {
   "cell_type": "code",
   "execution_count": 122,
   "metadata": {
    "collapsed": false
   },
   "outputs": [
    {
     "data": {
      "text/plain": [
       "a    0\n",
       "b    1\n",
       "c    2\n",
       "d    X\n",
       "e    X\n",
       "f    X\n",
       "dtype: object"
      ]
     },
     "execution_count": 122,
     "metadata": {},
     "output_type": "execute_result"
    }
   ],
   "source": [
    "s.where(s < 3, other='X')"
   ]
  },
  {
   "cell_type": "code",
   "execution_count": 123,
   "metadata": {
    "collapsed": false
   },
   "outputs": [
    {
     "data": {
      "text/plain": [
       "a    X\n",
       "b    X\n",
       "c    X\n",
       "d    3\n",
       "e    4\n",
       "f    5\n",
       "dtype: object"
      ]
     },
     "execution_count": 123,
     "metadata": {},
     "output_type": "execute_result"
    }
   ],
   "source": [
    "s.mask(s < 3, other='X')"
   ]
  },
  {
   "cell_type": "code",
   "execution_count": null,
   "metadata": {
    "collapsed": true
   },
   "outputs": [],
   "source": []
  }
 ],
 "metadata": {
  "anaconda-cloud": {},
  "kernelspec": {
   "display_name": "Python [conda env:py35]",
   "language": "python",
   "name": "conda-env-py35-py"
  },
  "language_info": {
   "codemirror_mode": {
    "name": "ipython",
    "version": 3
   },
   "file_extension": ".py",
   "mimetype": "text/x-python",
   "name": "python",
   "nbconvert_exporter": "python",
   "pygments_lexer": "ipython3",
   "version": "3.5.2"
  }
 },
 "nbformat": 4,
 "nbformat_minor": 1
}
