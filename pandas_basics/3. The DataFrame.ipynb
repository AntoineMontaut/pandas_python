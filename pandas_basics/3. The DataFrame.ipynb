{
 "cells": [
  {
   "cell_type": "markdown",
   "metadata": {},
   "source": [
    "# The DataFrame\n",
    "The vast majority of the work as a data analyst will be in tabular - rows/columns form. The **DataFrame** is the primary pandas data structure and can be thought of as a collection of Series. Each row and column of the DataFrame have their own **Index**. The **Index** for the columns is simply referred to as the **column names**. Operations on DataFrames can be applied to all elements or by row or by column. The technical term **axis** is used to refer to the horizontal and vertical components of the frame. \n",
    "\n",
    "The row axis is numbered 0 and the column axis is numbered 1, which is convention borrowed from numpy where ndarrays can have limitless number of axes beginning with 0. The **`axis`** argument shows up in most all DataFrame methods, meaning you can choose to do the operation over the columns or the rows.\n",
    "\n",
    "Just as with Series, alignment of indices silently takes place behind the scenes for DataFrames, so care needs to be taken when operating on 2 different DataFrames at the same time."
   ]
  },
  {
   "cell_type": "markdown",
   "metadata": {},
   "source": [
    "### Manually construct a DataFrame\n",
    "It is quite rare that you will actually need to construct a DataFrame manually.  Most frequently you will be reading external flat files, getting data from the web or reading from relational databases. Nonetheless, it does occur.\n",
    "\n",
    "Just like the **`pd.Series`** is technically a constructor, **`pd.DataFrame`** constructs a DataFrame by accepting a dictionary with strings as the **keys** and lists as the **values**."
   ]
  },
  {
   "cell_type": "code",
   "execution_count": 173,
   "metadata": {
    "collapsed": true
   },
   "outputs": [],
   "source": [
    "# Lets import our packages.\n",
    "import pandas as pd\n",
    "import numpy as np"
   ]
  },
  {
   "cell_type": "code",
   "execution_count": 174,
   "metadata": {
    "collapsed": false
   },
   "outputs": [
    {
     "data": {
      "text/html": [
       "<div>\n",
       "<table border=\"1\" class=\"dataframe\">\n",
       "  <thead>\n",
       "    <tr style=\"text-align: right;\">\n",
       "      <th></th>\n",
       "      <th>Favorite Number</th>\n",
       "      <th>Phone</th>\n",
       "      <th>name</th>\n",
       "    </tr>\n",
       "  </thead>\n",
       "  <tbody>\n",
       "    <tr>\n",
       "      <th>0</th>\n",
       "      <td>99</td>\n",
       "      <td>Samsung</td>\n",
       "      <td>Ted</td>\n",
       "    </tr>\n",
       "    <tr>\n",
       "      <th>1</th>\n",
       "      <td>7</td>\n",
       "      <td>Samsung</td>\n",
       "      <td>Ned</td>\n",
       "    </tr>\n",
       "    <tr>\n",
       "      <th>2</th>\n",
       "      <td>4</td>\n",
       "      <td>IOS</td>\n",
       "      <td>Jed</td>\n",
       "    </tr>\n",
       "  </tbody>\n",
       "</table>\n",
       "</div>"
      ],
      "text/plain": [
       "   Favorite Number    Phone name\n",
       "0               99  Samsung  Ted\n",
       "1                7  Samsung  Ned\n",
       "2                4      IOS  Jed"
      ]
     },
     "execution_count": 174,
     "metadata": {},
     "output_type": "execute_result"
    }
   ],
   "source": [
    "# create dataframe from a dictionary of lists. The keys are the column names NOT the indices\n",
    "df = pd.DataFrame({'name':['Ted', 'Ned', 'Jed'], 'Phone':['Samsung', 'Samsung', 'IOS'], 'Favorite Number':[99, 7, 4]})\n",
    "df"
   ]
  },
  {
   "cell_type": "markdown",
   "metadata": {},
   "source": [
    "### Closely Examine Output\n",
    "It is clear that there are three columns and three rows to the DataFrame. What's not as obvious is that there exists an index for the rows with labels 0,1,2. The column names (which are also Index objects) are Favorite Number, Phone and name."
   ]
  },
  {
   "cell_type": "markdown",
   "metadata": {},
   "source": [
    "### Why did the column order get changed?\n",
    "If you looked closely, the order of the columns did not match the order in which they were written in the dictionary. Dictionaries are inherently unordered, so it isn't likely that the order of the keys in the dictionary will be the same as the in the DataFrame produced from it.\n",
    "\n",
    "It is possible to specify the order explicitly in the constructor with the **`columns`** parameter."
   ]
  },
  {
   "cell_type": "code",
   "execution_count": 175,
   "metadata": {
    "collapsed": false
   },
   "outputs": [
    {
     "data": {
      "text/html": [
       "<div>\n",
       "<table border=\"1\" class=\"dataframe\">\n",
       "  <thead>\n",
       "    <tr style=\"text-align: right;\">\n",
       "      <th></th>\n",
       "      <th>name</th>\n",
       "      <th>Phone</th>\n",
       "      <th>Favorite Number</th>\n",
       "    </tr>\n",
       "  </thead>\n",
       "  <tbody>\n",
       "    <tr>\n",
       "      <th>0</th>\n",
       "      <td>Ted</td>\n",
       "      <td>Samsung</td>\n",
       "      <td>99</td>\n",
       "    </tr>\n",
       "    <tr>\n",
       "      <th>1</th>\n",
       "      <td>Ned</td>\n",
       "      <td>Samsung</td>\n",
       "      <td>7</td>\n",
       "    </tr>\n",
       "    <tr>\n",
       "      <th>2</th>\n",
       "      <td>Jed</td>\n",
       "      <td>IOS</td>\n",
       "      <td>4</td>\n",
       "    </tr>\n",
       "  </tbody>\n",
       "</table>\n",
       "</div>"
      ],
      "text/plain": [
       "  name    Phone  Favorite Number\n",
       "0  Ted  Samsung               99\n",
       "1  Ned  Samsung                7\n",
       "2  Jed      IOS                4"
      ]
     },
     "execution_count": 175,
     "metadata": {},
     "output_type": "execute_result"
    }
   ],
   "source": [
    "# Let's fix the column order \n",
    "df = pd.DataFrame({'name':['Ted', 'Ned', 'Jed'], 'Phone':['Samsung', 'Samsung', 'IOS'], 'Favorite Number':[99, 7, 4]},\n",
    "                 columns=['name', 'Phone', 'Favorite Number'])\n",
    "df"
   ]
  },
  {
   "cell_type": "markdown",
   "metadata": {},
   "source": [
    "### More info on the DataFrame\n",
    "When a Series is outputted, the data type of the values is printed to the screen. This doesn't happen with a DataFrame. Use the **`info`** method to get more info."
   ]
  },
  {
   "cell_type": "code",
   "execution_count": 176,
   "metadata": {
    "collapsed": false
   },
   "outputs": [
    {
     "name": "stdout",
     "output_type": "stream",
     "text": [
      "<class 'pandas.core.frame.DataFrame'>\n",
      "RangeIndex: 3 entries, 0 to 2\n",
      "Data columns (total 3 columns):\n",
      "name               3 non-null object\n",
      "Phone              3 non-null object\n",
      "Favorite Number    3 non-null int64\n",
      "dtypes: int64(1), object(2)\n",
      "memory usage: 152.0+ bytes\n"
     ]
    }
   ],
   "source": [
    "# get more info\n",
    "df.info()"
   ]
  },
  {
   "cell_type": "markdown",
   "metadata": {},
   "source": [
    "Lots of info above: the object type (DataFrame), the row index type(a RangeIndex), the column names and their types ('object' is used for strings) and whether there are any **null** values. A summary of the datatypes (2 object and 1 integer) and the memory usage."
   ]
  },
  {
   "cell_type": "markdown",
   "metadata": {},
   "source": [
    "### DataFrame by Pieces\n",
    "Each DataFrame has both a column **Index** and a row **Index** and values that can be represented by a 2 dimensional NumPy array. Let's see those pieces."
   ]
  },
  {
   "cell_type": "code",
   "execution_count": 177,
   "metadata": {
    "collapsed": false
   },
   "outputs": [
    {
     "data": {
      "text/plain": [
       "RangeIndex(start=0, stop=3, step=1)"
      ]
     },
     "execution_count": 177,
     "metadata": {},
     "output_type": "execute_result"
    }
   ],
   "source": [
    "# Row index is retrieved by .index\n",
    "df.index"
   ]
  },
  {
   "cell_type": "code",
   "execution_count": 178,
   "metadata": {
    "collapsed": false
   },
   "outputs": [
    {
     "data": {
      "text/plain": [
       "Index(['name', 'Phone', 'Favorite Number'], dtype='object')"
      ]
     },
     "execution_count": 178,
     "metadata": {},
     "output_type": "execute_result"
    }
   ],
   "source": [
    "# column index is just .columns\n",
    "df.columns"
   ]
  },
  {
   "cell_type": "code",
   "execution_count": 179,
   "metadata": {
    "collapsed": false
   },
   "outputs": [
    {
     "data": {
      "text/plain": [
       "array([['Ted', 'Samsung', 99],\n",
       "       ['Ned', 'Samsung', 7],\n",
       "       ['Jed', 'IOS', 4]], dtype=object)"
      ]
     },
     "execution_count": 179,
     "metadata": {},
     "output_type": "execute_result"
    }
   ],
   "source": [
    "# the values are a numpy array\n",
    "df.values"
   ]
  },
  {
   "cell_type": "markdown",
   "metadata": {},
   "source": [
    "### Get summary statistics for numeric columns\n",
    "Basic summary statistics for numeric columns can be retrieved through the **`describe`** method. **`describe`** ignores non-numeric columns"
   ]
  },
  {
   "cell_type": "code",
   "execution_count": 180,
   "metadata": {
    "collapsed": false
   },
   "outputs": [
    {
     "data": {
      "text/html": [
       "<div>\n",
       "<table border=\"1\" class=\"dataframe\">\n",
       "  <thead>\n",
       "    <tr style=\"text-align: right;\">\n",
       "      <th></th>\n",
       "      <th>Favorite Number</th>\n",
       "    </tr>\n",
       "  </thead>\n",
       "  <tbody>\n",
       "    <tr>\n",
       "      <th>count</th>\n",
       "      <td>3.000000</td>\n",
       "    </tr>\n",
       "    <tr>\n",
       "      <th>mean</th>\n",
       "      <td>36.666667</td>\n",
       "    </tr>\n",
       "    <tr>\n",
       "      <th>std</th>\n",
       "      <td>54.003086</td>\n",
       "    </tr>\n",
       "    <tr>\n",
       "      <th>min</th>\n",
       "      <td>4.000000</td>\n",
       "    </tr>\n",
       "    <tr>\n",
       "      <th>25%</th>\n",
       "      <td>5.500000</td>\n",
       "    </tr>\n",
       "    <tr>\n",
       "      <th>50%</th>\n",
       "      <td>7.000000</td>\n",
       "    </tr>\n",
       "    <tr>\n",
       "      <th>75%</th>\n",
       "      <td>53.000000</td>\n",
       "    </tr>\n",
       "    <tr>\n",
       "      <th>max</th>\n",
       "      <td>99.000000</td>\n",
       "    </tr>\n",
       "  </tbody>\n",
       "</table>\n",
       "</div>"
      ],
      "text/plain": [
       "       Favorite Number\n",
       "count         3.000000\n",
       "mean         36.666667\n",
       "std          54.003086\n",
       "min           4.000000\n",
       "25%           5.500000\n",
       "50%           7.000000\n",
       "75%          53.000000\n",
       "max          99.000000"
      ]
     },
     "execution_count": 180,
     "metadata": {},
     "output_type": "execute_result"
    }
   ],
   "source": [
    "df.describe()"
   ]
  },
  {
   "cell_type": "markdown",
   "metadata": {},
   "source": [
    "Different summary statistics for columns with characters ('objects') can be retrieved with the following"
   ]
  },
  {
   "cell_type": "code",
   "execution_count": 181,
   "metadata": {
    "collapsed": false
   },
   "outputs": [
    {
     "data": {
      "text/html": [
       "<div>\n",
       "<table border=\"1\" class=\"dataframe\">\n",
       "  <thead>\n",
       "    <tr style=\"text-align: right;\">\n",
       "      <th></th>\n",
       "      <th>name</th>\n",
       "      <th>Phone</th>\n",
       "    </tr>\n",
       "  </thead>\n",
       "  <tbody>\n",
       "    <tr>\n",
       "      <th>count</th>\n",
       "      <td>3</td>\n",
       "      <td>3</td>\n",
       "    </tr>\n",
       "    <tr>\n",
       "      <th>unique</th>\n",
       "      <td>3</td>\n",
       "      <td>2</td>\n",
       "    </tr>\n",
       "    <tr>\n",
       "      <th>top</th>\n",
       "      <td>Ned</td>\n",
       "      <td>Samsung</td>\n",
       "    </tr>\n",
       "    <tr>\n",
       "      <th>freq</th>\n",
       "      <td>1</td>\n",
       "      <td>2</td>\n",
       "    </tr>\n",
       "  </tbody>\n",
       "</table>\n",
       "</div>"
      ],
      "text/plain": [
       "       name    Phone\n",
       "count     3        3\n",
       "unique    3        2\n",
       "top     Ned  Samsung\n",
       "freq      1        2"
      ]
     },
     "execution_count": 181,
     "metadata": {},
     "output_type": "execute_result"
    }
   ],
   "source": [
    "# get summary statistics on only the 'objects'\n",
    "df.describe(include=['object'])"
   ]
  },
  {
   "cell_type": "markdown",
   "metadata": {},
   "source": [
    "### Creating a DataFrame from NumPy\n",
    "An easy way to create a DataFrame is using a 2-d numpy array. Below, a 5x10 numpy array is used with both column and row indexes provided."
   ]
  },
  {
   "cell_type": "code",
   "execution_count": 182,
   "metadata": {
    "collapsed": false
   },
   "outputs": [
    {
     "data": {
      "text/html": [
       "<div>\n",
       "<table border=\"1\" class=\"dataframe\">\n",
       "  <thead>\n",
       "    <tr style=\"text-align: right;\">\n",
       "      <th></th>\n",
       "      <th>one</th>\n",
       "      <th>two</th>\n",
       "      <th>three</th>\n",
       "      <th>four</th>\n",
       "      <th>five</th>\n",
       "    </tr>\n",
       "  </thead>\n",
       "  <tbody>\n",
       "    <tr>\n",
       "      <th>a</th>\n",
       "      <td>0.103241</td>\n",
       "      <td>0.386309</td>\n",
       "      <td>0.113734</td>\n",
       "      <td>0.452320</td>\n",
       "      <td>0.885414</td>\n",
       "    </tr>\n",
       "    <tr>\n",
       "      <th>b</th>\n",
       "      <td>0.047796</td>\n",
       "      <td>0.464106</td>\n",
       "      <td>0.562185</td>\n",
       "      <td>0.614653</td>\n",
       "      <td>0.900322</td>\n",
       "    </tr>\n",
       "    <tr>\n",
       "      <th>c</th>\n",
       "      <td>0.972248</td>\n",
       "      <td>0.670830</td>\n",
       "      <td>0.731325</td>\n",
       "      <td>0.703621</td>\n",
       "      <td>0.955253</td>\n",
       "    </tr>\n",
       "    <tr>\n",
       "      <th>d</th>\n",
       "      <td>0.814749</td>\n",
       "      <td>0.987684</td>\n",
       "      <td>0.103421</td>\n",
       "      <td>0.078620</td>\n",
       "      <td>0.232815</td>\n",
       "    </tr>\n",
       "    <tr>\n",
       "      <th>e</th>\n",
       "      <td>0.706825</td>\n",
       "      <td>0.361361</td>\n",
       "      <td>0.431343</td>\n",
       "      <td>0.364113</td>\n",
       "      <td>0.554111</td>\n",
       "    </tr>\n",
       "    <tr>\n",
       "      <th>f</th>\n",
       "      <td>0.335477</td>\n",
       "      <td>0.004456</td>\n",
       "      <td>0.709579</td>\n",
       "      <td>0.544189</td>\n",
       "      <td>0.777761</td>\n",
       "    </tr>\n",
       "    <tr>\n",
       "      <th>g</th>\n",
       "      <td>0.854552</td>\n",
       "      <td>0.277256</td>\n",
       "      <td>0.908826</td>\n",
       "      <td>0.358026</td>\n",
       "      <td>0.815923</td>\n",
       "    </tr>\n",
       "    <tr>\n",
       "      <th>h</th>\n",
       "      <td>0.181461</td>\n",
       "      <td>0.913917</td>\n",
       "      <td>0.023292</td>\n",
       "      <td>0.936569</td>\n",
       "      <td>0.487710</td>\n",
       "    </tr>\n",
       "    <tr>\n",
       "      <th>i</th>\n",
       "      <td>0.082133</td>\n",
       "      <td>0.274848</td>\n",
       "      <td>0.186008</td>\n",
       "      <td>0.879219</td>\n",
       "      <td>0.329196</td>\n",
       "    </tr>\n",
       "    <tr>\n",
       "      <th>j</th>\n",
       "      <td>0.824497</td>\n",
       "      <td>0.044611</td>\n",
       "      <td>0.895049</td>\n",
       "      <td>0.748504</td>\n",
       "      <td>0.983914</td>\n",
       "    </tr>\n",
       "  </tbody>\n",
       "</table>\n",
       "</div>"
      ],
      "text/plain": [
       "        one       two     three      four      five\n",
       "a  0.103241  0.386309  0.113734  0.452320  0.885414\n",
       "b  0.047796  0.464106  0.562185  0.614653  0.900322\n",
       "c  0.972248  0.670830  0.731325  0.703621  0.955253\n",
       "d  0.814749  0.987684  0.103421  0.078620  0.232815\n",
       "e  0.706825  0.361361  0.431343  0.364113  0.554111\n",
       "f  0.335477  0.004456  0.709579  0.544189  0.777761\n",
       "g  0.854552  0.277256  0.908826  0.358026  0.815923\n",
       "h  0.181461  0.913917  0.023292  0.936569  0.487710\n",
       "i  0.082133  0.274848  0.186008  0.879219  0.329196\n",
       "j  0.824497  0.044611  0.895049  0.748504  0.983914"
      ]
     },
     "execution_count": 182,
     "metadata": {},
     "output_type": "execute_result"
    }
   ],
   "source": [
    "df = pd.DataFrame(np.random.rand(10,5), columns=['one', 'two', 'three', 'four', 'five'], index=list('abcdefghij'))\n",
    "df"
   ]
  },
  {
   "cell_type": "markdown",
   "metadata": {},
   "source": [
    "## Your data is horrible. Can we speed it up and get some real data?\n",
    "Yes, there is a dataset that was downloaded from the [city of Houston](http://data.ohouston.org/dataset/city-of-houston-current-employee-roster) that has employee information. Information for 2000 emmployees such as name, department, salary, race and others are provided. The **`read_csv`** pandas function can read in csv files. There are many options in the function for handling the wide variety of csvs that you are likely to encounter in the wild."
   ]
  },
  {
   "cell_type": "code",
   "execution_count": 183,
   "metadata": {
    "collapsed": true
   },
   "outputs": [],
   "source": [
    "# There are numerous options to read_csv but this is already a clean dataset so we don't use them now\n",
    "df_coh = pd.read_csv('data/coh_employee.csv')"
   ]
  },
  {
   "cell_type": "markdown",
   "metadata": {},
   "source": [
    "### Standard operations on a new dataset\n",
    "When reading in a new dataset, I usually run a standard set of commands to get basic information on the dataset. **`shape, head, info, describe`** "
   ]
  },
  {
   "cell_type": "code",
   "execution_count": 184,
   "metadata": {
    "collapsed": false
   },
   "outputs": [
    {
     "data": {
      "text/plain": [
       "(2000, 31)"
      ]
     },
     "execution_count": 184,
     "metadata": {},
     "output_type": "execute_result"
    }
   ],
   "source": [
    "# get the dimensions of the dataset\n",
    "df_coh.shape"
   ]
  },
  {
   "cell_type": "code",
   "execution_count": 185,
   "metadata": {
    "collapsed": false
   },
   "outputs": [
    {
     "data": {
      "text/html": [
       "<div>\n",
       "<table border=\"1\" class=\"dataframe\">\n",
       "  <thead>\n",
       "    <tr style=\"text-align: right;\">\n",
       "      <th></th>\n",
       "      <th>UNIQUE_ID</th>\n",
       "      <th>FIRST_NAME</th>\n",
       "      <th>LAST_NAME</th>\n",
       "      <th>POSITION_NUMBER</th>\n",
       "      <th>POSITION_JOB_CODE</th>\n",
       "      <th>POSITION_TITLE</th>\n",
       "      <th>BUSINESS_AREA</th>\n",
       "      <th>DEPARTMENT</th>\n",
       "      <th>PAY_GRADE</th>\n",
       "      <th>FUND_ID</th>\n",
       "      <th>FUND_NAME</th>\n",
       "      <th>COST_CENTER</th>\n",
       "      <th>COST_CENTER_NAME</th>\n",
       "      <th>REPORTS_TO_POSITION</th>\n",
       "      <th>MANAGER_NAME</th>\n",
       "      <th>BASE_SALARY</th>\n",
       "      <th>ORG_UNIT</th>\n",
       "      <th>ORG_UNIT_NAME</th>\n",
       "      <th>ETHNICITY</th>\n",
       "      <th>RACE</th>\n",
       "      <th>EMPLOYMENT_TYPE</th>\n",
       "      <th>EMPLOYMENT_SUB_GROUP</th>\n",
       "      <th>EXEMPT</th>\n",
       "      <th>GENDER</th>\n",
       "      <th>EMPLOYMENT_STATUS</th>\n",
       "      <th>CIVIL_SERVICE_TYPE</th>\n",
       "      <th>HIRE_DATE</th>\n",
       "      <th>JOB_DATE</th>\n",
       "      <th>COMP_DATE</th>\n",
       "      <th>EEOJ</th>\n",
       "      <th>SNAPSHOT_DATE</th>\n",
       "    </tr>\n",
       "  </thead>\n",
       "  <tbody>\n",
       "    <tr>\n",
       "      <th>0</th>\n",
       "      <td>9172</td>\n",
       "      <td>LILLIAN</td>\n",
       "      <td>WARDEN</td>\n",
       "      <td>30027193</td>\n",
       "      <td>306.2</td>\n",
       "      <td>ASSISTANT DIRECTOR (EX LVL)</td>\n",
       "      <td>1600</td>\n",
       "      <td>Municipal Courts Department</td>\n",
       "      <td>32</td>\n",
       "      <td>1000</td>\n",
       "      <td>General Fund</td>\n",
       "      <td>1600010001</td>\n",
       "      <td>MCD-Admin Services</td>\n",
       "      <td>30044747.0</td>\n",
       "      <td>NELLY SANTOS</td>\n",
       "      <td>121862.0</td>\n",
       "      <td>16.1410</td>\n",
       "      <td>MCD-ADMINISTRATIVE SERVICES</td>\n",
       "      <td>HISPANIC</td>\n",
       "      <td>Hispanic/Latino</td>\n",
       "      <td>Full Time</td>\n",
       "      <td>Exempt Excptn</td>\n",
       "      <td>E</td>\n",
       "      <td>Female</td>\n",
       "      <td>Active</td>\n",
       "      <td>CIVILIAN</td>\n",
       "      <td>2006-06-12</td>\n",
       "      <td>2012-10-13</td>\n",
       "      <td>1998-05-13</td>\n",
       "      <td>A: Officials &amp; Administrators</td>\n",
       "      <td>2016-06-01</td>\n",
       "    </tr>\n",
       "    <tr>\n",
       "      <th>1</th>\n",
       "      <td>12311</td>\n",
       "      <td>ESPERANZA</td>\n",
       "      <td>RODRIGUEZ</td>\n",
       "      <td>30044399</td>\n",
       "      <td>901.2</td>\n",
       "      <td>LIBRARY ASSISTANT</td>\n",
       "      <td>3400</td>\n",
       "      <td>Library</td>\n",
       "      <td>05</td>\n",
       "      <td>1000</td>\n",
       "      <td>General Fund</td>\n",
       "      <td>3400070001</td>\n",
       "      <td>HPL-Neigh Lib Syst</td>\n",
       "      <td>30044159.0</td>\n",
       "      <td>MIGDALIA SEPULVEDA</td>\n",
       "      <td>26125.0</td>\n",
       "      <td>34.7001.27</td>\n",
       "      <td>HPL-NEIGHBORHOOD LIBRARY SERVICES</td>\n",
       "      <td>HISPANIC</td>\n",
       "      <td>Hispanic/Latino</td>\n",
       "      <td>Full Time</td>\n",
       "      <td>Non Exempt Postv</td>\n",
       "      <td>N</td>\n",
       "      <td>Female</td>\n",
       "      <td>Active</td>\n",
       "      <td>CIVILIAN</td>\n",
       "      <td>2000-07-19</td>\n",
       "      <td>2010-09-18</td>\n",
       "      <td>2000-07-19</td>\n",
       "      <td>E: Para-Professionals</td>\n",
       "      <td>2016-06-01</td>\n",
       "    </tr>\n",
       "    <tr>\n",
       "      <th>2</th>\n",
       "      <td>28693</td>\n",
       "      <td>JONATHAN</td>\n",
       "      <td>JORSCH JR.</td>\n",
       "      <td>30063393</td>\n",
       "      <td>108.0</td>\n",
       "      <td>POLICE OFFICER</td>\n",
       "      <td>1000</td>\n",
       "      <td>Houston Police Department-HPD</td>\n",
       "      <td>PA03</td>\n",
       "      <td>1000</td>\n",
       "      <td>General Fund</td>\n",
       "      <td>1000010068</td>\n",
       "      <td>HPD-Vehicular Crimes</td>\n",
       "      <td>30060941.0</td>\n",
       "      <td>CATRINA WILLIAMS</td>\n",
       "      <td>45279.0</td>\n",
       "      <td>10.1687.0130</td>\n",
       "      <td>HPD-VEHICULAR CRIMES DIVISION</td>\n",
       "      <td>WHITE, NOT OF HISPANIC ORIGIN</td>\n",
       "      <td>White</td>\n",
       "      <td>Full Time</td>\n",
       "      <td>Non-Exempt Excptn</td>\n",
       "      <td>N</td>\n",
       "      <td>Male</td>\n",
       "      <td>Active</td>\n",
       "      <td>CLASSIFIED</td>\n",
       "      <td>2015-02-03</td>\n",
       "      <td>2015-02-03</td>\n",
       "      <td>2014-02-03</td>\n",
       "      <td>D: Protective Service Workers</td>\n",
       "      <td>2016-06-01</td>\n",
       "    </tr>\n",
       "    <tr>\n",
       "      <th>3</th>\n",
       "      <td>2359</td>\n",
       "      <td>JOHN</td>\n",
       "      <td>HARE</td>\n",
       "      <td>30007418</td>\n",
       "      <td>103.2</td>\n",
       "      <td>ENGINEER/OPERATOR</td>\n",
       "      <td>1200</td>\n",
       "      <td>Houston Fire Department (HFD)</td>\n",
       "      <td>FD04</td>\n",
       "      <td>1000</td>\n",
       "      <td>General Fund</td>\n",
       "      <td>1200030001</td>\n",
       "      <td>HFD-Deployment</td>\n",
       "      <td>NaN</td>\n",
       "      <td>NaN</td>\n",
       "      <td>63166.0</td>\n",
       "      <td>12.1210</td>\n",
       "      <td>HFD-FIRE &amp; EMS OPERATIONS</td>\n",
       "      <td>WHITE, NOT OF HISPANIC ORIGIN</td>\n",
       "      <td>White</td>\n",
       "      <td>Full Time</td>\n",
       "      <td>NE Suprsn Excptn</td>\n",
       "      <td>N</td>\n",
       "      <td>Male</td>\n",
       "      <td>Active</td>\n",
       "      <td>CLASSIFIED</td>\n",
       "      <td>1982-02-08</td>\n",
       "      <td>1991-05-25</td>\n",
       "      <td>1982-02-08</td>\n",
       "      <td>D: Protective Service Workers</td>\n",
       "      <td>2016-06-01</td>\n",
       "    </tr>\n",
       "    <tr>\n",
       "      <th>4</th>\n",
       "      <td>5123</td>\n",
       "      <td>RUSSELL</td>\n",
       "      <td>GALBREATH</td>\n",
       "      <td>30006294</td>\n",
       "      <td>523.2</td>\n",
       "      <td>ELECTRICIAN</td>\n",
       "      <td>2500</td>\n",
       "      <td>General Services Department</td>\n",
       "      <td>18</td>\n",
       "      <td>2105</td>\n",
       "      <td>Maintenance Renewal and Replacement Fund</td>\n",
       "      <td>2500100003</td>\n",
       "      <td>GSD-MRR-Maint</td>\n",
       "      <td>30008673.0</td>\n",
       "      <td>JOHN BOGNEY</td>\n",
       "      <td>56347.0</td>\n",
       "      <td>25.1416</td>\n",
       "      <td>GSD-PROPERTY MGMT MAINT &amp; OPER</td>\n",
       "      <td>WHITE, NOT OF HISPANIC ORIGIN</td>\n",
       "      <td>White</td>\n",
       "      <td>Full Time</td>\n",
       "      <td>Non Exempt Postv</td>\n",
       "      <td>N</td>\n",
       "      <td>Male</td>\n",
       "      <td>Active</td>\n",
       "      <td>CIVILIAN</td>\n",
       "      <td>1989-06-19</td>\n",
       "      <td>1994-10-22</td>\n",
       "      <td>1989-06-19</td>\n",
       "      <td>G: Skilled Craft Workers</td>\n",
       "      <td>2016-06-01</td>\n",
       "    </tr>\n",
       "    <tr>\n",
       "      <th>5</th>\n",
       "      <td>3688</td>\n",
       "      <td>CRAIG</td>\n",
       "      <td>PENNAMON</td>\n",
       "      <td>30005060</td>\n",
       "      <td>108.2</td>\n",
       "      <td>SENIOR POLICE OFFICER</td>\n",
       "      <td>1000</td>\n",
       "      <td>Houston Police Department-HPD</td>\n",
       "      <td>PA04</td>\n",
       "      <td>1000</td>\n",
       "      <td>General Fund</td>\n",
       "      <td>1000010007</td>\n",
       "      <td>HPD-NightCmd/Secur</td>\n",
       "      <td>30060536.0</td>\n",
       "      <td>SOTHEN SOR</td>\n",
       "      <td>66614.0</td>\n",
       "      <td>10.1781.0040</td>\n",
       "      <td>HPD-NIGHT COMMAND/SECURITY OPERATIONS</td>\n",
       "      <td>BLACK, NOT OF HISPANIC ORIGIN</td>\n",
       "      <td>Black or African American</td>\n",
       "      <td>Full Time</td>\n",
       "      <td>Non-Exempt Excptn</td>\n",
       "      <td>N</td>\n",
       "      <td>Male</td>\n",
       "      <td>Active</td>\n",
       "      <td>CLASSIFIED</td>\n",
       "      <td>1984-11-26</td>\n",
       "      <td>2005-03-26</td>\n",
       "      <td>1984-11-26</td>\n",
       "      <td>D: Protective Service Workers</td>\n",
       "      <td>2016-06-01</td>\n",
       "    </tr>\n",
       "    <tr>\n",
       "      <th>6</th>\n",
       "      <td>25295</td>\n",
       "      <td>PETER</td>\n",
       "      <td>TRUONG</td>\n",
       "      <td>30049153</td>\n",
       "      <td>778.4</td>\n",
       "      <td>ENGINEER</td>\n",
       "      <td>2000</td>\n",
       "      <td>Public Works &amp; Engineering-PWE</td>\n",
       "      <td>26</td>\n",
       "      <td>8300</td>\n",
       "      <td>PWE-W &amp; S System Operating Fund</td>\n",
       "      <td>2000040009</td>\n",
       "      <td>PWE-WWO Contr Mgmt</td>\n",
       "      <td>30049155.0</td>\n",
       "      <td>MONCEF TIHAMI</td>\n",
       "      <td>71680.0</td>\n",
       "      <td>20.1846.06</td>\n",
       "      <td>PWE-ENGINEERING SUPPORT</td>\n",
       "      <td>ASIAN OR PACIFIC ISLANDER</td>\n",
       "      <td>Asian/Pacific Islander</td>\n",
       "      <td>Full Time</td>\n",
       "      <td>Exempt Excptn</td>\n",
       "      <td>E</td>\n",
       "      <td>Male</td>\n",
       "      <td>Active</td>\n",
       "      <td>CIVILIAN</td>\n",
       "      <td>2012-03-26</td>\n",
       "      <td>2012-03-26</td>\n",
       "      <td>2012-03-26</td>\n",
       "      <td>B: Professionals</td>\n",
       "      <td>2016-06-01</td>\n",
       "    </tr>\n",
       "    <tr>\n",
       "      <th>7</th>\n",
       "      <td>28212</td>\n",
       "      <td>JEFFREY</td>\n",
       "      <td>DELLING</td>\n",
       "      <td>30043726</td>\n",
       "      <td>520.3</td>\n",
       "      <td>CARPENTER</td>\n",
       "      <td>2800</td>\n",
       "      <td>Houston Airport System (HAS)</td>\n",
       "      <td>14</td>\n",
       "      <td>8001</td>\n",
       "      <td>HAS-Revenue Fund</td>\n",
       "      <td>2800040017</td>\n",
       "      <td>HAS-IAH-AMG A&amp;G</td>\n",
       "      <td>30047472.0</td>\n",
       "      <td>SHANTEL WOODS</td>\n",
       "      <td>42390.0</td>\n",
       "      <td>28.1377.3000</td>\n",
       "      <td>HAS-IAH SCHEDULED MAINTENANCE</td>\n",
       "      <td>WHITE, NOT OF HISPANIC ORIGIN</td>\n",
       "      <td>White</td>\n",
       "      <td>Full Time</td>\n",
       "      <td>Non Exempt Postv</td>\n",
       "      <td>N</td>\n",
       "      <td>Male</td>\n",
       "      <td>Active</td>\n",
       "      <td>CIVILIAN</td>\n",
       "      <td>2013-11-04</td>\n",
       "      <td>2013-11-04</td>\n",
       "      <td>2013-11-04</td>\n",
       "      <td>G: Skilled Craft Workers</td>\n",
       "      <td>2016-06-01</td>\n",
       "    </tr>\n",
       "    <tr>\n",
       "      <th>8</th>\n",
       "      <td>8010</td>\n",
       "      <td>ROBERT</td>\n",
       "      <td>OAKES</td>\n",
       "      <td>30051248</td>\n",
       "      <td>306.3</td>\n",
       "      <td>DEPUTY ASSISTANT DIRECTOR (EXECUTIVE LEV</td>\n",
       "      <td>2000</td>\n",
       "      <td>Public Works &amp; Engineering-PWE</td>\n",
       "      <td>30</td>\n",
       "      <td>2301</td>\n",
       "      <td>Building Inspection Fund</td>\n",
       "      <td>2000060004</td>\n",
       "      <td>PWE-BldgOfficialOffi</td>\n",
       "      <td>30043470.0</td>\n",
       "      <td>EARL GREER</td>\n",
       "      <td>107962.0</td>\n",
       "      <td>20.2123.01</td>\n",
       "      <td>PWE-OFFICE OF THE BLDG OFFICIAL</td>\n",
       "      <td>WHITE, NOT OF HISPANIC ORIGIN</td>\n",
       "      <td>White</td>\n",
       "      <td>Full Time</td>\n",
       "      <td>Exempt Excptn</td>\n",
       "      <td>E</td>\n",
       "      <td>Male</td>\n",
       "      <td>Active</td>\n",
       "      <td>CIVILIAN</td>\n",
       "      <td>1993-11-15</td>\n",
       "      <td>2013-01-05</td>\n",
       "      <td>1993-11-15</td>\n",
       "      <td>A: Officials &amp; Administrators</td>\n",
       "      <td>2016-06-01</td>\n",
       "    </tr>\n",
       "    <tr>\n",
       "      <th>9</th>\n",
       "      <td>32504</td>\n",
       "      <td>DAMIAN</td>\n",
       "      <td>LEFFLER</td>\n",
       "      <td>30019784</td>\n",
       "      <td>926.3</td>\n",
       "      <td>AIRPORT OPERATIONS COORDINATOR</td>\n",
       "      <td>2800</td>\n",
       "      <td>Houston Airport System (HAS)</td>\n",
       "      <td>20</td>\n",
       "      <td>8001</td>\n",
       "      <td>HAS-Revenue Fund</td>\n",
       "      <td>2800060007</td>\n",
       "      <td>HAS-HOU-SEP-ID Badge</td>\n",
       "      <td>30015643.0</td>\n",
       "      <td>FLETCHER CLARK III</td>\n",
       "      <td>44616.0</td>\n",
       "      <td>28.1585.1200</td>\n",
       "      <td>HAS-HOU SEP SECURITY</td>\n",
       "      <td>WHITE, NOT OF HISPANIC ORIGIN</td>\n",
       "      <td>NaN</td>\n",
       "      <td>Full Time</td>\n",
       "      <td>Non Exempt Postv</td>\n",
       "      <td>N</td>\n",
       "      <td>Male</td>\n",
       "      <td>Active</td>\n",
       "      <td>CIVILIAN</td>\n",
       "      <td>2016-03-14</td>\n",
       "      <td>2016-03-14</td>\n",
       "      <td>2016-03-14</td>\n",
       "      <td>B: Professionals</td>\n",
       "      <td>2016-06-01</td>\n",
       "    </tr>\n",
       "  </tbody>\n",
       "</table>\n",
       "</div>"
      ],
      "text/plain": [
       "   UNIQUE_ID FIRST_NAME   LAST_NAME  POSITION_NUMBER  POSITION_JOB_CODE  \\\n",
       "0       9172    LILLIAN      WARDEN         30027193              306.2   \n",
       "1      12311  ESPERANZA   RODRIGUEZ         30044399              901.2   \n",
       "2      28693   JONATHAN  JORSCH JR.         30063393              108.0   \n",
       "3       2359       JOHN        HARE         30007418              103.2   \n",
       "4       5123    RUSSELL   GALBREATH         30006294              523.2   \n",
       "5       3688      CRAIG    PENNAMON         30005060              108.2   \n",
       "6      25295      PETER      TRUONG         30049153              778.4   \n",
       "7      28212    JEFFREY     DELLING         30043726              520.3   \n",
       "8       8010     ROBERT       OAKES         30051248              306.3   \n",
       "9      32504     DAMIAN     LEFFLER         30019784              926.3   \n",
       "\n",
       "                             POSITION_TITLE  BUSINESS_AREA  \\\n",
       "0               ASSISTANT DIRECTOR (EX LVL)           1600   \n",
       "1                         LIBRARY ASSISTANT           3400   \n",
       "2                            POLICE OFFICER           1000   \n",
       "3                         ENGINEER/OPERATOR           1200   \n",
       "4                               ELECTRICIAN           2500   \n",
       "5                     SENIOR POLICE OFFICER           1000   \n",
       "6                                  ENGINEER           2000   \n",
       "7                                 CARPENTER           2800   \n",
       "8  DEPUTY ASSISTANT DIRECTOR (EXECUTIVE LEV           2000   \n",
       "9            AIRPORT OPERATIONS COORDINATOR           2800   \n",
       "\n",
       "                       DEPARTMENT PAY_GRADE  FUND_ID  \\\n",
       "0     Municipal Courts Department        32     1000   \n",
       "1                         Library        05     1000   \n",
       "2   Houston Police Department-HPD      PA03     1000   \n",
       "3   Houston Fire Department (HFD)      FD04     1000   \n",
       "4     General Services Department        18     2105   \n",
       "5   Houston Police Department-HPD      PA04     1000   \n",
       "6  Public Works & Engineering-PWE        26     8300   \n",
       "7    Houston Airport System (HAS)        14     8001   \n",
       "8  Public Works & Engineering-PWE        30     2301   \n",
       "9    Houston Airport System (HAS)        20     8001   \n",
       "\n",
       "                                  FUND_NAME  COST_CENTER  \\\n",
       "0                              General Fund   1600010001   \n",
       "1                              General Fund   3400070001   \n",
       "2                              General Fund   1000010068   \n",
       "3                              General Fund   1200030001   \n",
       "4  Maintenance Renewal and Replacement Fund   2500100003   \n",
       "5                              General Fund   1000010007   \n",
       "6           PWE-W & S System Operating Fund   2000040009   \n",
       "7                          HAS-Revenue Fund   2800040017   \n",
       "8                  Building Inspection Fund   2000060004   \n",
       "9                          HAS-Revenue Fund   2800060007   \n",
       "\n",
       "       COST_CENTER_NAME  REPORTS_TO_POSITION        MANAGER_NAME  BASE_SALARY  \\\n",
       "0    MCD-Admin Services           30044747.0        NELLY SANTOS     121862.0   \n",
       "1    HPL-Neigh Lib Syst           30044159.0  MIGDALIA SEPULVEDA      26125.0   \n",
       "2  HPD-Vehicular Crimes           30060941.0    CATRINA WILLIAMS      45279.0   \n",
       "3        HFD-Deployment                  NaN                 NaN      63166.0   \n",
       "4         GSD-MRR-Maint           30008673.0         JOHN BOGNEY      56347.0   \n",
       "5    HPD-NightCmd/Secur           30060536.0          SOTHEN SOR      66614.0   \n",
       "6    PWE-WWO Contr Mgmt           30049155.0       MONCEF TIHAMI      71680.0   \n",
       "7       HAS-IAH-AMG A&G           30047472.0       SHANTEL WOODS      42390.0   \n",
       "8  PWE-BldgOfficialOffi           30043470.0          EARL GREER     107962.0   \n",
       "9  HAS-HOU-SEP-ID Badge           30015643.0  FLETCHER CLARK III      44616.0   \n",
       "\n",
       "       ORG_UNIT                          ORG_UNIT_NAME  \\\n",
       "0       16.1410            MCD-ADMINISTRATIVE SERVICES   \n",
       "1    34.7001.27      HPL-NEIGHBORHOOD LIBRARY SERVICES   \n",
       "2  10.1687.0130          HPD-VEHICULAR CRIMES DIVISION   \n",
       "3       12.1210              HFD-FIRE & EMS OPERATIONS   \n",
       "4       25.1416         GSD-PROPERTY MGMT MAINT & OPER   \n",
       "5  10.1781.0040  HPD-NIGHT COMMAND/SECURITY OPERATIONS   \n",
       "6    20.1846.06                PWE-ENGINEERING SUPPORT   \n",
       "7  28.1377.3000          HAS-IAH SCHEDULED MAINTENANCE   \n",
       "8    20.2123.01        PWE-OFFICE OF THE BLDG OFFICIAL   \n",
       "9  28.1585.1200                   HAS-HOU SEP SECURITY   \n",
       "\n",
       "                       ETHNICITY                       RACE EMPLOYMENT_TYPE  \\\n",
       "0                       HISPANIC            Hispanic/Latino       Full Time   \n",
       "1                       HISPANIC            Hispanic/Latino       Full Time   \n",
       "2  WHITE, NOT OF HISPANIC ORIGIN                      White       Full Time   \n",
       "3  WHITE, NOT OF HISPANIC ORIGIN                      White       Full Time   \n",
       "4  WHITE, NOT OF HISPANIC ORIGIN                      White       Full Time   \n",
       "5  BLACK, NOT OF HISPANIC ORIGIN  Black or African American       Full Time   \n",
       "6      ASIAN OR PACIFIC ISLANDER     Asian/Pacific Islander       Full Time   \n",
       "7  WHITE, NOT OF HISPANIC ORIGIN                      White       Full Time   \n",
       "8  WHITE, NOT OF HISPANIC ORIGIN                      White       Full Time   \n",
       "9  WHITE, NOT OF HISPANIC ORIGIN                        NaN       Full Time   \n",
       "\n",
       "  EMPLOYMENT_SUB_GROUP EXEMPT  GENDER EMPLOYMENT_STATUS CIVIL_SERVICE_TYPE  \\\n",
       "0        Exempt Excptn      E  Female            Active           CIVILIAN   \n",
       "1     Non Exempt Postv      N  Female            Active           CIVILIAN   \n",
       "2    Non-Exempt Excptn      N    Male            Active         CLASSIFIED   \n",
       "3     NE Suprsn Excptn      N    Male            Active         CLASSIFIED   \n",
       "4     Non Exempt Postv      N    Male            Active           CIVILIAN   \n",
       "5    Non-Exempt Excptn      N    Male            Active         CLASSIFIED   \n",
       "6        Exempt Excptn      E    Male            Active           CIVILIAN   \n",
       "7     Non Exempt Postv      N    Male            Active           CIVILIAN   \n",
       "8        Exempt Excptn      E    Male            Active           CIVILIAN   \n",
       "9     Non Exempt Postv      N    Male            Active           CIVILIAN   \n",
       "\n",
       "    HIRE_DATE    JOB_DATE   COMP_DATE                           EEOJ  \\\n",
       "0  2006-06-12  2012-10-13  1998-05-13  A: Officials & Administrators   \n",
       "1  2000-07-19  2010-09-18  2000-07-19          E: Para-Professionals   \n",
       "2  2015-02-03  2015-02-03  2014-02-03  D: Protective Service Workers   \n",
       "3  1982-02-08  1991-05-25  1982-02-08  D: Protective Service Workers   \n",
       "4  1989-06-19  1994-10-22  1989-06-19       G: Skilled Craft Workers   \n",
       "5  1984-11-26  2005-03-26  1984-11-26  D: Protective Service Workers   \n",
       "6  2012-03-26  2012-03-26  2012-03-26               B: Professionals   \n",
       "7  2013-11-04  2013-11-04  2013-11-04       G: Skilled Craft Workers   \n",
       "8  1993-11-15  2013-01-05  1993-11-15  A: Officials & Administrators   \n",
       "9  2016-03-14  2016-03-14  2016-03-14               B: Professionals   \n",
       "\n",
       "  SNAPSHOT_DATE  \n",
       "0    2016-06-01  \n",
       "1    2016-06-01  \n",
       "2    2016-06-01  \n",
       "3    2016-06-01  \n",
       "4    2016-06-01  \n",
       "5    2016-06-01  \n",
       "6    2016-06-01  \n",
       "7    2016-06-01  \n",
       "8    2016-06-01  \n",
       "9    2016-06-01  "
      ]
     },
     "execution_count": 185,
     "metadata": {},
     "output_type": "execute_result"
    }
   ],
   "source": [
    "#lets get a small glimpse of it\n",
    "df_coh.head(10)"
   ]
  },
  {
   "cell_type": "markdown",
   "metadata": {},
   "source": [
    "### Changing display settings\n",
    "If you scroll to the right, you will notice that not all 31 columns are displayed to the screen. Pandas comes with default values for a couple dozen display settings to help control output. One of these parameters is the number of columns displayed to the screen. The options can all be found under **`pd.options.display`**. The all the display settings that can be changed below."
   ]
  },
  {
   "cell_type": "code",
   "execution_count": 186,
   "metadata": {
    "collapsed": false
   },
   "outputs": [
    {
     "data": {
      "text/plain": [
       "['chop_threshold',\n",
       " 'colheader_justify',\n",
       " 'column_space',\n",
       " 'date_dayfirst',\n",
       " 'date_yearfirst',\n",
       " 'encoding',\n",
       " 'expand_frame_repr',\n",
       " 'float_format',\n",
       " 'height',\n",
       " 'large_repr',\n",
       " 'latex',\n",
       " 'line_width',\n",
       " 'max_categories',\n",
       " 'max_columns',\n",
       " 'max_colwidth',\n",
       " 'max_info_columns',\n",
       " 'max_info_rows',\n",
       " 'max_rows',\n",
       " 'max_seq_items',\n",
       " 'memory_usage',\n",
       " 'mpl_style',\n",
       " 'multi_sparse',\n",
       " 'notebook_repr_html',\n",
       " 'pprint_nest_depth',\n",
       " 'precision',\n",
       " 'show_dimensions',\n",
       " 'unicode',\n",
       " 'width']"
      ]
     },
     "execution_count": 186,
     "metadata": {},
     "output_type": "execute_result"
    }
   ],
   "source": [
    "dir(pd.options.display)"
   ]
  },
  {
   "cell_type": "code",
   "execution_count": 187,
   "metadata": {
    "collapsed": false
   },
   "outputs": [
    {
     "data": {
      "text/plain": [
       "40"
      ]
     },
     "execution_count": 187,
     "metadata": {},
     "output_type": "execute_result"
    }
   ],
   "source": [
    "# Lets see the current settings\n",
    "pd.options.display.max_columns"
   ]
  },
  {
   "cell_type": "markdown",
   "metadata": {},
   "source": [
    "Only 20 of the 30 columns are printed out in the notebook. We can adjust this setting easily by reassigning its value. More info on [pandas options settings](http://pandas.pydata.org/pandas-docs/stable/options.html)."
   ]
  },
  {
   "cell_type": "code",
   "execution_count": 188,
   "metadata": {
    "collapsed": true
   },
   "outputs": [],
   "source": [
    "# reassign max_columns\n",
    "pd.options.display.max_columns = 40"
   ]
  },
  {
   "cell_type": "code",
   "execution_count": 189,
   "metadata": {
    "collapsed": false
   },
   "outputs": [
    {
     "data": {
      "text/html": [
       "<div>\n",
       "<table border=\"1\" class=\"dataframe\">\n",
       "  <thead>\n",
       "    <tr style=\"text-align: right;\">\n",
       "      <th></th>\n",
       "      <th>UNIQUE_ID</th>\n",
       "      <th>FIRST_NAME</th>\n",
       "      <th>LAST_NAME</th>\n",
       "      <th>POSITION_NUMBER</th>\n",
       "      <th>POSITION_JOB_CODE</th>\n",
       "      <th>POSITION_TITLE</th>\n",
       "      <th>BUSINESS_AREA</th>\n",
       "      <th>DEPARTMENT</th>\n",
       "      <th>PAY_GRADE</th>\n",
       "      <th>FUND_ID</th>\n",
       "      <th>FUND_NAME</th>\n",
       "      <th>COST_CENTER</th>\n",
       "      <th>COST_CENTER_NAME</th>\n",
       "      <th>REPORTS_TO_POSITION</th>\n",
       "      <th>MANAGER_NAME</th>\n",
       "      <th>BASE_SALARY</th>\n",
       "      <th>ORG_UNIT</th>\n",
       "      <th>ORG_UNIT_NAME</th>\n",
       "      <th>ETHNICITY</th>\n",
       "      <th>RACE</th>\n",
       "      <th>EMPLOYMENT_TYPE</th>\n",
       "      <th>EMPLOYMENT_SUB_GROUP</th>\n",
       "      <th>EXEMPT</th>\n",
       "      <th>GENDER</th>\n",
       "      <th>EMPLOYMENT_STATUS</th>\n",
       "      <th>CIVIL_SERVICE_TYPE</th>\n",
       "      <th>HIRE_DATE</th>\n",
       "      <th>JOB_DATE</th>\n",
       "      <th>COMP_DATE</th>\n",
       "      <th>EEOJ</th>\n",
       "      <th>SNAPSHOT_DATE</th>\n",
       "    </tr>\n",
       "  </thead>\n",
       "  <tbody>\n",
       "    <tr>\n",
       "      <th>0</th>\n",
       "      <td>9172</td>\n",
       "      <td>LILLIAN</td>\n",
       "      <td>WARDEN</td>\n",
       "      <td>30027193</td>\n",
       "      <td>306.2</td>\n",
       "      <td>ASSISTANT DIRECTOR (EX LVL)</td>\n",
       "      <td>1600</td>\n",
       "      <td>Municipal Courts Department</td>\n",
       "      <td>32</td>\n",
       "      <td>1000</td>\n",
       "      <td>General Fund</td>\n",
       "      <td>1600010001</td>\n",
       "      <td>MCD-Admin Services</td>\n",
       "      <td>30044747.0</td>\n",
       "      <td>NELLY SANTOS</td>\n",
       "      <td>121862.0</td>\n",
       "      <td>16.1410</td>\n",
       "      <td>MCD-ADMINISTRATIVE SERVICES</td>\n",
       "      <td>HISPANIC</td>\n",
       "      <td>Hispanic/Latino</td>\n",
       "      <td>Full Time</td>\n",
       "      <td>Exempt Excptn</td>\n",
       "      <td>E</td>\n",
       "      <td>Female</td>\n",
       "      <td>Active</td>\n",
       "      <td>CIVILIAN</td>\n",
       "      <td>2006-06-12</td>\n",
       "      <td>2012-10-13</td>\n",
       "      <td>1998-05-13</td>\n",
       "      <td>A: Officials &amp; Administrators</td>\n",
       "      <td>2016-06-01</td>\n",
       "    </tr>\n",
       "    <tr>\n",
       "      <th>1</th>\n",
       "      <td>12311</td>\n",
       "      <td>ESPERANZA</td>\n",
       "      <td>RODRIGUEZ</td>\n",
       "      <td>30044399</td>\n",
       "      <td>901.2</td>\n",
       "      <td>LIBRARY ASSISTANT</td>\n",
       "      <td>3400</td>\n",
       "      <td>Library</td>\n",
       "      <td>05</td>\n",
       "      <td>1000</td>\n",
       "      <td>General Fund</td>\n",
       "      <td>3400070001</td>\n",
       "      <td>HPL-Neigh Lib Syst</td>\n",
       "      <td>30044159.0</td>\n",
       "      <td>MIGDALIA SEPULVEDA</td>\n",
       "      <td>26125.0</td>\n",
       "      <td>34.7001.27</td>\n",
       "      <td>HPL-NEIGHBORHOOD LIBRARY SERVICES</td>\n",
       "      <td>HISPANIC</td>\n",
       "      <td>Hispanic/Latino</td>\n",
       "      <td>Full Time</td>\n",
       "      <td>Non Exempt Postv</td>\n",
       "      <td>N</td>\n",
       "      <td>Female</td>\n",
       "      <td>Active</td>\n",
       "      <td>CIVILIAN</td>\n",
       "      <td>2000-07-19</td>\n",
       "      <td>2010-09-18</td>\n",
       "      <td>2000-07-19</td>\n",
       "      <td>E: Para-Professionals</td>\n",
       "      <td>2016-06-01</td>\n",
       "    </tr>\n",
       "    <tr>\n",
       "      <th>2</th>\n",
       "      <td>28693</td>\n",
       "      <td>JONATHAN</td>\n",
       "      <td>JORSCH JR.</td>\n",
       "      <td>30063393</td>\n",
       "      <td>108.0</td>\n",
       "      <td>POLICE OFFICER</td>\n",
       "      <td>1000</td>\n",
       "      <td>Houston Police Department-HPD</td>\n",
       "      <td>PA03</td>\n",
       "      <td>1000</td>\n",
       "      <td>General Fund</td>\n",
       "      <td>1000010068</td>\n",
       "      <td>HPD-Vehicular Crimes</td>\n",
       "      <td>30060941.0</td>\n",
       "      <td>CATRINA WILLIAMS</td>\n",
       "      <td>45279.0</td>\n",
       "      <td>10.1687.0130</td>\n",
       "      <td>HPD-VEHICULAR CRIMES DIVISION</td>\n",
       "      <td>WHITE, NOT OF HISPANIC ORIGIN</td>\n",
       "      <td>White</td>\n",
       "      <td>Full Time</td>\n",
       "      <td>Non-Exempt Excptn</td>\n",
       "      <td>N</td>\n",
       "      <td>Male</td>\n",
       "      <td>Active</td>\n",
       "      <td>CLASSIFIED</td>\n",
       "      <td>2015-02-03</td>\n",
       "      <td>2015-02-03</td>\n",
       "      <td>2014-02-03</td>\n",
       "      <td>D: Protective Service Workers</td>\n",
       "      <td>2016-06-01</td>\n",
       "    </tr>\n",
       "    <tr>\n",
       "      <th>3</th>\n",
       "      <td>2359</td>\n",
       "      <td>JOHN</td>\n",
       "      <td>HARE</td>\n",
       "      <td>30007418</td>\n",
       "      <td>103.2</td>\n",
       "      <td>ENGINEER/OPERATOR</td>\n",
       "      <td>1200</td>\n",
       "      <td>Houston Fire Department (HFD)</td>\n",
       "      <td>FD04</td>\n",
       "      <td>1000</td>\n",
       "      <td>General Fund</td>\n",
       "      <td>1200030001</td>\n",
       "      <td>HFD-Deployment</td>\n",
       "      <td>NaN</td>\n",
       "      <td>NaN</td>\n",
       "      <td>63166.0</td>\n",
       "      <td>12.1210</td>\n",
       "      <td>HFD-FIRE &amp; EMS OPERATIONS</td>\n",
       "      <td>WHITE, NOT OF HISPANIC ORIGIN</td>\n",
       "      <td>White</td>\n",
       "      <td>Full Time</td>\n",
       "      <td>NE Suprsn Excptn</td>\n",
       "      <td>N</td>\n",
       "      <td>Male</td>\n",
       "      <td>Active</td>\n",
       "      <td>CLASSIFIED</td>\n",
       "      <td>1982-02-08</td>\n",
       "      <td>1991-05-25</td>\n",
       "      <td>1982-02-08</td>\n",
       "      <td>D: Protective Service Workers</td>\n",
       "      <td>2016-06-01</td>\n",
       "    </tr>\n",
       "    <tr>\n",
       "      <th>4</th>\n",
       "      <td>5123</td>\n",
       "      <td>RUSSELL</td>\n",
       "      <td>GALBREATH</td>\n",
       "      <td>30006294</td>\n",
       "      <td>523.2</td>\n",
       "      <td>ELECTRICIAN</td>\n",
       "      <td>2500</td>\n",
       "      <td>General Services Department</td>\n",
       "      <td>18</td>\n",
       "      <td>2105</td>\n",
       "      <td>Maintenance Renewal and Replacement Fund</td>\n",
       "      <td>2500100003</td>\n",
       "      <td>GSD-MRR-Maint</td>\n",
       "      <td>30008673.0</td>\n",
       "      <td>JOHN BOGNEY</td>\n",
       "      <td>56347.0</td>\n",
       "      <td>25.1416</td>\n",
       "      <td>GSD-PROPERTY MGMT MAINT &amp; OPER</td>\n",
       "      <td>WHITE, NOT OF HISPANIC ORIGIN</td>\n",
       "      <td>White</td>\n",
       "      <td>Full Time</td>\n",
       "      <td>Non Exempt Postv</td>\n",
       "      <td>N</td>\n",
       "      <td>Male</td>\n",
       "      <td>Active</td>\n",
       "      <td>CIVILIAN</td>\n",
       "      <td>1989-06-19</td>\n",
       "      <td>1994-10-22</td>\n",
       "      <td>1989-06-19</td>\n",
       "      <td>G: Skilled Craft Workers</td>\n",
       "      <td>2016-06-01</td>\n",
       "    </tr>\n",
       "  </tbody>\n",
       "</table>\n",
       "</div>"
      ],
      "text/plain": [
       "   UNIQUE_ID FIRST_NAME   LAST_NAME  POSITION_NUMBER  POSITION_JOB_CODE  \\\n",
       "0       9172    LILLIAN      WARDEN         30027193              306.2   \n",
       "1      12311  ESPERANZA   RODRIGUEZ         30044399              901.2   \n",
       "2      28693   JONATHAN  JORSCH JR.         30063393              108.0   \n",
       "3       2359       JOHN        HARE         30007418              103.2   \n",
       "4       5123    RUSSELL   GALBREATH         30006294              523.2   \n",
       "\n",
       "                POSITION_TITLE  BUSINESS_AREA                     DEPARTMENT  \\\n",
       "0  ASSISTANT DIRECTOR (EX LVL)           1600    Municipal Courts Department   \n",
       "1            LIBRARY ASSISTANT           3400                        Library   \n",
       "2               POLICE OFFICER           1000  Houston Police Department-HPD   \n",
       "3            ENGINEER/OPERATOR           1200  Houston Fire Department (HFD)   \n",
       "4                  ELECTRICIAN           2500    General Services Department   \n",
       "\n",
       "  PAY_GRADE  FUND_ID                                 FUND_NAME  COST_CENTER  \\\n",
       "0        32     1000                              General Fund   1600010001   \n",
       "1        05     1000                              General Fund   3400070001   \n",
       "2      PA03     1000                              General Fund   1000010068   \n",
       "3      FD04     1000                              General Fund   1200030001   \n",
       "4        18     2105  Maintenance Renewal and Replacement Fund   2500100003   \n",
       "\n",
       "       COST_CENTER_NAME  REPORTS_TO_POSITION        MANAGER_NAME  BASE_SALARY  \\\n",
       "0    MCD-Admin Services           30044747.0        NELLY SANTOS     121862.0   \n",
       "1    HPL-Neigh Lib Syst           30044159.0  MIGDALIA SEPULVEDA      26125.0   \n",
       "2  HPD-Vehicular Crimes           30060941.0    CATRINA WILLIAMS      45279.0   \n",
       "3        HFD-Deployment                  NaN                 NaN      63166.0   \n",
       "4         GSD-MRR-Maint           30008673.0         JOHN BOGNEY      56347.0   \n",
       "\n",
       "       ORG_UNIT                      ORG_UNIT_NAME  \\\n",
       "0       16.1410        MCD-ADMINISTRATIVE SERVICES   \n",
       "1    34.7001.27  HPL-NEIGHBORHOOD LIBRARY SERVICES   \n",
       "2  10.1687.0130      HPD-VEHICULAR CRIMES DIVISION   \n",
       "3       12.1210          HFD-FIRE & EMS OPERATIONS   \n",
       "4       25.1416     GSD-PROPERTY MGMT MAINT & OPER   \n",
       "\n",
       "                       ETHNICITY             RACE EMPLOYMENT_TYPE  \\\n",
       "0                       HISPANIC  Hispanic/Latino       Full Time   \n",
       "1                       HISPANIC  Hispanic/Latino       Full Time   \n",
       "2  WHITE, NOT OF HISPANIC ORIGIN            White       Full Time   \n",
       "3  WHITE, NOT OF HISPANIC ORIGIN            White       Full Time   \n",
       "4  WHITE, NOT OF HISPANIC ORIGIN            White       Full Time   \n",
       "\n",
       "  EMPLOYMENT_SUB_GROUP EXEMPT  GENDER EMPLOYMENT_STATUS CIVIL_SERVICE_TYPE  \\\n",
       "0        Exempt Excptn      E  Female            Active           CIVILIAN   \n",
       "1     Non Exempt Postv      N  Female            Active           CIVILIAN   \n",
       "2    Non-Exempt Excptn      N    Male            Active         CLASSIFIED   \n",
       "3     NE Suprsn Excptn      N    Male            Active         CLASSIFIED   \n",
       "4     Non Exempt Postv      N    Male            Active           CIVILIAN   \n",
       "\n",
       "    HIRE_DATE    JOB_DATE   COMP_DATE                           EEOJ  \\\n",
       "0  2006-06-12  2012-10-13  1998-05-13  A: Officials & Administrators   \n",
       "1  2000-07-19  2010-09-18  2000-07-19          E: Para-Professionals   \n",
       "2  2015-02-03  2015-02-03  2014-02-03  D: Protective Service Workers   \n",
       "3  1982-02-08  1991-05-25  1982-02-08  D: Protective Service Workers   \n",
       "4  1989-06-19  1994-10-22  1989-06-19       G: Skilled Craft Workers   \n",
       "\n",
       "  SNAPSHOT_DATE  \n",
       "0    2016-06-01  \n",
       "1    2016-06-01  \n",
       "2    2016-06-01  \n",
       "3    2016-06-01  \n",
       "4    2016-06-01  "
      ]
     },
     "execution_count": 189,
     "metadata": {},
     "output_type": "execute_result"
    }
   ],
   "source": [
    "# and now inspect the dataframe again\n",
    "df_coh.head()"
   ]
  },
  {
   "cell_type": "code",
   "execution_count": 190,
   "metadata": {
    "collapsed": false
   },
   "outputs": [
    {
     "name": "stdout",
     "output_type": "stream",
     "text": [
      "<class 'pandas.core.frame.DataFrame'>\n",
      "RangeIndex: 2000 entries, 0 to 1999\n",
      "Data columns (total 31 columns):\n",
      "UNIQUE_ID               2000 non-null int64\n",
      "FIRST_NAME              2000 non-null object\n",
      "LAST_NAME               2000 non-null object\n",
      "POSITION_NUMBER         2000 non-null int64\n",
      "POSITION_JOB_CODE       2000 non-null float64\n",
      "POSITION_TITLE          2000 non-null object\n",
      "BUSINESS_AREA           2000 non-null int64\n",
      "DEPARTMENT              2000 non-null object\n",
      "PAY_GRADE               2000 non-null object\n",
      "FUND_ID                 2000 non-null int64\n",
      "FUND_NAME               2000 non-null object\n",
      "COST_CENTER             2000 non-null int64\n",
      "COST_CENTER_NAME        2000 non-null object\n",
      "REPORTS_TO_POSITION     1688 non-null float64\n",
      "MANAGER_NAME            1678 non-null object\n",
      "BASE_SALARY             1886 non-null float64\n",
      "ORG_UNIT                2000 non-null object\n",
      "ORG_UNIT_NAME           2000 non-null object\n",
      "ETHNICITY               1998 non-null object\n",
      "RACE                    1965 non-null object\n",
      "EMPLOYMENT_TYPE         2000 non-null object\n",
      "EMPLOYMENT_SUB_GROUP    2000 non-null object\n",
      "EXEMPT                  1999 non-null object\n",
      "GENDER                  2000 non-null object\n",
      "EMPLOYMENT_STATUS       2000 non-null object\n",
      "CIVIL_SERVICE_TYPE      2000 non-null object\n",
      "HIRE_DATE               2000 non-null object\n",
      "JOB_DATE                1997 non-null object\n",
      "COMP_DATE               2000 non-null object\n",
      "EEOJ                    1999 non-null object\n",
      "SNAPSHOT_DATE           2000 non-null object\n",
      "dtypes: float64(3), int64(5), object(23)\n",
      "memory usage: 484.5+ KB\n"
     ]
    }
   ],
   "source": [
    "# continue by getting the 'info'\n",
    "df_coh.info()"
   ]
  },
  {
   "cell_type": "markdown",
   "metadata": {},
   "source": [
    "There are 3 columns with float values, 5 with integer and 23 with strings. There are **missing** values in this dataset. Since it is know that there are 2000 rows, any column that has less than 2000 **non-null** values has some missing values. For instance the **REPORTS_TO_POSITION** column has 1688 non-null values which means it must have 312 missing ones."
   ]
  },
  {
   "cell_type": "code",
   "execution_count": 191,
   "metadata": {
    "collapsed": false
   },
   "outputs": [
    {
     "data": {
      "text/html": [
       "<div>\n",
       "<table border=\"1\" class=\"dataframe\">\n",
       "  <thead>\n",
       "    <tr style=\"text-align: right;\">\n",
       "      <th></th>\n",
       "      <th>UNIQUE_ID</th>\n",
       "      <th>POSITION_NUMBER</th>\n",
       "      <th>POSITION_JOB_CODE</th>\n",
       "      <th>BUSINESS_AREA</th>\n",
       "      <th>FUND_ID</th>\n",
       "      <th>COST_CENTER</th>\n",
       "      <th>REPORTS_TO_POSITION</th>\n",
       "      <th>BASE_SALARY</th>\n",
       "    </tr>\n",
       "  </thead>\n",
       "  <tbody>\n",
       "    <tr>\n",
       "      <th>count</th>\n",
       "      <td>2000.000000</td>\n",
       "      <td>2.000000e+03</td>\n",
       "      <td>2000.000000</td>\n",
       "      <td>2000.000000</td>\n",
       "      <td>2000.000000</td>\n",
       "      <td>2.000000e+03</td>\n",
       "      <td>1.688000e+03</td>\n",
       "      <td>1886.000000</td>\n",
       "    </tr>\n",
       "    <tr>\n",
       "      <th>mean</th>\n",
       "      <td>16247.652500</td>\n",
       "      <td>3.003217e+07</td>\n",
       "      <td>372.678600</td>\n",
       "      <td>2135.350000</td>\n",
       "      <td>2401.221500</td>\n",
       "      <td>2.135389e+09</td>\n",
       "      <td>3.003167e+07</td>\n",
       "      <td>55767.931601</td>\n",
       "    </tr>\n",
       "    <tr>\n",
       "      <th>std</th>\n",
       "      <td>9509.483839</td>\n",
       "      <td>2.182383e+04</td>\n",
       "      <td>283.143263</td>\n",
       "      <td>1660.687906</td>\n",
       "      <td>2607.231936</td>\n",
       "      <td>1.660714e+09</td>\n",
       "      <td>2.337296e+04</td>\n",
       "      <td>21693.706679</td>\n",
       "    </tr>\n",
       "    <tr>\n",
       "      <th>min</th>\n",
       "      <td>5.000000</td>\n",
       "      <td>3.000001e+07</td>\n",
       "      <td>47.000000</td>\n",
       "      <td>1000.000000</td>\n",
       "      <td>1000.000000</td>\n",
       "      <td>1.000010e+09</td>\n",
       "      <td>3.000004e+07</td>\n",
       "      <td>24960.000000</td>\n",
       "    </tr>\n",
       "    <tr>\n",
       "      <th>25%</th>\n",
       "      <td>7981.000000</td>\n",
       "      <td>3.001107e+07</td>\n",
       "      <td>108.000000</td>\n",
       "      <td>1000.000000</td>\n",
       "      <td>1000.000000</td>\n",
       "      <td>1.000010e+09</td>\n",
       "      <td>3.000661e+07</td>\n",
       "      <td>40170.000000</td>\n",
       "    </tr>\n",
       "    <tr>\n",
       "      <th>50%</th>\n",
       "      <td>15316.000000</td>\n",
       "      <td>3.002944e+07</td>\n",
       "      <td>303.500000</td>\n",
       "      <td>1200.000000</td>\n",
       "      <td>1000.000000</td>\n",
       "      <td>1.200050e+09</td>\n",
       "      <td>3.003395e+07</td>\n",
       "      <td>54461.000000</td>\n",
       "    </tr>\n",
       "    <tr>\n",
       "      <th>75%</th>\n",
       "      <td>24480.500000</td>\n",
       "      <td>3.005436e+07</td>\n",
       "      <td>568.150000</td>\n",
       "      <td>2800.000000</td>\n",
       "      <td>2301.000000</td>\n",
       "      <td>2.800020e+09</td>\n",
       "      <td>3.005502e+07</td>\n",
       "      <td>66614.000000</td>\n",
       "    </tr>\n",
       "    <tr>\n",
       "      <th>max</th>\n",
       "      <td>32967.000000</td>\n",
       "      <td>3.006737e+07</td>\n",
       "      <td>978.200000</td>\n",
       "      <td>9000.000000</td>\n",
       "      <td>9000.000000</td>\n",
       "      <td>9.000160e+09</td>\n",
       "      <td>3.006737e+07</td>\n",
       "      <td>275000.000000</td>\n",
       "    </tr>\n",
       "  </tbody>\n",
       "</table>\n",
       "</div>"
      ],
      "text/plain": [
       "          UNIQUE_ID  POSITION_NUMBER  POSITION_JOB_CODE  BUSINESS_AREA  \\\n",
       "count   2000.000000     2.000000e+03        2000.000000    2000.000000   \n",
       "mean   16247.652500     3.003217e+07         372.678600    2135.350000   \n",
       "std     9509.483839     2.182383e+04         283.143263    1660.687906   \n",
       "min        5.000000     3.000001e+07          47.000000    1000.000000   \n",
       "25%     7981.000000     3.001107e+07         108.000000    1000.000000   \n",
       "50%    15316.000000     3.002944e+07         303.500000    1200.000000   \n",
       "75%    24480.500000     3.005436e+07         568.150000    2800.000000   \n",
       "max    32967.000000     3.006737e+07         978.200000    9000.000000   \n",
       "\n",
       "           FUND_ID   COST_CENTER  REPORTS_TO_POSITION    BASE_SALARY  \n",
       "count  2000.000000  2.000000e+03         1.688000e+03    1886.000000  \n",
       "mean   2401.221500  2.135389e+09         3.003167e+07   55767.931601  \n",
       "std    2607.231936  1.660714e+09         2.337296e+04   21693.706679  \n",
       "min    1000.000000  1.000010e+09         3.000004e+07   24960.000000  \n",
       "25%    1000.000000  1.000010e+09         3.000661e+07   40170.000000  \n",
       "50%    1000.000000  1.200050e+09         3.003395e+07   54461.000000  \n",
       "75%    2301.000000  2.800020e+09         3.005502e+07   66614.000000  \n",
       "max    9000.000000  9.000160e+09         3.006737e+07  275000.000000  "
      ]
     },
     "execution_count": 191,
     "metadata": {},
     "output_type": "execute_result"
    }
   ],
   "source": [
    "# get summary statistics. describe defaults to only numeric columns\n",
    "# the only meaningful column here is BASE_SALARY\n",
    "df_coh.describe()"
   ]
  },
  {
   "cell_type": "code",
   "execution_count": 192,
   "metadata": {
    "collapsed": false
   },
   "outputs": [
    {
     "data": {
      "text/html": [
       "<div>\n",
       "<table border=\"1\" class=\"dataframe\">\n",
       "  <thead>\n",
       "    <tr style=\"text-align: right;\">\n",
       "      <th></th>\n",
       "      <th>FIRST_NAME</th>\n",
       "      <th>LAST_NAME</th>\n",
       "      <th>POSITION_TITLE</th>\n",
       "      <th>DEPARTMENT</th>\n",
       "      <th>PAY_GRADE</th>\n",
       "      <th>FUND_NAME</th>\n",
       "      <th>COST_CENTER_NAME</th>\n",
       "      <th>MANAGER_NAME</th>\n",
       "      <th>ORG_UNIT</th>\n",
       "      <th>ORG_UNIT_NAME</th>\n",
       "      <th>ETHNICITY</th>\n",
       "      <th>RACE</th>\n",
       "      <th>EMPLOYMENT_TYPE</th>\n",
       "      <th>EMPLOYMENT_SUB_GROUP</th>\n",
       "      <th>EXEMPT</th>\n",
       "      <th>GENDER</th>\n",
       "      <th>EMPLOYMENT_STATUS</th>\n",
       "      <th>CIVIL_SERVICE_TYPE</th>\n",
       "      <th>HIRE_DATE</th>\n",
       "      <th>JOB_DATE</th>\n",
       "      <th>COMP_DATE</th>\n",
       "      <th>EEOJ</th>\n",
       "      <th>SNAPSHOT_DATE</th>\n",
       "    </tr>\n",
       "  </thead>\n",
       "  <tbody>\n",
       "    <tr>\n",
       "      <th>count</th>\n",
       "      <td>2000</td>\n",
       "      <td>2000</td>\n",
       "      <td>2000</td>\n",
       "      <td>2000</td>\n",
       "      <td>2000</td>\n",
       "      <td>2000</td>\n",
       "      <td>2000</td>\n",
       "      <td>1678</td>\n",
       "      <td>2000</td>\n",
       "      <td>2000</td>\n",
       "      <td>1998</td>\n",
       "      <td>1965</td>\n",
       "      <td>2000</td>\n",
       "      <td>2000</td>\n",
       "      <td>1999</td>\n",
       "      <td>2000</td>\n",
       "      <td>2000</td>\n",
       "      <td>2000</td>\n",
       "      <td>2000</td>\n",
       "      <td>1997</td>\n",
       "      <td>2000</td>\n",
       "      <td>1999</td>\n",
       "      <td>2000</td>\n",
       "    </tr>\n",
       "    <tr>\n",
       "      <th>unique</th>\n",
       "      <td>961</td>\n",
       "      <td>1371</td>\n",
       "      <td>330</td>\n",
       "      <td>24</td>\n",
       "      <td>80</td>\n",
       "      <td>39</td>\n",
       "      <td>448</td>\n",
       "      <td>1201</td>\n",
       "      <td>1181</td>\n",
       "      <td>478</td>\n",
       "      <td>5</td>\n",
       "      <td>6</td>\n",
       "      <td>5</td>\n",
       "      <td>17</td>\n",
       "      <td>2</td>\n",
       "      <td>2</td>\n",
       "      <td>2</td>\n",
       "      <td>3</td>\n",
       "      <td>999</td>\n",
       "      <td>947</td>\n",
       "      <td>1084</td>\n",
       "      <td>8</td>\n",
       "      <td>1</td>\n",
       "    </tr>\n",
       "    <tr>\n",
       "      <th>top</th>\n",
       "      <td>MICHAEL</td>\n",
       "      <td>JOHNSON</td>\n",
       "      <td>SENIOR POLICE OFFICER</td>\n",
       "      <td>Houston Police Department-HPD</td>\n",
       "      <td>PA03</td>\n",
       "      <td>General Fund</td>\n",
       "      <td>HFD-Deployment</td>\n",
       "      <td>HERMAN GONZALES</td>\n",
       "      <td>12.1210</td>\n",
       "      <td>HFD-FIRE &amp; EMS OPERATIONS</td>\n",
       "      <td>BLACK, NOT OF HISPANIC ORIGIN</td>\n",
       "      <td>Black or African American</td>\n",
       "      <td>Full Time</td>\n",
       "      <td>Non Exempt Postv</td>\n",
       "      <td>N</td>\n",
       "      <td>Male</td>\n",
       "      <td>Active</td>\n",
       "      <td>CIVILIAN</td>\n",
       "      <td>2016-03-28</td>\n",
       "      <td>2002-01-05</td>\n",
       "      <td>1986-03-03</td>\n",
       "      <td>D: Protective Service Workers</td>\n",
       "      <td>2016-06-01</td>\n",
       "    </tr>\n",
       "    <tr>\n",
       "      <th>freq</th>\n",
       "      <td>44</td>\n",
       "      <td>30</td>\n",
       "      <td>220</td>\n",
       "      <td>638</td>\n",
       "      <td>184</td>\n",
       "      <td>1304</td>\n",
       "      <td>297</td>\n",
       "      <td>56</td>\n",
       "      <td>288</td>\n",
       "      <td>289</td>\n",
       "      <td>715</td>\n",
       "      <td>700</td>\n",
       "      <td>1954</td>\n",
       "      <td>792</td>\n",
       "      <td>1681</td>\n",
       "      <td>1397</td>\n",
       "      <td>1991</td>\n",
       "      <td>1100</td>\n",
       "      <td>11</td>\n",
       "      <td>34</td>\n",
       "      <td>10</td>\n",
       "      <td>728</td>\n",
       "      <td>2000</td>\n",
       "    </tr>\n",
       "  </tbody>\n",
       "</table>\n",
       "</div>"
      ],
      "text/plain": [
       "       FIRST_NAME LAST_NAME         POSITION_TITLE  \\\n",
       "count        2000      2000                   2000   \n",
       "unique        961      1371                    330   \n",
       "top       MICHAEL   JOHNSON  SENIOR POLICE OFFICER   \n",
       "freq           44        30                    220   \n",
       "\n",
       "                           DEPARTMENT PAY_GRADE     FUND_NAME  \\\n",
       "count                            2000      2000          2000   \n",
       "unique                             24        80            39   \n",
       "top     Houston Police Department-HPD      PA03  General Fund   \n",
       "freq                              638       184          1304   \n",
       "\n",
       "       COST_CENTER_NAME     MANAGER_NAME ORG_UNIT              ORG_UNIT_NAME  \\\n",
       "count              2000             1678     2000                       2000   \n",
       "unique              448             1201     1181                        478   \n",
       "top      HFD-Deployment  HERMAN GONZALES  12.1210  HFD-FIRE & EMS OPERATIONS   \n",
       "freq                297               56      288                        289   \n",
       "\n",
       "                            ETHNICITY                       RACE  \\\n",
       "count                            1998                       1965   \n",
       "unique                              5                          6   \n",
       "top     BLACK, NOT OF HISPANIC ORIGIN  Black or African American   \n",
       "freq                              715                        700   \n",
       "\n",
       "       EMPLOYMENT_TYPE EMPLOYMENT_SUB_GROUP EXEMPT GENDER EMPLOYMENT_STATUS  \\\n",
       "count             2000                 2000   1999   2000              2000   \n",
       "unique               5                   17      2      2                 2   \n",
       "top          Full Time     Non Exempt Postv      N   Male            Active   \n",
       "freq              1954                  792   1681   1397              1991   \n",
       "\n",
       "       CIVIL_SERVICE_TYPE   HIRE_DATE    JOB_DATE   COMP_DATE  \\\n",
       "count                2000        2000        1997        2000   \n",
       "unique                  3         999         947        1084   \n",
       "top              CIVILIAN  2016-03-28  2002-01-05  1986-03-03   \n",
       "freq                 1100          11          34          10   \n",
       "\n",
       "                                 EEOJ SNAPSHOT_DATE  \n",
       "count                            1999          2000  \n",
       "unique                              8             1  \n",
       "top     D: Protective Service Workers    2016-06-01  \n",
       "freq                              728          2000  "
      ]
     },
     "execution_count": 192,
     "metadata": {},
     "output_type": "execute_result"
    }
   ],
   "source": [
    "# describe just the string columns\n",
    "# these are much more interesting\n",
    "df_coh.describe(include=['object'])"
   ]
  },
  {
   "cell_type": "markdown",
   "metadata": {},
   "source": [
    "### Transpose a DataFrame\n",
    "Occasionally its useful to transpose a DataFrame - swap the columns and the rows. In this case, the output will be much, much more readable. Use the **`.T`** attribute."
   ]
  },
  {
   "cell_type": "code",
   "execution_count": 193,
   "metadata": {
    "collapsed": false
   },
   "outputs": [
    {
     "data": {
      "text/html": [
       "<div>\n",
       "<table border=\"1\" class=\"dataframe\">\n",
       "  <thead>\n",
       "    <tr style=\"text-align: right;\">\n",
       "      <th></th>\n",
       "      <th>count</th>\n",
       "      <th>unique</th>\n",
       "      <th>top</th>\n",
       "      <th>freq</th>\n",
       "    </tr>\n",
       "  </thead>\n",
       "  <tbody>\n",
       "    <tr>\n",
       "      <th>FIRST_NAME</th>\n",
       "      <td>2000</td>\n",
       "      <td>961</td>\n",
       "      <td>MICHAEL</td>\n",
       "      <td>44</td>\n",
       "    </tr>\n",
       "    <tr>\n",
       "      <th>LAST_NAME</th>\n",
       "      <td>2000</td>\n",
       "      <td>1371</td>\n",
       "      <td>JOHNSON</td>\n",
       "      <td>30</td>\n",
       "    </tr>\n",
       "    <tr>\n",
       "      <th>POSITION_TITLE</th>\n",
       "      <td>2000</td>\n",
       "      <td>330</td>\n",
       "      <td>SENIOR POLICE OFFICER</td>\n",
       "      <td>220</td>\n",
       "    </tr>\n",
       "    <tr>\n",
       "      <th>DEPARTMENT</th>\n",
       "      <td>2000</td>\n",
       "      <td>24</td>\n",
       "      <td>Houston Police Department-HPD</td>\n",
       "      <td>638</td>\n",
       "    </tr>\n",
       "    <tr>\n",
       "      <th>PAY_GRADE</th>\n",
       "      <td>2000</td>\n",
       "      <td>80</td>\n",
       "      <td>PA03</td>\n",
       "      <td>184</td>\n",
       "    </tr>\n",
       "    <tr>\n",
       "      <th>FUND_NAME</th>\n",
       "      <td>2000</td>\n",
       "      <td>39</td>\n",
       "      <td>General Fund</td>\n",
       "      <td>1304</td>\n",
       "    </tr>\n",
       "    <tr>\n",
       "      <th>COST_CENTER_NAME</th>\n",
       "      <td>2000</td>\n",
       "      <td>448</td>\n",
       "      <td>HFD-Deployment</td>\n",
       "      <td>297</td>\n",
       "    </tr>\n",
       "    <tr>\n",
       "      <th>MANAGER_NAME</th>\n",
       "      <td>1678</td>\n",
       "      <td>1201</td>\n",
       "      <td>HERMAN GONZALES</td>\n",
       "      <td>56</td>\n",
       "    </tr>\n",
       "    <tr>\n",
       "      <th>ORG_UNIT</th>\n",
       "      <td>2000</td>\n",
       "      <td>1181</td>\n",
       "      <td>12.1210</td>\n",
       "      <td>288</td>\n",
       "    </tr>\n",
       "    <tr>\n",
       "      <th>ORG_UNIT_NAME</th>\n",
       "      <td>2000</td>\n",
       "      <td>478</td>\n",
       "      <td>HFD-FIRE &amp; EMS OPERATIONS</td>\n",
       "      <td>289</td>\n",
       "    </tr>\n",
       "    <tr>\n",
       "      <th>ETHNICITY</th>\n",
       "      <td>1998</td>\n",
       "      <td>5</td>\n",
       "      <td>BLACK, NOT OF HISPANIC ORIGIN</td>\n",
       "      <td>715</td>\n",
       "    </tr>\n",
       "    <tr>\n",
       "      <th>RACE</th>\n",
       "      <td>1965</td>\n",
       "      <td>6</td>\n",
       "      <td>Black or African American</td>\n",
       "      <td>700</td>\n",
       "    </tr>\n",
       "    <tr>\n",
       "      <th>EMPLOYMENT_TYPE</th>\n",
       "      <td>2000</td>\n",
       "      <td>5</td>\n",
       "      <td>Full Time</td>\n",
       "      <td>1954</td>\n",
       "    </tr>\n",
       "    <tr>\n",
       "      <th>EMPLOYMENT_SUB_GROUP</th>\n",
       "      <td>2000</td>\n",
       "      <td>17</td>\n",
       "      <td>Non Exempt Postv</td>\n",
       "      <td>792</td>\n",
       "    </tr>\n",
       "    <tr>\n",
       "      <th>EXEMPT</th>\n",
       "      <td>1999</td>\n",
       "      <td>2</td>\n",
       "      <td>N</td>\n",
       "      <td>1681</td>\n",
       "    </tr>\n",
       "    <tr>\n",
       "      <th>GENDER</th>\n",
       "      <td>2000</td>\n",
       "      <td>2</td>\n",
       "      <td>Male</td>\n",
       "      <td>1397</td>\n",
       "    </tr>\n",
       "    <tr>\n",
       "      <th>EMPLOYMENT_STATUS</th>\n",
       "      <td>2000</td>\n",
       "      <td>2</td>\n",
       "      <td>Active</td>\n",
       "      <td>1991</td>\n",
       "    </tr>\n",
       "    <tr>\n",
       "      <th>CIVIL_SERVICE_TYPE</th>\n",
       "      <td>2000</td>\n",
       "      <td>3</td>\n",
       "      <td>CIVILIAN</td>\n",
       "      <td>1100</td>\n",
       "    </tr>\n",
       "    <tr>\n",
       "      <th>HIRE_DATE</th>\n",
       "      <td>2000</td>\n",
       "      <td>999</td>\n",
       "      <td>2016-03-28</td>\n",
       "      <td>11</td>\n",
       "    </tr>\n",
       "    <tr>\n",
       "      <th>JOB_DATE</th>\n",
       "      <td>1997</td>\n",
       "      <td>947</td>\n",
       "      <td>2002-01-05</td>\n",
       "      <td>34</td>\n",
       "    </tr>\n",
       "    <tr>\n",
       "      <th>COMP_DATE</th>\n",
       "      <td>2000</td>\n",
       "      <td>1084</td>\n",
       "      <td>1986-03-03</td>\n",
       "      <td>10</td>\n",
       "    </tr>\n",
       "    <tr>\n",
       "      <th>EEOJ</th>\n",
       "      <td>1999</td>\n",
       "      <td>8</td>\n",
       "      <td>D: Protective Service Workers</td>\n",
       "      <td>728</td>\n",
       "    </tr>\n",
       "    <tr>\n",
       "      <th>SNAPSHOT_DATE</th>\n",
       "      <td>2000</td>\n",
       "      <td>1</td>\n",
       "      <td>2016-06-01</td>\n",
       "      <td>2000</td>\n",
       "    </tr>\n",
       "  </tbody>\n",
       "</table>\n",
       "</div>"
      ],
      "text/plain": [
       "                     count unique                            top  freq\n",
       "FIRST_NAME            2000    961                        MICHAEL    44\n",
       "LAST_NAME             2000   1371                        JOHNSON    30\n",
       "POSITION_TITLE        2000    330          SENIOR POLICE OFFICER   220\n",
       "DEPARTMENT            2000     24  Houston Police Department-HPD   638\n",
       "PAY_GRADE             2000     80                           PA03   184\n",
       "FUND_NAME             2000     39                   General Fund  1304\n",
       "COST_CENTER_NAME      2000    448                 HFD-Deployment   297\n",
       "MANAGER_NAME          1678   1201                HERMAN GONZALES    56\n",
       "ORG_UNIT              2000   1181                        12.1210   288\n",
       "ORG_UNIT_NAME         2000    478      HFD-FIRE & EMS OPERATIONS   289\n",
       "ETHNICITY             1998      5  BLACK, NOT OF HISPANIC ORIGIN   715\n",
       "RACE                  1965      6      Black or African American   700\n",
       "EMPLOYMENT_TYPE       2000      5                      Full Time  1954\n",
       "EMPLOYMENT_SUB_GROUP  2000     17               Non Exempt Postv   792\n",
       "EXEMPT                1999      2                              N  1681\n",
       "GENDER                2000      2                           Male  1397\n",
       "EMPLOYMENT_STATUS     2000      2                         Active  1991\n",
       "CIVIL_SERVICE_TYPE    2000      3                       CIVILIAN  1100\n",
       "HIRE_DATE             2000    999                     2016-03-28    11\n",
       "JOB_DATE              1997    947                     2002-01-05    34\n",
       "COMP_DATE             2000   1084                     1986-03-03    10\n",
       "EEOJ                  1999      8  D: Protective Service Workers   728\n",
       "SNAPSHOT_DATE         2000      1                     2016-06-01  2000"
      ]
     },
     "execution_count": 193,
     "metadata": {},
     "output_type": "execute_result"
    }
   ],
   "source": [
    "df_coh.describe(include=['object']).T"
   ]
  },
  {
   "cell_type": "markdown",
   "metadata": {},
   "source": [
    "### Always know your Index\n",
    "Its important to be aware of what your (row) index is in a DataFrame. The column index is usually obvious as it's just the column names."
   ]
  },
  {
   "cell_type": "code",
   "execution_count": 194,
   "metadata": {
    "collapsed": false
   },
   "outputs": [
    {
     "data": {
      "text/plain": [
       "RangeIndex(start=0, stop=2000, step=1)"
      ]
     },
     "execution_count": 194,
     "metadata": {},
     "output_type": "execute_result"
    }
   ],
   "source": [
    "# when the read_csv is not given an index, the default is make the index integers starting from 0\n",
    "df_coh.index"
   ]
  },
  {
   "cell_type": "code",
   "execution_count": 195,
   "metadata": {
    "collapsed": false
   },
   "outputs": [
    {
     "data": {
      "text/plain": [
       "array([   0,    1,    2, ..., 1997, 1998, 1999], dtype=int64)"
      ]
     },
     "execution_count": 195,
     "metadata": {},
     "output_type": "execute_result"
    }
   ],
   "source": [
    "# See the values of a RangeIndex\n",
    "df_coh.index.values"
   ]
  },
  {
   "cell_type": "code",
   "execution_count": 196,
   "metadata": {
    "collapsed": false
   },
   "outputs": [
    {
     "data": {
      "text/plain": [
       "array(['UNIQUE_ID', 'FIRST_NAME', 'LAST_NAME', 'POSITION_NUMBER',\n",
       "       'POSITION_JOB_CODE', 'POSITION_TITLE', 'BUSINESS_AREA',\n",
       "       'DEPARTMENT', 'PAY_GRADE', 'FUND_ID', 'FUND_NAME', 'COST_CENTER',\n",
       "       'COST_CENTER_NAME', 'REPORTS_TO_POSITION', 'MANAGER_NAME',\n",
       "       'BASE_SALARY', 'ORG_UNIT', 'ORG_UNIT_NAME', 'ETHNICITY', 'RACE',\n",
       "       'EMPLOYMENT_TYPE', 'EMPLOYMENT_SUB_GROUP', 'EXEMPT', 'GENDER',\n",
       "       'EMPLOYMENT_STATUS', 'CIVIL_SERVICE_TYPE', 'HIRE_DATE', 'JOB_DATE',\n",
       "       'COMP_DATE', 'EEOJ', 'SNAPSHOT_DATE'], dtype=object)"
      ]
     },
     "execution_count": 196,
     "metadata": {},
     "output_type": "execute_result"
    }
   ],
   "source": [
    "# the column index is also just a numpy array\n",
    "df_coh.columns.values"
   ]
  },
  {
   "cell_type": "markdown",
   "metadata": {},
   "source": [
    "## The [ ] is completely different for DataFrames than for Series\n",
    "The bracket's primary use is to retrieve a column(s) from a DataFrame. Simply write the name of the column into the brackets and a Series will be returned. This behavior for the [ ] is completely different for Series where it is used to retrieve value(s) by the index."
   ]
  },
  {
   "cell_type": "code",
   "execution_count": 197,
   "metadata": {
    "collapsed": false
   },
   "outputs": [
    {
     "data": {
      "text/plain": [
       "0      LILLIAN\n",
       "1    ESPERANZA\n",
       "2     JONATHAN\n",
       "3         JOHN\n",
       "4      RUSSELL\n",
       "5        CRAIG\n",
       "6        PETER\n",
       "7      JEFFREY\n",
       "8       ROBERT\n",
       "9       DAMIAN\n",
       "Name: FIRST_NAME, dtype: object"
      ]
     },
     "execution_count": 197,
     "metadata": {},
     "output_type": "execute_result"
    }
   ],
   "source": [
    "# Access just the FIRST_NAME column\n",
    "# shorten output with head\n",
    "# returns a Series\n",
    "\n",
    "df_coh['FIRST_NAME'].head(10)"
   ]
  },
  {
   "cell_type": "markdown",
   "metadata": {},
   "source": [
    "### Use a list to access multiple columns"
   ]
  },
  {
   "cell_type": "code",
   "execution_count": 198,
   "metadata": {
    "collapsed": false
   },
   "outputs": [
    {
     "data": {
      "text/html": [
       "<div>\n",
       "<table border=\"1\" class=\"dataframe\">\n",
       "  <thead>\n",
       "    <tr style=\"text-align: right;\">\n",
       "      <th></th>\n",
       "      <th>FIRST_NAME</th>\n",
       "      <th>GENDER</th>\n",
       "      <th>RACE</th>\n",
       "    </tr>\n",
       "  </thead>\n",
       "  <tbody>\n",
       "    <tr>\n",
       "      <th>0</th>\n",
       "      <td>LILLIAN</td>\n",
       "      <td>Female</td>\n",
       "      <td>Hispanic/Latino</td>\n",
       "    </tr>\n",
       "    <tr>\n",
       "      <th>1</th>\n",
       "      <td>ESPERANZA</td>\n",
       "      <td>Female</td>\n",
       "      <td>Hispanic/Latino</td>\n",
       "    </tr>\n",
       "    <tr>\n",
       "      <th>2</th>\n",
       "      <td>JONATHAN</td>\n",
       "      <td>Male</td>\n",
       "      <td>White</td>\n",
       "    </tr>\n",
       "    <tr>\n",
       "      <th>3</th>\n",
       "      <td>JOHN</td>\n",
       "      <td>Male</td>\n",
       "      <td>White</td>\n",
       "    </tr>\n",
       "    <tr>\n",
       "      <th>4</th>\n",
       "      <td>RUSSELL</td>\n",
       "      <td>Male</td>\n",
       "      <td>White</td>\n",
       "    </tr>\n",
       "  </tbody>\n",
       "</table>\n",
       "</div>"
      ],
      "text/plain": [
       "  FIRST_NAME  GENDER             RACE\n",
       "0    LILLIAN  Female  Hispanic/Latino\n",
       "1  ESPERANZA  Female  Hispanic/Latino\n",
       "2   JONATHAN    Male            White\n",
       "3       JOHN    Male            White\n",
       "4    RUSSELL    Male            White"
      ]
     },
     "execution_count": 198,
     "metadata": {},
     "output_type": "execute_result"
    }
   ],
   "source": [
    "# get three columns - put names in a list\n",
    "# Returns a DataFrame\n",
    "\n",
    "df_coh[['FIRST_NAME', 'GENDER', 'RACE']].head()"
   ]
  },
  {
   "cell_type": "code",
   "execution_count": 199,
   "metadata": {
    "collapsed": false
   },
   "outputs": [
    {
     "data": {
      "text/html": [
       "<div>\n",
       "<table border=\"1\" class=\"dataframe\">\n",
       "  <thead>\n",
       "    <tr style=\"text-align: right;\">\n",
       "      <th></th>\n",
       "      <th>FIRST_NAME</th>\n",
       "    </tr>\n",
       "  </thead>\n",
       "  <tbody>\n",
       "    <tr>\n",
       "      <th>0</th>\n",
       "      <td>LILLIAN</td>\n",
       "    </tr>\n",
       "    <tr>\n",
       "      <th>1</th>\n",
       "      <td>ESPERANZA</td>\n",
       "    </tr>\n",
       "    <tr>\n",
       "      <th>2</th>\n",
       "      <td>JONATHAN</td>\n",
       "    </tr>\n",
       "    <tr>\n",
       "      <th>3</th>\n",
       "      <td>JOHN</td>\n",
       "    </tr>\n",
       "    <tr>\n",
       "      <th>4</th>\n",
       "      <td>RUSSELL</td>\n",
       "    </tr>\n",
       "    <tr>\n",
       "      <th>5</th>\n",
       "      <td>CRAIG</td>\n",
       "    </tr>\n",
       "    <tr>\n",
       "      <th>6</th>\n",
       "      <td>PETER</td>\n",
       "    </tr>\n",
       "    <tr>\n",
       "      <th>7</th>\n",
       "      <td>JEFFREY</td>\n",
       "    </tr>\n",
       "    <tr>\n",
       "      <th>8</th>\n",
       "      <td>ROBERT</td>\n",
       "    </tr>\n",
       "    <tr>\n",
       "      <th>9</th>\n",
       "      <td>DAMIAN</td>\n",
       "    </tr>\n",
       "  </tbody>\n",
       "</table>\n",
       "</div>"
      ],
      "text/plain": [
       "  FIRST_NAME\n",
       "0    LILLIAN\n",
       "1  ESPERANZA\n",
       "2   JONATHAN\n",
       "3       JOHN\n",
       "4    RUSSELL\n",
       "5      CRAIG\n",
       "6      PETER\n",
       "7    JEFFREY\n",
       "8     ROBERT\n",
       "9     DAMIAN"
      ]
     },
     "execution_count": 199,
     "metadata": {},
     "output_type": "execute_result"
    }
   ],
   "source": [
    "# If you want to return a single column as a dataframe use a list with one column name\n",
    "df_coh[['FIRST_NAME']].head(10)"
   ]
  },
  {
   "cell_type": "markdown",
   "metadata": {},
   "source": [
    "### You have a Series when you access a single column\n",
    "It's important to know that when you use the [ ] operator for a DataFrame and pass a single column name into it, you are back to having a Series. All the Series functions will work as before."
   ]
  },
  {
   "cell_type": "code",
   "execution_count": 200,
   "metadata": {
    "collapsed": false
   },
   "outputs": [
    {
     "data": {
      "text/plain": [
       "275000.0"
      ]
     },
     "execution_count": 200,
     "metadata": {},
     "output_type": "execute_result"
    }
   ],
   "source": [
    "# use the same Series functions as before\n",
    "\n",
    "# use max series method\n",
    "df_coh['BASE_SALARY'].max()"
   ]
  },
  {
   "cell_type": "code",
   "execution_count": 201,
   "metadata": {
    "collapsed": false
   },
   "outputs": [
    {
     "data": {
      "text/plain": [
       "105178319.0"
      ]
     },
     "execution_count": 201,
     "metadata": {},
     "output_type": "execute_result"
    }
   ],
   "source": [
    "# sum total salary\n",
    "df_coh['BASE_SALARY'].sum()"
   ]
  },
  {
   "cell_type": "code",
   "execution_count": 202,
   "metadata": {
    "collapsed": false
   },
   "outputs": [
    {
     "data": {
      "text/plain": [
       "21693.706679449504"
      ]
     },
     "execution_count": 202,
     "metadata": {},
     "output_type": "execute_result"
    }
   ],
   "source": [
    "# find the standard deviation in salaries\n",
    "df_coh['BASE_SALARY'].std()"
   ]
  },
  {
   "cell_type": "code",
   "execution_count": 203,
   "metadata": {
    "collapsed": false
   },
   "outputs": [
    {
     "data": {
      "text/plain": [
       "0      121862.0\n",
       "8      107962.0\n",
       "11     180416.0\n",
       "43     165216.0\n",
       "66     100791.0\n",
       "169    120916.0\n",
       "178    210588.0\n",
       "186    110881.0\n",
       "217    102019.0\n",
       "237    130416.0\n",
       "Name: BASE_SALARY, dtype: float64"
      ]
     },
     "execution_count": 203,
     "metadata": {},
     "output_type": "execute_result"
    }
   ],
   "source": [
    "# use boolean selection to select salaries > 100,000\n",
    "salaries = df_coh['BASE_SALARY']\n",
    "criteria = salaries > 100000\n",
    "\n",
    "salaries[criteria].head(10)"
   ]
  },
  {
   "cell_type": "code",
   "execution_count": 204,
   "metadata": {
    "collapsed": false
   },
   "outputs": [
    {
     "data": {
      "text/html": [
       "<div>\n",
       "<table border=\"1\" class=\"dataframe\">\n",
       "  <thead>\n",
       "    <tr style=\"text-align: right;\">\n",
       "      <th></th>\n",
       "      <th>UNIQUE_ID</th>\n",
       "      <th>FIRST_NAME</th>\n",
       "      <th>LAST_NAME</th>\n",
       "      <th>POSITION_NUMBER</th>\n",
       "      <th>POSITION_JOB_CODE</th>\n",
       "      <th>POSITION_TITLE</th>\n",
       "      <th>BUSINESS_AREA</th>\n",
       "      <th>DEPARTMENT</th>\n",
       "      <th>PAY_GRADE</th>\n",
       "      <th>FUND_ID</th>\n",
       "      <th>FUND_NAME</th>\n",
       "      <th>COST_CENTER</th>\n",
       "      <th>COST_CENTER_NAME</th>\n",
       "      <th>REPORTS_TO_POSITION</th>\n",
       "      <th>MANAGER_NAME</th>\n",
       "      <th>BASE_SALARY</th>\n",
       "      <th>ORG_UNIT</th>\n",
       "      <th>ORG_UNIT_NAME</th>\n",
       "      <th>ETHNICITY</th>\n",
       "      <th>RACE</th>\n",
       "      <th>EMPLOYMENT_TYPE</th>\n",
       "      <th>EMPLOYMENT_SUB_GROUP</th>\n",
       "      <th>EXEMPT</th>\n",
       "      <th>GENDER</th>\n",
       "      <th>EMPLOYMENT_STATUS</th>\n",
       "      <th>CIVIL_SERVICE_TYPE</th>\n",
       "      <th>HIRE_DATE</th>\n",
       "      <th>JOB_DATE</th>\n",
       "      <th>COMP_DATE</th>\n",
       "      <th>EEOJ</th>\n",
       "      <th>SNAPSHOT_DATE</th>\n",
       "    </tr>\n",
       "  </thead>\n",
       "  <tbody>\n",
       "    <tr>\n",
       "      <th>0</th>\n",
       "      <td>9172</td>\n",
       "      <td>LILLIAN</td>\n",
       "      <td>WARDEN</td>\n",
       "      <td>30027193</td>\n",
       "      <td>306.2</td>\n",
       "      <td>ASSISTANT DIRECTOR (EX LVL)</td>\n",
       "      <td>1600</td>\n",
       "      <td>Municipal Courts Department</td>\n",
       "      <td>32</td>\n",
       "      <td>1000</td>\n",
       "      <td>General Fund</td>\n",
       "      <td>1600010001</td>\n",
       "      <td>MCD-Admin Services</td>\n",
       "      <td>30044747.0</td>\n",
       "      <td>NELLY SANTOS</td>\n",
       "      <td>121862.0</td>\n",
       "      <td>16.1410</td>\n",
       "      <td>MCD-ADMINISTRATIVE SERVICES</td>\n",
       "      <td>HISPANIC</td>\n",
       "      <td>Hispanic/Latino</td>\n",
       "      <td>Full Time</td>\n",
       "      <td>Exempt Excptn</td>\n",
       "      <td>E</td>\n",
       "      <td>Female</td>\n",
       "      <td>Active</td>\n",
       "      <td>CIVILIAN</td>\n",
       "      <td>2006-06-12</td>\n",
       "      <td>2012-10-13</td>\n",
       "      <td>1998-05-13</td>\n",
       "      <td>A: Officials &amp; Administrators</td>\n",
       "      <td>2016-06-01</td>\n",
       "    </tr>\n",
       "    <tr>\n",
       "      <th>8</th>\n",
       "      <td>8010</td>\n",
       "      <td>ROBERT</td>\n",
       "      <td>OAKES</td>\n",
       "      <td>30051248</td>\n",
       "      <td>306.3</td>\n",
       "      <td>DEPUTY ASSISTANT DIRECTOR (EXECUTIVE LEV</td>\n",
       "      <td>2000</td>\n",
       "      <td>Public Works &amp; Engineering-PWE</td>\n",
       "      <td>30</td>\n",
       "      <td>2301</td>\n",
       "      <td>Building Inspection Fund</td>\n",
       "      <td>2000060004</td>\n",
       "      <td>PWE-BldgOfficialOffi</td>\n",
       "      <td>30043470.0</td>\n",
       "      <td>EARL GREER</td>\n",
       "      <td>107962.0</td>\n",
       "      <td>20.2123.01</td>\n",
       "      <td>PWE-OFFICE OF THE BLDG OFFICIAL</td>\n",
       "      <td>WHITE, NOT OF HISPANIC ORIGIN</td>\n",
       "      <td>White</td>\n",
       "      <td>Full Time</td>\n",
       "      <td>Exempt Excptn</td>\n",
       "      <td>E</td>\n",
       "      <td>Male</td>\n",
       "      <td>Active</td>\n",
       "      <td>CIVILIAN</td>\n",
       "      <td>1993-11-15</td>\n",
       "      <td>2013-01-05</td>\n",
       "      <td>1993-11-15</td>\n",
       "      <td>A: Officials &amp; Administrators</td>\n",
       "      <td>2016-06-01</td>\n",
       "    </tr>\n",
       "    <tr>\n",
       "      <th>11</th>\n",
       "      <td>4560</td>\n",
       "      <td>LUTHER</td>\n",
       "      <td>HARRELL</td>\n",
       "      <td>30002735</td>\n",
       "      <td>724.2</td>\n",
       "      <td>CHIEF PHYSICIAN,MD</td>\n",
       "      <td>3800</td>\n",
       "      <td>Health &amp; Human Services</td>\n",
       "      <td>35</td>\n",
       "      <td>1000</td>\n",
       "      <td>General Fund</td>\n",
       "      <td>3800050025</td>\n",
       "      <td>HHS-CHS AreaOprSppt</td>\n",
       "      <td>30048040.0</td>\n",
       "      <td>RISHA JONES</td>\n",
       "      <td>180416.0</td>\n",
       "      <td>38.5038</td>\n",
       "      <td>HHS-FAMILY HLTH ADMN</td>\n",
       "      <td>BLACK, NOT OF HISPANIC ORIGIN</td>\n",
       "      <td>Black or African American</td>\n",
       "      <td>Full Time</td>\n",
       "      <td>Exempt Excptn</td>\n",
       "      <td>E</td>\n",
       "      <td>Male</td>\n",
       "      <td>Active</td>\n",
       "      <td>CIVILIAN</td>\n",
       "      <td>1987-05-22</td>\n",
       "      <td>1999-08-28</td>\n",
       "      <td>1987-05-22</td>\n",
       "      <td>A: Officials &amp; Administrators</td>\n",
       "      <td>2016-06-01</td>\n",
       "    </tr>\n",
       "    <tr>\n",
       "      <th>43</th>\n",
       "      <td>27959</td>\n",
       "      <td>MICHAEL</td>\n",
       "      <td>GONZALEZ</td>\n",
       "      <td>30058271</td>\n",
       "      <td>656.6</td>\n",
       "      <td>ASSOCIATE EMS PHYSICIAN DIRECTOR</td>\n",
       "      <td>1200</td>\n",
       "      <td>Houston Fire Department (HFD)</td>\n",
       "      <td>35</td>\n",
       "      <td>2010</td>\n",
       "      <td>Essential Public Health Services</td>\n",
       "      <td>1200030004</td>\n",
       "      <td>HFD-Medical Dir/Q.A.</td>\n",
       "      <td>30009179.0</td>\n",
       "      <td>DAVID PERSSE</td>\n",
       "      <td>165216.0</td>\n",
       "      <td>12.1225.03</td>\n",
       "      <td>HFD-MEDICAL DIRECTION &amp; Q.A.</td>\n",
       "      <td>HISPANIC</td>\n",
       "      <td>Hispanic/Latino</td>\n",
       "      <td>Full Time</td>\n",
       "      <td>Exempt Excptn</td>\n",
       "      <td>E</td>\n",
       "      <td>Male</td>\n",
       "      <td>Active</td>\n",
       "      <td>CIVILIAN</td>\n",
       "      <td>2013-08-31</td>\n",
       "      <td>2013-08-31</td>\n",
       "      <td>2013-08-31</td>\n",
       "      <td>A: Officials &amp; Administrators</td>\n",
       "      <td>2016-06-01</td>\n",
       "    </tr>\n",
       "    <tr>\n",
       "      <th>66</th>\n",
       "      <td>32229</td>\n",
       "      <td>SALLY</td>\n",
       "      <td>ABOUASSAF</td>\n",
       "      <td>30058430</td>\n",
       "      <td>706.5</td>\n",
       "      <td>PUBLIC HEALTH DENTIST,DDS</td>\n",
       "      <td>3800</td>\n",
       "      <td>Health &amp; Human Services</td>\n",
       "      <td>29</td>\n",
       "      <td>2010</td>\n",
       "      <td>Essential Public Health Services</td>\n",
       "      <td>3800070010</td>\n",
       "      <td>HHS-GeriatricOralHlt</td>\n",
       "      <td>30021232.0</td>\n",
       "      <td>DEBORAH GARCIA</td>\n",
       "      <td>100791.0</td>\n",
       "      <td>38.5023</td>\n",
       "      <td>HHS-ORAL HEALTH</td>\n",
       "      <td>WHITE, NOT OF HISPANIC ORIGIN</td>\n",
       "      <td>White</td>\n",
       "      <td>Full Time</td>\n",
       "      <td>Exempt Excptn</td>\n",
       "      <td>E</td>\n",
       "      <td>Female</td>\n",
       "      <td>Active</td>\n",
       "      <td>CIVILIAN</td>\n",
       "      <td>2015-12-28</td>\n",
       "      <td>2015-12-28</td>\n",
       "      <td>2015-12-28</td>\n",
       "      <td>B: Professionals</td>\n",
       "      <td>2016-06-01</td>\n",
       "    </tr>\n",
       "  </tbody>\n",
       "</table>\n",
       "</div>"
      ],
      "text/plain": [
       "    UNIQUE_ID FIRST_NAME  LAST_NAME  POSITION_NUMBER  POSITION_JOB_CODE  \\\n",
       "0        9172    LILLIAN     WARDEN         30027193              306.2   \n",
       "8        8010     ROBERT      OAKES         30051248              306.3   \n",
       "11       4560     LUTHER    HARRELL         30002735              724.2   \n",
       "43      27959    MICHAEL   GONZALEZ         30058271              656.6   \n",
       "66      32229      SALLY  ABOUASSAF         30058430              706.5   \n",
       "\n",
       "                              POSITION_TITLE  BUSINESS_AREA  \\\n",
       "0                ASSISTANT DIRECTOR (EX LVL)           1600   \n",
       "8   DEPUTY ASSISTANT DIRECTOR (EXECUTIVE LEV           2000   \n",
       "11                        CHIEF PHYSICIAN,MD           3800   \n",
       "43          ASSOCIATE EMS PHYSICIAN DIRECTOR           1200   \n",
       "66                 PUBLIC HEALTH DENTIST,DDS           3800   \n",
       "\n",
       "                        DEPARTMENT PAY_GRADE  FUND_ID  \\\n",
       "0      Municipal Courts Department        32     1000   \n",
       "8   Public Works & Engineering-PWE        30     2301   \n",
       "11         Health & Human Services        35     1000   \n",
       "43   Houston Fire Department (HFD)        35     2010   \n",
       "66         Health & Human Services        29     2010   \n",
       "\n",
       "                           FUND_NAME  COST_CENTER      COST_CENTER_NAME  \\\n",
       "0                       General Fund   1600010001    MCD-Admin Services   \n",
       "8           Building Inspection Fund   2000060004  PWE-BldgOfficialOffi   \n",
       "11                      General Fund   3800050025   HHS-CHS AreaOprSppt   \n",
       "43  Essential Public Health Services   1200030004  HFD-Medical Dir/Q.A.   \n",
       "66  Essential Public Health Services   3800070010  HHS-GeriatricOralHlt   \n",
       "\n",
       "    REPORTS_TO_POSITION    MANAGER_NAME  BASE_SALARY    ORG_UNIT  \\\n",
       "0            30044747.0    NELLY SANTOS     121862.0     16.1410   \n",
       "8            30043470.0      EARL GREER     107962.0  20.2123.01   \n",
       "11           30048040.0     RISHA JONES     180416.0     38.5038   \n",
       "43           30009179.0    DAVID PERSSE     165216.0  12.1225.03   \n",
       "66           30021232.0  DEBORAH GARCIA     100791.0     38.5023   \n",
       "\n",
       "                      ORG_UNIT_NAME                      ETHNICITY  \\\n",
       "0       MCD-ADMINISTRATIVE SERVICES                       HISPANIC   \n",
       "8   PWE-OFFICE OF THE BLDG OFFICIAL  WHITE, NOT OF HISPANIC ORIGIN   \n",
       "11             HHS-FAMILY HLTH ADMN  BLACK, NOT OF HISPANIC ORIGIN   \n",
       "43     HFD-MEDICAL DIRECTION & Q.A.                       HISPANIC   \n",
       "66                  HHS-ORAL HEALTH  WHITE, NOT OF HISPANIC ORIGIN   \n",
       "\n",
       "                         RACE EMPLOYMENT_TYPE EMPLOYMENT_SUB_GROUP EXEMPT  \\\n",
       "0             Hispanic/Latino       Full Time        Exempt Excptn      E   \n",
       "8                       White       Full Time        Exempt Excptn      E   \n",
       "11  Black or African American       Full Time        Exempt Excptn      E   \n",
       "43            Hispanic/Latino       Full Time        Exempt Excptn      E   \n",
       "66                      White       Full Time        Exempt Excptn      E   \n",
       "\n",
       "    GENDER EMPLOYMENT_STATUS CIVIL_SERVICE_TYPE   HIRE_DATE    JOB_DATE  \\\n",
       "0   Female            Active           CIVILIAN  2006-06-12  2012-10-13   \n",
       "8     Male            Active           CIVILIAN  1993-11-15  2013-01-05   \n",
       "11    Male            Active           CIVILIAN  1987-05-22  1999-08-28   \n",
       "43    Male            Active           CIVILIAN  2013-08-31  2013-08-31   \n",
       "66  Female            Active           CIVILIAN  2015-12-28  2015-12-28   \n",
       "\n",
       "     COMP_DATE                           EEOJ SNAPSHOT_DATE  \n",
       "0   1998-05-13  A: Officials & Administrators    2016-06-01  \n",
       "8   1993-11-15  A: Officials & Administrators    2016-06-01  \n",
       "11  1987-05-22  A: Officials & Administrators    2016-06-01  \n",
       "43  2013-08-31  A: Officials & Administrators    2016-06-01  \n",
       "66  2015-12-28               B: Professionals    2016-06-01  "
      ]
     },
     "execution_count": 204,
     "metadata": {},
     "output_type": "execute_result"
    }
   ],
   "source": [
    "# you can also use the criteria to filter the entire dataframe\n",
    "# All columns from those with a salary > 100,000\n",
    "\n",
    "df_coh[criteria].head()"
   ]
  },
  {
   "cell_type": "markdown",
   "metadata": {},
   "source": [
    "### More interesting boolean logic with DataFrames\n",
    "Many more interesting questions can now be asked and solved with boolean operations in the data in a very similar manner to how they were in the Series notebook."
   ]
  },
  {
   "cell_type": "code",
   "execution_count": 205,
   "metadata": {
    "collapsed": false
   },
   "outputs": [
    {
     "data": {
      "text/html": [
       "<div>\n",
       "<table border=\"1\" class=\"dataframe\">\n",
       "  <thead>\n",
       "    <tr style=\"text-align: right;\">\n",
       "      <th></th>\n",
       "      <th>UNIQUE_ID</th>\n",
       "      <th>FIRST_NAME</th>\n",
       "      <th>LAST_NAME</th>\n",
       "      <th>POSITION_NUMBER</th>\n",
       "      <th>POSITION_JOB_CODE</th>\n",
       "      <th>POSITION_TITLE</th>\n",
       "      <th>BUSINESS_AREA</th>\n",
       "      <th>DEPARTMENT</th>\n",
       "      <th>PAY_GRADE</th>\n",
       "      <th>FUND_ID</th>\n",
       "      <th>FUND_NAME</th>\n",
       "      <th>COST_CENTER</th>\n",
       "      <th>COST_CENTER_NAME</th>\n",
       "      <th>REPORTS_TO_POSITION</th>\n",
       "      <th>MANAGER_NAME</th>\n",
       "      <th>BASE_SALARY</th>\n",
       "      <th>ORG_UNIT</th>\n",
       "      <th>ORG_UNIT_NAME</th>\n",
       "      <th>ETHNICITY</th>\n",
       "      <th>RACE</th>\n",
       "      <th>EMPLOYMENT_TYPE</th>\n",
       "      <th>EMPLOYMENT_SUB_GROUP</th>\n",
       "      <th>EXEMPT</th>\n",
       "      <th>GENDER</th>\n",
       "      <th>EMPLOYMENT_STATUS</th>\n",
       "      <th>CIVIL_SERVICE_TYPE</th>\n",
       "      <th>HIRE_DATE</th>\n",
       "      <th>JOB_DATE</th>\n",
       "      <th>COMP_DATE</th>\n",
       "      <th>EEOJ</th>\n",
       "      <th>SNAPSHOT_DATE</th>\n",
       "    </tr>\n",
       "  </thead>\n",
       "  <tbody>\n",
       "    <tr>\n",
       "      <th>0</th>\n",
       "      <td>9172</td>\n",
       "      <td>LILLIAN</td>\n",
       "      <td>WARDEN</td>\n",
       "      <td>30027193</td>\n",
       "      <td>306.2</td>\n",
       "      <td>ASSISTANT DIRECTOR (EX LVL)</td>\n",
       "      <td>1600</td>\n",
       "      <td>Municipal Courts Department</td>\n",
       "      <td>32</td>\n",
       "      <td>1000</td>\n",
       "      <td>General Fund</td>\n",
       "      <td>1600010001</td>\n",
       "      <td>MCD-Admin Services</td>\n",
       "      <td>30044747.0</td>\n",
       "      <td>NELLY SANTOS</td>\n",
       "      <td>121862.0</td>\n",
       "      <td>16.1410</td>\n",
       "      <td>MCD-ADMINISTRATIVE SERVICES</td>\n",
       "      <td>HISPANIC</td>\n",
       "      <td>Hispanic/Latino</td>\n",
       "      <td>Full Time</td>\n",
       "      <td>Exempt Excptn</td>\n",
       "      <td>E</td>\n",
       "      <td>Female</td>\n",
       "      <td>Active</td>\n",
       "      <td>CIVILIAN</td>\n",
       "      <td>2006-06-12</td>\n",
       "      <td>2012-10-13</td>\n",
       "      <td>1998-05-13</td>\n",
       "      <td>A: Officials &amp; Administrators</td>\n",
       "      <td>2016-06-01</td>\n",
       "    </tr>\n",
       "    <tr>\n",
       "      <th>66</th>\n",
       "      <td>32229</td>\n",
       "      <td>SALLY</td>\n",
       "      <td>ABOUASSAF</td>\n",
       "      <td>30058430</td>\n",
       "      <td>706.5</td>\n",
       "      <td>PUBLIC HEALTH DENTIST,DDS</td>\n",
       "      <td>3800</td>\n",
       "      <td>Health &amp; Human Services</td>\n",
       "      <td>29</td>\n",
       "      <td>2010</td>\n",
       "      <td>Essential Public Health Services</td>\n",
       "      <td>3800070010</td>\n",
       "      <td>HHS-GeriatricOralHlt</td>\n",
       "      <td>30021232.0</td>\n",
       "      <td>DEBORAH GARCIA</td>\n",
       "      <td>100791.0</td>\n",
       "      <td>38.5023</td>\n",
       "      <td>HHS-ORAL HEALTH</td>\n",
       "      <td>WHITE, NOT OF HISPANIC ORIGIN</td>\n",
       "      <td>White</td>\n",
       "      <td>Full Time</td>\n",
       "      <td>Exempt Excptn</td>\n",
       "      <td>E</td>\n",
       "      <td>Female</td>\n",
       "      <td>Active</td>\n",
       "      <td>CIVILIAN</td>\n",
       "      <td>2015-12-28</td>\n",
       "      <td>2015-12-28</td>\n",
       "      <td>2015-12-28</td>\n",
       "      <td>B: Professionals</td>\n",
       "      <td>2016-06-01</td>\n",
       "    </tr>\n",
       "    <tr>\n",
       "      <th>237</th>\n",
       "      <td>10297</td>\n",
       "      <td>MARIA</td>\n",
       "      <td>IRSHAD</td>\n",
       "      <td>30057398</td>\n",
       "      <td>306.2</td>\n",
       "      <td>ASSISTANT DIRECTOR (EXECUTIVE LEVEL)</td>\n",
       "      <td>6500</td>\n",
       "      <td>Admn. &amp; Regulatory Affairs</td>\n",
       "      <td>32</td>\n",
       "      <td>8700</td>\n",
       "      <td>Parking Mangement Operating Fund</td>\n",
       "      <td>6500090001</td>\n",
       "      <td>ARA-Parking Cust Ser</td>\n",
       "      <td>30030918.0</td>\n",
       "      <td>ERNESTINA PAEZ</td>\n",
       "      <td>130416.0</td>\n",
       "      <td>65.1700</td>\n",
       "      <td>ARA-PARKING MANAGEMENT</td>\n",
       "      <td>ASIAN OR PACIFIC ISLANDER</td>\n",
       "      <td>Asian/Pacific Islander</td>\n",
       "      <td>Full Time</td>\n",
       "      <td>Exempt Excptn</td>\n",
       "      <td>E</td>\n",
       "      <td>Female</td>\n",
       "      <td>Active</td>\n",
       "      <td>CIVILIAN</td>\n",
       "      <td>2002-05-24</td>\n",
       "      <td>2013-07-20</td>\n",
       "      <td>2002-05-24</td>\n",
       "      <td>A: Officials &amp; Administrators</td>\n",
       "      <td>2016-06-01</td>\n",
       "    </tr>\n",
       "    <tr>\n",
       "      <th>366</th>\n",
       "      <td>29194</td>\n",
       "      <td>ELEANOR</td>\n",
       "      <td>HOLMAN</td>\n",
       "      <td>30060598</td>\n",
       "      <td>306.3</td>\n",
       "      <td>DEPUTY ASSISTANT DIRECTOR (EXECUTIVE LEV</td>\n",
       "      <td>5000</td>\n",
       "      <td>Mayor's Office</td>\n",
       "      <td>30</td>\n",
       "      <td>2429</td>\n",
       "      <td>Houston Civic Events Fund</td>\n",
       "      <td>5000030001</td>\n",
       "      <td>MYR-Hou Civic Events</td>\n",
       "      <td>30062588.0</td>\n",
       "      <td>SUSAN CHRISTIAN</td>\n",
       "      <td>110000.0</td>\n",
       "      <td>50.1430.05</td>\n",
       "      <td>MYR-SPECIAL EVENTS</td>\n",
       "      <td>WHITE, NOT OF HISPANIC ORIGIN</td>\n",
       "      <td>White</td>\n",
       "      <td>Full Time</td>\n",
       "      <td>Exempt Excptn</td>\n",
       "      <td>E</td>\n",
       "      <td>Female</td>\n",
       "      <td>Active</td>\n",
       "      <td>CIVILIAN</td>\n",
       "      <td>2014-05-13</td>\n",
       "      <td>2014-05-13</td>\n",
       "      <td>2014-05-13</td>\n",
       "      <td>A: Officials &amp; Administrators</td>\n",
       "      <td>2016-06-01</td>\n",
       "    </tr>\n",
       "    <tr>\n",
       "      <th>522</th>\n",
       "      <td>24914</td>\n",
       "      <td>KERTECIA</td>\n",
       "      <td>MOND</td>\n",
       "      <td>30049334</td>\n",
       "      <td>306.3</td>\n",
       "      <td>DEPUTY ASSISTANT DIRECTOR (EX LVL)</td>\n",
       "      <td>2800</td>\n",
       "      <td>Houston Airport System (HAS)</td>\n",
       "      <td>30</td>\n",
       "      <td>8001</td>\n",
       "      <td>HAS-Revenue Fund</td>\n",
       "      <td>2800010003</td>\n",
       "      <td>HAS-DO Intern Audit</td>\n",
       "      <td>30047588.0</td>\n",
       "      <td>BALRAM BHEODARI</td>\n",
       "      <td>110686.0</td>\n",
       "      <td>28.1113.1000</td>\n",
       "      <td>HAS-DO INTERNAL AUDIT</td>\n",
       "      <td>BLACK, NOT OF HISPANIC ORIGIN</td>\n",
       "      <td>Black or African American</td>\n",
       "      <td>Full Time</td>\n",
       "      <td>Exempt Excptn</td>\n",
       "      <td>E</td>\n",
       "      <td>Female</td>\n",
       "      <td>Active</td>\n",
       "      <td>CIVILIAN</td>\n",
       "      <td>2011-11-07</td>\n",
       "      <td>2011-11-07</td>\n",
       "      <td>2011-11-07</td>\n",
       "      <td>A: Officials &amp; Administrators</td>\n",
       "      <td>2016-06-01</td>\n",
       "    </tr>\n",
       "  </tbody>\n",
       "</table>\n",
       "</div>"
      ],
      "text/plain": [
       "     UNIQUE_ID FIRST_NAME  LAST_NAME  POSITION_NUMBER  POSITION_JOB_CODE  \\\n",
       "0         9172    LILLIAN     WARDEN         30027193              306.2   \n",
       "66       32229      SALLY  ABOUASSAF         30058430              706.5   \n",
       "237      10297      MARIA     IRSHAD         30057398              306.2   \n",
       "366      29194    ELEANOR     HOLMAN         30060598              306.3   \n",
       "522      24914   KERTECIA       MOND         30049334              306.3   \n",
       "\n",
       "                               POSITION_TITLE  BUSINESS_AREA  \\\n",
       "0                 ASSISTANT DIRECTOR (EX LVL)           1600   \n",
       "66                  PUBLIC HEALTH DENTIST,DDS           3800   \n",
       "237      ASSISTANT DIRECTOR (EXECUTIVE LEVEL)           6500   \n",
       "366  DEPUTY ASSISTANT DIRECTOR (EXECUTIVE LEV           5000   \n",
       "522        DEPUTY ASSISTANT DIRECTOR (EX LVL)           2800   \n",
       "\n",
       "                       DEPARTMENT PAY_GRADE  FUND_ID  \\\n",
       "0     Municipal Courts Department        32     1000   \n",
       "66        Health & Human Services        29     2010   \n",
       "237    Admn. & Regulatory Affairs        32     8700   \n",
       "366                Mayor's Office        30     2429   \n",
       "522  Houston Airport System (HAS)        30     8001   \n",
       "\n",
       "                            FUND_NAME  COST_CENTER      COST_CENTER_NAME  \\\n",
       "0                        General Fund   1600010001    MCD-Admin Services   \n",
       "66   Essential Public Health Services   3800070010  HHS-GeriatricOralHlt   \n",
       "237  Parking Mangement Operating Fund   6500090001  ARA-Parking Cust Ser   \n",
       "366         Houston Civic Events Fund   5000030001  MYR-Hou Civic Events   \n",
       "522                  HAS-Revenue Fund   2800010003   HAS-DO Intern Audit   \n",
       "\n",
       "     REPORTS_TO_POSITION     MANAGER_NAME  BASE_SALARY      ORG_UNIT  \\\n",
       "0             30044747.0     NELLY SANTOS     121862.0       16.1410   \n",
       "66            30021232.0   DEBORAH GARCIA     100791.0       38.5023   \n",
       "237           30030918.0   ERNESTINA PAEZ     130416.0       65.1700   \n",
       "366           30062588.0  SUSAN CHRISTIAN     110000.0    50.1430.05   \n",
       "522           30047588.0  BALRAM BHEODARI     110686.0  28.1113.1000   \n",
       "\n",
       "                   ORG_UNIT_NAME                      ETHNICITY  \\\n",
       "0    MCD-ADMINISTRATIVE SERVICES                       HISPANIC   \n",
       "66               HHS-ORAL HEALTH  WHITE, NOT OF HISPANIC ORIGIN   \n",
       "237       ARA-PARKING MANAGEMENT      ASIAN OR PACIFIC ISLANDER   \n",
       "366           MYR-SPECIAL EVENTS  WHITE, NOT OF HISPANIC ORIGIN   \n",
       "522        HAS-DO INTERNAL AUDIT  BLACK, NOT OF HISPANIC ORIGIN   \n",
       "\n",
       "                          RACE EMPLOYMENT_TYPE EMPLOYMENT_SUB_GROUP EXEMPT  \\\n",
       "0              Hispanic/Latino       Full Time        Exempt Excptn      E   \n",
       "66                       White       Full Time        Exempt Excptn      E   \n",
       "237     Asian/Pacific Islander       Full Time        Exempt Excptn      E   \n",
       "366                      White       Full Time        Exempt Excptn      E   \n",
       "522  Black or African American       Full Time        Exempt Excptn      E   \n",
       "\n",
       "     GENDER EMPLOYMENT_STATUS CIVIL_SERVICE_TYPE   HIRE_DATE    JOB_DATE  \\\n",
       "0    Female            Active           CIVILIAN  2006-06-12  2012-10-13   \n",
       "66   Female            Active           CIVILIAN  2015-12-28  2015-12-28   \n",
       "237  Female            Active           CIVILIAN  2002-05-24  2013-07-20   \n",
       "366  Female            Active           CIVILIAN  2014-05-13  2014-05-13   \n",
       "522  Female            Active           CIVILIAN  2011-11-07  2011-11-07   \n",
       "\n",
       "      COMP_DATE                           EEOJ SNAPSHOT_DATE  \n",
       "0    1998-05-13  A: Officials & Administrators    2016-06-01  \n",
       "66   2015-12-28               B: Professionals    2016-06-01  \n",
       "237  2002-05-24  A: Officials & Administrators    2016-06-01  \n",
       "366  2014-05-13  A: Officials & Administrators    2016-06-01  \n",
       "522  2011-11-07  A: Officials & Administrators    2016-06-01  "
      ]
     },
     "execution_count": 205,
     "metadata": {},
     "output_type": "execute_result"
    }
   ],
   "source": [
    "# find people with make more 100,000 and are female\n",
    "criteria = (df_coh['BASE_SALARY'] > 100000) & (df_coh['GENDER'] == 'Female')\n",
    "\n",
    "df_coh[criteria].head()"
   ]
  },
  {
   "cell_type": "code",
   "execution_count": 206,
   "metadata": {
    "collapsed": false
   },
   "outputs": [
    {
     "data": {
      "text/plain": [
       "Black or African American            700\n",
       "White                                665\n",
       "Hispanic/Latino                      480\n",
       "Asian/Pacific Islander               107\n",
       "American Indian or Alaskan Native     11\n",
       "Others                                 2\n",
       "Name: RACE, dtype: int64"
      ]
     },
     "execution_count": 206,
     "metadata": {},
     "output_type": "execute_result"
    }
   ],
   "source": [
    "df_coh['RACE'].value_counts()"
   ]
  },
  {
   "cell_type": "code",
   "execution_count": 207,
   "metadata": {
    "collapsed": false
   },
   "outputs": [
    {
     "ename": "SyntaxError",
     "evalue": "invalid syntax (<ipython-input-207-72293e33b01b>, line 2)",
     "output_type": "error",
     "traceback": [
      "\u001b[0;36m  File \u001b[0;32m\"<ipython-input-207-72293e33b01b>\"\u001b[0;36m, line \u001b[0;32m2\u001b[0m\n\u001b[0;31m    white_female =\u001b[0m\n\u001b[0m                   ^\u001b[0m\n\u001b[0;31mSyntaxError\u001b[0m\u001b[0;31m:\u001b[0m invalid syntax\n"
     ]
    }
   ],
   "source": [
    "# your code here\n",
    "white_female = \n",
    "black_male = \n",
    "over_100k = \n",
    "\n",
    "criteria = "
   ]
  },
  {
   "cell_type": "markdown",
   "metadata": {},
   "source": [
    "### Problem 6\n",
    "<span  style=\"color:green; font-size:16px\">What is the third most common department?</span>"
   ]
  },
  {
   "cell_type": "code",
   "execution_count": null,
   "metadata": {
    "collapsed": true
   },
   "outputs": [],
   "source": [
    "# your code here"
   ]
  },
  {
   "cell_type": "markdown",
   "metadata": {},
   "source": [
    "### Do men or woman make more money?\n",
    "Boolean indexing can help answer this question. We first create two new DataFrames that are filtered for each gender and then find the mean of the salary. Men make about $5,000 more."
   ]
  },
  {
   "cell_type": "code",
   "execution_count": null,
   "metadata": {
    "collapsed": false
   },
   "outputs": [],
   "source": [
    "men = df_coh[df_coh['GENDER'] == 'Male']\n",
    "women = df_coh[df_coh['GENDER'] == 'Female']\n",
    "\n",
    "men['BASE_SALARY'].mean(), women['BASE_SALARY'].mean()"
   ]
  },
  {
   "cell_type": "markdown",
   "metadata": {},
   "source": [
    "### All unique values of a column\n",
    "Many times its nice to know all the possible values that a column can be. I usually use the **`value_counts`** method which counts the frequencies but also available is the **`unique`** method."
   ]
  },
  {
   "cell_type": "code",
   "execution_count": null,
   "metadata": {
    "collapsed": false
   },
   "outputs": [],
   "source": [
    "# Get all unique values of RACE\n",
    "df_coh['RACE'].unique()"
   ]
  },
  {
   "cell_type": "code",
   "execution_count": null,
   "metadata": {
    "collapsed": false
   },
   "outputs": [],
   "source": [
    "# but I prefer value_counts which returns frequencies as well\n",
    "df_coh['RACE'].value_counts()"
   ]
  },
  {
   "cell_type": "markdown",
   "metadata": {},
   "source": [
    "### Problem 7\n",
    "<span  style=\"color:green; font-size:16px\">Who makes more money, 'Black or African American' Females or White Males? Use RACE and GENDER columns.</span>"
   ]
  },
  {
   "cell_type": "code",
   "execution_count": null,
   "metadata": {
    "collapsed": true
   },
   "outputs": [],
   "source": [
    "# your code here"
   ]
  },
  {
   "cell_type": "markdown",
   "metadata": {},
   "source": [
    "### Problem 8\n",
    "<span  style=\"color:green; font-size:16px\">Who makes more money, 'POLICE OFFICER', 'ENGINEER/OPERATOR' or 'ELECTRICIAN'? Use the POSITION_TITLE column.</span>"
   ]
  },
  {
   "cell_type": "code",
   "execution_count": null,
   "metadata": {
    "collapsed": true
   },
   "outputs": [],
   "source": [
    "# your code here"
   ]
  },
  {
   "cell_type": "markdown",
   "metadata": {},
   "source": [
    "### Is there a better way to answer this last couple questions?\n",
    "Yes! The **groupby** method allows for grouping of these categorical variables and will be explained in greater detail in the next notebook."
   ]
  },
  {
   "cell_type": "markdown",
   "metadata": {},
   "source": [
    "### Selecting a single employee\n",
    "Many datasets have a column with an integer that uniquely identifies each row.  In database speak this column is called the table's **primary key**. The primary key allows for easy and direct access to each employee.\n",
    "\n",
    "In the **df_coh** table it appears that the first column, **UNIQUE_ID** is the primary key. Most good datasets will have a **data dictionary** that describes each column of the table so you won't have to take a guess as to what the primary key is. The data dictionary (a.k.a metadata) for the current dataset can be [found here.](http://data.ohouston.org/dataset/city-of-houston-current-employee-roster/resource/98448c04-e76f-4fa0-8916-12786e6e5883)\n",
    "\n",
    "### Ensuring uniqueness\n",
    "The most important aspect of a primary key is its uniqueness."
   ]
  },
  {
   "cell_type": "code",
   "execution_count": null,
   "metadata": {
    "collapsed": false
   },
   "outputs": [],
   "source": [
    "# ensure that unique_id is unique\n",
    "# use nunique Series method\n",
    "\n",
    "df_coh['UNIQUE_ID'].nunique()"
   ]
  },
  {
   "cell_type": "code",
   "execution_count": null,
   "metadata": {
    "collapsed": false
   },
   "outputs": [],
   "source": [
    "# 2000 is the total number of rows so unique_id is indeed unique\n",
    "len(df_coh)"
   ]
  },
  {
   "cell_type": "markdown",
   "metadata": {},
   "source": [
    "### Using boolean indexing to select an employee\n",
    "Now that it is clear that **UNIQUE_ID** is indeed unique, let's practice selecting Employee **28693** using boolean indexing."
   ]
  },
  {
   "cell_type": "markdown",
   "metadata": {},
   "source": [
    "### Problem 9\n",
    "<span  style=\"color:green; font-size:16px\">Select employee 28693.</span>"
   ]
  },
  {
   "cell_type": "code",
   "execution_count": null,
   "metadata": {
    "collapsed": false
   },
   "outputs": [],
   "source": [
    "# your code here"
   ]
  },
  {
   "cell_type": "markdown",
   "metadata": {},
   "source": [
    "### Taking advantage of the index\n",
    "Selecting an employee with **`df_coh[df_coh['UNIQUE_ID'] == 28693]`** is a bit cumbersome. A more elegant way involves replacing the current index with **UNIQUE_ID**. This is easily done with the **set_index** method and will allow for more straightfoward employee selections."
   ]
  },
  {
   "cell_type": "code",
   "execution_count": null,
   "metadata": {
    "collapsed": true
   },
   "outputs": [],
   "source": [
    "df_coh = pd.read_csv('data/coh_employee.csv')"
   ]
  },
  {
   "cell_type": "code",
   "execution_count": null,
   "metadata": {
    "collapsed": false
   },
   "outputs": [],
   "source": [
    "# use set_index\n",
    "# must assign result to save it\n",
    "df_coh = df_coh.set_index('UNIQUE_ID')"
   ]
  },
  {
   "cell_type": "code",
   "execution_count": null,
   "metadata": {
    "collapsed": false
   },
   "outputs": [],
   "source": [
    "# inspect frame\n",
    "df_coh.head()"
   ]
  },
  {
   "cell_type": "markdown",
   "metadata": {},
   "source": [
    "### Inspecting the new DataFrame output\n",
    "The index is now meaningful. The index, which previously was just a range begininnnig at 0, is now the employee ID. The name **UNIQUE_ID** is now the **name** of the index. The values for the index are still **bold** and a reminder that these values are part of the index and not a column. \n",
    "\n",
    "You should notice the blank first row in the new DataFrame above. This is actually not a row at all but extra space that is formed because the index now has a name."
   ]
  },
  {
   "cell_type": "code",
   "execution_count": null,
   "metadata": {
    "collapsed": false
   },
   "outputs": [],
   "source": [
    "# the index object has a name attribute\n",
    "df_coh.index.name"
   ]
  },
  {
   "cell_type": "code",
   "execution_count": null,
   "metadata": {
    "collapsed": true
   },
   "outputs": [],
   "source": [
    "# if that first empty row bothers you, you can delete the name of the index\n",
    "del df_coh.index.name"
   ]
  },
  {
   "cell_type": "code",
   "execution_count": null,
   "metadata": {
    "collapsed": false
   },
   "outputs": [],
   "source": [
    "# index still has the same meaning but does not have a name.\n",
    "# empty row space is now gone\n",
    "\n",
    "df_coh.head()"
   ]
  },
  {
   "cell_type": "markdown",
   "metadata": {},
   "source": [
    "### Setting the index on read\n",
    "When first reading the dataset using **`read_csv`**, the argument **`index_col`** can be given the integer position of the column to use as the index."
   ]
  },
  {
   "cell_type": "code",
   "execution_count": null,
   "metadata": {
    "collapsed": false
   },
   "outputs": [],
   "source": [
    "df_coh = pd.read_csv('data/coh_employee.csv', index_col=0)\n",
    "df_coh.head()"
   ]
  },
  {
   "cell_type": "markdown",
   "metadata": {},
   "source": [
    "### Selecting certain rows\n",
    "Selecting columns was just covered above and is done using the [ ] operator. Rows can be selected using **`.iloc`** and **`.loc`** as was done with the Series."
   ]
  },
  {
   "cell_type": "code",
   "execution_count": null,
   "metadata": {
    "collapsed": false
   },
   "outputs": [],
   "source": [
    "# get the first 3 rows by integer location\n",
    "df_coh.iloc[:3]"
   ]
  },
  {
   "cell_type": "code",
   "execution_count": null,
   "metadata": {
    "collapsed": false
   },
   "outputs": [],
   "source": [
    "# get row 155\n",
    "# returns a Series\n",
    "\n",
    "df_coh.iloc[155]"
   ]
  },
  {
   "cell_type": "markdown",
   "metadata": {},
   "source": [
    "### Problem 10\n",
    "<span  style=\"color:green; font-size:16px\">Select rows 7, 77 and 777 from **`df_coh`**.</span>"
   ]
  },
  {
   "cell_type": "code",
   "execution_count": null,
   "metadata": {
    "collapsed": true
   },
   "outputs": [],
   "source": [
    "# your code here"
   ]
  },
  {
   "cell_type": "code",
   "execution_count": null,
   "metadata": {
    "collapsed": false
   },
   "outputs": [],
   "source": [
    "# Select using the index label\n",
    "df_coh.loc[28693]"
   ]
  },
  {
   "cell_type": "code",
   "execution_count": null,
   "metadata": {
    "collapsed": false
   },
   "outputs": [],
   "source": [
    "# the above returns a series\n",
    "# if you want a dataframe, wrap lables in a list\n",
    "\n",
    "df_coh.loc[[28693]]"
   ]
  },
  {
   "cell_type": "markdown",
   "metadata": {},
   "source": [
    "Notice how selecting an employee with the **`UNIQUE_ID`** in the index with **`.loc`** is easier than with boolean indexing."
   ]
  },
  {
   "cell_type": "code",
   "execution_count": null,
   "metadata": {
    "collapsed": false
   },
   "outputs": [],
   "source": [
    "# it is actually possible to slice from one index label to another\n",
    "# but you must know the ordering\n",
    "\n",
    "df_coh.loc[9172:28693]"
   ]
  },
  {
   "cell_type": "code",
   "execution_count": null,
   "metadata": {
    "collapsed": false
   },
   "outputs": [],
   "source": [
    "# see the same as above but reversed. Nothing is selected\n",
    "df_coh.loc[28693:9172]"
   ]
  },
  {
   "cell_type": "markdown",
   "metadata": {},
   "source": [
    "### Problem 11\n",
    "<span  style=\"color:green; font-size:16px\">Select employees with IDs 3105, 24767 and 31578.</span>"
   ]
  },
  {
   "cell_type": "code",
   "execution_count": null,
   "metadata": {
    "collapsed": true
   },
   "outputs": [],
   "source": [
    "# your code here"
   ]
  },
  {
   "cell_type": "markdown",
   "metadata": {},
   "source": [
    "### Selecting a subset of rows and columns together\n",
    "We now have looked at independently selecting subsets of columns and rows. We will now select subsets of both columns and rows together with **`.iloc`** and **`.loc`**.  Withing the brackets, a **comma** is used to separate the rows references (which come first) from the column references."
   ]
  },
  {
   "cell_type": "code",
   "execution_count": null,
   "metadata": {
    "collapsed": false
   },
   "outputs": [],
   "source": [
    "# using integer location select rows 100:105 and the first 5 columns\n",
    "df_coh.iloc[100:105, :5]"
   ]
  },
  {
   "cell_type": "markdown",
   "metadata": {},
   "source": [
    "### Problem 12\n",
    "<span  style=\"color:green; font-size:16px\">Brackets are used to select disjoint rows or columns. Select rows 10, 100 and 500 along with columns 3, 7 and 20.</span>"
   ]
  },
  {
   "cell_type": "code",
   "execution_count": null,
   "metadata": {
    "collapsed": true
   },
   "outputs": [],
   "source": [
    "# your code here"
   ]
  },
  {
   "cell_type": "markdown",
   "metadata": {},
   "source": [
    "### Problem 13\n",
    "<span  style=\"color:green; font-size:16px\">Use label based indexing to select employee IDs 12214 and 8317 along with columns HIRE_DATE and GENDER.</span>"
   ]
  },
  {
   "cell_type": "code",
   "execution_count": null,
   "metadata": {
    "collapsed": true
   },
   "outputs": [],
   "source": [
    "# your code here"
   ]
  },
  {
   "cell_type": "markdown",
   "metadata": {},
   "source": [
    "### Problem 14: Advanced\n",
    "<span  style=\"color:green; font-size:16px\">Use label based indexing to select employee IDs 12214 and 8317 along with columns all columns except FIRST_NAME and POSITION_NUMBER. [Use this stackoverflow answer for guidance.](http://stackoverflow.com/a/37441204/3707607)</span>"
   ]
  },
  {
   "cell_type": "code",
   "execution_count": null,
   "metadata": {
    "collapsed": true
   },
   "outputs": [],
   "source": [
    "# your code here"
   ]
  },
  {
   "cell_type": "markdown",
   "metadata": {},
   "source": [
    "### Some confusion with brackets vs .iloc vs .loc\n",
    "It was written earlier that only column names go inside of brackets for DataFrames. This isn't entirely true. It is possible to pass a slice to the brackets to return rows. I would highly recommend against doing this and use brackets only for column names, **.loc** for index labeled based selection and **.iloc** for integer position selection."
   ]
  },
  {
   "cell_type": "code",
   "execution_count": null,
   "metadata": {
    "collapsed": false
   },
   "outputs": [],
   "source": [
    "# select the first 5 rows with brackets - bad idea!\n",
    "df_coh[:5]"
   ]
  },
  {
   "cell_type": "markdown",
   "metadata": {},
   "source": [
    "### Using **`.ix`** to mix both integer and label indexing\n",
    "The **`.ix`** operator provides some flexibility if a case ever arises where selection needs to occur with both label and integer. I tend to avoid this operator as its still ambigious whether you are using integer or location selection when the index is integers. [Check the docs for more info](http://pandas.pydata.org/pandas-docs/stable/indexing.html#different-choices-for-indexing)"
   ]
  },
  {
   "cell_type": "markdown",
   "metadata": {},
   "source": [
    "### Selecting single elements with `.at` and `.iat`\n",
    "In the rare case that you would like to select exactly one cell of data, you can use **`.at`** for label based selection and **`.iat`** for integer based selection. They work analogously to **`.loc`** and **`.iloc`** and don't provide any extra functionality just are faster. Technically, a single element is called a **scalar** value.\n",
    "\n",
    "They don't provide any extra functionality but are faster than their counterparts."
   ]
  },
  {
   "cell_type": "code",
   "execution_count": null,
   "metadata": {
    "collapsed": false
   },
   "outputs": [],
   "source": [
    "# scalar selection\n",
    "df_coh.at[5123, 'GENDER']"
   ]
  },
  {
   "cell_type": "code",
   "execution_count": null,
   "metadata": {
    "collapsed": false
   },
   "outputs": [],
   "source": [
    "# scalar selection with .loc\n",
    "df_coh.loc[5123, 'GENDER']"
   ]
  },
  {
   "cell_type": "markdown",
   "metadata": {},
   "source": [
    "### Problem 15\n",
    "<span  style=\"color:green; font-size:16px\">Use **`.iat`** correctly and explain what happened.</span>"
   ]
  },
  {
   "cell_type": "code",
   "execution_count": null,
   "metadata": {
    "collapsed": true
   },
   "outputs": [],
   "source": [
    "# your code here"
   ]
  },
  {
   "cell_type": "markdown",
   "metadata": {},
   "source": [
    "### Problem 16\n",
    "<span  style=\"color:green; font-size:16px\">Use the **`timeit`** magic command to see the speed difference between **`.at`** and **`.loc`** for the same selection. How much faster is **`.at`**?</span>"
   ]
  },
  {
   "cell_type": "code",
   "execution_count": null,
   "metadata": {
    "collapsed": true
   },
   "outputs": [],
   "source": [
    "# your code here"
   ]
  },
  {
   "cell_type": "markdown",
   "metadata": {},
   "source": [
    "### Adding new columns to the DataFrame\n",
    "A very common task during analysis is to add new columns to the working DataFrame. Usually, some operation is performed using the existing columns with the outcome added as a new column."
   ]
  },
  {
   "cell_type": "code",
   "execution_count": null,
   "metadata": {
    "collapsed": false
   },
   "outputs": [],
   "source": [
    "# add a constant value as a new column\n",
    "# the new column is always last\n",
    "\n",
    "df_coh['NEW_CONSTANT_COLUMN'] = 5"
   ]
  },
  {
   "cell_type": "code",
   "execution_count": null,
   "metadata": {
    "collapsed": false
   },
   "outputs": [],
   "source": [
    "#inspect dataframe\n",
    "# look at first three rows and last 5 columns\n",
    "# sure enough, there is our new constant column\n",
    "\n",
    "df_coh.iloc[:3, -5:]"
   ]
  },
  {
   "cell_type": "code",
   "execution_count": null,
   "metadata": {
    "collapsed": false
   },
   "outputs": [],
   "source": [
    "# making a new column: FULL NAME\n",
    "# column of object type can be concatenated together just like strings\n",
    "\n",
    "df_coh['FULL_NAME'] = df_coh['FIRST_NAME'] + ' ' + df_coh['LAST_NAME']"
   ]
  },
  {
   "cell_type": "code",
   "execution_count": null,
   "metadata": {
    "collapsed": false
   },
   "outputs": [],
   "source": [
    "# inspect the name columns to see if new column is as intended\n",
    "df_coh[['FIRST_NAME', 'LAST_NAME', 'FULL_NAME']].head()"
   ]
  },
  {
   "cell_type": "markdown",
   "metadata": {},
   "source": [
    "### Adding a random numeric column\n",
    "Let's say the city of Houston wants to give everyone a random bonus ranging anywhere between 0 and 10% of their current base salary. To begin, we will make a column called **RANDOM_BONUS** and assign each employee a random number between 0 and .1."
   ]
  },
  {
   "cell_type": "code",
   "execution_count": null,
   "metadata": {
    "collapsed": true
   },
   "outputs": [],
   "source": [
    "# create a numpy array the same length as the DataFrame\n",
    "# with random values from 0 and .1\n",
    "\n",
    "df_coh['RANDOM_BONUS'] = np.random.rand(len(df_coh)) * .1"
   ]
  },
  {
   "cell_type": "code",
   "execution_count": null,
   "metadata": {
    "collapsed": false
   },
   "outputs": [],
   "source": [
    "# inspect last columns\n",
    "\n",
    "df_coh.iloc[:3, -5:]"
   ]
  },
  {
   "cell_type": "markdown",
   "metadata": {},
   "source": [
    "### Data Types\n",
    "Every column of the DataFrame has a data type. This was seen at the top of the notebook with the **`info`** method. To get a more clean view of the data types use the **dtypes** attribute. The most common data types are **int64, float64, bool, datetime64, timedelta64 and object**. These are [all numpy data types](https://docs.scipy.org/doc/numpy/user/basics.types.html). \n",
    "\n",
    "The **object** is a catch-all for any strings, complex Python data types like lists, dictionaries, etc... or any mix of strings and numbers.\n",
    "\n",
    "The **datetime64** data type holds specific dates in time such as Jan 24, 2017 5:30 p.m. **timedelta64** holds only time values such as 6 days, 4 hours, 14 minutes and x nanoseconds. Both **datetime64** and **timedelta64** have nanosecond precision. These time data types will be discussed in great detail in later notebooks."
   ]
  },
  {
   "cell_type": "code",
   "execution_count": null,
   "metadata": {
    "collapsed": false
   },
   "outputs": [],
   "source": [
    "# only look at the data types\n",
    "df_coh.dtypes"
   ]
  },
  {
   "cell_type": "markdown",
   "metadata": {},
   "source": [
    "### Changing Data Types\n",
    "Occasionally, your data will not of the desired type and need to be changed to a different type. Perhaps the most common situation is when dealing with dates that are read in as strings and thus are objects. The Series method **astype** will attempt to force a column to a different type.\n",
    "\n",
    "The argument passed to **astype** must be the name of the new data type as either a string or a numpy object. The **HIRE_DATE** column is currently a string and will be converted to a **datetime64** and replace the old column. Other date columns will be converted "
   ]
  },
  {
   "cell_type": "code",
   "execution_count": null,
   "metadata": {
    "collapsed": false
   },
   "outputs": [],
   "source": [
    "# using a string\n",
    "df_coh['HIRE_DATE'] = df_coh['HIRE_DATE'].astype('datetime64')\n",
    "\n",
    "# using the numpy object\n",
    "df_coh['COMP_DATE'] = df_coh['COMP_DATE'].astype(np.datetime64)\n",
    "\n",
    "# yet another way using a function with flexibility to do more things\n",
    "df_coh['SNAPSHOT_DATE'] = pd.to_datetime(df_coh['SNAPSHOT_DATE'])"
   ]
  },
  {
   "cell_type": "markdown",
   "metadata": {},
   "source": [
    "# Case Study: Do people with more experience make more money?\n",
    "To answer this question, the number of years of experience needs to be calculated from the column **HIRE_DATE**. **datetime64** columns can be subtracted from one another. The current date will be needed and can be retrieved from the **to_datetime** pandas function."
   ]
  },
  {
   "cell_type": "code",
   "execution_count": null,
   "metadata": {
    "collapsed": false
   },
   "outputs": [],
   "source": [
    "# get today's date\n",
    "today = pd.to_datetime('today')\n",
    "\n",
    "today"
   ]
  },
  {
   "cell_type": "code",
   "execution_count": null,
   "metadata": {
    "collapsed": false
   },
   "outputs": [],
   "source": [
    "# subtract the hire date from today to get the number of days of experience\n",
    "experience = today - df_coh['HIRE_DATE']\n",
    "\n",
    "# print out head of series\n",
    "experience.head()"
   ]
  },
  {
   "cell_type": "markdown",
   "metadata": {},
   "source": [
    "### Converting to years\n",
    "Notice that the data type is now **timedelta64** which just reprsents an amount of time in days. To convert this to years an esoteric command must be run. [See here for more detail](http://pandas.pydata.org/pandas-docs/stable/timedeltas.html#frequency-conversion)"
   ]
  },
  {
   "cell_type": "code",
   "execution_count": null,
   "metadata": {
    "collapsed": false
   },
   "outputs": [],
   "source": [
    "# convert to years\n",
    "years_experience = experience / np.timedelta64(1, 'Y')\n",
    "\n",
    "# inspect and check that it makes sense\n",
    "years_experience.head()"
   ]
  },
  {
   "cell_type": "code",
   "execution_count": null,
   "metadata": {
    "collapsed": true
   },
   "outputs": [],
   "source": [
    "# Make a new column\n",
    "df_coh['YEARS_EXPERIENCE'] = years_experience"
   ]
  },
  {
   "cell_type": "markdown",
   "metadata": {},
   "source": [
    "### Creating categories for years of experience\n",
    "It's possible to divide numerical columns into different categories based on their value. The pandas **cut** function accepts a Series or an array and a list of the edges of the **bins**. Each category can be given a **label** as well. A series is returned that is of **categorical** type - unique to Pandas. [More on categorical data](http://pandas.pydata.org/pandas-docs/stable/categorical.html)"
   ]
  },
  {
   "cell_type": "code",
   "execution_count": null,
   "metadata": {
    "collapsed": false
   },
   "outputs": [],
   "source": [
    "# create Series of categorical data\n",
    "exp_categories = pd.cut(years_experience, bins=[0, 5, 15, 100], labels=['Novice', 'Experienced', 'Senior'])"
   ]
  },
  {
   "cell_type": "code",
   "execution_count": null,
   "metadata": {
    "collapsed": false
   },
   "outputs": [],
   "source": [
    "# inspect Seriers\n",
    "exp_categories.head(10)"
   ]
  },
  {
   "cell_type": "code",
   "execution_count": null,
   "metadata": {
    "collapsed": false
   },
   "outputs": [],
   "source": [
    "# get some summary statistics\n",
    "exp_categories.value_counts()"
   ]
  },
  {
   "cell_type": "code",
   "execution_count": null,
   "metadata": {
    "collapsed": true
   },
   "outputs": [],
   "source": [
    "# Create new column\n",
    "df_coh['EXPERIENCE_LEVEL'] = exp_categories"
   ]
  },
  {
   "cell_type": "markdown",
   "metadata": {},
   "source": [
    "# Section end: You should know...\n",
    "* a DataFrame has an index for both the columns and the rows\n",
    "* import data with **`pd.read_csv`**\n",
    "* Use **`shape, head, info, describe`** as standard operations to inspect a newly imported DataFrame\n",
    "* Select a single column (a Series) with brackets\n",
    "* Select multiple columns with a list of column names in brackets\n",
    "* Be explicit when selecting rows with **`iloc`** and **`loc`**\n",
    "* Select rows and columns together with **`iloc`** and **`loc`** by separating row and column references with a **comma**\n",
    "* boolean indexing with multiple column comparisons\n",
    "* Use **`set_index`** to move a column into the index.\n",
    "* Primary keys are good choices for the index\n",
    "* Know all the most common numpy data types **`int64, float64, bool, datetime64, timedelta64 and object`**\n",
    "* change data type with **`astype`** method\n",
    "* Create new columns\n",
    "* use the **`cut`** function to create categorical variables"
   ]
  },
  {
   "cell_type": "markdown",
   "metadata": {},
   "source": [
    "# Problems\n",
    "If you have not run the code from the beginning of the notebook then run the code in the block below before beginning the problems. Most of the problems will be about the city of Houston employee dataset."
   ]
  },
  {
   "cell_type": "code",
   "execution_count": 273,
   "metadata": {
    "collapsed": true
   },
   "outputs": [],
   "source": [
    "# run this code block first\n",
    "df_coh = pd.read_csv('data/coh_employee.csv', index_col=0)\n",
    "df_coh['RANDOM_BONUS'] = np.random.rand(len(df_coh)) * .1\n",
    "df_coh['HIRE_DATE'] = df_coh['HIRE_DATE'].astype(np.datetime64)\n",
    "today = pd.to_datetime('today')\n",
    "experience = today - df_coh['HIRE_DATE']\n",
    "years_experience = experience / np.timedelta64(1, 'Y')\n",
    "df_coh['YEARS_EXPERIENCE'] = years_experience\n",
    "exp_categories = pd.cut(years_experience, bins=[0, 5, 15, 100], labels=['Novice', 'Experienced', 'Senior'])\n",
    "df_coh['EXPERIENCE_LEVEL'] = exp_categories"
   ]
  },
  {
   "cell_type": "markdown",
   "metadata": {},
   "source": [
    "### Problem 1\n",
    "<span  style=\"color:green; font-size:16px\">What object is returned from the above code **`df_coh.describe(include=['object']).T`**?</span>"
   ]
  },
  {
   "cell_type": "code",
   "execution_count": 274,
   "metadata": {
    "collapsed": false
   },
   "outputs": [
    {
     "name": "stdout",
     "output_type": "stream",
     "text": [
      "<class 'pandas.core.frame.DataFrame'>\n",
      "Int64Index: 2000 entries, 9172 to 21962\n",
      "Data columns (total 33 columns):\n",
      "FIRST_NAME              2000 non-null object\n",
      "LAST_NAME               2000 non-null object\n",
      "POSITION_NUMBER         2000 non-null int64\n",
      "POSITION_JOB_CODE       2000 non-null float64\n",
      "POSITION_TITLE          2000 non-null object\n",
      "BUSINESS_AREA           2000 non-null int64\n",
      "DEPARTMENT              2000 non-null object\n",
      "PAY_GRADE               2000 non-null object\n",
      "FUND_ID                 2000 non-null int64\n",
      "FUND_NAME               2000 non-null object\n",
      "COST_CENTER             2000 non-null int64\n",
      "COST_CENTER_NAME        2000 non-null object\n",
      "REPORTS_TO_POSITION     1688 non-null float64\n",
      "MANAGER_NAME            1678 non-null object\n",
      "BASE_SALARY             1886 non-null float64\n",
      "ORG_UNIT                2000 non-null object\n",
      "ORG_UNIT_NAME           2000 non-null object\n",
      "ETHNICITY               1998 non-null object\n",
      "RACE                    1965 non-null object\n",
      "EMPLOYMENT_TYPE         2000 non-null object\n",
      "EMPLOYMENT_SUB_GROUP    2000 non-null object\n",
      "EXEMPT                  1999 non-null object\n",
      "GENDER                  2000 non-null object\n",
      "EMPLOYMENT_STATUS       2000 non-null object\n",
      "CIVIL_SERVICE_TYPE      2000 non-null object\n",
      "HIRE_DATE               2000 non-null datetime64[ns]\n",
      "JOB_DATE                1997 non-null object\n",
      "COMP_DATE               2000 non-null object\n",
      "EEOJ                    1999 non-null object\n",
      "SNAPSHOT_DATE           2000 non-null object\n",
      "RANDOM_BONUS            2000 non-null float64\n",
      "YEARS_EXPERIENCE        2000 non-null float64\n",
      "EXPERIENCE_LEVEL        2000 non-null category\n",
      "dtypes: category(1), datetime64[ns](1), float64(5), int64(4), object(22)\n",
      "memory usage: 517.6+ KB\n"
     ]
    }
   ],
   "source": [
    "df_coh.info()"
   ]
  },
  {
   "cell_type": "code",
   "execution_count": 275,
   "metadata": {
    "collapsed": false
   },
   "outputs": [
    {
     "data": {
      "text/html": [
       "<div>\n",
       "<table border=\"1\" class=\"dataframe\">\n",
       "  <thead>\n",
       "    <tr style=\"text-align: right;\">\n",
       "      <th></th>\n",
       "      <th>count</th>\n",
       "      <th>unique</th>\n",
       "      <th>top</th>\n",
       "      <th>freq</th>\n",
       "    </tr>\n",
       "  </thead>\n",
       "  <tbody>\n",
       "    <tr>\n",
       "      <th>FIRST_NAME</th>\n",
       "      <td>2000</td>\n",
       "      <td>961</td>\n",
       "      <td>MICHAEL</td>\n",
       "      <td>44</td>\n",
       "    </tr>\n",
       "    <tr>\n",
       "      <th>LAST_NAME</th>\n",
       "      <td>2000</td>\n",
       "      <td>1371</td>\n",
       "      <td>JOHNSON</td>\n",
       "      <td>30</td>\n",
       "    </tr>\n",
       "    <tr>\n",
       "      <th>POSITION_TITLE</th>\n",
       "      <td>2000</td>\n",
       "      <td>330</td>\n",
       "      <td>SENIOR POLICE OFFICER</td>\n",
       "      <td>220</td>\n",
       "    </tr>\n",
       "    <tr>\n",
       "      <th>DEPARTMENT</th>\n",
       "      <td>2000</td>\n",
       "      <td>24</td>\n",
       "      <td>Houston Police Department-HPD</td>\n",
       "      <td>638</td>\n",
       "    </tr>\n",
       "    <tr>\n",
       "      <th>PAY_GRADE</th>\n",
       "      <td>2000</td>\n",
       "      <td>80</td>\n",
       "      <td>PA03</td>\n",
       "      <td>184</td>\n",
       "    </tr>\n",
       "    <tr>\n",
       "      <th>FUND_NAME</th>\n",
       "      <td>2000</td>\n",
       "      <td>39</td>\n",
       "      <td>General Fund</td>\n",
       "      <td>1304</td>\n",
       "    </tr>\n",
       "    <tr>\n",
       "      <th>COST_CENTER_NAME</th>\n",
       "      <td>2000</td>\n",
       "      <td>448</td>\n",
       "      <td>HFD-Deployment</td>\n",
       "      <td>297</td>\n",
       "    </tr>\n",
       "    <tr>\n",
       "      <th>MANAGER_NAME</th>\n",
       "      <td>1678</td>\n",
       "      <td>1201</td>\n",
       "      <td>HERMAN GONZALES</td>\n",
       "      <td>56</td>\n",
       "    </tr>\n",
       "    <tr>\n",
       "      <th>ORG_UNIT</th>\n",
       "      <td>2000</td>\n",
       "      <td>1181</td>\n",
       "      <td>12.1210</td>\n",
       "      <td>288</td>\n",
       "    </tr>\n",
       "    <tr>\n",
       "      <th>ORG_UNIT_NAME</th>\n",
       "      <td>2000</td>\n",
       "      <td>478</td>\n",
       "      <td>HFD-FIRE &amp; EMS OPERATIONS</td>\n",
       "      <td>289</td>\n",
       "    </tr>\n",
       "    <tr>\n",
       "      <th>ETHNICITY</th>\n",
       "      <td>1998</td>\n",
       "      <td>5</td>\n",
       "      <td>BLACK, NOT OF HISPANIC ORIGIN</td>\n",
       "      <td>715</td>\n",
       "    </tr>\n",
       "    <tr>\n",
       "      <th>RACE</th>\n",
       "      <td>1965</td>\n",
       "      <td>6</td>\n",
       "      <td>Black or African American</td>\n",
       "      <td>700</td>\n",
       "    </tr>\n",
       "    <tr>\n",
       "      <th>EMPLOYMENT_TYPE</th>\n",
       "      <td>2000</td>\n",
       "      <td>5</td>\n",
       "      <td>Full Time</td>\n",
       "      <td>1954</td>\n",
       "    </tr>\n",
       "    <tr>\n",
       "      <th>EMPLOYMENT_SUB_GROUP</th>\n",
       "      <td>2000</td>\n",
       "      <td>17</td>\n",
       "      <td>Non Exempt Postv</td>\n",
       "      <td>792</td>\n",
       "    </tr>\n",
       "    <tr>\n",
       "      <th>EXEMPT</th>\n",
       "      <td>1999</td>\n",
       "      <td>2</td>\n",
       "      <td>N</td>\n",
       "      <td>1681</td>\n",
       "    </tr>\n",
       "    <tr>\n",
       "      <th>GENDER</th>\n",
       "      <td>2000</td>\n",
       "      <td>2</td>\n",
       "      <td>Male</td>\n",
       "      <td>1397</td>\n",
       "    </tr>\n",
       "    <tr>\n",
       "      <th>EMPLOYMENT_STATUS</th>\n",
       "      <td>2000</td>\n",
       "      <td>2</td>\n",
       "      <td>Active</td>\n",
       "      <td>1991</td>\n",
       "    </tr>\n",
       "    <tr>\n",
       "      <th>CIVIL_SERVICE_TYPE</th>\n",
       "      <td>2000</td>\n",
       "      <td>3</td>\n",
       "      <td>CIVILIAN</td>\n",
       "      <td>1100</td>\n",
       "    </tr>\n",
       "    <tr>\n",
       "      <th>JOB_DATE</th>\n",
       "      <td>1997</td>\n",
       "      <td>947</td>\n",
       "      <td>2002-01-05</td>\n",
       "      <td>34</td>\n",
       "    </tr>\n",
       "    <tr>\n",
       "      <th>COMP_DATE</th>\n",
       "      <td>2000</td>\n",
       "      <td>1084</td>\n",
       "      <td>1986-03-03</td>\n",
       "      <td>10</td>\n",
       "    </tr>\n",
       "    <tr>\n",
       "      <th>EEOJ</th>\n",
       "      <td>1999</td>\n",
       "      <td>8</td>\n",
       "      <td>D: Protective Service Workers</td>\n",
       "      <td>728</td>\n",
       "    </tr>\n",
       "    <tr>\n",
       "      <th>SNAPSHOT_DATE</th>\n",
       "      <td>2000</td>\n",
       "      <td>1</td>\n",
       "      <td>2016-06-01</td>\n",
       "      <td>2000</td>\n",
       "    </tr>\n",
       "  </tbody>\n",
       "</table>\n",
       "</div>"
      ],
      "text/plain": [
       "                     count unique                            top  freq\n",
       "FIRST_NAME            2000    961                        MICHAEL    44\n",
       "LAST_NAME             2000   1371                        JOHNSON    30\n",
       "POSITION_TITLE        2000    330          SENIOR POLICE OFFICER   220\n",
       "DEPARTMENT            2000     24  Houston Police Department-HPD   638\n",
       "PAY_GRADE             2000     80                           PA03   184\n",
       "FUND_NAME             2000     39                   General Fund  1304\n",
       "COST_CENTER_NAME      2000    448                 HFD-Deployment   297\n",
       "MANAGER_NAME          1678   1201                HERMAN GONZALES    56\n",
       "ORG_UNIT              2000   1181                        12.1210   288\n",
       "ORG_UNIT_NAME         2000    478      HFD-FIRE & EMS OPERATIONS   289\n",
       "ETHNICITY             1998      5  BLACK, NOT OF HISPANIC ORIGIN   715\n",
       "RACE                  1965      6      Black or African American   700\n",
       "EMPLOYMENT_TYPE       2000      5                      Full Time  1954\n",
       "EMPLOYMENT_SUB_GROUP  2000     17               Non Exempt Postv   792\n",
       "EXEMPT                1999      2                              N  1681\n",
       "GENDER                2000      2                           Male  1397\n",
       "EMPLOYMENT_STATUS     2000      2                         Active  1991\n",
       "CIVIL_SERVICE_TYPE    2000      3                       CIVILIAN  1100\n",
       "JOB_DATE              1997    947                     2002-01-05    34\n",
       "COMP_DATE             2000   1084                     1986-03-03    10\n",
       "EEOJ                  1999      8  D: Protective Service Workers   728\n",
       "SNAPSHOT_DATE         2000      1                     2016-06-01  2000"
      ]
     },
     "execution_count": 275,
     "metadata": {},
     "output_type": "execute_result"
    }
   ],
   "source": [
    "df_coh.describe(include=['object']).T"
   ]
  },
  {
   "cell_type": "code",
   "execution_count": 276,
   "metadata": {
    "collapsed": false
   },
   "outputs": [
    {
     "data": {
      "text/html": [
       "<div>\n",
       "<table border=\"1\" class=\"dataframe\">\n",
       "  <thead>\n",
       "    <tr style=\"text-align: right;\">\n",
       "      <th></th>\n",
       "      <th>count</th>\n",
       "      <th>mean</th>\n",
       "      <th>std</th>\n",
       "      <th>min</th>\n",
       "      <th>25%</th>\n",
       "      <th>50%</th>\n",
       "      <th>75%</th>\n",
       "      <th>max</th>\n",
       "    </tr>\n",
       "  </thead>\n",
       "  <tbody>\n",
       "    <tr>\n",
       "      <th>POSITION_JOB_CODE</th>\n",
       "      <td>2000.0</td>\n",
       "      <td>3.726786e+02</td>\n",
       "      <td>283.143263</td>\n",
       "      <td>4.700000e+01</td>\n",
       "      <td>1.080000e+02</td>\n",
       "      <td>3.035000e+02</td>\n",
       "      <td>5.681500e+02</td>\n",
       "      <td>9.782000e+02</td>\n",
       "    </tr>\n",
       "    <tr>\n",
       "      <th>REPORTS_TO_POSITION</th>\n",
       "      <td>1688.0</td>\n",
       "      <td>3.003167e+07</td>\n",
       "      <td>23372.957360</td>\n",
       "      <td>3.000004e+07</td>\n",
       "      <td>3.000661e+07</td>\n",
       "      <td>3.003395e+07</td>\n",
       "      <td>3.005502e+07</td>\n",
       "      <td>3.006737e+07</td>\n",
       "    </tr>\n",
       "    <tr>\n",
       "      <th>BASE_SALARY</th>\n",
       "      <td>1886.0</td>\n",
       "      <td>5.576793e+04</td>\n",
       "      <td>21693.706679</td>\n",
       "      <td>2.496000e+04</td>\n",
       "      <td>4.017000e+04</td>\n",
       "      <td>5.446100e+04</td>\n",
       "      <td>6.661400e+04</td>\n",
       "      <td>2.750000e+05</td>\n",
       "    </tr>\n",
       "    <tr>\n",
       "      <th>RANDOM_BONUS</th>\n",
       "      <td>2000.0</td>\n",
       "      <td>5.092327e-02</td>\n",
       "      <td>0.028940</td>\n",
       "      <td>2.945107e-05</td>\n",
       "      <td>2.552164e-02</td>\n",
       "      <td>5.210021e-02</td>\n",
       "      <td>7.705689e-02</td>\n",
       "      <td>9.992049e-02</td>\n",
       "    </tr>\n",
       "    <tr>\n",
       "      <th>YEARS_EXPERIENCE</th>\n",
       "      <td>2000.0</td>\n",
       "      <td>1.413133e+01</td>\n",
       "      <td>10.581658</td>\n",
       "      <td>5.366298e-01</td>\n",
       "      <td>4.659918e+00</td>\n",
       "      <td>1.154165e+01</td>\n",
       "      <td>2.252202e+01</td>\n",
       "      <td>5.795875e+01</td>\n",
       "    </tr>\n",
       "  </tbody>\n",
       "</table>\n",
       "</div>"
      ],
      "text/plain": [
       "                      count          mean           std           min  \\\n",
       "POSITION_JOB_CODE    2000.0  3.726786e+02    283.143263  4.700000e+01   \n",
       "REPORTS_TO_POSITION  1688.0  3.003167e+07  23372.957360  3.000004e+07   \n",
       "BASE_SALARY          1886.0  5.576793e+04  21693.706679  2.496000e+04   \n",
       "RANDOM_BONUS         2000.0  5.092327e-02      0.028940  2.945107e-05   \n",
       "YEARS_EXPERIENCE     2000.0  1.413133e+01     10.581658  5.366298e-01   \n",
       "\n",
       "                              25%           50%           75%           max  \n",
       "POSITION_JOB_CODE    1.080000e+02  3.035000e+02  5.681500e+02  9.782000e+02  \n",
       "REPORTS_TO_POSITION  3.000661e+07  3.003395e+07  3.005502e+07  3.006737e+07  \n",
       "BASE_SALARY          4.017000e+04  5.446100e+04  6.661400e+04  2.750000e+05  \n",
       "RANDOM_BONUS         2.552164e-02  5.210021e-02  7.705689e-02  9.992049e-02  \n",
       "YEARS_EXPERIENCE     4.659918e+00  1.154165e+01  2.252202e+01  5.795875e+01  "
      ]
     },
     "execution_count": 276,
     "metadata": {},
     "output_type": "execute_result"
    }
   ],
   "source": [
    "df_coh.describe(include=['float64']).T"
   ]
  },
  {
   "cell_type": "markdown",
   "metadata": {},
   "source": [
    "### Problem 2\n",
    "<span  style=\"color:green; font-size:16px\">What object are the values of an **`Index`**?</span>"
   ]
  },
  {
   "cell_type": "code",
   "execution_count": 277,
   "metadata": {
    "collapsed": false
   },
   "outputs": [
    {
     "data": {
      "text/plain": [
       "numpy.int64"
      ]
     },
     "execution_count": 277,
     "metadata": {},
     "output_type": "execute_result"
    }
   ],
   "source": [
    "type(df_coh.index.values[0])"
   ]
  },
  {
   "cell_type": "markdown",
   "metadata": {},
   "source": [
    "### Problem 3\n",
    "<span  style=\"color:green; font-size:16px\">Retrieve the LAST_NAME column and assign it to a variable. Count the number of employees with a last name of 'JOHNSON'. Do the problem again in one line of code.</span>"
   ]
  },
  {
   "cell_type": "code",
   "execution_count": 278,
   "metadata": {
    "collapsed": false
   },
   "outputs": [
    {
     "data": {
      "text/plain": [
       "30"
      ]
     },
     "execution_count": 278,
     "metadata": {},
     "output_type": "execute_result"
    }
   ],
   "source": [
    "last_names = df_coh.LAST_NAME\n",
    "(last_names == 'JOHNSON').sum()"
   ]
  },
  {
   "cell_type": "code",
   "execution_count": 279,
   "metadata": {
    "collapsed": false
   },
   "outputs": [
    {
     "data": {
      "text/plain": [
       "30"
      ]
     },
     "execution_count": 279,
     "metadata": {},
     "output_type": "execute_result"
    }
   ],
   "source": [
    "df_coh[df_coh.LAST_NAME == 'JOHNSON'].shape[0]"
   ]
  },
  {
   "cell_type": "code",
   "execution_count": 280,
   "metadata": {
    "collapsed": false
   },
   "outputs": [
    {
     "data": {
      "text/plain": [
       "30"
      ]
     },
     "execution_count": 280,
     "metadata": {},
     "output_type": "execute_result"
    }
   ],
   "source": [
    "(df_coh.LAST_NAME == 'JOHNSON').sum()"
   ]
  },
  {
   "cell_type": "markdown",
   "metadata": {},
   "source": [
    "### Problem 4\n",
    "<span  style=\"color:green; font-size:16px\">Count all the occurrences of each value in the column RACE. Remember there is single Series method that does this.</span>"
   ]
  },
  {
   "cell_type": "code",
   "execution_count": 281,
   "metadata": {
    "collapsed": false
   },
   "outputs": [
    {
     "data": {
      "text/plain": [
       "Black or African American            700\n",
       "White                                665\n",
       "Hispanic/Latino                      480\n",
       "Asian/Pacific Islander               107\n",
       "American Indian or Alaskan Native     11\n",
       "Others                                 2\n",
       "Name: RACE, dtype: int64"
      ]
     },
     "execution_count": 281,
     "metadata": {},
     "output_type": "execute_result"
    }
   ],
   "source": [
    "df_coh.RACE.value_counts()"
   ]
  },
  {
   "cell_type": "markdown",
   "metadata": {},
   "source": [
    "### Problem 5\n",
    "<span  style=\"color:green; font-size:16px\">How many employees are White Females or 'Black or African American' Males and make more than 100,000? Create variables for each of three categories below before putting them all together in one criteria.</span>"
   ]
  },
  {
   "cell_type": "code",
   "execution_count": 282,
   "metadata": {
    "collapsed": false
   },
   "outputs": [
    {
     "data": {
      "text/plain": [
       "20"
      ]
     },
     "execution_count": 282,
     "metadata": {},
     "output_type": "execute_result"
    }
   ],
   "source": [
    "# your code here\n",
    "white_female = (df_coh.GENDER == 'Female') & (df_coh.RACE == 'White')\n",
    "black_male = (df_coh.GENDER == 'Male') & (df_coh.RACE == 'Black or African American')\n",
    "over_100k = df_coh.BASE_SALARY > 100000\n",
    "\n",
    "criteria = (white_female | black_male) & over_100k\n",
    "criteria.sum()"
   ]
  },
  {
   "cell_type": "markdown",
   "metadata": {},
   "source": [
    "### Problem 6\n",
    "<span  style=\"color:green; font-size:16px\">What is the third most common department?</span>"
   ]
  },
  {
   "cell_type": "code",
   "execution_count": 283,
   "metadata": {
    "collapsed": false
   },
   "outputs": [
    {
     "data": {
      "text/plain": [
       "'Public Works & Engineering-PWE'"
      ]
     },
     "execution_count": 283,
     "metadata": {},
     "output_type": "execute_result"
    }
   ],
   "source": [
    "# df_coh.DEPARTMENT.value_counts().iloc[:3]\n",
    "df_coh.DEPARTMENT.value_counts().index[2]"
   ]
  },
  {
   "cell_type": "markdown",
   "metadata": {},
   "source": [
    "### Problem 7\n",
    "<span  style=\"color:green; font-size:16px\">Who makes more money, 'Black or African American' Females or White Males? Use RACE and GENDER columns.</span>"
   ]
  },
  {
   "cell_type": "code",
   "execution_count": 284,
   "metadata": {
    "collapsed": false
   },
   "outputs": [
    {
     "name": "stdout",
     "output_type": "stream",
     "text": [
      "Black or African American Females: $48915\n",
      "White Males: $63940\n"
     ]
    }
   ],
   "source": [
    "criteria = (df_coh.RACE == 'Black or African American') & (df_coh.GENDER == 'Female')\n",
    "print('Black or African American Females: ${}'.format(int(df_coh.loc[criteria, 'BASE_SALARY'].mean())))\n",
    "\n",
    "criteria = (df_coh.RACE == 'White') & (df_coh.GENDER == 'Male')\n",
    "print('White Males: ${}'.format(int(df_coh.loc[criteria, 'BASE_SALARY'].mean())))"
   ]
  },
  {
   "cell_type": "code",
   "execution_count": 285,
   "metadata": {
    "collapsed": false
   },
   "outputs": [
    {
     "name": "stdout",
     "output_type": "stream",
     "text": [
      "Black or African American Females: $65903\n",
      "White Males: $66341\n"
     ]
    }
   ],
   "source": [
    "criteria = (df_coh.RACE == 'Black or African American') & (df_coh.GENDER == 'Female') & (df_coh.POSITION_TITLE == 'SENIOR POLICE OFFICER')\n",
    "print('Black or African American Females: ${}'.format(int(df_coh.loc[criteria, 'BASE_SALARY'].mean())))\n",
    "\n",
    "criteria = (df_coh.RACE == 'White') & (df_coh.GENDER == 'Male') & (df_coh.POSITION_TITLE == 'SENIOR POLICE OFFICER')\n",
    "print('White Males: ${}'.format(int(df_coh.loc[criteria, 'BASE_SALARY'].mean())))"
   ]
  },
  {
   "cell_type": "code",
   "execution_count": 286,
   "metadata": {
    "collapsed": false
   },
   "outputs": [
    {
     "name": "stdout",
     "output_type": "stream",
     "text": [
      "Black or African American Females: $55105\n",
      "White Males: $52873\n"
     ]
    }
   ],
   "source": [
    "criteria = (df_coh.RACE == 'Black or African American') & (df_coh.GENDER == 'Female') & (df_coh.POSITION_TITLE == 'POLICE OFFICER')\n",
    "print('Black or African American Females: ${}'.format(int(df_coh.loc[criteria, 'BASE_SALARY'].mean())))\n",
    "\n",
    "criteria = (df_coh.RACE == 'White') & (df_coh.GENDER == 'Male') & (df_coh.POSITION_TITLE == 'POLICE OFFICER')\n",
    "print('White Males: ${}'.format(int(df_coh.loc[criteria, 'BASE_SALARY'].mean())))"
   ]
  },
  {
   "cell_type": "code",
   "execution_count": 287,
   "metadata": {
    "collapsed": false
   },
   "outputs": [
    {
     "name": "stdout",
     "output_type": "stream",
     "text": [
      "Black or African American Females: 23 years\n",
      "White Males: 28 years\n"
     ]
    }
   ],
   "source": [
    "criteria = (df_coh.RACE == 'Black or African American') & (df_coh.GENDER == 'Female') & (df_coh.POSITION_TITLE == 'SENIOR POLICE OFFICER')\n",
    "print('Black or African American Females: {} years'.format(int(df_coh.loc[criteria, 'YEARS_EXPERIENCE'].mean())))\n",
    "\n",
    "criteria = (df_coh.RACE == 'White') & (df_coh.GENDER == 'Male') & (df_coh.POSITION_TITLE == 'SENIOR POLICE OFFICER')\n",
    "print('White Males: {} years'.format(int(df_coh.loc[criteria, 'YEARS_EXPERIENCE'].mean())))"
   ]
  },
  {
   "cell_type": "code",
   "execution_count": 288,
   "metadata": {
    "collapsed": false
   },
   "outputs": [
    {
     "name": "stdout",
     "output_type": "stream",
     "text": [
      "Black or African American Females: 8 years\n",
      "White Males: 7 years\n"
     ]
    }
   ],
   "source": [
    "criteria = (df_coh.RACE == 'Black or African American') & (df_coh.GENDER == 'Female') & (df_coh.POSITION_TITLE == 'POLICE OFFICER')\n",
    "print('Black or African American Females: {} years'.format(int(df_coh.loc[criteria, 'YEARS_EXPERIENCE'].mean())))\n",
    "\n",
    "criteria = (df_coh.RACE == 'White') & (df_coh.GENDER == 'Male') & (df_coh.POSITION_TITLE == 'POLICE OFFICER')\n",
    "print('White Males: {} years'.format(int(df_coh.loc[criteria, 'YEARS_EXPERIENCE'].mean())))"
   ]
  },
  {
   "cell_type": "code",
   "execution_count": 289,
   "metadata": {
    "collapsed": false
   },
   "outputs": [
    {
     "name": "stdout",
     "output_type": "stream",
     "text": [
      "<class 'pandas.core.frame.DataFrame'>\n",
      "Int64Index: 2000 entries, 9172 to 21962\n",
      "Data columns (total 33 columns):\n",
      "FIRST_NAME              2000 non-null object\n",
      "LAST_NAME               2000 non-null object\n",
      "POSITION_NUMBER         2000 non-null int64\n",
      "POSITION_JOB_CODE       2000 non-null float64\n",
      "POSITION_TITLE          2000 non-null object\n",
      "BUSINESS_AREA           2000 non-null int64\n",
      "DEPARTMENT              2000 non-null object\n",
      "PAY_GRADE               2000 non-null object\n",
      "FUND_ID                 2000 non-null int64\n",
      "FUND_NAME               2000 non-null object\n",
      "COST_CENTER             2000 non-null int64\n",
      "COST_CENTER_NAME        2000 non-null object\n",
      "REPORTS_TO_POSITION     1688 non-null float64\n",
      "MANAGER_NAME            1678 non-null object\n",
      "BASE_SALARY             1886 non-null float64\n",
      "ORG_UNIT                2000 non-null object\n",
      "ORG_UNIT_NAME           2000 non-null object\n",
      "ETHNICITY               1998 non-null object\n",
      "RACE                    1965 non-null object\n",
      "EMPLOYMENT_TYPE         2000 non-null object\n",
      "EMPLOYMENT_SUB_GROUP    2000 non-null object\n",
      "EXEMPT                  1999 non-null object\n",
      "GENDER                  2000 non-null object\n",
      "EMPLOYMENT_STATUS       2000 non-null object\n",
      "CIVIL_SERVICE_TYPE      2000 non-null object\n",
      "HIRE_DATE               2000 non-null datetime64[ns]\n",
      "JOB_DATE                1997 non-null object\n",
      "COMP_DATE               2000 non-null object\n",
      "EEOJ                    1999 non-null object\n",
      "SNAPSHOT_DATE           2000 non-null object\n",
      "RANDOM_BONUS            2000 non-null float64\n",
      "YEARS_EXPERIENCE        2000 non-null float64\n",
      "EXPERIENCE_LEVEL        2000 non-null category\n",
      "dtypes: category(1), datetime64[ns](1), float64(5), int64(4), object(22)\n",
      "memory usage: 517.6+ KB\n"
     ]
    }
   ],
   "source": [
    "df_coh.info()"
   ]
  },
  {
   "cell_type": "markdown",
   "metadata": {},
   "source": [
    "### Problem 8\n",
    "<span  style=\"color:green; font-size:16px\">Who makes more money, 'POLICE OFFICER', 'ENGINEER/OPERATOR' or 'ELECTRICIAN'? Use the POSITION_TITLE column.</span>"
   ]
  },
  {
   "cell_type": "code",
   "execution_count": 290,
   "metadata": {
    "collapsed": false
   },
   "outputs": [
    {
     "name": "stdout",
     "output_type": "stream",
     "text": [
      "Police officer: $52592\n",
      "Engineer/Operator: $62606\n",
      "Electrician: $49816\n"
     ]
    }
   ],
   "source": [
    "print('Police officer: ${}'.format(int(df_coh.loc[df_coh.POSITION_TITLE=='POLICE OFFICER', 'BASE_SALARY'].mean())))\n",
    "print('Engineer/Operator: ${}'.format(int(df_coh.loc[df_coh.POSITION_TITLE=='ENGINEER/OPERATOR', 'BASE_SALARY'].mean())))\n",
    "print('Electrician: ${}'.format(int(df_coh.loc[df_coh.POSITION_TITLE=='ELECTRICIAN', 'BASE_SALARY'].mean())))"
   ]
  },
  {
   "cell_type": "markdown",
   "metadata": {},
   "source": [
    "### Problem 9\n",
    "<span  style=\"color:green; font-size:16px\">Select employee 28693.</span>"
   ]
  },
  {
   "cell_type": "code",
   "execution_count": 291,
   "metadata": {
    "collapsed": false
   },
   "outputs": [
    {
     "data": {
      "text/plain": [
       "FIRST_NAME                                   JONATHAN\n",
       "LAST_NAME                                  JORSCH JR.\n",
       "POSITION_NUMBER                              30063393\n",
       "POSITION_JOB_CODE                                 108\n",
       "POSITION_TITLE                         POLICE OFFICER\n",
       "BUSINESS_AREA                                    1000\n",
       "DEPARTMENT              Houston Police Department-HPD\n",
       "PAY_GRADE                                        PA03\n",
       "FUND_ID                                          1000\n",
       "FUND_NAME                                General Fund\n",
       "COST_CENTER                                1000010068\n",
       "COST_CENTER_NAME                 HPD-Vehicular Crimes\n",
       "REPORTS_TO_POSITION                       3.00609e+07\n",
       "MANAGER_NAME                         CATRINA WILLIAMS\n",
       "BASE_SALARY                                     45279\n",
       "ORG_UNIT                                 10.1687.0130\n",
       "ORG_UNIT_NAME           HPD-VEHICULAR CRIMES DIVISION\n",
       "ETHNICITY               WHITE, NOT OF HISPANIC ORIGIN\n",
       "RACE                                            White\n",
       "EMPLOYMENT_TYPE                             Full Time\n",
       "EMPLOYMENT_SUB_GROUP                Non-Exempt Excptn\n",
       "EXEMPT                                              N\n",
       "GENDER                                           Male\n",
       "EMPLOYMENT_STATUS                              Active\n",
       "CIVIL_SERVICE_TYPE                         CLASSIFIED\n",
       "HIRE_DATE                         2015-02-03 00:00:00\n",
       "JOB_DATE                                   2015-02-03\n",
       "COMP_DATE                                  2014-02-03\n",
       "EEOJ                    D: Protective Service Workers\n",
       "SNAPSHOT_DATE                              2016-06-01\n",
       "RANDOM_BONUS                               0.00416494\n",
       "YEARS_EXPERIENCE                              1.85904\n",
       "EXPERIENCE_LEVEL                               Novice\n",
       "Name: 28693, dtype: object"
      ]
     },
     "execution_count": 291,
     "metadata": {},
     "output_type": "execute_result"
    }
   ],
   "source": [
    "df_coh.loc[28693]"
   ]
  },
  {
   "cell_type": "markdown",
   "metadata": {},
   "source": [
    "### Problem 10\n",
    "<span  style=\"color:green; font-size:16px\">Select rows 7, 77 and 777 from **`df_coh`**.</span>"
   ]
  },
  {
   "cell_type": "code",
   "execution_count": 292,
   "metadata": {
    "collapsed": false
   },
   "outputs": [
    {
     "data": {
      "text/html": [
       "<div>\n",
       "<table border=\"1\" class=\"dataframe\">\n",
       "  <thead>\n",
       "    <tr style=\"text-align: right;\">\n",
       "      <th></th>\n",
       "      <th>FIRST_NAME</th>\n",
       "      <th>LAST_NAME</th>\n",
       "      <th>POSITION_NUMBER</th>\n",
       "      <th>POSITION_JOB_CODE</th>\n",
       "      <th>POSITION_TITLE</th>\n",
       "      <th>BUSINESS_AREA</th>\n",
       "      <th>DEPARTMENT</th>\n",
       "      <th>PAY_GRADE</th>\n",
       "      <th>FUND_ID</th>\n",
       "      <th>FUND_NAME</th>\n",
       "      <th>COST_CENTER</th>\n",
       "      <th>COST_CENTER_NAME</th>\n",
       "      <th>REPORTS_TO_POSITION</th>\n",
       "      <th>MANAGER_NAME</th>\n",
       "      <th>BASE_SALARY</th>\n",
       "      <th>ORG_UNIT</th>\n",
       "      <th>ORG_UNIT_NAME</th>\n",
       "      <th>ETHNICITY</th>\n",
       "      <th>RACE</th>\n",
       "      <th>EMPLOYMENT_TYPE</th>\n",
       "      <th>EMPLOYMENT_SUB_GROUP</th>\n",
       "      <th>EXEMPT</th>\n",
       "      <th>GENDER</th>\n",
       "      <th>EMPLOYMENT_STATUS</th>\n",
       "      <th>CIVIL_SERVICE_TYPE</th>\n",
       "      <th>HIRE_DATE</th>\n",
       "      <th>JOB_DATE</th>\n",
       "      <th>COMP_DATE</th>\n",
       "      <th>EEOJ</th>\n",
       "      <th>SNAPSHOT_DATE</th>\n",
       "      <th>RANDOM_BONUS</th>\n",
       "      <th>YEARS_EXPERIENCE</th>\n",
       "      <th>EXPERIENCE_LEVEL</th>\n",
       "    </tr>\n",
       "    <tr>\n",
       "      <th>UNIQUE_ID</th>\n",
       "      <th></th>\n",
       "      <th></th>\n",
       "      <th></th>\n",
       "      <th></th>\n",
       "      <th></th>\n",
       "      <th></th>\n",
       "      <th></th>\n",
       "      <th></th>\n",
       "      <th></th>\n",
       "      <th></th>\n",
       "      <th></th>\n",
       "      <th></th>\n",
       "      <th></th>\n",
       "      <th></th>\n",
       "      <th></th>\n",
       "      <th></th>\n",
       "      <th></th>\n",
       "      <th></th>\n",
       "      <th></th>\n",
       "      <th></th>\n",
       "      <th></th>\n",
       "      <th></th>\n",
       "      <th></th>\n",
       "      <th></th>\n",
       "      <th></th>\n",
       "      <th></th>\n",
       "      <th></th>\n",
       "      <th></th>\n",
       "      <th></th>\n",
       "      <th></th>\n",
       "      <th></th>\n",
       "      <th></th>\n",
       "      <th></th>\n",
       "    </tr>\n",
       "  </thead>\n",
       "  <tbody>\n",
       "    <tr>\n",
       "      <th>28212</th>\n",
       "      <td>JEFFREY</td>\n",
       "      <td>DELLING</td>\n",
       "      <td>30043726</td>\n",
       "      <td>520.3</td>\n",
       "      <td>CARPENTER</td>\n",
       "      <td>2800</td>\n",
       "      <td>Houston Airport System (HAS)</td>\n",
       "      <td>14</td>\n",
       "      <td>8001</td>\n",
       "      <td>HAS-Revenue Fund</td>\n",
       "      <td>2800040017</td>\n",
       "      <td>HAS-IAH-AMG A&amp;G</td>\n",
       "      <td>30047472.0</td>\n",
       "      <td>SHANTEL WOODS</td>\n",
       "      <td>42390.0</td>\n",
       "      <td>28.1377.3000</td>\n",
       "      <td>HAS-IAH SCHEDULED MAINTENANCE</td>\n",
       "      <td>WHITE, NOT OF HISPANIC ORIGIN</td>\n",
       "      <td>White</td>\n",
       "      <td>Full Time</td>\n",
       "      <td>Non Exempt Postv</td>\n",
       "      <td>N</td>\n",
       "      <td>Male</td>\n",
       "      <td>Active</td>\n",
       "      <td>CIVILIAN</td>\n",
       "      <td>2013-11-04</td>\n",
       "      <td>2013-11-04</td>\n",
       "      <td>2013-11-04</td>\n",
       "      <td>G: Skilled Craft Workers</td>\n",
       "      <td>2016-06-01</td>\n",
       "      <td>0.076101</td>\n",
       "      <td>3.107524</td>\n",
       "      <td>Novice</td>\n",
       "    </tr>\n",
       "    <tr>\n",
       "      <th>23457</th>\n",
       "      <td>DANIEL</td>\n",
       "      <td>RIVERA</td>\n",
       "      <td>30036326</td>\n",
       "      <td>108.0</td>\n",
       "      <td>POLICE OFFICER</td>\n",
       "      <td>1000</td>\n",
       "      <td>Houston Police Department-HPD</td>\n",
       "      <td>PA03</td>\n",
       "      <td>1000</td>\n",
       "      <td>General Fund</td>\n",
       "      <td>1000010051</td>\n",
       "      <td>HPD-Vice</td>\n",
       "      <td>30059301.0</td>\n",
       "      <td>JAMES WALKER</td>\n",
       "      <td>52514.0</td>\n",
       "      <td>10.1675.0050</td>\n",
       "      <td>HPD-VICE</td>\n",
       "      <td>HISPANIC</td>\n",
       "      <td>Hispanic/Latino</td>\n",
       "      <td>Full Time</td>\n",
       "      <td>Non-Exempt Excptn</td>\n",
       "      <td>N</td>\n",
       "      <td>Male</td>\n",
       "      <td>Active</td>\n",
       "      <td>CLASSIFIED</td>\n",
       "      <td>2010-03-29</td>\n",
       "      <td>2011-03-29</td>\n",
       "      <td>2010-03-29</td>\n",
       "      <td>D: Protective Service Workers</td>\n",
       "      <td>2016-06-01</td>\n",
       "      <td>0.051389</td>\n",
       "      <td>6.710610</td>\n",
       "      <td>Experienced</td>\n",
       "    </tr>\n",
       "    <tr>\n",
       "      <th>31942</th>\n",
       "      <td>RAMON</td>\n",
       "      <td>GUILLEN</td>\n",
       "      <td>30064705</td>\n",
       "      <td>108.6</td>\n",
       "      <td>POLICE OFFICER,PROBATIONARY</td>\n",
       "      <td>1000</td>\n",
       "      <td>Houston Police Department-HPD</td>\n",
       "      <td>PA02</td>\n",
       "      <td>1000</td>\n",
       "      <td>General Fund</td>\n",
       "      <td>1000010028</td>\n",
       "      <td>HPD-Northeast Patrol</td>\n",
       "      <td>30058137.0</td>\n",
       "      <td>MICHAEL THIAC</td>\n",
       "      <td>42000.0</td>\n",
       "      <td>10.1642</td>\n",
       "      <td>HPD-NORTHEAST DIVISION</td>\n",
       "      <td>HISPANIC</td>\n",
       "      <td>Hispanic/Latino</td>\n",
       "      <td>Full Time</td>\n",
       "      <td>Non-Exempt Excptn</td>\n",
       "      <td>N</td>\n",
       "      <td>Male</td>\n",
       "      <td>Active</td>\n",
       "      <td>CLASSIFIED</td>\n",
       "      <td>2015-10-12</td>\n",
       "      <td>2016-04-27</td>\n",
       "      <td>2015-10-12</td>\n",
       "      <td>D: Protective Service Workers</td>\n",
       "      <td>2016-06-01</td>\n",
       "      <td>0.088206</td>\n",
       "      <td>1.171824</td>\n",
       "      <td>Novice</td>\n",
       "    </tr>\n",
       "  </tbody>\n",
       "</table>\n",
       "</div>"
      ],
      "text/plain": [
       "          FIRST_NAME LAST_NAME  POSITION_NUMBER  POSITION_JOB_CODE  \\\n",
       "UNIQUE_ID                                                            \n",
       "28212        JEFFREY   DELLING         30043726              520.3   \n",
       "23457         DANIEL    RIVERA         30036326              108.0   \n",
       "31942          RAMON   GUILLEN         30064705              108.6   \n",
       "\n",
       "                        POSITION_TITLE  BUSINESS_AREA  \\\n",
       "UNIQUE_ID                                               \n",
       "28212                        CARPENTER           2800   \n",
       "23457                   POLICE OFFICER           1000   \n",
       "31942      POLICE OFFICER,PROBATIONARY           1000   \n",
       "\n",
       "                              DEPARTMENT PAY_GRADE  FUND_ID         FUND_NAME  \\\n",
       "UNIQUE_ID                                                                       \n",
       "28212       Houston Airport System (HAS)        14     8001  HAS-Revenue Fund   \n",
       "23457      Houston Police Department-HPD      PA03     1000      General Fund   \n",
       "31942      Houston Police Department-HPD      PA02     1000      General Fund   \n",
       "\n",
       "           COST_CENTER      COST_CENTER_NAME  REPORTS_TO_POSITION  \\\n",
       "UNIQUE_ID                                                           \n",
       "28212       2800040017       HAS-IAH-AMG A&G           30047472.0   \n",
       "23457       1000010051              HPD-Vice           30059301.0   \n",
       "31942       1000010028  HPD-Northeast Patrol           30058137.0   \n",
       "\n",
       "            MANAGER_NAME  BASE_SALARY      ORG_UNIT  \\\n",
       "UNIQUE_ID                                             \n",
       "28212      SHANTEL WOODS      42390.0  28.1377.3000   \n",
       "23457       JAMES WALKER      52514.0  10.1675.0050   \n",
       "31942      MICHAEL THIAC      42000.0       10.1642   \n",
       "\n",
       "                           ORG_UNIT_NAME                      ETHNICITY  \\\n",
       "UNIQUE_ID                                                                 \n",
       "28212      HAS-IAH SCHEDULED MAINTENANCE  WHITE, NOT OF HISPANIC ORIGIN   \n",
       "23457                           HPD-VICE                       HISPANIC   \n",
       "31942             HPD-NORTHEAST DIVISION                       HISPANIC   \n",
       "\n",
       "                      RACE EMPLOYMENT_TYPE EMPLOYMENT_SUB_GROUP EXEMPT GENDER  \\\n",
       "UNIQUE_ID                                                                       \n",
       "28212                White       Full Time     Non Exempt Postv      N   Male   \n",
       "23457      Hispanic/Latino       Full Time    Non-Exempt Excptn      N   Male   \n",
       "31942      Hispanic/Latino       Full Time    Non-Exempt Excptn      N   Male   \n",
       "\n",
       "          EMPLOYMENT_STATUS CIVIL_SERVICE_TYPE  HIRE_DATE    JOB_DATE  \\\n",
       "UNIQUE_ID                                                               \n",
       "28212                Active           CIVILIAN 2013-11-04  2013-11-04   \n",
       "23457                Active         CLASSIFIED 2010-03-29  2011-03-29   \n",
       "31942                Active         CLASSIFIED 2015-10-12  2016-04-27   \n",
       "\n",
       "            COMP_DATE                           EEOJ SNAPSHOT_DATE  \\\n",
       "UNIQUE_ID                                                            \n",
       "28212      2013-11-04       G: Skilled Craft Workers    2016-06-01   \n",
       "23457      2010-03-29  D: Protective Service Workers    2016-06-01   \n",
       "31942      2015-10-12  D: Protective Service Workers    2016-06-01   \n",
       "\n",
       "           RANDOM_BONUS  YEARS_EXPERIENCE EXPERIENCE_LEVEL  \n",
       "UNIQUE_ID                                                   \n",
       "28212          0.076101          3.107524           Novice  \n",
       "23457          0.051389          6.710610      Experienced  \n",
       "31942          0.088206          1.171824           Novice  "
      ]
     },
     "execution_count": 292,
     "metadata": {},
     "output_type": "execute_result"
    }
   ],
   "source": [
    "df_coh.iloc[[7, 77, 777],:]"
   ]
  },
  {
   "cell_type": "markdown",
   "metadata": {},
   "source": [
    "### Problem 11\n",
    "<span  style=\"color:green; font-size:16px\">Select employees with IDs 3105, 24767 and 31578.</span>"
   ]
  },
  {
   "cell_type": "code",
   "execution_count": 293,
   "metadata": {
    "collapsed": false
   },
   "outputs": [
    {
     "data": {
      "text/html": [
       "<div>\n",
       "<table border=\"1\" class=\"dataframe\">\n",
       "  <thead>\n",
       "    <tr style=\"text-align: right;\">\n",
       "      <th></th>\n",
       "      <th>FIRST_NAME</th>\n",
       "      <th>LAST_NAME</th>\n",
       "      <th>POSITION_NUMBER</th>\n",
       "      <th>POSITION_JOB_CODE</th>\n",
       "      <th>POSITION_TITLE</th>\n",
       "      <th>BUSINESS_AREA</th>\n",
       "      <th>DEPARTMENT</th>\n",
       "      <th>PAY_GRADE</th>\n",
       "      <th>FUND_ID</th>\n",
       "      <th>FUND_NAME</th>\n",
       "      <th>COST_CENTER</th>\n",
       "      <th>COST_CENTER_NAME</th>\n",
       "      <th>REPORTS_TO_POSITION</th>\n",
       "      <th>MANAGER_NAME</th>\n",
       "      <th>BASE_SALARY</th>\n",
       "      <th>ORG_UNIT</th>\n",
       "      <th>ORG_UNIT_NAME</th>\n",
       "      <th>ETHNICITY</th>\n",
       "      <th>RACE</th>\n",
       "      <th>EMPLOYMENT_TYPE</th>\n",
       "      <th>EMPLOYMENT_SUB_GROUP</th>\n",
       "      <th>EXEMPT</th>\n",
       "      <th>GENDER</th>\n",
       "      <th>EMPLOYMENT_STATUS</th>\n",
       "      <th>CIVIL_SERVICE_TYPE</th>\n",
       "      <th>HIRE_DATE</th>\n",
       "      <th>JOB_DATE</th>\n",
       "      <th>COMP_DATE</th>\n",
       "      <th>EEOJ</th>\n",
       "      <th>SNAPSHOT_DATE</th>\n",
       "      <th>RANDOM_BONUS</th>\n",
       "      <th>YEARS_EXPERIENCE</th>\n",
       "      <th>EXPERIENCE_LEVEL</th>\n",
       "    </tr>\n",
       "    <tr>\n",
       "      <th>UNIQUE_ID</th>\n",
       "      <th></th>\n",
       "      <th></th>\n",
       "      <th></th>\n",
       "      <th></th>\n",
       "      <th></th>\n",
       "      <th></th>\n",
       "      <th></th>\n",
       "      <th></th>\n",
       "      <th></th>\n",
       "      <th></th>\n",
       "      <th></th>\n",
       "      <th></th>\n",
       "      <th></th>\n",
       "      <th></th>\n",
       "      <th></th>\n",
       "      <th></th>\n",
       "      <th></th>\n",
       "      <th></th>\n",
       "      <th></th>\n",
       "      <th></th>\n",
       "      <th></th>\n",
       "      <th></th>\n",
       "      <th></th>\n",
       "      <th></th>\n",
       "      <th></th>\n",
       "      <th></th>\n",
       "      <th></th>\n",
       "      <th></th>\n",
       "      <th></th>\n",
       "      <th></th>\n",
       "      <th></th>\n",
       "      <th></th>\n",
       "      <th></th>\n",
       "    </tr>\n",
       "  </thead>\n",
       "  <tbody>\n",
       "    <tr>\n",
       "      <th>3105</th>\n",
       "      <td>FRANCISCO</td>\n",
       "      <td>ORTIZ</td>\n",
       "      <td>30001931</td>\n",
       "      <td>106.4</td>\n",
       "      <td>POLICE SERGEANT</td>\n",
       "      <td>1000</td>\n",
       "      <td>Houston Police Department-HPD</td>\n",
       "      <td>PA06</td>\n",
       "      <td>1000</td>\n",
       "      <td>General Fund</td>\n",
       "      <td>1000010028</td>\n",
       "      <td>HPD-Northeast Patrol</td>\n",
       "      <td>30067353.0</td>\n",
       "      <td>JOSLYN JOHNSON</td>\n",
       "      <td>81239.0</td>\n",
       "      <td>10.1642.0030</td>\n",
       "      <td>HPD-NORTHEAST PATROL</td>\n",
       "      <td>HISPANIC</td>\n",
       "      <td>Hispanic/Latino</td>\n",
       "      <td>Full Time</td>\n",
       "      <td>Non-Exempt Excptn</td>\n",
       "      <td>N</td>\n",
       "      <td>Male</td>\n",
       "      <td>Active</td>\n",
       "      <td>CLASSIFIED</td>\n",
       "      <td>1983-09-12</td>\n",
       "      <td>1998-11-28</td>\n",
       "      <td>1984-08-01</td>\n",
       "      <td>C: Technicians</td>\n",
       "      <td>2016-06-01</td>\n",
       "      <td>0.010904</td>\n",
       "      <td>33.254619</td>\n",
       "      <td>Senior</td>\n",
       "    </tr>\n",
       "    <tr>\n",
       "      <th>24767</th>\n",
       "      <td>JOSHUA</td>\n",
       "      <td>YERIAN</td>\n",
       "      <td>30022228</td>\n",
       "      <td>103.3</td>\n",
       "      <td>FIRE FIGHTER</td>\n",
       "      <td>1200</td>\n",
       "      <td>Houston Fire Department (HFD)</td>\n",
       "      <td>FD03</td>\n",
       "      <td>1000</td>\n",
       "      <td>General Fund</td>\n",
       "      <td>1200030001</td>\n",
       "      <td>HFD-Deployment</td>\n",
       "      <td>NaN</td>\n",
       "      <td>NaN</td>\n",
       "      <td>48190.0</td>\n",
       "      <td>12.1210</td>\n",
       "      <td>HFD-FIRE &amp; EMS OPERATIONS</td>\n",
       "      <td>WHITE, NOT OF HISPANIC ORIGIN</td>\n",
       "      <td>White</td>\n",
       "      <td>Full Time</td>\n",
       "      <td>NE Suprsn Excptn</td>\n",
       "      <td>N</td>\n",
       "      <td>Male</td>\n",
       "      <td>Active</td>\n",
       "      <td>CLASSIFIED</td>\n",
       "      <td>2011-08-22</td>\n",
       "      <td>2012-11-22</td>\n",
       "      <td>2011-08-22</td>\n",
       "      <td>D: Protective Service Workers</td>\n",
       "      <td>2016-06-01</td>\n",
       "      <td>0.034396</td>\n",
       "      <td>5.311540</td>\n",
       "      <td>Experienced</td>\n",
       "    </tr>\n",
       "    <tr>\n",
       "      <th>31578</th>\n",
       "      <td>MARK</td>\n",
       "      <td>SIMS</td>\n",
       "      <td>30028122</td>\n",
       "      <td>513.4</td>\n",
       "      <td>SEMI-SKILLED LABORER</td>\n",
       "      <td>2100</td>\n",
       "      <td>Solid Waste Management</td>\n",
       "      <td>06</td>\n",
       "      <td>1000</td>\n",
       "      <td>General Fund</td>\n",
       "      <td>2100020001</td>\n",
       "      <td>SWM-Maintenance</td>\n",
       "      <td>30028112.0</td>\n",
       "      <td>JUAN RODRIGUEZ</td>\n",
       "      <td>27622.0</td>\n",
       "      <td>21.2010.02</td>\n",
       "      <td>SWM-MAINTENANCE</td>\n",
       "      <td>BLACK, NOT OF HISPANIC ORIGIN</td>\n",
       "      <td>Black or African American</td>\n",
       "      <td>Full Time</td>\n",
       "      <td>Non Exempt Postv</td>\n",
       "      <td>N</td>\n",
       "      <td>Male</td>\n",
       "      <td>Active</td>\n",
       "      <td>CIVILIAN</td>\n",
       "      <td>2015-08-31</td>\n",
       "      <td>2015-08-31</td>\n",
       "      <td>2015-08-31</td>\n",
       "      <td>H: Service/Maintenance</td>\n",
       "      <td>2016-06-01</td>\n",
       "      <td>0.035088</td>\n",
       "      <td>1.286816</td>\n",
       "      <td>Novice</td>\n",
       "    </tr>\n",
       "  </tbody>\n",
       "</table>\n",
       "</div>"
      ],
      "text/plain": [
       "          FIRST_NAME LAST_NAME  POSITION_NUMBER  POSITION_JOB_CODE  \\\n",
       "UNIQUE_ID                                                            \n",
       "3105       FRANCISCO     ORTIZ         30001931              106.4   \n",
       "24767         JOSHUA    YERIAN         30022228              103.3   \n",
       "31578           MARK      SIMS         30028122              513.4   \n",
       "\n",
       "                 POSITION_TITLE  BUSINESS_AREA                     DEPARTMENT  \\\n",
       "UNIQUE_ID                                                                       \n",
       "3105            POLICE SERGEANT           1000  Houston Police Department-HPD   \n",
       "24767              FIRE FIGHTER           1200  Houston Fire Department (HFD)   \n",
       "31578      SEMI-SKILLED LABORER           2100         Solid Waste Management   \n",
       "\n",
       "          PAY_GRADE  FUND_ID     FUND_NAME  COST_CENTER      COST_CENTER_NAME  \\\n",
       "UNIQUE_ID                                                                       \n",
       "3105           PA06     1000  General Fund   1000010028  HPD-Northeast Patrol   \n",
       "24767          FD03     1000  General Fund   1200030001        HFD-Deployment   \n",
       "31578            06     1000  General Fund   2100020001       SWM-Maintenance   \n",
       "\n",
       "           REPORTS_TO_POSITION    MANAGER_NAME  BASE_SALARY      ORG_UNIT  \\\n",
       "UNIQUE_ID                                                                   \n",
       "3105                30067353.0  JOSLYN JOHNSON      81239.0  10.1642.0030   \n",
       "24767                      NaN             NaN      48190.0       12.1210   \n",
       "31578               30028112.0  JUAN RODRIGUEZ      27622.0    21.2010.02   \n",
       "\n",
       "                       ORG_UNIT_NAME                      ETHNICITY  \\\n",
       "UNIQUE_ID                                                             \n",
       "3105            HPD-NORTHEAST PATROL                       HISPANIC   \n",
       "24767      HFD-FIRE & EMS OPERATIONS  WHITE, NOT OF HISPANIC ORIGIN   \n",
       "31578                SWM-MAINTENANCE  BLACK, NOT OF HISPANIC ORIGIN   \n",
       "\n",
       "                                RACE EMPLOYMENT_TYPE EMPLOYMENT_SUB_GROUP  \\\n",
       "UNIQUE_ID                                                                   \n",
       "3105                 Hispanic/Latino       Full Time    Non-Exempt Excptn   \n",
       "24767                          White       Full Time     NE Suprsn Excptn   \n",
       "31578      Black or African American       Full Time     Non Exempt Postv   \n",
       "\n",
       "          EXEMPT GENDER EMPLOYMENT_STATUS CIVIL_SERVICE_TYPE  HIRE_DATE  \\\n",
       "UNIQUE_ID                                                                 \n",
       "3105           N   Male            Active         CLASSIFIED 1983-09-12   \n",
       "24767          N   Male            Active         CLASSIFIED 2011-08-22   \n",
       "31578          N   Male            Active           CIVILIAN 2015-08-31   \n",
       "\n",
       "             JOB_DATE   COMP_DATE                           EEOJ  \\\n",
       "UNIQUE_ID                                                          \n",
       "3105       1998-11-28  1984-08-01                 C: Technicians   \n",
       "24767      2012-11-22  2011-08-22  D: Protective Service Workers   \n",
       "31578      2015-08-31  2015-08-31         H: Service/Maintenance   \n",
       "\n",
       "          SNAPSHOT_DATE  RANDOM_BONUS  YEARS_EXPERIENCE EXPERIENCE_LEVEL  \n",
       "UNIQUE_ID                                                                 \n",
       "3105         2016-06-01      0.010904         33.254619           Senior  \n",
       "24767        2016-06-01      0.034396          5.311540      Experienced  \n",
       "31578        2016-06-01      0.035088          1.286816           Novice  "
      ]
     },
     "execution_count": 293,
     "metadata": {},
     "output_type": "execute_result"
    }
   ],
   "source": [
    "df_coh.loc[[3105, 24767, 31578],:]"
   ]
  },
  {
   "cell_type": "markdown",
   "metadata": {},
   "source": [
    "### Problem 12\n",
    "<span  style=\"color:green; font-size:16px\">Brackets are used to select disjoint rows or columns. Select rows 10, 100 and 500 along with columns 3, 7 and 20.</span>"
   ]
  },
  {
   "cell_type": "code",
   "execution_count": 294,
   "metadata": {
    "collapsed": false
   },
   "outputs": [
    {
     "data": {
      "text/html": [
       "<div>\n",
       "<table border=\"1\" class=\"dataframe\">\n",
       "  <thead>\n",
       "    <tr style=\"text-align: right;\">\n",
       "      <th></th>\n",
       "      <th>POSITION_JOB_CODE</th>\n",
       "      <th>PAY_GRADE</th>\n",
       "      <th>EMPLOYMENT_SUB_GROUP</th>\n",
       "    </tr>\n",
       "    <tr>\n",
       "      <th>UNIQUE_ID</th>\n",
       "      <th></th>\n",
       "      <th></th>\n",
       "      <th></th>\n",
       "    </tr>\n",
       "  </thead>\n",
       "  <tbody>\n",
       "    <tr>\n",
       "      <th>18633</th>\n",
       "      <td>103.3</td>\n",
       "      <td>FD03</td>\n",
       "      <td>NE Suprsn Excptn</td>\n",
       "    </tr>\n",
       "    <tr>\n",
       "      <th>12214</th>\n",
       "      <td>103.1</td>\n",
       "      <td>FD05</td>\n",
       "      <td>NE Suprsn Excptn</td>\n",
       "    </tr>\n",
       "    <tr>\n",
       "      <th>32485</th>\n",
       "      <td>721.1</td>\n",
       "      <td>12</td>\n",
       "      <td>Non Exempt Postv</td>\n",
       "    </tr>\n",
       "  </tbody>\n",
       "</table>\n",
       "</div>"
      ],
      "text/plain": [
       "           POSITION_JOB_CODE PAY_GRADE EMPLOYMENT_SUB_GROUP\n",
       "UNIQUE_ID                                                  \n",
       "18633                  103.3      FD03     NE Suprsn Excptn\n",
       "12214                  103.1      FD05     NE Suprsn Excptn\n",
       "32485                  721.1        12     Non Exempt Postv"
      ]
     },
     "execution_count": 294,
     "metadata": {},
     "output_type": "execute_result"
    }
   ],
   "source": [
    "df_coh.iloc[[10, 100, 500], [3, 7, 20]]"
   ]
  },
  {
   "cell_type": "markdown",
   "metadata": {},
   "source": [
    "### Problem 13\n",
    "<span  style=\"color:green; font-size:16px\">Use label based indexing to select employee IDs 12214 and 8317 along with columns HIRE_DATE and GENDER.</span>"
   ]
  },
  {
   "cell_type": "code",
   "execution_count": 295,
   "metadata": {
    "collapsed": false
   },
   "outputs": [
    {
     "data": {
      "text/html": [
       "<div>\n",
       "<table border=\"1\" class=\"dataframe\">\n",
       "  <thead>\n",
       "    <tr style=\"text-align: right;\">\n",
       "      <th></th>\n",
       "      <th>HIRE_DATE</th>\n",
       "      <th>GENDER</th>\n",
       "    </tr>\n",
       "    <tr>\n",
       "      <th>UNIQUE_ID</th>\n",
       "      <th></th>\n",
       "      <th></th>\n",
       "    </tr>\n",
       "  </thead>\n",
       "  <tbody>\n",
       "    <tr>\n",
       "      <th>12214</th>\n",
       "      <td>2000-03-21</td>\n",
       "      <td>Male</td>\n",
       "    </tr>\n",
       "    <tr>\n",
       "      <th>8317</th>\n",
       "      <td>1994-04-11</td>\n",
       "      <td>Male</td>\n",
       "    </tr>\n",
       "  </tbody>\n",
       "</table>\n",
       "</div>"
      ],
      "text/plain": [
       "           HIRE_DATE GENDER\n",
       "UNIQUE_ID                  \n",
       "12214     2000-03-21   Male\n",
       "8317      1994-04-11   Male"
      ]
     },
     "execution_count": 295,
     "metadata": {},
     "output_type": "execute_result"
    }
   ],
   "source": [
    "df_coh.loc[[12214, 8317], ['HIRE_DATE', 'GENDER']]"
   ]
  },
  {
   "cell_type": "markdown",
   "metadata": {},
   "source": [
    "### Problem 14: Advanced\n",
    "<span  style=\"color:green; font-size:16px\">Use label based indexing to select employee IDs 12214 and 8317 along with columns all columns except FIRST_NAME and POSITION_NUMBER. [Use this stackoverflow answer for guidance.](http://stackoverflow.com/a/37441204/3707607)</span>"
   ]
  },
  {
   "cell_type": "code",
   "execution_count": 296,
   "metadata": {
    "collapsed": false
   },
   "outputs": [
    {
     "data": {
      "text/html": [
       "<div>\n",
       "<table border=\"1\" class=\"dataframe\">\n",
       "  <thead>\n",
       "    <tr style=\"text-align: right;\">\n",
       "      <th></th>\n",
       "      <th>LAST_NAME</th>\n",
       "      <th>POSITION_JOB_CODE</th>\n",
       "      <th>POSITION_TITLE</th>\n",
       "      <th>BUSINESS_AREA</th>\n",
       "      <th>DEPARTMENT</th>\n",
       "      <th>PAY_GRADE</th>\n",
       "      <th>FUND_ID</th>\n",
       "      <th>FUND_NAME</th>\n",
       "      <th>COST_CENTER</th>\n",
       "      <th>COST_CENTER_NAME</th>\n",
       "      <th>REPORTS_TO_POSITION</th>\n",
       "      <th>MANAGER_NAME</th>\n",
       "      <th>BASE_SALARY</th>\n",
       "      <th>ORG_UNIT</th>\n",
       "      <th>ORG_UNIT_NAME</th>\n",
       "      <th>ETHNICITY</th>\n",
       "      <th>RACE</th>\n",
       "      <th>EMPLOYMENT_TYPE</th>\n",
       "      <th>EMPLOYMENT_SUB_GROUP</th>\n",
       "      <th>EXEMPT</th>\n",
       "      <th>GENDER</th>\n",
       "      <th>EMPLOYMENT_STATUS</th>\n",
       "      <th>CIVIL_SERVICE_TYPE</th>\n",
       "      <th>HIRE_DATE</th>\n",
       "      <th>JOB_DATE</th>\n",
       "      <th>COMP_DATE</th>\n",
       "      <th>EEOJ</th>\n",
       "      <th>SNAPSHOT_DATE</th>\n",
       "      <th>RANDOM_BONUS</th>\n",
       "      <th>YEARS_EXPERIENCE</th>\n",
       "      <th>EXPERIENCE_LEVEL</th>\n",
       "    </tr>\n",
       "    <tr>\n",
       "      <th>UNIQUE_ID</th>\n",
       "      <th></th>\n",
       "      <th></th>\n",
       "      <th></th>\n",
       "      <th></th>\n",
       "      <th></th>\n",
       "      <th></th>\n",
       "      <th></th>\n",
       "      <th></th>\n",
       "      <th></th>\n",
       "      <th></th>\n",
       "      <th></th>\n",
       "      <th></th>\n",
       "      <th></th>\n",
       "      <th></th>\n",
       "      <th></th>\n",
       "      <th></th>\n",
       "      <th></th>\n",
       "      <th></th>\n",
       "      <th></th>\n",
       "      <th></th>\n",
       "      <th></th>\n",
       "      <th></th>\n",
       "      <th></th>\n",
       "      <th></th>\n",
       "      <th></th>\n",
       "      <th></th>\n",
       "      <th></th>\n",
       "      <th></th>\n",
       "      <th></th>\n",
       "      <th></th>\n",
       "      <th></th>\n",
       "    </tr>\n",
       "  </thead>\n",
       "  <tbody>\n",
       "    <tr>\n",
       "      <th>12214</th>\n",
       "      <td>MADDIN</td>\n",
       "      <td>103.1</td>\n",
       "      <td>CAPTAIN</td>\n",
       "      <td>1200</td>\n",
       "      <td>Houston Fire Department (HFD)</td>\n",
       "      <td>FD05</td>\n",
       "      <td>1000</td>\n",
       "      <td>General Fund</td>\n",
       "      <td>1200030001</td>\n",
       "      <td>HFD-Deployment</td>\n",
       "      <td>NaN</td>\n",
       "      <td>NaN</td>\n",
       "      <td>66523.0</td>\n",
       "      <td>12.1210</td>\n",
       "      <td>HFD-FIRE &amp; EMS OPERATIONS</td>\n",
       "      <td>WHITE, NOT OF HISPANIC ORIGIN</td>\n",
       "      <td>White</td>\n",
       "      <td>Full Time</td>\n",
       "      <td>NE Suprsn Excptn</td>\n",
       "      <td>N</td>\n",
       "      <td>Male</td>\n",
       "      <td>Active</td>\n",
       "      <td>CLASSIFIED</td>\n",
       "      <td>2000-03-21</td>\n",
       "      <td>2009-09-29</td>\n",
       "      <td>2000-03-21</td>\n",
       "      <td>B: Professionals</td>\n",
       "      <td>2016-06-01</td>\n",
       "      <td>0.007683</td>\n",
       "      <td>16.731350</td>\n",
       "      <td>Senior</td>\n",
       "    </tr>\n",
       "    <tr>\n",
       "      <th>8317</th>\n",
       "      <td>JOHNSON</td>\n",
       "      <td>108.2</td>\n",
       "      <td>SENIOR POLICE OFFICER</td>\n",
       "      <td>1000</td>\n",
       "      <td>Houston Police Department-HPD</td>\n",
       "      <td>PA04</td>\n",
       "      <td>1000</td>\n",
       "      <td>General Fund</td>\n",
       "      <td>1000010027</td>\n",
       "      <td>HPD-North Ptrl</td>\n",
       "      <td>30005911.0</td>\n",
       "      <td>JOHN NICKELL</td>\n",
       "      <td>66614.0</td>\n",
       "      <td>10.1622.0230</td>\n",
       "      <td>HPD-NORTH PATROL</td>\n",
       "      <td>WHITE, NOT OF HISPANIC ORIGIN</td>\n",
       "      <td>White</td>\n",
       "      <td>Full Time</td>\n",
       "      <td>Non-Exempt Excptn</td>\n",
       "      <td>N</td>\n",
       "      <td>Male</td>\n",
       "      <td>Active</td>\n",
       "      <td>CLASSIFIED</td>\n",
       "      <td>1994-04-11</td>\n",
       "      <td>2014-04-12</td>\n",
       "      <td>1994-04-11</td>\n",
       "      <td>D: Protective Service Workers</td>\n",
       "      <td>2016-06-01</td>\n",
       "      <td>0.001741</td>\n",
       "      <td>22.675346</td>\n",
       "      <td>Senior</td>\n",
       "    </tr>\n",
       "  </tbody>\n",
       "</table>\n",
       "</div>"
      ],
      "text/plain": [
       "          LAST_NAME  POSITION_JOB_CODE         POSITION_TITLE  BUSINESS_AREA  \\\n",
       "UNIQUE_ID                                                                      \n",
       "12214        MADDIN              103.1                CAPTAIN           1200   \n",
       "8317        JOHNSON              108.2  SENIOR POLICE OFFICER           1000   \n",
       "\n",
       "                              DEPARTMENT PAY_GRADE  FUND_ID     FUND_NAME  \\\n",
       "UNIQUE_ID                                                                   \n",
       "12214      Houston Fire Department (HFD)      FD05     1000  General Fund   \n",
       "8317       Houston Police Department-HPD      PA04     1000  General Fund   \n",
       "\n",
       "           COST_CENTER COST_CENTER_NAME  REPORTS_TO_POSITION  MANAGER_NAME  \\\n",
       "UNIQUE_ID                                                                    \n",
       "12214       1200030001   HFD-Deployment                  NaN           NaN   \n",
       "8317        1000010027   HPD-North Ptrl           30005911.0  JOHN NICKELL   \n",
       "\n",
       "           BASE_SALARY      ORG_UNIT              ORG_UNIT_NAME  \\\n",
       "UNIQUE_ID                                                         \n",
       "12214          66523.0       12.1210  HFD-FIRE & EMS OPERATIONS   \n",
       "8317           66614.0  10.1622.0230           HPD-NORTH PATROL   \n",
       "\n",
       "                               ETHNICITY   RACE EMPLOYMENT_TYPE  \\\n",
       "UNIQUE_ID                                                         \n",
       "12214      WHITE, NOT OF HISPANIC ORIGIN  White       Full Time   \n",
       "8317       WHITE, NOT OF HISPANIC ORIGIN  White       Full Time   \n",
       "\n",
       "          EMPLOYMENT_SUB_GROUP EXEMPT GENDER EMPLOYMENT_STATUS  \\\n",
       "UNIQUE_ID                                                        \n",
       "12214         NE Suprsn Excptn      N   Male            Active   \n",
       "8317         Non-Exempt Excptn      N   Male            Active   \n",
       "\n",
       "          CIVIL_SERVICE_TYPE  HIRE_DATE    JOB_DATE   COMP_DATE  \\\n",
       "UNIQUE_ID                                                         \n",
       "12214             CLASSIFIED 2000-03-21  2009-09-29  2000-03-21   \n",
       "8317              CLASSIFIED 1994-04-11  2014-04-12  1994-04-11   \n",
       "\n",
       "                                    EEOJ SNAPSHOT_DATE  RANDOM_BONUS  \\\n",
       "UNIQUE_ID                                                              \n",
       "12214                   B: Professionals    2016-06-01      0.007683   \n",
       "8317       D: Protective Service Workers    2016-06-01      0.001741   \n",
       "\n",
       "           YEARS_EXPERIENCE EXPERIENCE_LEVEL  \n",
       "UNIQUE_ID                                     \n",
       "12214             16.731350           Senior  \n",
       "8317              22.675346           Senior  "
      ]
     },
     "execution_count": 296,
     "metadata": {},
     "output_type": "execute_result"
    }
   ],
   "source": [
    "df_coh.loc[[12214, 8317], [col for col in df_coh.columns if col not in ['FIRST_NAME', 'POSITION_NUMBER']]]"
   ]
  },
  {
   "cell_type": "code",
   "execution_count": 297,
   "metadata": {
    "collapsed": false
   },
   "outputs": [
    {
     "data": {
      "text/html": [
       "<div>\n",
       "<table border=\"1\" class=\"dataframe\">\n",
       "  <thead>\n",
       "    <tr style=\"text-align: right;\">\n",
       "      <th></th>\n",
       "      <th>BASE_SALARY</th>\n",
       "      <th>BUSINESS_AREA</th>\n",
       "      <th>CIVIL_SERVICE_TYPE</th>\n",
       "      <th>COMP_DATE</th>\n",
       "      <th>COST_CENTER</th>\n",
       "      <th>COST_CENTER_NAME</th>\n",
       "      <th>DEPARTMENT</th>\n",
       "      <th>EEOJ</th>\n",
       "      <th>EMPLOYMENT_STATUS</th>\n",
       "      <th>EMPLOYMENT_SUB_GROUP</th>\n",
       "      <th>EMPLOYMENT_TYPE</th>\n",
       "      <th>ETHNICITY</th>\n",
       "      <th>EXEMPT</th>\n",
       "      <th>EXPERIENCE_LEVEL</th>\n",
       "      <th>FUND_ID</th>\n",
       "      <th>FUND_NAME</th>\n",
       "      <th>GENDER</th>\n",
       "      <th>HIRE_DATE</th>\n",
       "      <th>JOB_DATE</th>\n",
       "      <th>LAST_NAME</th>\n",
       "      <th>MANAGER_NAME</th>\n",
       "      <th>ORG_UNIT</th>\n",
       "      <th>ORG_UNIT_NAME</th>\n",
       "      <th>PAY_GRADE</th>\n",
       "      <th>POSITION_JOB_CODE</th>\n",
       "      <th>POSITION_TITLE</th>\n",
       "      <th>RACE</th>\n",
       "      <th>RANDOM_BONUS</th>\n",
       "      <th>REPORTS_TO_POSITION</th>\n",
       "      <th>SNAPSHOT_DATE</th>\n",
       "      <th>YEARS_EXPERIENCE</th>\n",
       "    </tr>\n",
       "    <tr>\n",
       "      <th>UNIQUE_ID</th>\n",
       "      <th></th>\n",
       "      <th></th>\n",
       "      <th></th>\n",
       "      <th></th>\n",
       "      <th></th>\n",
       "      <th></th>\n",
       "      <th></th>\n",
       "      <th></th>\n",
       "      <th></th>\n",
       "      <th></th>\n",
       "      <th></th>\n",
       "      <th></th>\n",
       "      <th></th>\n",
       "      <th></th>\n",
       "      <th></th>\n",
       "      <th></th>\n",
       "      <th></th>\n",
       "      <th></th>\n",
       "      <th></th>\n",
       "      <th></th>\n",
       "      <th></th>\n",
       "      <th></th>\n",
       "      <th></th>\n",
       "      <th></th>\n",
       "      <th></th>\n",
       "      <th></th>\n",
       "      <th></th>\n",
       "      <th></th>\n",
       "      <th></th>\n",
       "      <th></th>\n",
       "      <th></th>\n",
       "    </tr>\n",
       "  </thead>\n",
       "  <tbody>\n",
       "    <tr>\n",
       "      <th>12214</th>\n",
       "      <td>66523.0</td>\n",
       "      <td>1200</td>\n",
       "      <td>CLASSIFIED</td>\n",
       "      <td>2000-03-21</td>\n",
       "      <td>1200030001</td>\n",
       "      <td>HFD-Deployment</td>\n",
       "      <td>Houston Fire Department (HFD)</td>\n",
       "      <td>B: Professionals</td>\n",
       "      <td>Active</td>\n",
       "      <td>NE Suprsn Excptn</td>\n",
       "      <td>Full Time</td>\n",
       "      <td>WHITE, NOT OF HISPANIC ORIGIN</td>\n",
       "      <td>N</td>\n",
       "      <td>Senior</td>\n",
       "      <td>1000</td>\n",
       "      <td>General Fund</td>\n",
       "      <td>Male</td>\n",
       "      <td>2000-03-21</td>\n",
       "      <td>2009-09-29</td>\n",
       "      <td>MADDIN</td>\n",
       "      <td>NaN</td>\n",
       "      <td>12.1210</td>\n",
       "      <td>HFD-FIRE &amp; EMS OPERATIONS</td>\n",
       "      <td>FD05</td>\n",
       "      <td>103.1</td>\n",
       "      <td>CAPTAIN</td>\n",
       "      <td>White</td>\n",
       "      <td>0.007683</td>\n",
       "      <td>NaN</td>\n",
       "      <td>2016-06-01</td>\n",
       "      <td>16.731350</td>\n",
       "    </tr>\n",
       "    <tr>\n",
       "      <th>8317</th>\n",
       "      <td>66614.0</td>\n",
       "      <td>1000</td>\n",
       "      <td>CLASSIFIED</td>\n",
       "      <td>1994-04-11</td>\n",
       "      <td>1000010027</td>\n",
       "      <td>HPD-North Ptrl</td>\n",
       "      <td>Houston Police Department-HPD</td>\n",
       "      <td>D: Protective Service Workers</td>\n",
       "      <td>Active</td>\n",
       "      <td>Non-Exempt Excptn</td>\n",
       "      <td>Full Time</td>\n",
       "      <td>WHITE, NOT OF HISPANIC ORIGIN</td>\n",
       "      <td>N</td>\n",
       "      <td>Senior</td>\n",
       "      <td>1000</td>\n",
       "      <td>General Fund</td>\n",
       "      <td>Male</td>\n",
       "      <td>1994-04-11</td>\n",
       "      <td>2014-04-12</td>\n",
       "      <td>JOHNSON</td>\n",
       "      <td>JOHN NICKELL</td>\n",
       "      <td>10.1622.0230</td>\n",
       "      <td>HPD-NORTH PATROL</td>\n",
       "      <td>PA04</td>\n",
       "      <td>108.2</td>\n",
       "      <td>SENIOR POLICE OFFICER</td>\n",
       "      <td>White</td>\n",
       "      <td>0.001741</td>\n",
       "      <td>30005911.0</td>\n",
       "      <td>2016-06-01</td>\n",
       "      <td>22.675346</td>\n",
       "    </tr>\n",
       "  </tbody>\n",
       "</table>\n",
       "</div>"
      ],
      "text/plain": [
       "           BASE_SALARY  BUSINESS_AREA CIVIL_SERVICE_TYPE   COMP_DATE  \\\n",
       "UNIQUE_ID                                                              \n",
       "12214          66523.0           1200         CLASSIFIED  2000-03-21   \n",
       "8317           66614.0           1000         CLASSIFIED  1994-04-11   \n",
       "\n",
       "           COST_CENTER COST_CENTER_NAME                     DEPARTMENT  \\\n",
       "UNIQUE_ID                                                                \n",
       "12214       1200030001   HFD-Deployment  Houston Fire Department (HFD)   \n",
       "8317        1000010027   HPD-North Ptrl  Houston Police Department-HPD   \n",
       "\n",
       "                                    EEOJ EMPLOYMENT_STATUS  \\\n",
       "UNIQUE_ID                                                    \n",
       "12214                   B: Professionals            Active   \n",
       "8317       D: Protective Service Workers            Active   \n",
       "\n",
       "          EMPLOYMENT_SUB_GROUP EMPLOYMENT_TYPE                      ETHNICITY  \\\n",
       "UNIQUE_ID                                                                       \n",
       "12214         NE Suprsn Excptn       Full Time  WHITE, NOT OF HISPANIC ORIGIN   \n",
       "8317         Non-Exempt Excptn       Full Time  WHITE, NOT OF HISPANIC ORIGIN   \n",
       "\n",
       "          EXEMPT EXPERIENCE_LEVEL  FUND_ID     FUND_NAME GENDER  HIRE_DATE  \\\n",
       "UNIQUE_ID                                                                    \n",
       "12214          N           Senior     1000  General Fund   Male 2000-03-21   \n",
       "8317           N           Senior     1000  General Fund   Male 1994-04-11   \n",
       "\n",
       "             JOB_DATE LAST_NAME  MANAGER_NAME      ORG_UNIT  \\\n",
       "UNIQUE_ID                                                     \n",
       "12214      2009-09-29    MADDIN           NaN       12.1210   \n",
       "8317       2014-04-12   JOHNSON  JOHN NICKELL  10.1622.0230   \n",
       "\n",
       "                       ORG_UNIT_NAME PAY_GRADE  POSITION_JOB_CODE  \\\n",
       "UNIQUE_ID                                                           \n",
       "12214      HFD-FIRE & EMS OPERATIONS      FD05              103.1   \n",
       "8317                HPD-NORTH PATROL      PA04              108.2   \n",
       "\n",
       "                  POSITION_TITLE   RACE  RANDOM_BONUS  REPORTS_TO_POSITION  \\\n",
       "UNIQUE_ID                                                                    \n",
       "12214                    CAPTAIN  White      0.007683                  NaN   \n",
       "8317       SENIOR POLICE OFFICER  White      0.001741           30005911.0   \n",
       "\n",
       "          SNAPSHOT_DATE  YEARS_EXPERIENCE  \n",
       "UNIQUE_ID                                  \n",
       "12214        2016-06-01         16.731350  \n",
       "8317         2016-06-01         22.675346  "
      ]
     },
     "execution_count": 297,
     "metadata": {},
     "output_type": "execute_result"
    }
   ],
   "source": [
    "df_coh.loc[[12214, 8317], df_coh.columns.difference(['FIRST_NAME', 'POSITION_NUMBER'])]"
   ]
  },
  {
   "cell_type": "markdown",
   "metadata": {},
   "source": [
    "### Problem 15\n",
    "<span  style=\"color:green; font-size:16px\">Use **`.iat`** correctly and explain what happened.</span>"
   ]
  },
  {
   "cell_type": "code",
   "execution_count": 298,
   "metadata": {
    "collapsed": false
   },
   "outputs": [
    {
     "data": {
      "text/plain": [
       "'LILLIAN'"
      ]
     },
     "execution_count": 298,
     "metadata": {},
     "output_type": "execute_result"
    }
   ],
   "source": [
    "df_coh.iat[0, 0] # only accesses one element"
   ]
  },
  {
   "cell_type": "markdown",
   "metadata": {},
   "source": [
    "### Problem 16\n",
    "<span  style=\"color:green; font-size:16px\">Use the **`timeit`** magic command to see the speed difference between **`.at`** and **`.loc`** for the same selection. How much faster is **`.at`**?</span>"
   ]
  },
  {
   "cell_type": "code",
   "execution_count": 299,
   "metadata": {
    "collapsed": false
   },
   "outputs": [
    {
     "name": "stdout",
     "output_type": "stream",
     "text": [
      "1000 loops, best of 3: 413 µs per loop\n",
      "10000 loops, best of 3: 64.1 µs per loop\n"
     ]
    }
   ],
   "source": [
    "%timeit df_coh.loc[12214, 'FIRST_NAME']\n",
    "%timeit df_coh.at[12214, 'FIRST_NAME']"
   ]
  },
  {
   "cell_type": "markdown",
   "metadata": {},
   "source": [
    "### Problem 17\n",
    "<span  style=\"color:green; font-size:16px\">Create new columns **`BONUS`** and **`TOTAL_COMP`**. Use column **`RANDOM_BONUS`** to calculate the bonus.</span>"
   ]
  },
  {
   "cell_type": "code",
   "execution_count": 300,
   "metadata": {
    "collapsed": false
   },
   "outputs": [
    {
     "data": {
      "text/html": [
       "<div>\n",
       "<table border=\"1\" class=\"dataframe\">\n",
       "  <thead>\n",
       "    <tr style=\"text-align: right;\">\n",
       "      <th></th>\n",
       "      <th>BASE_SALARY</th>\n",
       "      <th>TOTAL_COMP</th>\n",
       "    </tr>\n",
       "    <tr>\n",
       "      <th>UNIQUE_ID</th>\n",
       "      <th></th>\n",
       "      <th></th>\n",
       "    </tr>\n",
       "  </thead>\n",
       "  <tbody>\n",
       "    <tr>\n",
       "      <th>9172</th>\n",
       "      <td>121862.0</td>\n",
       "      <td>129413.917518</td>\n",
       "    </tr>\n",
       "    <tr>\n",
       "      <th>12311</th>\n",
       "      <td>26125.0</td>\n",
       "      <td>26357.207125</td>\n",
       "    </tr>\n",
       "    <tr>\n",
       "      <th>28693</th>\n",
       "      <td>45279.0</td>\n",
       "      <td>45467.584378</td>\n",
       "    </tr>\n",
       "    <tr>\n",
       "      <th>2359</th>\n",
       "      <td>63166.0</td>\n",
       "      <td>63641.195027</td>\n",
       "    </tr>\n",
       "    <tr>\n",
       "      <th>5123</th>\n",
       "      <td>56347.0</td>\n",
       "      <td>58492.645153</td>\n",
       "    </tr>\n",
       "  </tbody>\n",
       "</table>\n",
       "</div>"
      ],
      "text/plain": [
       "           BASE_SALARY     TOTAL_COMP\n",
       "UNIQUE_ID                            \n",
       "9172          121862.0  129413.917518\n",
       "12311          26125.0   26357.207125\n",
       "28693          45279.0   45467.584378\n",
       "2359           63166.0   63641.195027\n",
       "5123           56347.0   58492.645153"
      ]
     },
     "execution_count": 300,
     "metadata": {},
     "output_type": "execute_result"
    }
   ],
   "source": [
    "df_coh['BONUS'] = df_coh.BASE_SALARY * df_coh.RANDOM_BONUS\n",
    "df_coh['TOTAL_COMP'] = df_coh.BASE_SALARY + df_coh.BONUS\n",
    "df_coh[['BASE_SALARY', 'TOTAL_COMP']].head()"
   ]
  },
  {
   "cell_type": "markdown",
   "metadata": {},
   "source": [
    "### Problem 18\n",
    "<span  style=\"color:green; font-size:16px\">Use the **`EXPERIENCE_LEVEL`** column to determine if more experienced employees make more money.</span>"
   ]
  },
  {
   "cell_type": "code",
   "execution_count": 301,
   "metadata": {
    "collapsed": false
   },
   "outputs": [
    {
     "data": {
      "text/plain": [
       "EXPERIENCE_LEVEL\n",
       "Novice         47312.792996\n",
       "Experienced    57909.641936\n",
       "Senior         66913.667730\n",
       "Name: TOTAL_COMP, dtype: float64"
      ]
     },
     "execution_count": 301,
     "metadata": {},
     "output_type": "execute_result"
    }
   ],
   "source": [
    "df_coh.groupby('EXPERIENCE_LEVEL')['TOTAL_COMP'].mean()"
   ]
  },
  {
   "cell_type": "code",
   "execution_count": 302,
   "metadata": {
    "collapsed": false
   },
   "outputs": [
    {
     "data": {
      "text/html": [
       "<div>\n",
       "<table border=\"1\" class=\"dataframe\">\n",
       "  <thead>\n",
       "    <tr style=\"text-align: right;\">\n",
       "      <th></th>\n",
       "      <th>YEARS_EXPERIENCE</th>\n",
       "      <th>YEARS_EXPERIENCE_AM</th>\n",
       "    </tr>\n",
       "    <tr>\n",
       "      <th>UNIQUE_ID</th>\n",
       "      <th></th>\n",
       "      <th></th>\n",
       "    </tr>\n",
       "  </thead>\n",
       "  <tbody>\n",
       "    <tr>\n",
       "      <th>9172</th>\n",
       "      <td>10.505349</td>\n",
       "      <td>10.505349</td>\n",
       "    </tr>\n",
       "    <tr>\n",
       "      <th>12311</th>\n",
       "      <td>16.402801</td>\n",
       "      <td>16.402801</td>\n",
       "    </tr>\n",
       "    <tr>\n",
       "      <th>28693</th>\n",
       "      <td>1.859039</td>\n",
       "      <td>1.859039</td>\n",
       "    </tr>\n",
       "    <tr>\n",
       "      <th>2359</th>\n",
       "      <td>34.845342</td>\n",
       "      <td>34.845342</td>\n",
       "    </tr>\n",
       "    <tr>\n",
       "      <th>5123</th>\n",
       "      <td>27.485848</td>\n",
       "      <td>27.485848</td>\n",
       "    </tr>\n",
       "  </tbody>\n",
       "</table>\n",
       "</div>"
      ],
      "text/plain": [
       "           YEARS_EXPERIENCE  YEARS_EXPERIENCE_AM\n",
       "UNIQUE_ID                                       \n",
       "9172              10.505349            10.505349\n",
       "12311             16.402801            16.402801\n",
       "28693              1.859039             1.859039\n",
       "2359              34.845342            34.845342\n",
       "5123              27.485848            27.485848"
      ]
     },
     "execution_count": 302,
     "metadata": {},
     "output_type": "execute_result"
    }
   ],
   "source": [
    "df_coh['YEARS_EXPERIENCE_AM'] = pd.to_datetime('today') - df_coh.HIRE_DATE\n",
    "df_coh['YEARS_EXPERIENCE_AM'] = df_coh['YEARS_EXPERIENCE_AM'] / np.timedelta64(1, 'Y')\n",
    "df_coh[['YEARS_EXPERIENCE', 'YEARS_EXPERIENCE_AM']].head()"
   ]
  },
  {
   "cell_type": "code",
   "execution_count": null,
   "metadata": {
    "collapsed": true
   },
   "outputs": [],
   "source": []
  }
 ],
 "metadata": {
  "anaconda-cloud": {},
  "kernelspec": {
   "display_name": "Python [conda env:py35]",
   "language": "python",
   "name": "conda-env-py35-py"
  },
  "language_info": {
   "codemirror_mode": {
    "name": "ipython",
    "version": 3
   },
   "file_extension": ".py",
   "mimetype": "text/x-python",
   "name": "python",
   "nbconvert_exporter": "python",
   "pygments_lexer": "ipython3",
   "version": "3.5.2"
  }
 },
 "nbformat": 4,
 "nbformat_minor": 0
}
